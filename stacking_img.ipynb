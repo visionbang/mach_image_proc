{
 "cells": [
  {
   "cell_type": "code",
   "execution_count": 3,
   "metadata": {
    "collapsed": true
   },
   "outputs": [],
   "source": [
    "from os import listdir\n",
    "from sklearn.cross_validation import train_test_split\n",
    "import pickle"
   ]
  },
  {
   "cell_type": "code",
   "execution_count": 4,
   "metadata": {
    "collapsed": false
   },
   "outputs": [],
   "source": [
    "\n",
    "PATH = ['d://err/','d://nor/']\n",
    "\n"
   ]
  },
  {
   "cell_type": "code",
   "execution_count": 5,
   "metadata": {
    "collapsed": false,
    "scrolled": true
   },
   "outputs": [],
   "source": [
    "matrix =[]\n",
    "label = []\n",
    "for path in PATH:\n",
    "    \n",
    "    imgs = listdir(path)\n",
    "    for img in imgs:\n",
    "        matrix.append(plt.imread(path+img).flatten())\n",
    "        if img[0] != 'n':\n",
    "            \n",
    "            label.append(1)\n",
    "        else: \n",
    "            label.append(0)\n",
    "            \n",
    "        \n"
   ]
  },
  {
   "cell_type": "code",
   "execution_count": 6,
   "metadata": {
    "collapsed": false
   },
   "outputs": [
    {
     "data": {
      "text/plain": [
       "['nIMG_1694.JPG',\n",
       " 'nIMG_1696.JPG',\n",
       " 'nIMG_1699.JPG',\n",
       " 'nIMG_1701.JPG',\n",
       " 'nIMG_1705.JPG',\n",
       " 'nIMG_1713.JPG',\n",
       " 'nIMG_1715.JPG',\n",
       " 'nIMG_1717.JPG',\n",
       " 'nIMG_1728.JPG',\n",
       " 'nIMG_1740.JPG',\n",
       " 'nIMG_1744.JPG',\n",
       " 'nIMG_1746.JPG',\n",
       " 'nIMG_1758.JPG',\n",
       " 'nIMG_1775.JPG',\n",
       " 'nIMG_1777.JPG',\n",
       " 'nIMG_1793.JPG',\n",
       " 'nIMG_1795.JPG',\n",
       " 'nIMG_1797.JPG',\n",
       " 'nIMG_1799.JPG',\n",
       " 'nIMG_1801.JPG',\n",
       " 'nn01 (1).jpg',\n",
       " 'nn01 (10).jpg',\n",
       " 'nn01 (11).jpg',\n",
       " 'nn01 (12).jpg',\n",
       " 'nn01 (13).jpg',\n",
       " 'nn01 (15).jpg',\n",
       " 'nn01 (16).jpg',\n",
       " 'nn01 (17).jpg',\n",
       " 'nn01 (18).jpg',\n",
       " 'nn01 (19).jpg',\n",
       " 'nn01 (2).jpg',\n",
       " 'nn01 (21).jpg',\n",
       " 'nn01 (22).jpg',\n",
       " 'nn01 (23).jpg',\n",
       " 'nn01 (24).jpg',\n",
       " 'nn01 (25).jpg',\n",
       " 'nn01 (4).jpg',\n",
       " 'nn01 (5).jpg',\n",
       " 'nn01 (6).jpg',\n",
       " 'nn01 (7).jpg',\n",
       " 'nn01 (8).jpg',\n",
       " 'nn01 (9).jpg']"
      ]
     },
     "execution_count": 6,
     "metadata": {},
     "output_type": "execute_result"
    }
   ],
   "source": [
    "listdir(PATH[1])"
   ]
  },
  {
   "cell_type": "code",
   "execution_count": 7,
   "metadata": {
    "collapsed": false
   },
   "outputs": [
    {
     "data": {
      "text/plain": [
       "89"
      ]
     },
     "execution_count": 7,
     "metadata": {},
     "output_type": "execute_result"
    }
   ],
   "source": [
    "len(label)"
   ]
  },
  {
   "cell_type": "code",
   "execution_count": 8,
   "metadata": {
    "collapsed": false
   },
   "outputs": [],
   "source": [
    "with  open('d://images.p',mode='wb+') as sm:\n",
    "    pickle.dump(matrix,sm)\n",
    "    sm.close()\n",
    "with  open('d://labels.p',mode='wb+') as sl:\n",
    "    pickle.dump(label,sl)\n",
    "    sl.close()"
   ]
  },
  {
   "cell_type": "code",
   "execution_count": null,
   "metadata": {
    "collapsed": false
   },
   "outputs": [],
   "source": []
  },
  {
   "cell_type": "code",
   "execution_count": null,
   "metadata": {
    "collapsed": true
   },
   "outputs": [],
   "source": []
  },
  {
   "cell_type": "code",
   "execution_count": null,
   "metadata": {
    "collapsed": true
   },
   "outputs": [],
   "source": []
  }
 ],
 "metadata": {
  "kernelspec": {
   "display_name": "Python 2",
   "language": "python",
   "name": "python2"
  },
  "language_info": {
   "codemirror_mode": {
    "name": "ipython",
    "version": 2
   },
   "file_extension": ".py",
   "mimetype": "text/x-python",
   "name": "python",
   "nbconvert_exporter": "python",
   "pygments_lexer": "ipython2",
   "version": "2.7.11"
  }
 },
 "nbformat": 4,
 "nbformat_minor": 0
}
