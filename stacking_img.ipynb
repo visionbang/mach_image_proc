{
 "cells": [
  {
   "cell_type": "code",
   "execution_count": 20,
   "metadata": {
    "collapsed": true
   },
   "outputs": [],
   "source": [
    "from os import listdir\n",
    "from sklearn.cross_validation import train_test_split\n",
    "import pickle"
   ]
  },
  {
   "cell_type": "code",
   "execution_count": 2,
   "metadata": {
    "collapsed": false
   },
   "outputs": [],
   "source": [
    "\n",
    "PATH = ['d://err/','d://nor/']\n",
    "\n"
   ]
  },
  {
   "cell_type": "code",
   "execution_count": 17,
   "metadata": {
    "collapsed": false
   },
   "outputs": [],
   "source": [
    "matrix =[]\n",
    "label = []\n",
    "for path in PATH:\n",
    "    \n",
    "    imgs = listdir(path)\n",
    "    for img in imgs:\n",
    "        matrix.append(plt.imread(path+img).flatten())\n",
    "        if img[1] != 'n':\n",
    "            label.append(1)\n",
    "        else: \n",
    "            label.append(0)\n",
    "            \n",
    "        \n"
   ]
  },
  {
   "cell_type": "code",
   "execution_count": 22,
   "metadata": {
    "collapsed": false
   },
   "outputs": [],
   "source": [
    "with  open('d://images.p',mode='wb+') as sm:\n",
    "    pickle.dump(matrix,sm,protocol=pickle.HIGHEST_PROTOCOL)\n",
    "    \n",
    "with  open('d://labels.p',mode='wb+') as sl:\n",
    "    pickle.dump(label,sl,protocol=pickle.HIGHEST_PROTOCOL)\n"
   ]
  },
  {
   "cell_type": "code",
   "execution_count": null,
   "metadata": {
    "collapsed": false
   },
   "outputs": [],
   "source": []
  },
  {
   "cell_type": "code",
   "execution_count": null,
   "metadata": {
    "collapsed": true
   },
   "outputs": [],
   "source": []
  }
 ],
 "metadata": {
  "kernelspec": {
   "display_name": "Python 2",
   "language": "python",
   "name": "python2"
  },
  "language_info": {
   "codemirror_mode": {
    "name": "ipython",
    "version": 2
   },
   "file_extension": ".py",
   "mimetype": "text/x-python",
   "name": "python",
   "nbconvert_exporter": "python",
   "pygments_lexer": "ipython2",
   "version": "2.7.11"
  }
 },
 "nbformat": 4,
 "nbformat_minor": 0
}
