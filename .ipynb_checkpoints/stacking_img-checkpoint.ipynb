{
 "cells": [
  {
   "cell_type": "code",
   "execution_count": 3,
   "metadata": {
    "collapsed": true
   },
   "outputs": [],
   "source": [
    "from os import listdir\n",
    "import pickle"
   ]
  },
  {
   "cell_type": "code",
   "execution_count": 4,
   "metadata": {
    "collapsed": false
   },
   "outputs": [],
   "source": [
    "PATH = ['d://err/','d://nor/']"
   ]
  },
  {
   "cell_type": "code",
   "execution_count": 5,
   "metadata": {
    "collapsed": false,
    "scrolled": true
   },
   "outputs": [],
   "source": [
    "matrix =[]\n",
    "label = []\n",
    "for path in PATH:\n",
    "    \n",
    "    imgs = listdir(path)\n",
    "    for img in imgs:\n",
    "        matrix.append(plt.imread(path+img).flatten())\n",
    "        if img[0] != 'n':\n",
    "            \n",
    "            label.append(1)\n",
    "        else: \n",
    "            label.append(0)"
   ]
  },
  {
   "cell_type": "code",
   "execution_count": 8,
   "metadata": {
    "collapsed": false
   },
   "outputs": [],
   "source": [
    "with  open('d://images.p',mode='wb+') as sm:\n",
    "    pickle.dump(matrix,sm)\n",
    "    sm.close()\n",
    "with  open('d://labels.p',mode='wb+') as sl:\n",
    "    pickle.dump(label,sl)\n",
    "    sl.close()"
   ]
  }
 ],
 "metadata": {
  "kernelspec": {
   "display_name": "Python 2",
   "language": "python",
   "name": "python2"
  },
  "language_info": {
   "codemirror_mode": {
    "name": "ipython",
    "version": 2
   },
   "file_extension": ".py",
   "mimetype": "text/x-python",
   "name": "python",
   "nbconvert_exporter": "python",
   "pygments_lexer": "ipython2",
   "version": "2.7.11"
  }
 },
 "nbformat": 4,
 "nbformat_minor": 0
}
