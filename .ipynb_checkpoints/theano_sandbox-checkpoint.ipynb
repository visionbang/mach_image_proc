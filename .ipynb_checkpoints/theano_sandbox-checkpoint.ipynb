{
 "cells": [
  {
   "cell_type": "code",
   "execution_count": 1,
   "metadata": {
    "collapsed": false
   },
   "outputs": [
    {
     "name": "stderr",
     "output_type": "stream",
     "text": [
      "Using gpu device 0: GeForce 940M\n"
     ]
    }
   ],
   "source": [
    "import theano\n",
    "import theano.tensor as T\n"
   ]
  },
  {
   "cell_type": "code",
   "execution_count": 2,
   "metadata": {
    "collapsed": true
   },
   "outputs": [],
   "source": [
    "import keras"
   ]
  },
  {
   "cell_type": "raw",
   "metadata": {},
   "source": [
    "print(theano.config)"
   ]
  },
  {
   "cell_type": "code",
   "execution_count": null,
   "metadata": {
    "collapsed": true
   },
   "outputs": [],
   "source": [
    "np.distutils.__config__.show()"
   ]
  },
  {
   "cell_type": "code",
   "execution_count": 3,
   "metadata": {
    "collapsed": false
   },
   "outputs": [
    {
     "data": {
      "text/plain": [
       "array([[ 0.5       ,  0.73105858],\n",
       "       [ 0.26894142,  0.11920292]])"
      ]
     },
     "execution_count": 3,
     "metadata": {},
     "output_type": "execute_result"
    }
   ],
   "source": [
    "x = T.dmatrix('x')\n",
    "s = 1 / (1 + T.exp(-x))\n",
    "logistic = theano.function([x], s)\n",
    "logistic([[0, 1], [-1, -2]])"
   ]
  },
  {
   "cell_type": "code",
   "execution_count": null,
   "metadata": {
    "collapsed": true
   },
   "outputs": [],
   "source": [
    "xnp.distutils.__config__.show()"
   ]
  },
  {
   "cell_type": "code",
   "execution_count": null,
   "metadata": {
    "collapsed": false
   },
   "outputs": [],
   "source": [
    "x = T.scalar('x',dtype='float64')\n",
    "compute = theano.function([x], 2*x);\n",
    "compute(10)\n"
   ]
  },
  {
   "cell_type": "code",
   "execution_count": null,
   "metadata": {
    "collapsed": false,
    "scrolled": false
   },
   "outputs": [],
   "source": [
    "x= T.scalar('x',dtype='float64')\n",
    "compute = theano.function([x], 2*x**2)\n",
    "compute(2)\n"
   ]
  },
  {
   "cell_type": "code",
   "execution_count": null,
   "metadata": {
    "collapsed": true
   },
   "outputs": [],
   "source": [
    "\n"
   ]
  },
  {
   "cell_type": "code",
   "execution_count": null,
   "metadata": {
    "collapsed": true
   },
   "outputs": [],
   "source": []
  },
  {
   "cell_type": "code",
   "execution_count": null,
   "metadata": {
    "collapsed": false
   },
   "outputs": [],
   "source": [
    "x_value = theano.shared(10.0)\n",
    "compute = theano.function([], 2*x , givens={x:x_value})\n",
    "compute()\n",
    "\n",
    "\n",
    "\n"
   ]
  },
  {
   "cell_type": "code",
   "execution_count": 4,
   "metadata": {
    "collapsed": false
   },
   "outputs": [
    {
     "name": "stderr",
     "output_type": "stream",
     "text": [
      "Using Theano backend.\n"
     ]
    }
   ],
   "source": [
    "from keras.models import Sequential\n",
    "from keras.layers.core import Dense, Dropout, Activation\n",
    "from keras.optimizers import SGD\n"
   ]
  },
  {
   "cell_type": "code",
   "execution_count": 5,
   "metadata": {
    "collapsed": true
   },
   "outputs": [],
   "source": [
    "import pickle"
   ]
  },
  {
   "cell_type": "code",
   "execution_count": 6,
   "metadata": {
    "collapsed": true
   },
   "outputs": [],
   "source": [
    "a = open('d://labels.p')\n",
    "b = open('d://images.p')"
   ]
  },
  {
   "cell_type": "code",
   "execution_count": 7,
   "metadata": {
    "collapsed": false
   },
   "outputs": [],
   "source": [
    "labels = pickle.load(a)\n",
    "imgs = pickle.load(b)"
   ]
  },
  {
   "cell_type": "code",
   "execution_count": 8,
   "metadata": {
    "collapsed": true
   },
   "outputs": [],
   "source": [
    "from sklearn.cross_validation import train_test_split"
   ]
  },
  {
   "cell_type": "code",
   "execution_count": 9,
   "metadata": {
    "collapsed": false
   },
   "outputs": [
    {
     "data": {
      "text/plain": [
       "42"
      ]
     },
     "execution_count": 9,
     "metadata": {},
     "output_type": "execute_result"
    }
   ],
   "source": [
    "len(np.array(labels)[np.array(labels) == 0])"
   ]
  },
  {
   "cell_type": "code",
   "execution_count": 58,
   "metadata": {
    "collapsed": true
   },
   "outputs": [],
   "source": [
    "x_tr,x_te,y_tr,y_te = train_test_split(imgs,labels,test_size= 0.2,random_state= 123)"
   ]
  },
  {
   "cell_type": "code",
   "execution_count": 11,
   "metadata": {
    "collapsed": false
   },
   "outputs": [
    {
     "data": {
      "text/plain": [
       "(62, 62)"
      ]
     },
     "execution_count": 11,
     "metadata": {},
     "output_type": "execute_result"
    }
   ],
   "source": [
    "len(x_tr),len(y_tr)"
   ]
  },
  {
   "cell_type": "code",
   "execution_count": 12,
   "metadata": {
    "collapsed": false
   },
   "outputs": [],
   "source": [
    "model1 = Sequential()"
   ]
  },
  {
   "cell_type": "code",
   "execution_count": 112,
   "metadata": {
    "collapsed": false
   },
   "outputs": [
    {
     "name": "stderr",
     "output_type": "stream",
     "text": [
      "INFO (theano.gof.compilelock): Refreshing lock C:\\Users\\Back_jud\\AppData\\Local\\Theano\\compiledir_Windows-10-10.0.10586-Intel64_Family_6_Model_60_Stepping_3_GenuineIntel-2.7.11-64\\lock_dir\\lock\n",
      "INFO:theano.gof.compilelock:Refreshing lock C:\\Users\\Back_jud\\AppData\\Local\\Theano\\compiledir_Windows-10-10.0.10586-Intel64_Family_6_Model_60_Stepping_3_GenuineIntel-2.7.11-64\\lock_dir\\lock\n",
      "WARNING (theano.gof.compilelock): Refreshing lock failed, we release the lock before raising again the exception\n",
      "WARNING:theano.gof.compilelock:Refreshing lock failed, we release the lock before raising again the exception\n",
      "ERROR (theano.gof.opt): Optimization failure due to: constant_folding\n",
      "ERROR:theano.gof.opt:Optimization failure due to: constant_folding\n",
      "ERROR (theano.gof.opt): TRACEBACK:\n",
      "ERROR:theano.gof.opt:TRACEBACK:\n",
      "ERROR (theano.gof.opt): Traceback (most recent call last):\n",
      "  File \"C:\\Users\\Back_jud\\Anaconda2\\lib\\site-packages\\theano\\gof\\opt.py\", line 1493, in process_node\n",
      "    replacements = lopt.transform(node)\n",
      "  File \"C:\\Users\\Back_jud\\Anaconda2\\lib\\site-packages\\theano\\tensor\\opt.py\", line 4684, in constant_folding\n",
      "    no_recycling=[])\n",
      "  File \"C:\\Users\\Back_jud\\Anaconda2\\lib\\site-packages\\theano\\gof\\op.py\", line 739, in make_thunk\n",
      "    output_storage=node_output_storage)\n",
      "  File \"C:\\Users\\Back_jud\\Anaconda2\\lib\\site-packages\\theano\\gof\\cc.py\", line 1073, in make_thunk\n",
      "    keep_lock=keep_lock)\n",
      "  File \"C:\\Users\\Back_jud\\Anaconda2\\lib\\site-packages\\theano\\gof\\cc.py\", line 1015, in __compile__\n",
      "    keep_lock=keep_lock)\n",
      "  File \"C:\\Users\\Back_jud\\Anaconda2\\lib\\site-packages\\theano\\gof\\cc.py\", line 1442, in cthunk_factory\n",
      "    key=key, lnk=self, keep_lock=keep_lock)\n",
      "  File \"C:\\Users\\Back_jud\\Anaconda2\\lib\\site-packages\\theano\\gof\\cmodule.py\", line 1054, in module_from_key\n",
      "    module = self._get_from_hash(module_hash, key, keep_lock=keep_lock)\n",
      "  File \"C:\\Users\\Back_jud\\Anaconda2\\lib\\site-packages\\theano\\gof\\cmodule.py\", line 955, in _get_from_hash\n",
      "    with compilelock.lock_ctx(keep_lock=keep_lock):\n",
      "  File \"C:\\Users\\Back_jud\\Anaconda2\\lib\\contextlib.py\", line 17, in __enter__\n",
      "    return self.gen.next()\n",
      "  File \"C:\\Users\\Back_jud\\Anaconda2\\lib\\site-packages\\theano\\gof\\compilelock.py\", line 54, in lock_ctx\n",
      "    get_lock(lock_dir=lock_dir, **kw)\n",
      "  File \"C:\\Users\\Back_jud\\Anaconda2\\lib\\site-packages\\theano\\gof\\compilelock.py\", line 111, in get_lock\n",
      "    refresh_lock(lockpath)\n",
      "  File \"C:\\Users\\Back_jud\\Anaconda2\\lib\\site-packages\\theano\\gof\\compilelock.py\", line 322, in refresh_lock\n",
      "    lock_write = open(lock_file, 'w')\n",
      "IOError: [Errno 2] No such file or directory: 'C:\\\\Users\\\\Back_jud\\\\AppData\\\\Local\\\\Theano\\\\compiledir_Windows-10-10.0.10586-Intel64_Family_6_Model_60_Stepping_3_GenuineIntel-2.7.11-64\\\\lock_dir\\\\lock'\n",
      "\n",
      "ERROR:theano.gof.opt:Traceback (most recent call last):\n",
      "  File \"C:\\Users\\Back_jud\\Anaconda2\\lib\\site-packages\\theano\\gof\\opt.py\", line 1493, in process_node\n",
      "    replacements = lopt.transform(node)\n",
      "  File \"C:\\Users\\Back_jud\\Anaconda2\\lib\\site-packages\\theano\\tensor\\opt.py\", line 4684, in constant_folding\n",
      "    no_recycling=[])\n",
      "  File \"C:\\Users\\Back_jud\\Anaconda2\\lib\\site-packages\\theano\\gof\\op.py\", line 739, in make_thunk\n",
      "    output_storage=node_output_storage)\n",
      "  File \"C:\\Users\\Back_jud\\Anaconda2\\lib\\site-packages\\theano\\gof\\cc.py\", line 1073, in make_thunk\n",
      "    keep_lock=keep_lock)\n",
      "  File \"C:\\Users\\Back_jud\\Anaconda2\\lib\\site-packages\\theano\\gof\\cc.py\", line 1015, in __compile__\n",
      "    keep_lock=keep_lock)\n",
      "  File \"C:\\Users\\Back_jud\\Anaconda2\\lib\\site-packages\\theano\\gof\\cc.py\", line 1442, in cthunk_factory\n",
      "    key=key, lnk=self, keep_lock=keep_lock)\n",
      "  File \"C:\\Users\\Back_jud\\Anaconda2\\lib\\site-packages\\theano\\gof\\cmodule.py\", line 1054, in module_from_key\n",
      "    module = self._get_from_hash(module_hash, key, keep_lock=keep_lock)\n",
      "  File \"C:\\Users\\Back_jud\\Anaconda2\\lib\\site-packages\\theano\\gof\\cmodule.py\", line 955, in _get_from_hash\n",
      "    with compilelock.lock_ctx(keep_lock=keep_lock):\n",
      "  File \"C:\\Users\\Back_jud\\Anaconda2\\lib\\contextlib.py\", line 17, in __enter__\n",
      "    return self.gen.next()\n",
      "  File \"C:\\Users\\Back_jud\\Anaconda2\\lib\\site-packages\\theano\\gof\\compilelock.py\", line 54, in lock_ctx\n",
      "    get_lock(lock_dir=lock_dir, **kw)\n",
      "  File \"C:\\Users\\Back_jud\\Anaconda2\\lib\\site-packages\\theano\\gof\\compilelock.py\", line 111, in get_lock\n",
      "    refresh_lock(lockpath)\n",
      "  File \"C:\\Users\\Back_jud\\Anaconda2\\lib\\site-packages\\theano\\gof\\compilelock.py\", line 322, in refresh_lock\n",
      "    lock_write = open(lock_file, 'w')\n",
      "IOError: [Errno 2] No such file or directory: 'C:\\\\Users\\\\Back_jud\\\\AppData\\\\Local\\\\Theano\\\\compiledir_Windows-10-10.0.10586-Intel64_Family_6_Model_60_Stepping_3_GenuineIntel-2.7.11-64\\\\lock_dir\\\\lock'\n",
      "\n"
     ]
    },
    {
     "name": "stdout",
     "output_type": "stream",
     "text": [
      "mod.cu\r\n",
      "\n",
      "['nvcc', '-shared', '-O3', '--maxrregcount=32', '--use-local-env', '--cl-version=2013', '-arch=sm_50', '-Xlinker', '/DEBUG', '-D HAVE_ROUND', '-m64', '-Xcompiler', '-DCUDA_NDARRAY_CUH=11b90075e2397c684f9dc0f7276eab8f,-D NPY_NO_DEPRECATED_API=NPY_1_7_API_VERSION,/Zi,/MD', '-IC:\\\\Users\\\\Back_jud\\\\AppData\\\\Local\\\\Theano\\\\compiledir_Windows-10-10.0.10586-Intel64_Family_6_Model_60_Stepping_3_GenuineIntel-2.7.11-64\\\\cuda_ndarray', '-INone\\\\include', '-IC:\\\\Users\\\\Back_jud\\\\Anaconda2\\\\lib\\\\site-packages\\\\numpy\\\\core\\\\include', '-IC:\\\\Users\\\\Back_jud\\\\Anaconda2\\\\include', '-IC:\\\\Users\\\\Back_jud\\\\Anaconda2\\\\lib\\\\site-packages\\\\theano\\\\sandbox\\\\cuda', '-o', 'C:\\\\Users\\\\Back_jud\\\\AppData\\\\Local\\\\Theano\\\\compiledir_Windows-10-10.0.10586-Intel64_Family_6_Model_60_Stepping_3_GenuineIntel-2.7.11-64\\\\tmpcjsrra\\\\389b9024ba3d648cab13b2893b5cab02.pyd', 'mod.cu', '-LC:\\\\Users\\\\Back_jud\\\\Anaconda2\\\\libs', '-LC:\\\\Users\\\\Back_jud\\\\AppData\\\\Local\\\\Theano\\\\compiledir_Windows-10-10.0.10586-Intel64_Family_6_Model_60_Stepping_3_GenuineIntel-2.7.11-64\\\\cuda_ndarray', '-LC:\\\\Users\\\\Back_jud\\\\Anaconda2', '-lpython27', '-lcudart', '-lcublas', '-lcuda_ndarray']\n"
     ]
    },
    {
     "name": "stderr",
     "output_type": "stream",
     "text": [
      "1 #include <Python.h>\n",
      "2 #include <iostream>\n",
      "3 #include \"cuda_ndarray.cuh\"\n",
      "4 //////////////////////\n",
      "5 ////  Support Code\n",
      "6 //////////////////////\n",
      "7 \n",
      "8 \n",
      "9 #define INTDIV_POW2(a, b) (a >> b)\n",
      "10 #define INTMOD_POW2(a, b) (a & ((1<<b)-1))\n",
      "11         //    Input   0 CudaNdarrayType(float32, col)\n",
      "12 //    Input   1 CudaNdarrayType(float32, col)\n",
      "13 //    Output  0 CudaNdarrayType(float32, col)\n",
      "14 static __global__ void kernel_Mul_node_389b9024ba3d648cab13b2893b5cab02_0_1(unsigned int numEls\n",
      "15 \t, const int dim0\n",
      "16 \t, const float * i0_data, int i0_str_0\n",
      "17 \t, const float * i1_data, int i1_str_0\n",
      "18 \t, float * o0_data, int o0_str_0\n",
      "19 \t)\n",
      "20 {\n",
      "21     const int idx = blockIdx.x * blockDim.x + threadIdx.x;\n",
      "22     const int numThreads = blockDim.x * gridDim.x;\n",
      "23     for (int i = idx; i < numEls; i += numThreads) {\n",
      "24         int ii = i;\n",
      "25         const float * ii_i0_data = i0_data;\n",
      "26         const float * ii_i1_data = i1_data;\n",
      "27         float * ii_o0_data = o0_data;\n",
      "28         int pos0 = ii;\n",
      "29         ii_i0_data += pos0 * i0_str_0;\n",
      "30         ii_i1_data += pos0 * i1_str_0;\n",
      "31         ii_o0_data += pos0 * o0_str_0;\n",
      "32         ii_o0_data[0] = ii_i0_data[0] * ii_i1_data[0];\n",
      "33     }\n",
      "34 }\n",
      "35 //    Input   0 CudaNdarrayType(float32, col)\n",
      "36 //    Input   1 CudaNdarrayType(float32, col)\n",
      "37 //    Output  0 CudaNdarrayType(float32, col)\n",
      "38 static __global__ void kernel_Mul_node_389b9024ba3d648cab13b2893b5cab02_0_2(unsigned int numEls\n",
      "39 \t, const int dim0, const int dim1\n",
      "40 \t, const float * i0_data, int i0_str_0, int i0_str_1\n",
      "41 \t, const float * i1_data, int i1_str_0, int i1_str_1\n",
      "42 \t, float * o0_data, int o0_str_0, int o0_str_1\n",
      "43 \t)\n",
      "44 {\n",
      "45     const int idx = blockIdx.x * blockDim.x + threadIdx.x;\n",
      "46     const int numThreads = blockDim.x * gridDim.x;\n",
      "47     for (int i = idx; i < numEls; i += numThreads) {\n",
      "48         int ii = i;\n",
      "49         const float * ii_i0_data = i0_data;\n",
      "50         const float * ii_i1_data = i1_data;\n",
      "51         float * ii_o0_data = o0_data;\n",
      "52         int pos1 = ii % dim1;\n",
      "53         ii = ii / dim1;\n",
      "54         ii_i0_data += pos1 * i0_str_1;\n",
      "55         ii_i1_data += pos1 * i1_str_1;\n",
      "56         ii_o0_data += pos1 * o0_str_1;\n",
      "57         int pos0 = ii;\n",
      "58         ii_i0_data += pos0 * i0_str_0;\n",
      "59         ii_i1_data += pos0 * i1_str_0;\n",
      "60         ii_o0_data += pos0 * o0_str_0;\n",
      "61         ii_o0_data[0] = ii_i0_data[0] * ii_i1_data[0];\n",
      "62     }\n",
      "63 }\n",
      "64 //    Input   0 CudaNdarrayType(float32, col)\n",
      "65 //    Input   1 CudaNdarrayType(float32, col)\n",
      "66 //    Output  0 CudaNdarrayType(float32, col)\n",
      "67 static __global__ void kernel_Mul_node_389b9024ba3d648cab13b2893b5cab02_0_Ccontiguous (unsigned int numEls\n",
      "68 \t, const float * i0_data\n",
      "69 \t, const float * i1_data\n",
      "70 \t, float * o0_data\n",
      "71 \t)\n",
      "72 {\n",
      "73     const int idx = blockIdx.x * blockDim.x + threadIdx.x;\n",
      "74     const int numThreads = blockDim.x * gridDim.x;\n",
      "75     for (int i = idx; i < numEls; i += numThreads) {\n",
      "76         o0_data[i] = i0_data[i] * i1_data[i];\n",
      "77     }\n",
      "78 }\n",
      "79 \n",
      "80         static void can_collapse_node_389b9024ba3d648cab13b2893b5cab02_0(int nd, const int * dims, const int * strides, int collapse[])\n",
      "81         {\n",
      "82             //can we collapse dims[i] and dims[i-1]\n",
      "83             for(int i=nd-1;i>0;i--){\n",
      "84                 if(strides[i]*dims[i]==strides[i-1]){//the dims nd-1 are not strided again dimension nd\n",
      "85                     collapse[i]=1;\n",
      "86                 }else collapse[i]=0;\n",
      "87             }\n",
      "88         }\n",
      "89         \n",
      "90 \n",
      "91         static int callkernel_node_389b9024ba3d648cab13b2893b5cab02_0(unsigned int numEls, const int d,\n",
      "92             const int * dims,\n",
      "93             const float * i0_data, const int * i0_str, const float * i1_data, const int * i1_str,\n",
      "94             float * o0_data, const int * o0_str)\n",
      "95         {\n",
      "96             numEls = dims[0]*dims[1]*1;\n",
      "97         \n",
      "98 int local_dims[2];\n",
      "99 \n",
      "100             int local_str[2][2];\n",
      "101             int local_ostr[1][2];\n",
      "102             \n",
      "103 \n",
      "104         int nd_collapse = 2;\n",
      "105         for(int i=0;i<2;i++){//init new dim\n",
      "106           local_dims[i]=dims[i];\n",
      "107         }\n",
      "108         \n",
      "109 \n",
      "110             for(int i=0;i<2;i++){//init new strides\n",
      "111               local_str[0][i]=i0_str[i];\n",
      "112             }\n",
      "113             \n",
      "114 \n",
      "115             for(int i=0;i<2;i++){//init new strides\n",
      "116               local_str[1][i]=i1_str[i];\n",
      "117             }\n",
      "118             \n",
      "119 \n",
      "120             for(int i=0;i<2;i++){//init new strides\n",
      "121               local_ostr[0][i]=o0_str[i];\n",
      "122             }\n",
      "123             \n",
      "124 \n",
      "125         for(int id=0;id<nd_collapse;id++){\n",
      "126 \n",
      "127           bool all_broadcast=true;\n",
      "128           for(int input_id=0;input_id<2;input_id++){\n",
      "129             if(local_str[input_id][id]!=0 || local_dims[id]!=1) all_broadcast= false;\n",
      "130           }\n",
      "131           for(int input_id=0;input_id<1;input_id++){\n",
      "132             if(local_ostr[input_id][id]!=0 || local_dims[id]!=1) all_broadcast= false;\n",
      "133           }\n",
      "134           if(all_broadcast){\n",
      "135             for(int j=id+1;j<nd_collapse;j++)//remove dims i from the array\n",
      "136               local_dims[j-1]=local_dims[j];\n",
      "137             for(int input_id=0;input_id<2;input_id++){\n",
      "138               for(int j=id+1;j<nd_collapse;j++){//remove dims i from the array\n",
      "139                 local_str[input_id][j-1]=local_str[input_id][j];\n",
      "140               }\n",
      "141             }\n",
      "142             for(int output_id=0;output_id<1;output_id++){\n",
      "143               for(int j=id+1;j<nd_collapse;j++){//remove dims i from the array\n",
      "144                 local_ostr[output_id][j-1]=local_ostr[output_id][j];\n",
      "145               }\n",
      "146             }\n",
      "147             nd_collapse--; id--;\n",
      "148           }\n",
      "149         }\n",
      "150         \n",
      "151 int nd_collapse_[2] = {1,1};\n",
      "152 \n",
      "153                         int nd_collapse_0[2] = {1,1};\n",
      "154 \n",
      "155 can_collapse_node_389b9024ba3d648cab13b2893b5cab02_0(nd_collapse, local_dims, local_str[0], nd_collapse_0);\n",
      "156 for(int i=0;i<nd_collapse;i++){\n",
      "157 if(nd_collapse_0[i]==0)\n",
      "158 nd_collapse_[i]=0;\n",
      "159 }\n",
      "160                 \n",
      "161 \n",
      "162                         int nd_collapse_1[2] = {1,1};\n",
      "163 \n",
      "164 can_collapse_node_389b9024ba3d648cab13b2893b5cab02_0(nd_collapse, local_dims, local_str[1], nd_collapse_1);\n",
      "165 for(int i=0;i<nd_collapse;i++){\n",
      "166 if(nd_collapse_1[i]==0)\n",
      "167 nd_collapse_[i]=0;\n",
      "168 }\n",
      "169                 \n",
      "170 \n",
      "171             for(int i=nd_collapse-1;i>0;i--){\n",
      "172               if(nd_collapse_[i]==1){\n",
      "173                 local_str[0][i-1]=local_str[0][i];//set new strides\n",
      "174                 for(int j=i+1;j<nd_collapse;j++)//remove stride i from the array\n",
      "175                   local_str[0][j-1]=local_str[0][j];\n",
      "176                 }\n",
      "177             }\n",
      "178             \n",
      "179 \n",
      "180             for(int i=nd_collapse-1;i>0;i--){\n",
      "181               if(nd_collapse_[i]==1){\n",
      "182                 local_str[1][i-1]=local_str[1][i];//set new strides\n",
      "183                 for(int j=i+1;j<nd_collapse;j++)//remove stride i from the array\n",
      "184                   local_str[1][j-1]=local_str[1][j];\n",
      "185                 }\n",
      "186             }\n",
      "187             \n",
      "188 \n",
      "189             for(int i=nd_collapse-1;i>0;i--){\n",
      "190               if(nd_collapse_[i]==1){\n",
      "191                 local_ostr[0][i-1]=local_ostr[0][i];//set new strides\n",
      "192                 for(int j=i+1;j<nd_collapse;j++)//remove stride i from the array\n",
      "193                   local_ostr[0][j-1]=local_ostr[0][j];\n",
      "194                 }\n",
      "195             }\n",
      "196             \n",
      "197 \n",
      "198         for(int i=nd_collapse-1;i>0;i--){\n",
      "199           if(nd_collapse_[i]==1){\n",
      "200             local_dims[i-1]*=local_dims[i];//set new dims\n",
      "201             for(int j=i+1;j<nd_collapse;j++)//remove dims i from the array\n",
      "202               local_dims[j-1]=local_dims[j];\n",
      "203           }\n",
      "204         }\n",
      "205         \n",
      "206 \n",
      "207         for(int i=1, end=nd_collapse;i<end;i++){\n",
      "208           if(nd_collapse_[i]==1)nd_collapse--;\n",
      "209         }\n",
      "210         if(nd_collapse == 1 \n",
      "211  &&  local_str[0][nd_collapse-1]==1  && local_str[1][nd_collapse-1]==1  && local_ostr[0][nd_collapse-1]==1 \n",
      "212 ){nd_collapse=0;} \n",
      "213 if(numEls==0) return 0;\n",
      "214 switch (nd_collapse==0?0:min(2,nd_collapse)) {\n",
      "215 case 0: {\n",
      "216 \n",
      "217                 //first use at least a full warp\n",
      "218                 int threads_per_block = std::min(numEls,  (unsigned int)32); //WARP SIZE\n",
      "219 \n",
      "220                 //next start adding multiprocessors\n",
      "221                 int n_blocks = std::min(numEls/threads_per_block + (numEls % threads_per_block?1:0), (unsigned int)30); // UP TO NUMBER OF MULTIPROCESSORS\n",
      "222 \n",
      "223                 // next start adding more warps per multiprocessor\n",
      "224                 if (threads_per_block * n_blocks < numEls)\n",
      "225                     threads_per_block = std::min(numEls/n_blocks, (unsigned int)NUM_VECTOR_OP_THREADS_PER_BLOCK);\n",
      "226                 kernel_Mul_node_389b9024ba3d648cab13b2893b5cab02_0_Ccontiguous<<<n_blocks, threads_per_block>>>(numEls, i0_data, i1_data, o0_data);\n",
      "227 \n",
      "228                 //std::cerr << \"calling callkernel returned\\n\";\n",
      "229                 \n",
      "230 \n",
      "231                 CNDA_THREAD_SYNC;\n",
      "232                 cudaError_t err = cudaGetLastError();\n",
      "233                 if( cudaSuccess != err)\n",
      "234                 {\n",
      "235                     PyErr_Format(PyExc_RuntimeError, \"Cuda error: %s: %s.\\n    n_blocks=%i threads_per_block=%i\\n   Call: %s\\n\",\n",
      "236                          \"GpuElemwise node_389b9024ba3d648cab13b2893b5cab02_0 Mul\", cudaGetErrorString(err),\n",
      "237                          n_blocks, threads_per_block,\n",
      "238                          \"kernel_Mul_node_389b9024ba3d648cab13b2893b5cab02_0_Ccontiguous<<<n_blocks, threads_per_block>>>(numEls, i0_data, i1_data, o0_data)\");\n",
      "239                     return -1;\n",
      "240 \n",
      "241                 }\n",
      "242                 \n",
      "243                 return 0;\n",
      "244                 \n",
      "245         } break;\n",
      "246 case 1: {\n",
      "247 \n",
      "248                 //first use at least a full warp\n",
      "249                 int threads_per_block = std::min(numEls, (unsigned int)32); //WARP SIZE\n",
      "250 \n",
      "251                 //next start adding multiprocessors\n",
      "252                 int n_blocks = std::min(numEls/threads_per_block + (numEls % threads_per_block?1:0), (unsigned int)30); // UP TO NUMBER OF MULTIPROCESSORS\n",
      "253 \n",
      "254                 // next start adding more warps per multiprocessor\n",
      "255                 if (threads_per_block * n_blocks < numEls)\n",
      "256                     threads_per_block = std::min(numEls/n_blocks, (unsigned int)NUM_VECTOR_OP_THREADS_PER_BLOCK);\n",
      "257 \n",
      "258                 kernel_Mul_node_389b9024ba3d648cab13b2893b5cab02_0_1<<<n_blocks, threads_per_block>>>(numEls, local_dims[0], i0_data, local_str[0][0], i1_data, local_str[1][0], o0_data, local_ostr[0][0]);\n",
      "259                 \n",
      "260 \n",
      "261                 CNDA_THREAD_SYNC;\n",
      "262                 cudaError_t err = cudaGetLastError();\n",
      "263                 if( cudaSuccess != err)\n",
      "264                 {\n",
      "265                     PyErr_Format(PyExc_RuntimeError, \"Cuda error: %s: %s.\\n    n_blocks=%i threads_per_block=%i\\n   Call: %s\\n\",\n",
      "266                          \"GpuElemwise node_389b9024ba3d648cab13b2893b5cab02_0 Mul\", cudaGetErrorString(err),\n",
      "267                          n_blocks, threads_per_block,\n",
      "268                          \"kernel_Mul_node_389b9024ba3d648cab13b2893b5cab02_0_Ccontiguous<<<n_blocks, threads_per_block>>>(numEls, local_dims[0], i0_data, local_str[0][0], i1_data, local_str[1][0], o0_data, local_ostr[0][0])\");\n",
      "269                     return -1;\n",
      "270 \n",
      "271                 }\n",
      "272                 return 0;\n",
      "273                 \n",
      "274         } break;\n",
      "275 case 2: {\n",
      "276 \n",
      "277                 //first use at least a full warp\n",
      "278                 int threads_per_block = std::min(numEls, (unsigned int)32); //WARP SIZE\n",
      "279 \n",
      "280                 //next start adding multiprocessors\n",
      "281                 int n_blocks = std::min(numEls/threads_per_block + (numEls % threads_per_block?1:0), (unsigned int)30); // UP TO NUMBER OF MULTIPROCESSORS\n",
      "282 \n",
      "283                 // next start adding more warps per multiprocessor\n",
      "284                 if (threads_per_block * n_blocks < numEls)\n",
      "285                     threads_per_block = std::min(numEls/n_blocks, (unsigned int)NUM_VECTOR_OP_THREADS_PER_BLOCK);\n",
      "286 \n",
      "287                 kernel_Mul_node_389b9024ba3d648cab13b2893b5cab02_0_2<<<n_blocks, threads_per_block>>>(numEls, local_dims[0], local_dims[1], i0_data, local_str[0][0], local_str[0][1], i1_data, local_str[1][0], local_str[1][1], o0_data, local_ostr[0][0], local_ostr[0][1]);\n",
      "288                 \n",
      "289 \n",
      "290                 CNDA_THREAD_SYNC;\n",
      "291                 cudaError_t err = cudaGetLastError();\n",
      "292                 if( cudaSuccess != err)\n",
      "293                 {\n",
      "294                     PyErr_Format(PyExc_RuntimeError, \"Cuda error: %s: %s.\\n    n_blocks=%i threads_per_block=%i\\n   Call: %s\\n\",\n",
      "295                          \"GpuElemwise node_389b9024ba3d648cab13b2893b5cab02_0 Mul\", cudaGetErrorString(err),\n",
      "296                          n_blocks, threads_per_block,\n",
      "297                          \"kernel_Mul_node_389b9024ba3d648cab13b2893b5cab02_0_Ccontiguous<<<n_blocks, threads_per_block>>>(numEls, local_dims[0], local_dims[1], i0_data, local_str[0][0], local_str[0][1], i1_data, local_str[1][0], local_str[1][1], o0_data, local_ostr[0][0], local_ostr[0][1])\");\n",
      "298                     return -1;\n",
      "299 \n",
      "300                 }\n",
      "301                 return 0;\n",
      "302                 \n",
      "303         } break;\n",
      "304 }\n",
      "305 return -2;\n",
      "306 }\n",
      "307 \n",
      "308 \n",
      "309     namespace {\n",
      "310     struct __struct_compiled_op_389b9024ba3d648cab13b2893b5cab02 {\n",
      "311         PyObject* __ERROR;\n",
      "312 \n",
      "313         PyObject* storage_V3;\n",
      "314 PyObject* storage_V1;\n",
      "315         \n",
      "316 \n",
      "317         __struct_compiled_op_389b9024ba3d648cab13b2893b5cab02() {}\n",
      "318         ~__struct_compiled_op_389b9024ba3d648cab13b2893b5cab02(void) {\n",
      "319             cleanup();\n",
      "320         }\n",
      "321 \n",
      "322         int init(PyObject* __ERROR, PyObject* storage_V3, PyObject* storage_V1) {\n",
      "323             Py_XINCREF(storage_V3);\n",
      "324 Py_XINCREF(storage_V1);\n",
      "325             this->storage_V3 = storage_V3;\n",
      "326 this->storage_V1 = storage_V1;\n",
      "327             \n",
      "328 \n",
      "329 \n",
      "330 \n",
      "331             this->__ERROR = __ERROR;\n",
      "332             return 0;\n",
      "333         }\n",
      "334         void cleanup(void) {\n",
      "335             __label_1:\n",
      "336 \n",
      "337 double __DUMMY_1;\n",
      "338 __label_3:\n",
      "339 \n",
      "340 double __DUMMY_3;\n",
      "341 __label_6:\n",
      "342 \n",
      "343 double __DUMMY_6;\n",
      "344 \n",
      "345             Py_XDECREF(this->storage_V3);\n",
      "346 Py_XDECREF(this->storage_V1);\n",
      "347         }\n",
      "348         int run(void) {\n",
      "349             int __failure = 0;\n",
      "350             \n",
      "351     PyObject* py_V1;\n",
      "352      CudaNdarray * V1;\n",
      "353     PyObject* py_V3;\n",
      "354      CudaNdarray * V3;\n",
      "355 {\n",
      "356 \n",
      "357     py_V1 = PyList_GET_ITEM(storage_V1, 0);\n",
      "358     {Py_XINCREF(py_V1);}\n",
      "359     \n",
      "360         if (py_V1 == Py_None)\n",
      "361         {\n",
      "362             V1 = NULL;\n",
      "363         }\n",
      "364         else\n",
      "365         {\n",
      "366             \n",
      "367         assert(py_V1->ob_refcnt >= 2); // There should be at least one ref from the container object,\n",
      "368         // and one ref from the local scope.\n",
      "369 \n",
      "370         if (CudaNdarray_Check(py_V1))\n",
      "371         {\n",
      "372             //fprintf(stderr, \"c_extract CNDA object w refcnt %p %i\\n\", py_V1, (py_V1->ob_refcnt));\n",
      "373             V1 = (CudaNdarray*)py_V1;\n",
      "374             //std::cerr << \"c_extract \" << V1 << '\\n';\n",
      "375         \n",
      "376 \n",
      "377                 if (V1->nd != 2)\n",
      "378                 {\n",
      "379                     PyErr_Format(PyExc_RuntimeError,\n",
      "380                                  \"c_extract: Some CudaNdarray has rank %i, it was supposed to have rank 2\",\n",
      "381                                  V1->nd);\n",
      "382                     V1 = NULL;\n",
      "383                     {\n",
      "384         __failure = 2;\n",
      "385         if (!PyErr_Occurred()) {\n",
      "386             PyErr_SetString(PyExc_RuntimeError,\n",
      "387                 \"Unexpected error in an Op's C code. \"\n",
      "388                 \"No Python exception was set.\");\n",
      "389             }\n",
      "390         goto __label_2;};\n",
      "391                 }\n",
      "392                 //std::cerr << \"c_extract \" << V1 << \" nd check passed\\n\";\n",
      "393             \n",
      "394 \n",
      "395                 if (CudaNdarray_HOST_DIMS(V1)[1] != 1)\n",
      "396                 {\n",
      "397                     PyErr_Format(PyExc_RuntimeError,\n",
      "398                                  \"c_extract: Some CudaNdarray has dim %i on broadcastable dimension %i\",\n",
      "399                                  CudaNdarray_HOST_DIMS(V1)[1], 1);\n",
      "400                     V1 = NULL;\n",
      "401                     {\n",
      "402         __failure = 2;\n",
      "403         if (!PyErr_Occurred()) {\n",
      "404             PyErr_SetString(PyExc_RuntimeError,\n",
      "405                 \"Unexpected error in an Op's C code. \"\n",
      "406                 \"No Python exception was set.\");\n",
      "407             }\n",
      "408         goto __label_2;};\n",
      "409                 }\n",
      "410                 //std::cerr << \"c_extract \" << V1 << \"dim check 1 passed\\n\";\n",
      "411                 //std::cerr << \"c_extract \" << V1 << \"checking bcast 1 <\" << V1->str<< \">\\n\";\n",
      "412                 //std::cerr << \"c_extract \" << V1->str[1] << \"\\n\";\n",
      "413                 if (CudaNdarray_HOST_STRIDES(V1)[1])\n",
      "414                 {\n",
      "415                     //std::cerr << \"c_extract bad stride detected...\\n\";\n",
      "416                     PyErr_Format(PyExc_RuntimeError,\n",
      "417                                  \"c_extract: Some CudaNdarray has a nonzero stride %i on a broadcastable dimension %i\",\n",
      "418                                  CudaNdarray_HOST_STRIDES(V1)[1], 1);\n",
      "419                     V1 = NULL;\n",
      "420                     {\n",
      "421         __failure = 2;\n",
      "422         if (!PyErr_Occurred()) {\n",
      "423             PyErr_SetString(PyExc_RuntimeError,\n",
      "424                 \"Unexpected error in an Op's C code. \"\n",
      "425                 \"No Python exception was set.\");\n",
      "426             }\n",
      "427         goto __label_2;};\n",
      "428                 }\n",
      "429                 //std::cerr << \"c_extract \" << V1 << \"bcast check 1 passed\\n\";\n",
      "430                     \n",
      "431 \n",
      "432                 assert(V1);\n",
      "433                 Py_INCREF(py_V1);\n",
      "434             }\n",
      "435             else if (py_V1 == Py_None)\n",
      "436             {\n",
      "437                 PyErr_SetString(PyExc_TypeError,\n",
      "438                                 \"expected a CudaNdarray, not None\");\n",
      "439                 V1 = NULL;\n",
      "440                 {\n",
      "441         __failure = 2;\n",
      "442         if (!PyErr_Occurred()) {\n",
      "443             PyErr_SetString(PyExc_RuntimeError,\n",
      "444                 \"Unexpected error in an Op's C code. \"\n",
      "445                 \"No Python exception was set.\");\n",
      "446             }\n",
      "447         goto __label_2;};\n",
      "448             }\n",
      "449             else\n",
      "450             {\n",
      "451                 //fprintf(stderr, \"FAILING c_extract CNDA object w refcnt %p %i\\n\", py_V1, (py_V1->ob_refcnt));\n",
      "452                 PyErr_SetString(PyExc_TypeError, \"Argument not a CudaNdarray\");\n",
      "453                 V1 = NULL;\n",
      "454                 {\n",
      "455         __failure = 2;\n",
      "456         if (!PyErr_Occurred()) {\n",
      "457             PyErr_SetString(PyExc_RuntimeError,\n",
      "458                 \"Unexpected error in an Op's C code. \"\n",
      "459                 \"No Python exception was set.\");\n",
      "460             }\n",
      "461         goto __label_2;};\n",
      "462             }\n",
      "463             //std::cerr << \"c_extract done \" << V1 << '\\n';\n",
      "464             \n",
      "465 \n",
      "466         }\n",
      "467         \n",
      "468 {\n",
      "469 \n",
      "470     py_V3 = PyList_GET_ITEM(storage_V3, 0);\n",
      "471     {Py_XINCREF(py_V3);}\n",
      "472     \n",
      "473         assert(py_V3->ob_refcnt >= 2); // There should be at least one ref from the container object,\n",
      "474         // and one ref from the local scope.\n",
      "475 \n",
      "476         if (CudaNdarray_Check(py_V3))\n",
      "477         {\n",
      "478             //fprintf(stderr, \"c_extract CNDA object w refcnt %p %i\\n\", py_V3, (py_V3->ob_refcnt));\n",
      "479             V3 = (CudaNdarray*)py_V3;\n",
      "480             //std::cerr << \"c_extract \" << V3 << '\\n';\n",
      "481         \n",
      "482 \n",
      "483                 if (V3->nd != 2)\n",
      "484                 {\n",
      "485                     PyErr_Format(PyExc_RuntimeError,\n",
      "486                                  \"c_extract: Some CudaNdarray has rank %i, it was supposed to have rank 2\",\n",
      "487                                  V3->nd);\n",
      "488                     V3 = NULL;\n",
      "489                     {\n",
      "490         __failure = 4;\n",
      "491         if (!PyErr_Occurred()) {\n",
      "492             PyErr_SetString(PyExc_RuntimeError,\n",
      "493                 \"Unexpected error in an Op's C code. \"\n",
      "494                 \"No Python exception was set.\");\n",
      "495             }\n",
      "496         goto __label_4;};\n",
      "497                 }\n",
      "498                 //std::cerr << \"c_extract \" << V3 << \" nd check passed\\n\";\n",
      "499             \n",
      "500 \n",
      "501                 if (CudaNdarray_HOST_DIMS(V3)[1] != 1)\n",
      "502                 {\n",
      "503                     PyErr_Format(PyExc_RuntimeError,\n",
      "504                                  \"c_extract: Some CudaNdarray has dim %i on broadcastable dimension %i\",\n",
      "505                                  CudaNdarray_HOST_DIMS(V3)[1], 1);\n",
      "506                     V3 = NULL;\n",
      "507                     {\n",
      "508         __failure = 4;\n",
      "509         if (!PyErr_Occurred()) {\n",
      "510             PyErr_SetString(PyExc_RuntimeError,\n",
      "511                 \"Unexpected error in an Op's C code. \"\n",
      "512                 \"No Python exception was set.\");\n",
      "513             }\n",
      "514         goto __label_4;};\n",
      "515                 }\n",
      "516                 //std::cerr << \"c_extract \" << V3 << \"dim check 1 passed\\n\";\n",
      "517                 //std::cerr << \"c_extract \" << V3 << \"checking bcast 1 <\" << V3->str<< \">\\n\";\n",
      "518                 //std::cerr << \"c_extract \" << V3->str[1] << \"\\n\";\n",
      "519                 if (CudaNdarray_HOST_STRIDES(V3)[1])\n",
      "520                 {\n",
      "521                     //std::cerr << \"c_extract bad stride detected...\\n\";\n",
      "522                     PyErr_Format(PyExc_RuntimeError,\n",
      "523                                  \"c_extract: Some CudaNdarray has a nonzero stride %i on a broadcastable dimension %i\",\n",
      "524                                  CudaNdarray_HOST_STRIDES(V3)[1], 1);\n",
      "525                     V3 = NULL;\n",
      "526                     {\n",
      "527         __failure = 4;\n",
      "528         if (!PyErr_Occurred()) {\n",
      "529             PyErr_SetString(PyExc_RuntimeError,\n",
      "530                 \"Unexpected error in an Op's C code. \"\n",
      "531                 \"No Python exception was set.\");\n",
      "532             }\n",
      "533         goto __label_4;};\n",
      "534                 }\n",
      "535                 //std::cerr << \"c_extract \" << V3 << \"bcast check 1 passed\\n\";\n",
      "536                     \n",
      "537 \n",
      "538                 assert(V3);\n",
      "539                 Py_INCREF(py_V3);\n",
      "540             }\n",
      "541             else if (py_V3 == Py_None)\n",
      "542             {\n",
      "543                 PyErr_SetString(PyExc_TypeError,\n",
      "544                                 \"expected a CudaNdarray, not None\");\n",
      "545                 V3 = NULL;\n",
      "546                 {\n",
      "547         __failure = 4;\n",
      "548         if (!PyErr_Occurred()) {\n",
      "549             PyErr_SetString(PyExc_RuntimeError,\n",
      "550                 \"Unexpected error in an Op's C code. \"\n",
      "551                 \"No Python exception was set.\");\n",
      "552             }\n",
      "553         goto __label_4;};\n",
      "554             }\n",
      "555             else\n",
      "556             {\n",
      "557                 //fprintf(stderr, \"FAILING c_extract CNDA object w refcnt %p %i\\n\", py_V3, (py_V3->ob_refcnt));\n",
      "558                 PyErr_SetString(PyExc_TypeError, \"Argument not a CudaNdarray\");\n",
      "559                 V3 = NULL;\n",
      "560                 {\n",
      "561         __failure = 4;\n",
      "562         if (!PyErr_Occurred()) {\n",
      "563             PyErr_SetString(PyExc_RuntimeError,\n",
      "564                 \"Unexpected error in an Op's C code. \"\n",
      "565                 \"No Python exception was set.\");\n",
      "566             }\n",
      "567         goto __label_4;};\n",
      "568             }\n",
      "569             //std::cerr << \"c_extract done \" << V3 << '\\n';\n",
      "570             \n",
      "571 \n",
      "572 {\n",
      "573 // Op class GpuElemwise\n",
      "574 \n",
      "575         //std::cerr << \"C_CODE mul START\\n\";\n",
      "576         //standard elemwise size checks\n",
      "577             \n",
      "578 \n",
      "579             int dims[2] = {1,1};\n",
      "580             \n",
      "581 \n",
      "582                 int broadcasts_V3[2] = {0, 1};\n",
      "583                 \n",
      "584 \n",
      "585         //std::cerr << \"C_CODE mul checking input V3\\n\";\n",
      "586         if (2 != V3->nd)\n",
      "587         {\n",
      "588             PyErr_Format(PyExc_TypeError,\n",
      "589                          \"need 2 dims, not %i\", V3->nd);\n",
      "590             {\n",
      "591         __failure = 5;\n",
      "592         if (!PyErr_Occurred()) {\n",
      "593             PyErr_SetString(PyExc_RuntimeError,\n",
      "594                 \"Unexpected error in an Op's C code. \"\n",
      "595                 \"No Python exception was set.\");\n",
      "596             }\n",
      "597         goto __label_5;};\n",
      "598         }\n",
      "599         for (int i = 0; i< 2; ++i)\n",
      "600         {\n",
      "601             dims[i] = (dims[i] == 1) ? CudaNdarray_HOST_DIMS(V3)[i] : dims[i];\n",
      "602             if ((!(broadcasts_V3[i] &&\n",
      "603                  CudaNdarray_HOST_DIMS(V3)[i] == 1)) &&\n",
      "604                 (dims[i] != CudaNdarray_HOST_DIMS(V3)[i]))\n",
      "605             {\n",
      "606                 //std::cerr << \"C_CODE mul checking input V3 failed\\n\";\n",
      "607                 PyErr_Format(PyExc_ValueError,\n",
      "608                              \"GpuElemwise. Input dimension mis-match. Input\"\n",
      "609                              \" 0 (indices start at 0) has shape[%i] == %i\"\n",
      "610                              \", but the output's size on that axis is %i.\",\n",
      "611                              i,\n",
      "612                              CudaNdarray_HOST_DIMS(V3)[i],\n",
      "613                              dims[i]\n",
      "614                             );\n",
      "615                 {\n",
      "616         __failure = 5;\n",
      "617         if (!PyErr_Occurred()) {\n",
      "618             PyErr_SetString(PyExc_RuntimeError,\n",
      "619                 \"Unexpected error in an Op's C code. \"\n",
      "620                 \"No Python exception was set.\");\n",
      "621             }\n",
      "622         goto __label_5;};\n",
      "623             }\n",
      "624         }\n",
      "625             \n",
      "626 \n",
      "627         for (int i = 0; (i< 2) && (V1); ++i) {\n",
      "628             if (dims[i] != CudaNdarray_HOST_DIMS(V1)[i])\n",
      "629             {\n",
      "630                 Py_DECREF(V1);\n",
      "631                 V1 = NULL;\n",
      "632             }\n",
      "633         }\n",
      "634         if (V1 && !CudaNdarray_is_c_contiguous(V1))\n",
      "635         {\n",
      "636             Py_XDECREF(V1);\n",
      "637             V1 = NULL;\n",
      "638         }\n",
      "639         if (NULL == V1)\n",
      "640         {\n",
      "641             V1 = (CudaNdarray*)CudaNdarray_New();\n",
      "642             if (!V1)\n",
      "643             {\n",
      "644                 //error string already set\n",
      "645                 {\n",
      "646         __failure = 5;\n",
      "647         if (!PyErr_Occurred()) {\n",
      "648             PyErr_SetString(PyExc_RuntimeError,\n",
      "649                 \"Unexpected error in an Op's C code. \"\n",
      "650                 \"No Python exception was set.\");\n",
      "651             }\n",
      "652         goto __label_5;};\n",
      "653             }\n",
      "654             if (CudaNdarray_alloc_contiguous(V1, 2, dims))\n",
      "655             {\n",
      "656                 //error string already set\n",
      "657                 Py_DECREF(V1);\n",
      "658                 V1 = NULL;\n",
      "659                 {\n",
      "660         __failure = 5;\n",
      "661         if (!PyErr_Occurred()) {\n",
      "662             PyErr_SetString(PyExc_RuntimeError,\n",
      "663                 \"Unexpected error in an Op's C code. \"\n",
      "664                 \"No Python exception was set.\");\n",
      "665             }\n",
      "666         goto __label_5;};\n",
      "667             }\n",
      "668         }\n",
      "669         //std::cerr << \"ELEMWISE NEW V1 nd\" << V1->nd << \"\\n\";\n",
      "670         //std::cerr << \"ELEMWISE NEW V1 data\" << V1->devdata << \"\\n\";\n",
      "671         \n",
      "672 \n",
      "673         {\n",
      "674             //new block so that failure gotos don't skip over variable initialization\n",
      "675             //std::cerr << \"calling callkernel\\n\";\n",
      "676             if (callkernel_node_389b9024ba3d648cab13b2893b5cab02_0(1, 0, dims\n",
      "677             \n",
      "678 \n",
      "679                         , CudaNdarray_DEV_DATA(V3), CudaNdarray_HOST_STRIDES(V3)\n",
      "680             \n",
      "681 \n",
      "682                         , CudaNdarray_DEV_DATA(V3), CudaNdarray_HOST_STRIDES(V3)\n",
      "683             \n",
      "684 \n",
      "685                         , CudaNdarray_DEV_DATA(V1), CudaNdarray_HOST_STRIDES(V1)\n",
      "686             \n",
      "687 \n",
      "688                         ))\n",
      "689             {\n",
      "690                  // error\n",
      "691             \n",
      "692 \n",
      "693                 Py_DECREF(V1);\n",
      "694                 V1 = NULL;\n",
      "695                 \n",
      "696 \n",
      "697                 {\n",
      "698         __failure = 5;\n",
      "699         if (!PyErr_Occurred()) {\n",
      "700             PyErr_SetString(PyExc_RuntimeError,\n",
      "701                 \"Unexpected error in an Op's C code. \"\n",
      "702                 \"No Python exception was set.\");\n",
      "703             }\n",
      "704         goto __label_5;};\n",
      "705             }\n",
      "706             else // no error\n",
      "707             {\n",
      "708             }\n",
      "709         }\n",
      "710         //std::cerr << \"C_CODE mul END\\n\";\n",
      "711         \n",
      "712 __label_5:\n",
      "713 \n",
      "714 double __DUMMY_5;\n",
      "715 \n",
      "716 }\n",
      "717 __label_4:\n",
      "718 \n",
      "719         //std::cerr << \"cleanup \" << py_V3 << \" \" << V3 << \"\\n\";\n",
      "720         //fprintf(stderr, \"c_cleanup CNDA py_object w refcnt %p %i\\n\", py_V3, (py_V3->ob_refcnt));\n",
      "721         if (V3)\n",
      "722         {\n",
      "723             //fprintf(stderr, \"c_cleanup CNDA cn_object w refcnt %p %i\\n\", V3, (V3->ob_refcnt));\n",
      "724             Py_XDECREF(V3);\n",
      "725         }\n",
      "726         //std::cerr << \"cleanup done\" << py_V3 << \"\\n\";\n",
      "727         \n",
      "728     {Py_XDECREF(py_V3);}\n",
      "729     \n",
      "730 double __DUMMY_4;\n",
      "731 \n",
      "732 }\n",
      "733 __label_2:\n",
      "734 \n",
      "735     if (!__failure) {\n",
      "736       \n",
      "737         //std::cerr << \"sync\\n\";\n",
      "738         if (NULL == V1) {\n",
      "739             // failure: sync None to storage\n",
      "740             Py_XDECREF(py_V1);\n",
      "741             py_V1 = Py_None;\n",
      "742             Py_INCREF(py_V1);\n",
      "743         }\n",
      "744         else\n",
      "745         {\n",
      "746             if (py_V1 != (PyObject*)V1)\n",
      "747             {\n",
      "748                 Py_XDECREF(py_V1);\n",
      "749                 py_V1 = (PyObject*)V1;\n",
      "750                 Py_INCREF(py_V1);\n",
      "751             }\n",
      "752             assert(py_V1->ob_refcnt);\n",
      "753         }\n",
      "754         \n",
      "755       PyObject* old = PyList_GET_ITEM(storage_V1, 0);\n",
      "756       {Py_XINCREF(py_V1);}\n",
      "757       PyList_SET_ITEM(storage_V1, 0, py_V1);\n",
      "758       {Py_XDECREF(old);}\n",
      "759     }\n",
      "760     \n",
      "761         //std::cerr << \"cleanup \" << py_V1 << \" \" << V1 << \"\\n\";\n",
      "762         //fprintf(stderr, \"c_cleanup CNDA py_object w refcnt %p %i\\n\", py_V1, (py_V1->ob_refcnt));\n",
      "763         if (V1)\n",
      "764         {\n",
      "765             //fprintf(stderr, \"c_cleanup CNDA cn_object w refcnt %p %i\\n\", V1, (V1->ob_refcnt));\n",
      "766             Py_XDECREF(V1);\n",
      "767         }\n",
      "768         //std::cerr << \"cleanup done\" << py_V1 << \"\\n\";\n",
      "769         \n",
      "770     {Py_XDECREF(py_V1);}\n",
      "771     \n",
      "772 double __DUMMY_2;\n",
      "773 \n",
      "774 }\n",
      "775 \n",
      "776             \n",
      "777         if (__failure) {\n",
      "778             // When there is a failure, this code puts the exception\n",
      "779             // in __ERROR.\n",
      "780             PyObject* err_type = NULL;\n",
      "781             PyObject* err_msg = NULL;\n",
      "782             PyObject* err_traceback = NULL;\n",
      "783             PyErr_Fetch(&err_type, &err_msg, &err_traceback);\n",
      "784             if (!err_type) {err_type = Py_None;Py_INCREF(Py_None);}\n",
      "785             if (!err_msg) {err_msg = Py_None; Py_INCREF(Py_None);}\n",
      "786             if (!err_traceback) {err_traceback = Py_None; Py_INCREF(Py_None);}\n",
      "787             PyObject* old_err_type = PyList_GET_ITEM(__ERROR, 0);\n",
      "788             PyObject* old_err_msg = PyList_GET_ITEM(__ERROR, 1);\n",
      "789             PyObject* old_err_traceback = PyList_GET_ITEM(__ERROR, 2);\n",
      "790             PyList_SET_ITEM(__ERROR, 0, err_type);\n",
      "791             PyList_SET_ITEM(__ERROR, 1, err_msg);\n",
      "792             PyList_SET_ITEM(__ERROR, 2, err_traceback);\n",
      "793             {Py_XDECREF(old_err_type);}\n",
      "794             {Py_XDECREF(old_err_msg);}\n",
      "795             {Py_XDECREF(old_err_traceback);}\n",
      "796         }\n",
      "797         // The failure code is returned to index what code block failed.\n",
      "798         return __failure;\n",
      "799         \n",
      "800         }\n",
      "801     };\n",
      "802     }\n",
      "803     \n",
      "804 \n",
      "805         static int __struct_compiled_op_389b9024ba3d648cab13b2893b5cab02_executor(__struct_compiled_op_389b9024ba3d648cab13b2893b5cab02* self) {\n",
      "806             return self->run();\n",
      "807         }\n",
      "808 \n",
      "809         static void __struct_compiled_op_389b9024ba3d648cab13b2893b5cab02_destructor(void* executor, void* self) {\n",
      "810             delete ((__struct_compiled_op_389b9024ba3d648cab13b2893b5cab02*)self);\n",
      "811         }\n",
      "812         \n",
      "813 //////////////////////\n",
      "814 ////  Functions\n",
      "815 //////////////////////\n",
      "816 static PyObject * instantiate(PyObject * self, PyObject *argtuple) {\n",
      "817   assert(PyTuple_Check(argtuple));\n",
      "818   if (3 != PyTuple_Size(argtuple)){ \n",
      "819      PyErr_Format(PyExc_TypeError, \"Wrong number of arguments, expected 3, got %i\", (int)PyTuple_Size(argtuple));\n",
      "820      return NULL;\n",
      "821   }\n",
      "822   __struct_compiled_op_389b9024ba3d648cab13b2893b5cab02* struct_ptr = new __struct_compiled_op_389b9024ba3d648cab13b2893b5cab02();\n",
      "823   if (struct_ptr->init( PyTuple_GET_ITEM(argtuple, 0),PyTuple_GET_ITEM(argtuple, 1),PyTuple_GET_ITEM(argtuple, 2) ) != 0) {\n",
      "824     delete struct_ptr;\n",
      "825     return NULL;\n",
      "826   }\n",
      "827   PyObject* thunk = PyCObject_FromVoidPtrAndDesc((void*)(&__struct_compiled_op_389b9024ba3d648cab13b2893b5cab02_executor), struct_ptr, __struct_compiled_op_389b9024ba3d648cab13b2893b5cab02_destructor);\n",
      "828   return thunk; }\n",
      "829 \n",
      "830 //////////////////////\n",
      "831 ////  Module init\n",
      "832 //////////////////////\n",
      "833 static PyMethodDef MyMethods[] = {\n",
      "834 \t{\"instantiate\", instantiate, METH_VARARGS, \"undocumented\"} ,\n",
      "835 \t{NULL, NULL, 0, NULL}\n",
      "836 };\n",
      "837 PyMODINIT_FUNC init389b9024ba3d648cab13b2893b5cab02(void){\n",
      "838    (void) Py_InitModule(\"389b9024ba3d648cab13b2893b5cab02\", MyMethods);\n",
      "839 }\n",
      "840 \n",
      "===============================\n",
      "d:\\program file\\lean\\include\\host_config.h(191) : fatal error C1083: Cannot open include file: 'crtdefs.h': No such file or directory\r\n"
     ]
    },
    {
     "ename": "Exception",
     "evalue": "('The following error happened while compiling the node', GpuElemwise{mul,no_inplace}(GpuDimShuffle{0,x}.0, GpuDimShuffle{0,x}.0), '\\n', 'nvcc return status', 2, 'for cmd', 'nvcc -shared -O3 --maxrregcount=32 --use-local-env --cl-version=2013 -arch=sm_50 -Xlinker /DEBUG -D HAVE_ROUND -m64 -Xcompiler -DCUDA_NDARRAY_CUH=11b90075e2397c684f9dc0f7276eab8f,-D NPY_NO_DEPRECATED_API=NPY_1_7_API_VERSION,/Zi,/MD -IC:\\\\Users\\\\Back_jud\\\\AppData\\\\Local\\\\Theano\\\\compiledir_Windows-10-10.0.10586-Intel64_Family_6_Model_60_Stepping_3_GenuineIntel-2.7.11-64\\\\cuda_ndarray -INone\\\\include -IC:\\\\Users\\\\Back_jud\\\\Anaconda2\\\\lib\\\\site-packages\\\\numpy\\\\core\\\\include -IC:\\\\Users\\\\Back_jud\\\\Anaconda2\\\\include -IC:\\\\Users\\\\Back_jud\\\\Anaconda2\\\\lib\\\\site-packages\\\\theano\\\\sandbox\\\\cuda -o C:\\\\Users\\\\Back_jud\\\\AppData\\\\Local\\\\Theano\\\\compiledir_Windows-10-10.0.10586-Intel64_Family_6_Model_60_Stepping_3_GenuineIntel-2.7.11-64\\\\tmpcjsrra\\\\389b9024ba3d648cab13b2893b5cab02.pyd mod.cu -LC:\\\\Users\\\\Back_jud\\\\Anaconda2\\\\libs -LC:\\\\Users\\\\Back_jud\\\\AppData\\\\Local\\\\Theano\\\\compiledir_Windows-10-10.0.10586-Intel64_Family_6_Model_60_Stepping_3_GenuineIntel-2.7.11-64\\\\cuda_ndarray -LC:\\\\Users\\\\Back_jud\\\\Anaconda2 -lpython27 -lcudart -lcublas -lcuda_ndarray', '[GpuElemwise{mul,no_inplace}(<CudaNdarrayType(float32, col)>, <CudaNdarrayType(float32, col)>)]')",
     "output_type": "error",
     "traceback": [
      "\u001b[1;31m---------------------------------------------------------------------------\u001b[0m",
      "\u001b[1;31mException\u001b[0m                                 Traceback (most recent call last)",
      "\u001b[1;32m<ipython-input-112-b420c66c7b27>\u001b[0m in \u001b[0;36m<module>\u001b[1;34m()\u001b[0m\n\u001b[0;32m      1\u001b[0m \u001b[0mmodel1\u001b[0m\u001b[1;33m.\u001b[0m\u001b[0madd\u001b[0m\u001b[1;33m(\u001b[0m\u001b[0mDense\u001b[0m\u001b[1;33m(\u001b[0m\u001b[1;36m50\u001b[0m\u001b[1;33m,\u001b[0m \u001b[0minput_dim\u001b[0m\u001b[1;33m=\u001b[0m\u001b[1;36m2500\u001b[0m\u001b[1;33m,\u001b[0m \u001b[0mactivation\u001b[0m\u001b[1;33m=\u001b[0m\u001b[1;34m\"sigmoid\"\u001b[0m\u001b[1;33m,\u001b[0m \u001b[0minit\u001b[0m\u001b[1;33m=\u001b[0m\u001b[1;34m'uniform'\u001b[0m\u001b[1;33m)\u001b[0m\u001b[1;33m)\u001b[0m\u001b[1;33m\u001b[0m\u001b[0m\n\u001b[0;32m      2\u001b[0m \u001b[0mmodel1\u001b[0m\u001b[1;33m.\u001b[0m\u001b[0madd\u001b[0m\u001b[1;33m(\u001b[0m\u001b[0mDense\u001b[0m\u001b[1;33m(\u001b[0m\u001b[1;36m2\u001b[0m\u001b[1;33m,\u001b[0m \u001b[0mactivation\u001b[0m\u001b[1;33m=\u001b[0m\u001b[1;34m\"sigmoid\"\u001b[0m\u001b[1;33m,\u001b[0m \u001b[0minit\u001b[0m\u001b[1;33m=\u001b[0m\u001b[1;34m'uniform'\u001b[0m\u001b[1;33m)\u001b[0m\u001b[1;33m)\u001b[0m\u001b[1;33m\u001b[0m\u001b[0m\n\u001b[1;32m----> 3\u001b[1;33m \u001b[0mmodel1\u001b[0m\u001b[1;33m.\u001b[0m\u001b[0mcompile\u001b[0m\u001b[1;33m(\u001b[0m\u001b[0mloss\u001b[0m\u001b[1;33m=\u001b[0m\u001b[1;34m'categorical_crossentropy'\u001b[0m\u001b[1;33m,\u001b[0m \u001b[0moptimizer\u001b[0m\u001b[1;33m=\u001b[0m\u001b[0mSGD\u001b[0m\u001b[1;33m(\u001b[0m\u001b[1;33m)\u001b[0m\u001b[1;33m)\u001b[0m\u001b[1;33m\u001b[0m\u001b[0m\n\u001b[0m",
      "\u001b[1;32mC:\\Users\\Back_jud\\Anaconda2\\lib\\site-packages\\keras\\models.pyc\u001b[0m in \u001b[0;36mcompile\u001b[1;34m(self, optimizer, loss, class_mode, sample_weight_mode)\u001b[0m\n\u001b[0;32m    513\u001b[0m             \u001b[0mpredict_ins\u001b[0m \u001b[1;33m=\u001b[0m \u001b[1;33m[\u001b[0m\u001b[0mself\u001b[0m\u001b[1;33m.\u001b[0m\u001b[0mX_test\u001b[0m\u001b[1;33m]\u001b[0m\u001b[1;33m\u001b[0m\u001b[0m\n\u001b[0;32m    514\u001b[0m \u001b[1;33m\u001b[0m\u001b[0m\n\u001b[1;32m--> 515\u001b[1;33m         \u001b[0mself\u001b[0m\u001b[1;33m.\u001b[0m\u001b[0m_train\u001b[0m \u001b[1;33m=\u001b[0m \u001b[0mK\u001b[0m\u001b[1;33m.\u001b[0m\u001b[0mfunction\u001b[0m\u001b[1;33m(\u001b[0m\u001b[0mtrain_ins\u001b[0m\u001b[1;33m,\u001b[0m \u001b[1;33m[\u001b[0m\u001b[0mtrain_loss\u001b[0m\u001b[1;33m]\u001b[0m\u001b[1;33m,\u001b[0m \u001b[0mupdates\u001b[0m\u001b[1;33m=\u001b[0m\u001b[0mupdates\u001b[0m\u001b[1;33m)\u001b[0m\u001b[1;33m\u001b[0m\u001b[0m\n\u001b[0m\u001b[0;32m    516\u001b[0m         \u001b[0mself\u001b[0m\u001b[1;33m.\u001b[0m\u001b[0m_train_with_acc\u001b[0m \u001b[1;33m=\u001b[0m \u001b[0mK\u001b[0m\u001b[1;33m.\u001b[0m\u001b[0mfunction\u001b[0m\u001b[1;33m(\u001b[0m\u001b[0mtrain_ins\u001b[0m\u001b[1;33m,\u001b[0m \u001b[1;33m[\u001b[0m\u001b[0mtrain_loss\u001b[0m\u001b[1;33m,\u001b[0m \u001b[0mtrain_accuracy\u001b[0m\u001b[1;33m]\u001b[0m\u001b[1;33m,\u001b[0m \u001b[0mupdates\u001b[0m\u001b[1;33m=\u001b[0m\u001b[0mupdates\u001b[0m\u001b[1;33m)\u001b[0m\u001b[1;33m\u001b[0m\u001b[0m\n\u001b[0;32m    517\u001b[0m         \u001b[0mself\u001b[0m\u001b[1;33m.\u001b[0m\u001b[0m_predict\u001b[0m \u001b[1;33m=\u001b[0m \u001b[0mK\u001b[0m\u001b[1;33m.\u001b[0m\u001b[0mfunction\u001b[0m\u001b[1;33m(\u001b[0m\u001b[0mpredict_ins\u001b[0m\u001b[1;33m,\u001b[0m \u001b[1;33m[\u001b[0m\u001b[0mself\u001b[0m\u001b[1;33m.\u001b[0m\u001b[0my_test\u001b[0m\u001b[1;33m]\u001b[0m\u001b[1;33m,\u001b[0m \u001b[0mupdates\u001b[0m\u001b[1;33m=\u001b[0m\u001b[0mself\u001b[0m\u001b[1;33m.\u001b[0m\u001b[0mstate_updates\u001b[0m\u001b[1;33m)\u001b[0m\u001b[1;33m\u001b[0m\u001b[0m\n",
      "\u001b[1;32mC:\\Users\\Back_jud\\Anaconda2\\lib\\site-packages\\keras\\backend\\theano_backend.pyc\u001b[0m in \u001b[0;36mfunction\u001b[1;34m(inputs, outputs, updates)\u001b[0m\n\u001b[0;32m    386\u001b[0m \u001b[1;33m\u001b[0m\u001b[0m\n\u001b[0;32m    387\u001b[0m \u001b[1;32mdef\u001b[0m \u001b[0mfunction\u001b[0m\u001b[1;33m(\u001b[0m\u001b[0minputs\u001b[0m\u001b[1;33m,\u001b[0m \u001b[0moutputs\u001b[0m\u001b[1;33m,\u001b[0m \u001b[0mupdates\u001b[0m\u001b[1;33m=\u001b[0m\u001b[1;33m[\u001b[0m\u001b[1;33m]\u001b[0m\u001b[1;33m)\u001b[0m\u001b[1;33m:\u001b[0m\u001b[1;33m\u001b[0m\u001b[0m\n\u001b[1;32m--> 388\u001b[1;33m     \u001b[1;32mreturn\u001b[0m \u001b[0mFunction\u001b[0m\u001b[1;33m(\u001b[0m\u001b[0minputs\u001b[0m\u001b[1;33m,\u001b[0m \u001b[0moutputs\u001b[0m\u001b[1;33m,\u001b[0m \u001b[0mupdates\u001b[0m\u001b[1;33m=\u001b[0m\u001b[0mupdates\u001b[0m\u001b[1;33m)\u001b[0m\u001b[1;33m\u001b[0m\u001b[0m\n\u001b[0m\u001b[0;32m    389\u001b[0m \u001b[1;33m\u001b[0m\u001b[0m\n\u001b[0;32m    390\u001b[0m \u001b[1;33m\u001b[0m\u001b[0m\n",
      "\u001b[1;32mC:\\Users\\Back_jud\\Anaconda2\\lib\\site-packages\\keras\\backend\\theano_backend.pyc\u001b[0m in \u001b[0;36m__init__\u001b[1;34m(self, inputs, outputs, updates, **kwargs)\u001b[0m\n\u001b[0;32m    378\u001b[0m     \u001b[1;32mdef\u001b[0m \u001b[0m__init__\u001b[0m\u001b[1;33m(\u001b[0m\u001b[0mself\u001b[0m\u001b[1;33m,\u001b[0m \u001b[0minputs\u001b[0m\u001b[1;33m,\u001b[0m \u001b[0moutputs\u001b[0m\u001b[1;33m,\u001b[0m \u001b[0mupdates\u001b[0m\u001b[1;33m=\u001b[0m\u001b[1;33m[\u001b[0m\u001b[1;33m]\u001b[0m\u001b[1;33m,\u001b[0m \u001b[1;33m**\u001b[0m\u001b[0mkwargs\u001b[0m\u001b[1;33m)\u001b[0m\u001b[1;33m:\u001b[0m\u001b[1;33m\u001b[0m\u001b[0m\n\u001b[0;32m    379\u001b[0m         self.function = theano.function(inputs, outputs, updates=updates,\n\u001b[1;32m--> 380\u001b[1;33m                                         allow_input_downcast=True, **kwargs)\n\u001b[0m\u001b[0;32m    381\u001b[0m \u001b[1;33m\u001b[0m\u001b[0m\n\u001b[0;32m    382\u001b[0m     \u001b[1;32mdef\u001b[0m \u001b[0m__call__\u001b[0m\u001b[1;33m(\u001b[0m\u001b[0mself\u001b[0m\u001b[1;33m,\u001b[0m \u001b[0minputs\u001b[0m\u001b[1;33m)\u001b[0m\u001b[1;33m:\u001b[0m\u001b[1;33m\u001b[0m\u001b[0m\n",
      "\u001b[1;32mC:\\Users\\Back_jud\\Anaconda2\\lib\\site-packages\\theano\\compile\\function.pyc\u001b[0m in \u001b[0;36mfunction\u001b[1;34m(inputs, outputs, mode, updates, givens, no_default_updates, accept_inplace, name, rebuild_strict, allow_input_downcast, profile, on_unused_input)\u001b[0m\n\u001b[0;32m    264\u001b[0m                 \u001b[0mallow_input_downcast\u001b[0m\u001b[1;33m=\u001b[0m\u001b[0mallow_input_downcast\u001b[0m\u001b[1;33m,\u001b[0m\u001b[1;33m\u001b[0m\u001b[0m\n\u001b[0;32m    265\u001b[0m                 \u001b[0mon_unused_input\u001b[0m\u001b[1;33m=\u001b[0m\u001b[0mon_unused_input\u001b[0m\u001b[1;33m,\u001b[0m\u001b[1;33m\u001b[0m\u001b[0m\n\u001b[1;32m--> 266\u001b[1;33m                 profile=profile)\n\u001b[0m\u001b[0;32m    267\u001b[0m     \u001b[1;31m# We need to add the flag check_aliased inputs if we have any mutable or\u001b[0m\u001b[1;33m\u001b[0m\u001b[1;33m\u001b[0m\u001b[0m\n\u001b[0;32m    268\u001b[0m     \u001b[1;31m# borrowed used defined inputs\u001b[0m\u001b[1;33m\u001b[0m\u001b[1;33m\u001b[0m\u001b[0m\n",
      "\u001b[1;32mC:\\Users\\Back_jud\\Anaconda2\\lib\\site-packages\\theano\\compile\\pfunc.pyc\u001b[0m in \u001b[0;36mpfunc\u001b[1;34m(params, outputs, mode, updates, givens, no_default_updates, accept_inplace, name, rebuild_strict, allow_input_downcast, profile, on_unused_input)\u001b[0m\n\u001b[0;32m    509\u001b[0m     return orig_function(inputs, cloned_outputs, mode,\n\u001b[0;32m    510\u001b[0m             \u001b[0maccept_inplace\u001b[0m\u001b[1;33m=\u001b[0m\u001b[0maccept_inplace\u001b[0m\u001b[1;33m,\u001b[0m \u001b[0mname\u001b[0m\u001b[1;33m=\u001b[0m\u001b[0mname\u001b[0m\u001b[1;33m,\u001b[0m \u001b[0mprofile\u001b[0m\u001b[1;33m=\u001b[0m\u001b[0mprofile\u001b[0m\u001b[1;33m,\u001b[0m\u001b[1;33m\u001b[0m\u001b[0m\n\u001b[1;32m--> 511\u001b[1;33m             on_unused_input=on_unused_input)\n\u001b[0m\u001b[0;32m    512\u001b[0m \u001b[1;33m\u001b[0m\u001b[0m\n\u001b[0;32m    513\u001b[0m \u001b[1;33m\u001b[0m\u001b[0m\n",
      "\u001b[1;32mC:\\Users\\Back_jud\\Anaconda2\\lib\\site-packages\\theano\\compile\\function_module.pyc\u001b[0m in \u001b[0;36morig_function\u001b[1;34m(inputs, outputs, mode, accept_inplace, name, profile, on_unused_input)\u001b[0m\n\u001b[0;32m   1464\u001b[0m                    \u001b[0mprofile\u001b[0m\u001b[1;33m=\u001b[0m\u001b[0mprofile\u001b[0m\u001b[1;33m,\u001b[0m\u001b[1;33m\u001b[0m\u001b[0m\n\u001b[0;32m   1465\u001b[0m                    \u001b[0mon_unused_input\u001b[0m\u001b[1;33m=\u001b[0m\u001b[0mon_unused_input\u001b[0m\u001b[1;33m)\u001b[0m\u001b[1;33m.\u001b[0m\u001b[0mcreate\u001b[0m\u001b[1;33m(\u001b[0m\u001b[1;33m\u001b[0m\u001b[0m\n\u001b[1;32m-> 1466\u001b[1;33m                        defaults)\n\u001b[0m\u001b[0;32m   1467\u001b[0m \u001b[1;33m\u001b[0m\u001b[0m\n\u001b[0;32m   1468\u001b[0m     \u001b[0mt2\u001b[0m \u001b[1;33m=\u001b[0m \u001b[0mtime\u001b[0m\u001b[1;33m.\u001b[0m\u001b[0mtime\u001b[0m\u001b[1;33m(\u001b[0m\u001b[1;33m)\u001b[0m\u001b[1;33m\u001b[0m\u001b[0m\n",
      "\u001b[1;32mC:\\Users\\Back_jud\\Anaconda2\\lib\\site-packages\\theano\\compile\\function_module.pyc\u001b[0m in \u001b[0;36mcreate\u001b[1;34m(self, input_storage, trustme)\u001b[0m\n\u001b[0;32m   1322\u001b[0m             \u001b[0mtheano\u001b[0m\u001b[1;33m.\u001b[0m\u001b[0mconfig\u001b[0m\u001b[1;33m.\u001b[0m\u001b[0mtraceback\u001b[0m\u001b[1;33m.\u001b[0m\u001b[0mlimit\u001b[0m \u001b[1;33m=\u001b[0m \u001b[1;36m0\u001b[0m\u001b[1;33m\u001b[0m\u001b[0m\n\u001b[0;32m   1323\u001b[0m             _fn, _i, _o = self.linker.make_thunk(\n\u001b[1;32m-> 1324\u001b[1;33m                 input_storage=input_storage_lists)\n\u001b[0m\u001b[0;32m   1325\u001b[0m         \u001b[1;32mfinally\u001b[0m\u001b[1;33m:\u001b[0m\u001b[1;33m\u001b[0m\u001b[0m\n\u001b[0;32m   1326\u001b[0m             \u001b[0mtheano\u001b[0m\u001b[1;33m.\u001b[0m\u001b[0mconfig\u001b[0m\u001b[1;33m.\u001b[0m\u001b[0mtraceback\u001b[0m\u001b[1;33m.\u001b[0m\u001b[0mlimit\u001b[0m \u001b[1;33m=\u001b[0m \u001b[0mlimit_orig\u001b[0m\u001b[1;33m\u001b[0m\u001b[0m\n",
      "\u001b[1;32mC:\\Users\\Back_jud\\Anaconda2\\lib\\site-packages\\theano\\gof\\link.pyc\u001b[0m in \u001b[0;36mmake_thunk\u001b[1;34m(self, input_storage, output_storage)\u001b[0m\n\u001b[0;32m    517\u001b[0m     \u001b[1;32mdef\u001b[0m \u001b[0mmake_thunk\u001b[0m\u001b[1;33m(\u001b[0m\u001b[0mself\u001b[0m\u001b[1;33m,\u001b[0m \u001b[0minput_storage\u001b[0m\u001b[1;33m=\u001b[0m\u001b[0mNone\u001b[0m\u001b[1;33m,\u001b[0m \u001b[0moutput_storage\u001b[0m\u001b[1;33m=\u001b[0m\u001b[0mNone\u001b[0m\u001b[1;33m)\u001b[0m\u001b[1;33m:\u001b[0m\u001b[1;33m\u001b[0m\u001b[0m\n\u001b[0;32m    518\u001b[0m         return self.make_all(input_storage=input_storage,\n\u001b[1;32m--> 519\u001b[1;33m                              output_storage=output_storage)[:3]\n\u001b[0m\u001b[0;32m    520\u001b[0m \u001b[1;33m\u001b[0m\u001b[0m\n\u001b[0;32m    521\u001b[0m     \u001b[1;32mdef\u001b[0m \u001b[0mmake_all\u001b[0m\u001b[1;33m(\u001b[0m\u001b[0mself\u001b[0m\u001b[1;33m,\u001b[0m \u001b[0minput_storage\u001b[0m\u001b[1;33m,\u001b[0m \u001b[0moutput_storage\u001b[0m\u001b[1;33m)\u001b[0m\u001b[1;33m:\u001b[0m\u001b[1;33m\u001b[0m\u001b[0m\n",
      "\u001b[1;32mC:\\Users\\Back_jud\\Anaconda2\\lib\\site-packages\\theano\\gof\\vm.pyc\u001b[0m in \u001b[0;36mmake_all\u001b[1;34m(self, profiler, input_storage, output_storage)\u001b[0m\n\u001b[0;32m    895\u001b[0m                                                  \u001b[0mstorage_map\u001b[0m\u001b[1;33m,\u001b[0m\u001b[1;33m\u001b[0m\u001b[0m\n\u001b[0;32m    896\u001b[0m                                                  \u001b[0mcompute_map\u001b[0m\u001b[1;33m,\u001b[0m\u001b[1;33m\u001b[0m\u001b[0m\n\u001b[1;32m--> 897\u001b[1;33m                                                  no_recycling))\n\u001b[0m\u001b[0;32m    898\u001b[0m                 \u001b[1;32mif\u001b[0m \u001b[1;32mnot\u001b[0m \u001b[0mhasattr\u001b[0m\u001b[1;33m(\u001b[0m\u001b[0mthunks\u001b[0m\u001b[1;33m[\u001b[0m\u001b[1;33m-\u001b[0m\u001b[1;36m1\u001b[0m\u001b[1;33m]\u001b[0m\u001b[1;33m,\u001b[0m \u001b[1;34m'lazy'\u001b[0m\u001b[1;33m)\u001b[0m\u001b[1;33m:\u001b[0m\u001b[1;33m\u001b[0m\u001b[0m\n\u001b[0;32m    899\u001b[0m                     \u001b[1;31m# We don't want all ops maker to think about lazy Ops.\u001b[0m\u001b[1;33m\u001b[0m\u001b[1;33m\u001b[0m\u001b[0m\n",
      "\u001b[1;32mC:\\Users\\Back_jud\\Anaconda2\\lib\\site-packages\\theano\\sandbox\\cuda\\__init__.pyc\u001b[0m in \u001b[0;36mmake_thunk\u001b[1;34m(self, node, storage_map, compute_map, no_recycling)\u001b[0m\n\u001b[0;32m    257\u001b[0m                                     enable_cuda=False)\n\u001b[0;32m    258\u001b[0m         return super(GpuOp, self).make_thunk(node, storage_map,\n\u001b[1;32m--> 259\u001b[1;33m                                              compute_map, no_recycling)\n\u001b[0m\u001b[0;32m    260\u001b[0m \u001b[1;33m\u001b[0m\u001b[0m\n\u001b[0;32m    261\u001b[0m theano.compile.debugmode.default_make_thunk.append(\n",
      "\u001b[1;32mC:\\Users\\Back_jud\\Anaconda2\\lib\\site-packages\\theano\\gof\\op.pyc\u001b[0m in \u001b[0;36mmake_thunk\u001b[1;34m(self, node, storage_map, compute_map, no_recycling)\u001b[0m\n\u001b[0;32m    737\u001b[0m                 \u001b[0mlogger\u001b[0m\u001b[1;33m.\u001b[0m\u001b[0mdebug\u001b[0m\u001b[1;33m(\u001b[0m\u001b[1;34m'Trying CLinker.make_thunk'\u001b[0m\u001b[1;33m)\u001b[0m\u001b[1;33m\u001b[0m\u001b[0m\n\u001b[0;32m    738\u001b[0m                 outputs = cl.make_thunk(input_storage=node_input_storage,\n\u001b[1;32m--> 739\u001b[1;33m                                         output_storage=node_output_storage)\n\u001b[0m\u001b[0;32m    740\u001b[0m                 \u001b[0mfill_storage\u001b[0m\u001b[1;33m,\u001b[0m \u001b[0mnode_input_filters\u001b[0m\u001b[1;33m,\u001b[0m \u001b[0mnode_output_filters\u001b[0m \u001b[1;33m=\u001b[0m \u001b[0moutputs\u001b[0m\u001b[1;33m\u001b[0m\u001b[0m\n\u001b[0;32m    741\u001b[0m \u001b[1;33m\u001b[0m\u001b[0m\n",
      "\u001b[1;32mC:\\Users\\Back_jud\\Anaconda2\\lib\\site-packages\\theano\\gof\\cc.pyc\u001b[0m in \u001b[0;36mmake_thunk\u001b[1;34m(self, input_storage, output_storage, keep_lock)\u001b[0m\n\u001b[0;32m   1071\u001b[0m         cthunk, in_storage, out_storage, error_storage = self.__compile__(\n\u001b[0;32m   1072\u001b[0m             \u001b[0minput_storage\u001b[0m\u001b[1;33m,\u001b[0m \u001b[0moutput_storage\u001b[0m\u001b[1;33m,\u001b[0m\u001b[1;33m\u001b[0m\u001b[0m\n\u001b[1;32m-> 1073\u001b[1;33m             keep_lock=keep_lock)\n\u001b[0m\u001b[0;32m   1074\u001b[0m \u001b[1;33m\u001b[0m\u001b[0m\n\u001b[0;32m   1075\u001b[0m         \u001b[0mres\u001b[0m \u001b[1;33m=\u001b[0m \u001b[0m_CThunk\u001b[0m\u001b[1;33m(\u001b[0m\u001b[0mcthunk\u001b[0m\u001b[1;33m,\u001b[0m \u001b[0minit_tasks\u001b[0m\u001b[1;33m,\u001b[0m \u001b[0mtasks\u001b[0m\u001b[1;33m,\u001b[0m \u001b[0merror_storage\u001b[0m\u001b[1;33m)\u001b[0m\u001b[1;33m\u001b[0m\u001b[0m\n",
      "\u001b[1;32mC:\\Users\\Back_jud\\Anaconda2\\lib\\site-packages\\theano\\gof\\cc.pyc\u001b[0m in \u001b[0;36m__compile__\u001b[1;34m(self, input_storage, output_storage, keep_lock)\u001b[0m\n\u001b[0;32m   1013\u001b[0m                                     \u001b[0minput_storage\u001b[0m\u001b[1;33m,\u001b[0m\u001b[1;33m\u001b[0m\u001b[0m\n\u001b[0;32m   1014\u001b[0m                                     \u001b[0moutput_storage\u001b[0m\u001b[1;33m,\u001b[0m\u001b[1;33m\u001b[0m\u001b[0m\n\u001b[1;32m-> 1015\u001b[1;33m                                     keep_lock=keep_lock)\n\u001b[0m\u001b[0;32m   1016\u001b[0m         return (thunk,\n\u001b[0;32m   1017\u001b[0m                 [link.Container(input, storage) for input, storage in\n",
      "\u001b[1;32mC:\\Users\\Back_jud\\Anaconda2\\lib\\site-packages\\theano\\gof\\cc.pyc\u001b[0m in \u001b[0;36mcthunk_factory\u001b[1;34m(self, error_storage, in_storage, out_storage, keep_lock)\u001b[0m\n\u001b[0;32m   1440\u001b[0m         \u001b[1;32melse\u001b[0m\u001b[1;33m:\u001b[0m\u001b[1;33m\u001b[0m\u001b[0m\n\u001b[0;32m   1441\u001b[0m             module = get_module_cache().module_from_key(\n\u001b[1;32m-> 1442\u001b[1;33m                 key=key, lnk=self, keep_lock=keep_lock)\n\u001b[0m\u001b[0;32m   1443\u001b[0m \u001b[1;33m\u001b[0m\u001b[0m\n\u001b[0;32m   1444\u001b[0m         \u001b[0mvars\u001b[0m \u001b[1;33m=\u001b[0m \u001b[0mself\u001b[0m\u001b[1;33m.\u001b[0m\u001b[0minputs\u001b[0m \u001b[1;33m+\u001b[0m \u001b[0mself\u001b[0m\u001b[1;33m.\u001b[0m\u001b[0moutputs\u001b[0m \u001b[1;33m+\u001b[0m \u001b[0mself\u001b[0m\u001b[1;33m.\u001b[0m\u001b[0morphans\u001b[0m\u001b[1;33m\u001b[0m\u001b[0m\n",
      "\u001b[1;32mC:\\Users\\Back_jud\\Anaconda2\\lib\\site-packages\\theano\\gof\\cmodule.pyc\u001b[0m in \u001b[0;36mmodule_from_key\u001b[1;34m(self, key, lnk, keep_lock)\u001b[0m\n\u001b[0;32m   1074\u001b[0m             \u001b[1;32mtry\u001b[0m\u001b[1;33m:\u001b[0m\u001b[1;33m\u001b[0m\u001b[0m\n\u001b[0;32m   1075\u001b[0m                 \u001b[0mlocation\u001b[0m \u001b[1;33m=\u001b[0m \u001b[0mdlimport_workdir\u001b[0m\u001b[1;33m(\u001b[0m\u001b[0mself\u001b[0m\u001b[1;33m.\u001b[0m\u001b[0mdirname\u001b[0m\u001b[1;33m)\u001b[0m\u001b[1;33m\u001b[0m\u001b[0m\n\u001b[1;32m-> 1076\u001b[1;33m                 \u001b[0mmodule\u001b[0m \u001b[1;33m=\u001b[0m \u001b[0mlnk\u001b[0m\u001b[1;33m.\u001b[0m\u001b[0mcompile_cmodule\u001b[0m\u001b[1;33m(\u001b[0m\u001b[0mlocation\u001b[0m\u001b[1;33m)\u001b[0m\u001b[1;33m\u001b[0m\u001b[0m\n\u001b[0m\u001b[0;32m   1077\u001b[0m                 \u001b[0mname\u001b[0m \u001b[1;33m=\u001b[0m \u001b[0mmodule\u001b[0m\u001b[1;33m.\u001b[0m\u001b[0m__file__\u001b[0m\u001b[1;33m\u001b[0m\u001b[0m\n\u001b[0;32m   1078\u001b[0m                 \u001b[1;32massert\u001b[0m \u001b[0mname\u001b[0m\u001b[1;33m.\u001b[0m\u001b[0mstartswith\u001b[0m\u001b[1;33m(\u001b[0m\u001b[0mlocation\u001b[0m\u001b[1;33m)\u001b[0m\u001b[1;33m\u001b[0m\u001b[0m\n",
      "\u001b[1;32mC:\\Users\\Back_jud\\Anaconda2\\lib\\site-packages\\theano\\gof\\cc.pyc\u001b[0m in \u001b[0;36mcompile_cmodule\u001b[1;34m(self, location)\u001b[0m\n\u001b[0;32m   1352\u001b[0m                 \u001b[0mlib_dirs\u001b[0m\u001b[1;33m=\u001b[0m\u001b[0mself\u001b[0m\u001b[1;33m.\u001b[0m\u001b[0mlib_dirs\u001b[0m\u001b[1;33m(\u001b[0m\u001b[1;33m)\u001b[0m\u001b[1;33m,\u001b[0m\u001b[1;33m\u001b[0m\u001b[0m\n\u001b[0;32m   1353\u001b[0m                 \u001b[0mlibs\u001b[0m\u001b[1;33m=\u001b[0m\u001b[0mlibs\u001b[0m\u001b[1;33m,\u001b[0m\u001b[1;33m\u001b[0m\u001b[0m\n\u001b[1;32m-> 1354\u001b[1;33m                 preargs=preargs)\n\u001b[0m\u001b[0;32m   1355\u001b[0m         \u001b[1;32mexcept\u001b[0m \u001b[0mException\u001b[0m\u001b[1;33m,\u001b[0m \u001b[0me\u001b[0m\u001b[1;33m:\u001b[0m\u001b[1;33m\u001b[0m\u001b[0m\n\u001b[0;32m   1356\u001b[0m             \u001b[0me\u001b[0m\u001b[1;33m.\u001b[0m\u001b[0margs\u001b[0m \u001b[1;33m+=\u001b[0m \u001b[1;33m(\u001b[0m\u001b[0mstr\u001b[0m\u001b[1;33m(\u001b[0m\u001b[0mself\u001b[0m\u001b[1;33m.\u001b[0m\u001b[0mfgraph\u001b[0m\u001b[1;33m)\u001b[0m\u001b[1;33m,\u001b[0m\u001b[1;33m)\u001b[0m\u001b[1;33m\u001b[0m\u001b[0m\n",
      "\u001b[1;32mC:\\Users\\Back_jud\\Anaconda2\\lib\\site-packages\\theano\\sandbox\\cuda\\nvcc_compiler.pyc\u001b[0m in \u001b[0;36mcompile_str\u001b[1;34m(module_name, src_code, location, include_dirs, lib_dirs, libs, preargs, rpaths, py_module)\u001b[0m\n\u001b[0;32m    421\u001b[0m             \u001b[1;32mprint\u001b[0m \u001b[0mcmd\u001b[0m\u001b[1;33m\u001b[0m\u001b[0m\n\u001b[0;32m    422\u001b[0m             raise Exception('nvcc return status', p.returncode,\n\u001b[1;32m--> 423\u001b[1;33m                             'for cmd', ' '.join(cmd))\n\u001b[0m\u001b[0;32m    424\u001b[0m         \u001b[1;32melif\u001b[0m \u001b[0mconfig\u001b[0m\u001b[1;33m.\u001b[0m\u001b[0mcmodule\u001b[0m\u001b[1;33m.\u001b[0m\u001b[0mcompilation_warning\u001b[0m \u001b[1;32mand\u001b[0m \u001b[0mnvcc_stdout\u001b[0m\u001b[1;33m:\u001b[0m\u001b[1;33m\u001b[0m\u001b[0m\n\u001b[0;32m    425\u001b[0m             \u001b[1;32mprint\u001b[0m \u001b[0mnvcc_stdout\u001b[0m\u001b[1;33m\u001b[0m\u001b[0m\n",
      "\u001b[1;31mException\u001b[0m: ('The following error happened while compiling the node', GpuElemwise{mul,no_inplace}(GpuDimShuffle{0,x}.0, GpuDimShuffle{0,x}.0), '\\n', 'nvcc return status', 2, 'for cmd', 'nvcc -shared -O3 --maxrregcount=32 --use-local-env --cl-version=2013 -arch=sm_50 -Xlinker /DEBUG -D HAVE_ROUND -m64 -Xcompiler -DCUDA_NDARRAY_CUH=11b90075e2397c684f9dc0f7276eab8f,-D NPY_NO_DEPRECATED_API=NPY_1_7_API_VERSION,/Zi,/MD -IC:\\\\Users\\\\Back_jud\\\\AppData\\\\Local\\\\Theano\\\\compiledir_Windows-10-10.0.10586-Intel64_Family_6_Model_60_Stepping_3_GenuineIntel-2.7.11-64\\\\cuda_ndarray -INone\\\\include -IC:\\\\Users\\\\Back_jud\\\\Anaconda2\\\\lib\\\\site-packages\\\\numpy\\\\core\\\\include -IC:\\\\Users\\\\Back_jud\\\\Anaconda2\\\\include -IC:\\\\Users\\\\Back_jud\\\\Anaconda2\\\\lib\\\\site-packages\\\\theano\\\\sandbox\\\\cuda -o C:\\\\Users\\\\Back_jud\\\\AppData\\\\Local\\\\Theano\\\\compiledir_Windows-10-10.0.10586-Intel64_Family_6_Model_60_Stepping_3_GenuineIntel-2.7.11-64\\\\tmpcjsrra\\\\389b9024ba3d648cab13b2893b5cab02.pyd mod.cu -LC:\\\\Users\\\\Back_jud\\\\Anaconda2\\\\libs -LC:\\\\Users\\\\Back_jud\\\\AppData\\\\Local\\\\Theano\\\\compiledir_Windows-10-10.0.10586-Intel64_Family_6_Model_60_Stepping_3_GenuineIntel-2.7.11-64\\\\cuda_ndarray -LC:\\\\Users\\\\Back_jud\\\\Anaconda2 -lpython27 -lcudart -lcublas -lcuda_ndarray', '[GpuElemwise{mul,no_inplace}(<CudaNdarrayType(float32, col)>, <CudaNdarrayType(float32, col)>)]')"
     ]
    }
   ],
   "source": [
    "model1.add(Dense(50, input_dim=2500, activation=\"sigmoid\", init='uniform'))\n",
    "model1.add(Dense(1, activation=\"sigmoid\", init='uniform'))\n",
    "model1.compile(loss='categorical_crossentropy', optimizer=SGD())"
   ]
  },
  {
   "cell_type": "code",
   "execution_count": 20,
   "metadata": {
    "collapsed": false,
    "scrolled": true
   },
   "outputs": [
    {
     "data": {
      "text/plain": [
       "(62L, 2500L)"
      ]
     },
     "execution_count": 20,
     "metadata": {},
     "output_type": "execute_result"
    }
   ],
   "source": [
    "np.shape(x_tr)"
   ]
  },
  {
   "cell_type": "code",
   "execution_count": null,
   "metadata": {
    "collapsed": false
   },
   "outputs": [],
   "source": []
  },
  {
   "cell_type": "code",
   "execution_count": null,
   "metadata": {
    "collapsed": false
   },
   "outputs": [],
   "source": []
  },
  {
   "cell_type": "code",
   "execution_count": 34,
   "metadata": {
    "collapsed": false
   },
   "outputs": [],
   "source": [
    "y_tr = np.reshape(y_tr,(1,62))"
   ]
  },
  {
   "cell_type": "code",
   "execution_count": 35,
   "metadata": {
    "collapsed": false
   },
   "outputs": [
    {
     "data": {
      "text/plain": [
       "2"
      ]
     },
     "execution_count": 35,
     "metadata": {},
     "output_type": "execute_result"
    }
   ],
   "source": [
    "len([62]+[2500])"
   ]
  },
  {
   "cell_type": "code",
   "execution_count": 42,
   "metadata": {
    "collapsed": false
   },
   "outputs": [],
   "source": [
    "y_tr = np.reshape(y_tr,(62,1))"
   ]
  },
  {
   "cell_type": "code",
   "execution_count": 39,
   "metadata": {
    "collapsed": false
   },
   "outputs": [
    {
     "data": {
      "text/plain": [
       "{1, 2500}"
      ]
     },
     "execution_count": 39,
     "metadata": {},
     "output_type": "execute_result"
    }
   ],
   "source": [
    "set([len(x_tr[1])]+[len(y_tr)])"
   ]
  },
  {
   "cell_type": "code",
   "execution_count": 111,
   "metadata": {
    "collapsed": true
   },
   "outputs": [
    {
     "name": "stdout",
     "output_type": "stream",
     "text": [
      "Epoch 1/50\n"
     ]
    },
    {
     "ename": "ValueError",
     "evalue": "GpuElemwise. Input dimension mis-match. Input 1 (indices start at 0) has shape[1] == 1, but the output's size on that axis is 2.\nApply node that caused the error: GpuElemwise{sub,no_inplace}(GpuElemwise{scalar_sigmoid,no_inplace}.0, GpuFromHost.0)\nInputs types: [CudaNdarrayType(float32, matrix), CudaNdarrayType(float32, matrix)]\nInputs shapes: [(10, 2), (10, 1)]\nInputs strides: [(2, 1), (1, 0)]\nInputs values: ['not shown', 'not shown']\n\nHINT: Re-running with most Theano optimization disabled could give you a back-trace of when this node was created. This can be done with by setting the Theano flag 'optimizer=fast_compile'. If that does not work, Theano optimizations can be disabled with 'optimizer=None'.\nHINT: Use the Theano flag 'exception_verbosity=high' for a debugprint and storage map footprint of this apply node.",
     "output_type": "error",
     "traceback": [
      "\u001b[1;31m---------------------------------------------------------------------------\u001b[0m",
      "\u001b[1;31mValueError\u001b[0m                                Traceback (most recent call last)",
      "\u001b[1;32m<ipython-input-111-0d4d446ee9e2>\u001b[0m in \u001b[0;36m<module>\u001b[1;34m()\u001b[0m\n\u001b[1;32m----> 1\u001b[1;33m \u001b[0mget_ipython\u001b[0m\u001b[1;33m(\u001b[0m\u001b[1;33m)\u001b[0m\u001b[1;33m.\u001b[0m\u001b[0mmagic\u001b[0m\u001b[1;33m(\u001b[0m\u001b[1;34mu'time hist1 = model1.fit(np.array(x_tr), np.array(y_tr), nb_epoch=50, batch_size=10, show_accuracy=True)'\u001b[0m\u001b[1;33m)\u001b[0m\u001b[1;33m\u001b[0m\u001b[0m\n\u001b[0m",
      "\u001b[1;32mC:\\Users\\Back_jud\\Anaconda2\\lib\\site-packages\\IPython\\core\\interactiveshell.pyc\u001b[0m in \u001b[0;36mmagic\u001b[1;34m(self, arg_s)\u001b[0m\n\u001b[0;32m   2334\u001b[0m         \u001b[0mmagic_name\u001b[0m\u001b[1;33m,\u001b[0m \u001b[0m_\u001b[0m\u001b[1;33m,\u001b[0m \u001b[0mmagic_arg_s\u001b[0m \u001b[1;33m=\u001b[0m \u001b[0marg_s\u001b[0m\u001b[1;33m.\u001b[0m\u001b[0mpartition\u001b[0m\u001b[1;33m(\u001b[0m\u001b[1;34m' '\u001b[0m\u001b[1;33m)\u001b[0m\u001b[1;33m\u001b[0m\u001b[0m\n\u001b[0;32m   2335\u001b[0m         \u001b[0mmagic_name\u001b[0m \u001b[1;33m=\u001b[0m \u001b[0mmagic_name\u001b[0m\u001b[1;33m.\u001b[0m\u001b[0mlstrip\u001b[0m\u001b[1;33m(\u001b[0m\u001b[0mprefilter\u001b[0m\u001b[1;33m.\u001b[0m\u001b[0mESC_MAGIC\u001b[0m\u001b[1;33m)\u001b[0m\u001b[1;33m\u001b[0m\u001b[0m\n\u001b[1;32m-> 2336\u001b[1;33m         \u001b[1;32mreturn\u001b[0m \u001b[0mself\u001b[0m\u001b[1;33m.\u001b[0m\u001b[0mrun_line_magic\u001b[0m\u001b[1;33m(\u001b[0m\u001b[0mmagic_name\u001b[0m\u001b[1;33m,\u001b[0m \u001b[0mmagic_arg_s\u001b[0m\u001b[1;33m)\u001b[0m\u001b[1;33m\u001b[0m\u001b[0m\n\u001b[0m\u001b[0;32m   2337\u001b[0m \u001b[1;33m\u001b[0m\u001b[0m\n\u001b[0;32m   2338\u001b[0m     \u001b[1;31m#-------------------------------------------------------------------------\u001b[0m\u001b[1;33m\u001b[0m\u001b[1;33m\u001b[0m\u001b[0m\n",
      "\u001b[1;32mC:\\Users\\Back_jud\\Anaconda2\\lib\\site-packages\\IPython\\core\\interactiveshell.pyc\u001b[0m in \u001b[0;36mrun_line_magic\u001b[1;34m(self, magic_name, line)\u001b[0m\n\u001b[0;32m   2255\u001b[0m                 \u001b[0mkwargs\u001b[0m\u001b[1;33m[\u001b[0m\u001b[1;34m'local_ns'\u001b[0m\u001b[1;33m]\u001b[0m \u001b[1;33m=\u001b[0m \u001b[0msys\u001b[0m\u001b[1;33m.\u001b[0m\u001b[0m_getframe\u001b[0m\u001b[1;33m(\u001b[0m\u001b[0mstack_depth\u001b[0m\u001b[1;33m)\u001b[0m\u001b[1;33m.\u001b[0m\u001b[0mf_locals\u001b[0m\u001b[1;33m\u001b[0m\u001b[0m\n\u001b[0;32m   2256\u001b[0m             \u001b[1;32mwith\u001b[0m \u001b[0mself\u001b[0m\u001b[1;33m.\u001b[0m\u001b[0mbuiltin_trap\u001b[0m\u001b[1;33m:\u001b[0m\u001b[1;33m\u001b[0m\u001b[0m\n\u001b[1;32m-> 2257\u001b[1;33m                 \u001b[0mresult\u001b[0m \u001b[1;33m=\u001b[0m \u001b[0mfn\u001b[0m\u001b[1;33m(\u001b[0m\u001b[1;33m*\u001b[0m\u001b[0margs\u001b[0m\u001b[1;33m,\u001b[0m\u001b[1;33m**\u001b[0m\u001b[0mkwargs\u001b[0m\u001b[1;33m)\u001b[0m\u001b[1;33m\u001b[0m\u001b[0m\n\u001b[0m\u001b[0;32m   2258\u001b[0m             \u001b[1;32mreturn\u001b[0m \u001b[0mresult\u001b[0m\u001b[1;33m\u001b[0m\u001b[0m\n\u001b[0;32m   2259\u001b[0m \u001b[1;33m\u001b[0m\u001b[0m\n",
      "\u001b[1;32m<decorator-gen-61>\u001b[0m in \u001b[0;36mtime\u001b[1;34m(self, line, cell, local_ns)\u001b[0m\n",
      "\u001b[1;32mC:\\Users\\Back_jud\\Anaconda2\\lib\\site-packages\\IPython\\core\\magic.pyc\u001b[0m in \u001b[0;36m<lambda>\u001b[1;34m(f, *a, **k)\u001b[0m\n\u001b[0;32m    191\u001b[0m     \u001b[1;31m# but it's overkill for just that one bit of state.\u001b[0m\u001b[1;33m\u001b[0m\u001b[1;33m\u001b[0m\u001b[0m\n\u001b[0;32m    192\u001b[0m     \u001b[1;32mdef\u001b[0m \u001b[0mmagic_deco\u001b[0m\u001b[1;33m(\u001b[0m\u001b[0marg\u001b[0m\u001b[1;33m)\u001b[0m\u001b[1;33m:\u001b[0m\u001b[1;33m\u001b[0m\u001b[0m\n\u001b[1;32m--> 193\u001b[1;33m         \u001b[0mcall\u001b[0m \u001b[1;33m=\u001b[0m \u001b[1;32mlambda\u001b[0m \u001b[0mf\u001b[0m\u001b[1;33m,\u001b[0m \u001b[1;33m*\u001b[0m\u001b[0ma\u001b[0m\u001b[1;33m,\u001b[0m \u001b[1;33m**\u001b[0m\u001b[0mk\u001b[0m\u001b[1;33m:\u001b[0m \u001b[0mf\u001b[0m\u001b[1;33m(\u001b[0m\u001b[1;33m*\u001b[0m\u001b[0ma\u001b[0m\u001b[1;33m,\u001b[0m \u001b[1;33m**\u001b[0m\u001b[0mk\u001b[0m\u001b[1;33m)\u001b[0m\u001b[1;33m\u001b[0m\u001b[0m\n\u001b[0m\u001b[0;32m    194\u001b[0m \u001b[1;33m\u001b[0m\u001b[0m\n\u001b[0;32m    195\u001b[0m         \u001b[1;32mif\u001b[0m \u001b[0mcallable\u001b[0m\u001b[1;33m(\u001b[0m\u001b[0marg\u001b[0m\u001b[1;33m)\u001b[0m\u001b[1;33m:\u001b[0m\u001b[1;33m\u001b[0m\u001b[0m\n",
      "\u001b[1;32mC:\\Users\\Back_jud\\Anaconda2\\lib\\site-packages\\IPython\\core\\magics\\execution.pyc\u001b[0m in \u001b[0;36mtime\u001b[1;34m(self, line, cell, local_ns)\u001b[0m\n\u001b[0;32m   1165\u001b[0m         \u001b[1;32melse\u001b[0m\u001b[1;33m:\u001b[0m\u001b[1;33m\u001b[0m\u001b[0m\n\u001b[0;32m   1166\u001b[0m             \u001b[0mst\u001b[0m \u001b[1;33m=\u001b[0m \u001b[0mclock2\u001b[0m\u001b[1;33m(\u001b[0m\u001b[1;33m)\u001b[0m\u001b[1;33m\u001b[0m\u001b[0m\n\u001b[1;32m-> 1167\u001b[1;33m             \u001b[1;32mexec\u001b[0m\u001b[1;33m(\u001b[0m\u001b[0mcode\u001b[0m\u001b[1;33m,\u001b[0m \u001b[0mglob\u001b[0m\u001b[1;33m,\u001b[0m \u001b[0mlocal_ns\u001b[0m\u001b[1;33m)\u001b[0m\u001b[1;33m\u001b[0m\u001b[0m\n\u001b[0m\u001b[0;32m   1168\u001b[0m             \u001b[0mend\u001b[0m \u001b[1;33m=\u001b[0m \u001b[0mclock2\u001b[0m\u001b[1;33m(\u001b[0m\u001b[1;33m)\u001b[0m\u001b[1;33m\u001b[0m\u001b[0m\n\u001b[0;32m   1169\u001b[0m             \u001b[0mout\u001b[0m \u001b[1;33m=\u001b[0m \u001b[0mNone\u001b[0m\u001b[1;33m\u001b[0m\u001b[0m\n",
      "\u001b[1;32m<timed exec>\u001b[0m in \u001b[0;36m<module>\u001b[1;34m()\u001b[0m\n",
      "\u001b[1;32mC:\\Users\\Back_jud\\Anaconda2\\lib\\site-packages\\keras\\models.pyc\u001b[0m in \u001b[0;36mfit\u001b[1;34m(self, X, y, batch_size, nb_epoch, verbose, callbacks, validation_split, validation_data, shuffle, show_accuracy, class_weight, sample_weight)\u001b[0m\n\u001b[0;32m    644\u001b[0m                          \u001b[0mverbose\u001b[0m\u001b[1;33m=\u001b[0m\u001b[0mverbose\u001b[0m\u001b[1;33m,\u001b[0m \u001b[0mcallbacks\u001b[0m\u001b[1;33m=\u001b[0m\u001b[0mcallbacks\u001b[0m\u001b[1;33m,\u001b[0m\u001b[1;33m\u001b[0m\u001b[0m\n\u001b[0;32m    645\u001b[0m                          \u001b[0mval_f\u001b[0m\u001b[1;33m=\u001b[0m\u001b[0mval_f\u001b[0m\u001b[1;33m,\u001b[0m \u001b[0mval_ins\u001b[0m\u001b[1;33m=\u001b[0m\u001b[0mval_ins\u001b[0m\u001b[1;33m,\u001b[0m\u001b[1;33m\u001b[0m\u001b[0m\n\u001b[1;32m--> 646\u001b[1;33m                          shuffle=shuffle, metrics=metrics)\n\u001b[0m\u001b[0;32m    647\u001b[0m \u001b[1;33m\u001b[0m\u001b[0m\n\u001b[0;32m    648\u001b[0m     \u001b[1;32mdef\u001b[0m \u001b[0mpredict\u001b[0m\u001b[1;33m(\u001b[0m\u001b[0mself\u001b[0m\u001b[1;33m,\u001b[0m \u001b[0mX\u001b[0m\u001b[1;33m,\u001b[0m \u001b[0mbatch_size\u001b[0m\u001b[1;33m=\u001b[0m\u001b[1;36m128\u001b[0m\u001b[1;33m,\u001b[0m \u001b[0mverbose\u001b[0m\u001b[1;33m=\u001b[0m\u001b[1;36m0\u001b[0m\u001b[1;33m)\u001b[0m\u001b[1;33m:\u001b[0m\u001b[1;33m\u001b[0m\u001b[0m\n",
      "\u001b[1;32mC:\\Users\\Back_jud\\Anaconda2\\lib\\site-packages\\keras\\models.pyc\u001b[0m in \u001b[0;36m_fit\u001b[1;34m(self, f, ins, out_labels, batch_size, nb_epoch, verbose, callbacks, val_f, val_ins, shuffle, metrics)\u001b[0m\n\u001b[0;32m    278\u001b[0m                 \u001b[0mbatch_logs\u001b[0m\u001b[1;33m[\u001b[0m\u001b[1;34m'size'\u001b[0m\u001b[1;33m]\u001b[0m \u001b[1;33m=\u001b[0m \u001b[0mlen\u001b[0m\u001b[1;33m(\u001b[0m\u001b[0mbatch_ids\u001b[0m\u001b[1;33m)\u001b[0m\u001b[1;33m\u001b[0m\u001b[0m\n\u001b[0;32m    279\u001b[0m                 \u001b[0mcallbacks\u001b[0m\u001b[1;33m.\u001b[0m\u001b[0mon_batch_begin\u001b[0m\u001b[1;33m(\u001b[0m\u001b[0mbatch_index\u001b[0m\u001b[1;33m,\u001b[0m \u001b[0mbatch_logs\u001b[0m\u001b[1;33m)\u001b[0m\u001b[1;33m\u001b[0m\u001b[0m\n\u001b[1;32m--> 280\u001b[1;33m                 \u001b[0mouts\u001b[0m \u001b[1;33m=\u001b[0m \u001b[0mf\u001b[0m\u001b[1;33m(\u001b[0m\u001b[0mins_batch\u001b[0m\u001b[1;33m)\u001b[0m\u001b[1;33m\u001b[0m\u001b[0m\n\u001b[0m\u001b[0;32m    281\u001b[0m                 \u001b[1;32mif\u001b[0m \u001b[0mtype\u001b[0m\u001b[1;33m(\u001b[0m\u001b[0mouts\u001b[0m\u001b[1;33m)\u001b[0m \u001b[1;33m!=\u001b[0m \u001b[0mlist\u001b[0m\u001b[1;33m:\u001b[0m\u001b[1;33m\u001b[0m\u001b[0m\n\u001b[0;32m    282\u001b[0m                     \u001b[0mouts\u001b[0m \u001b[1;33m=\u001b[0m \u001b[1;33m[\u001b[0m\u001b[0mouts\u001b[0m\u001b[1;33m]\u001b[0m\u001b[1;33m\u001b[0m\u001b[0m\n",
      "\u001b[1;32mC:\\Users\\Back_jud\\Anaconda2\\lib\\site-packages\\keras\\backend\\theano_backend.pyc\u001b[0m in \u001b[0;36m__call__\u001b[1;34m(self, inputs)\u001b[0m\n\u001b[0;32m    382\u001b[0m     \u001b[1;32mdef\u001b[0m \u001b[0m__call__\u001b[0m\u001b[1;33m(\u001b[0m\u001b[0mself\u001b[0m\u001b[1;33m,\u001b[0m \u001b[0minputs\u001b[0m\u001b[1;33m)\u001b[0m\u001b[1;33m:\u001b[0m\u001b[1;33m\u001b[0m\u001b[0m\n\u001b[0;32m    383\u001b[0m         \u001b[1;32massert\u001b[0m \u001b[0mtype\u001b[0m\u001b[1;33m(\u001b[0m\u001b[0minputs\u001b[0m\u001b[1;33m)\u001b[0m \u001b[1;32min\u001b[0m \u001b[1;33m{\u001b[0m\u001b[0mlist\u001b[0m\u001b[1;33m,\u001b[0m \u001b[0mtuple\u001b[0m\u001b[1;33m}\u001b[0m\u001b[1;33m\u001b[0m\u001b[0m\n\u001b[1;32m--> 384\u001b[1;33m         \u001b[1;32mreturn\u001b[0m \u001b[0mself\u001b[0m\u001b[1;33m.\u001b[0m\u001b[0mfunction\u001b[0m\u001b[1;33m(\u001b[0m\u001b[1;33m*\u001b[0m\u001b[0minputs\u001b[0m\u001b[1;33m)\u001b[0m\u001b[1;33m\u001b[0m\u001b[0m\n\u001b[0m\u001b[0;32m    385\u001b[0m \u001b[1;33m\u001b[0m\u001b[0m\n\u001b[0;32m    386\u001b[0m \u001b[1;33m\u001b[0m\u001b[0m\n",
      "\u001b[1;32mC:\\Users\\Back_jud\\Anaconda2\\lib\\site-packages\\theano\\compile\\function_module.pyc\u001b[0m in \u001b[0;36m__call__\u001b[1;34m(self, *args, **kwargs)\u001b[0m\n\u001b[0;32m    604\u001b[0m                         \u001b[0mself\u001b[0m\u001b[1;33m.\u001b[0m\u001b[0mfn\u001b[0m\u001b[1;33m.\u001b[0m\u001b[0mnodes\u001b[0m\u001b[1;33m[\u001b[0m\u001b[0mself\u001b[0m\u001b[1;33m.\u001b[0m\u001b[0mfn\u001b[0m\u001b[1;33m.\u001b[0m\u001b[0mposition_of_error\u001b[0m\u001b[1;33m]\u001b[0m\u001b[1;33m,\u001b[0m\u001b[1;33m\u001b[0m\u001b[0m\n\u001b[0;32m    605\u001b[0m                         \u001b[0mself\u001b[0m\u001b[1;33m.\u001b[0m\u001b[0mfn\u001b[0m\u001b[1;33m.\u001b[0m\u001b[0mthunks\u001b[0m\u001b[1;33m[\u001b[0m\u001b[0mself\u001b[0m\u001b[1;33m.\u001b[0m\u001b[0mfn\u001b[0m\u001b[1;33m.\u001b[0m\u001b[0mposition_of_error\u001b[0m\u001b[1;33m]\u001b[0m\u001b[1;33m,\u001b[0m\u001b[1;33m\u001b[0m\u001b[0m\n\u001b[1;32m--> 606\u001b[1;33m                         storage_map=self.fn.storage_map)\n\u001b[0m\u001b[0;32m    607\u001b[0m                 \u001b[1;32melse\u001b[0m\u001b[1;33m:\u001b[0m\u001b[1;33m\u001b[0m\u001b[0m\n\u001b[0;32m    608\u001b[0m                     \u001b[1;31m# For the c linker We don't have access from\u001b[0m\u001b[1;33m\u001b[0m\u001b[1;33m\u001b[0m\u001b[0m\n",
      "\u001b[1;32mC:\\Users\\Back_jud\\Anaconda2\\lib\\site-packages\\theano\\compile\\function_module.pyc\u001b[0m in \u001b[0;36m__call__\u001b[1;34m(self, *args, **kwargs)\u001b[0m\n\u001b[0;32m    593\u001b[0m         \u001b[0mt0_fn\u001b[0m \u001b[1;33m=\u001b[0m \u001b[0mtime\u001b[0m\u001b[1;33m.\u001b[0m\u001b[0mtime\u001b[0m\u001b[1;33m(\u001b[0m\u001b[1;33m)\u001b[0m\u001b[1;33m\u001b[0m\u001b[0m\n\u001b[0;32m    594\u001b[0m         \u001b[1;32mtry\u001b[0m\u001b[1;33m:\u001b[0m\u001b[1;33m\u001b[0m\u001b[0m\n\u001b[1;32m--> 595\u001b[1;33m             \u001b[0moutputs\u001b[0m \u001b[1;33m=\u001b[0m \u001b[0mself\u001b[0m\u001b[1;33m.\u001b[0m\u001b[0mfn\u001b[0m\u001b[1;33m(\u001b[0m\u001b[1;33m)\u001b[0m\u001b[1;33m\u001b[0m\u001b[0m\n\u001b[0m\u001b[0;32m    596\u001b[0m         \u001b[1;32mexcept\u001b[0m \u001b[0mException\u001b[0m\u001b[1;33m:\u001b[0m\u001b[1;33m\u001b[0m\u001b[0m\n\u001b[0;32m    597\u001b[0m             \u001b[1;32mif\u001b[0m \u001b[0mhasattr\u001b[0m\u001b[1;33m(\u001b[0m\u001b[0mself\u001b[0m\u001b[1;33m.\u001b[0m\u001b[0mfn\u001b[0m\u001b[1;33m,\u001b[0m \u001b[1;34m'position_of_error'\u001b[0m\u001b[1;33m)\u001b[0m\u001b[1;33m:\u001b[0m\u001b[1;33m\u001b[0m\u001b[0m\n",
      "\u001b[1;31mValueError\u001b[0m: GpuElemwise. Input dimension mis-match. Input 1 (indices start at 0) has shape[1] == 1, but the output's size on that axis is 2.\nApply node that caused the error: GpuElemwise{sub,no_inplace}(GpuElemwise{scalar_sigmoid,no_inplace}.0, GpuFromHost.0)\nInputs types: [CudaNdarrayType(float32, matrix), CudaNdarrayType(float32, matrix)]\nInputs shapes: [(10, 2), (10, 1)]\nInputs strides: [(2, 1), (1, 0)]\nInputs values: ['not shown', 'not shown']\n\nHINT: Re-running with most Theano optimization disabled could give you a back-trace of when this node was created. This can be done with by setting the Theano flag 'optimizer=fast_compile'. If that does not work, Theano optimizations can be disabled with 'optimizer=None'.\nHINT: Use the Theano flag 'exception_verbosity=high' for a debugprint and storage map footprint of this apply node."
     ]
    }
   ],
   "source": [
    "%time hist1 = model1.fit(np.array(x_tr), np.array(y_tr), nb_epoch=50, batch_size=10, show_accuracy=True)"
   ]
  },
  {
   "cell_type": "code",
   "execution_count": 105,
   "metadata": {
    "collapsed": false
   },
   "outputs": [
    {
     "data": {
      "text/plain": [
       "30"
      ]
     },
     "execution_count": 105,
     "metadata": {},
     "output_type": "execute_result"
    }
   ],
   "source": [
    "len(model1.get_weights()[10])"
   ]
  },
  {
   "cell_type": "code",
   "execution_count": 106,
   "metadata": {
    "collapsed": false
   },
   "outputs": [
    {
     "name": "stdout",
     "output_type": "stream",
     "text": [
      "18/18 [==============================] - 0s     \n"
     ]
    },
    {
     "data": {
      "text/plain": [
       "[0.26100993818706936, 1.0]"
      ]
     },
     "execution_count": 106,
     "metadata": {},
     "output_type": "execute_result"
    }
   ],
   "source": [
    "model1.evaluate(np.array(x_te),np.array(y_te),batch_size=2,show_accuracy=True)"
   ]
  },
  {
   "cell_type": "code",
   "execution_count": 108,
   "metadata": {
    "collapsed": false
   },
   "outputs": [
    {
     "data": {
      "text/plain": [
       "[1, 0, 0, 1, 1, 1, 0, 0, 0, 1, 1, 1, 0, 0, 1, 0, 0, 0]"
      ]
     },
     "execution_count": 108,
     "metadata": {},
     "output_type": "execute_result"
    }
   ],
   "source": [
    "y_te"
   ]
  },
  {
   "cell_type": "code",
   "execution_count": 109,
   "metadata": {
    "collapsed": false,
    "scrolled": true
   },
   "outputs": [
    {
     "name": "stdout",
     "output_type": "stream",
     "text": [
      "18/18 [==============================] - 0s     \n"
     ]
    },
    {
     "data": {
      "text/plain": [
       "array([0, 0, 0, 0, 0, 0, 0, 0, 0, 0, 0, 0, 0, 0, 0, 0, 0, 0], dtype=int64)"
      ]
     },
     "execution_count": 109,
     "metadata": {},
     "output_type": "execute_result"
    }
   ],
   "source": [
    "model1.predict_classes(np.array(x_te),2)"
   ]
  },
  {
   "cell_type": "code",
   "execution_count": 64,
   "metadata": {
    "collapsed": false,
    "scrolled": true
   },
   "outputs": [
    {
     "data": {
      "text/plain": [
       "[<matplotlib.lines.Line2D at 0x2f9deeb8>]"
      ]
     },
     "execution_count": 64,
     "metadata": {},
     "output_type": "execute_result"
    },
    {
     "data": {
      "image/png": "[encoded data removed]",
      "text/plain": [
       "<matplotlib.figure.Figure at 0x2d9ec9b0>"
      ]
     },
     "metadata": {},
     "output_type": "display_data"
    }
   ],
   "source": [
    "plt.plot(hist1.history['acc'])"
   ]
  },
  {
   "cell_type": "code",
   "execution_count": null,
   "metadata": {
    "collapsed": true
   },
   "outputs": [],
   "source": [
    "x_tr[0]"
   ]
  },
  {
   "cell_type": "code",
   "execution_count": null,
   "metadata": {
    "collapsed": false,
    "scrolled": true
   },
   "outputs": [],
   "source": [
    "len(x_tr[0].flatten())"
   ]
  },
  {
   "cell_type": "code",
   "execution_count": null,
   "metadata": {
    "collapsed": false
   },
   "outputs": [],
   "source": [
    "set([len(x_tr)]+[len(y_tr)])"
   ]
  },
  {
   "cell_type": "code",
   "execution_count": null,
   "metadata": {
    "collapsed": true
   },
   "outputs": [],
   "source": []
  }
 ],
 "metadata": {
  "kernelspec": {
   "display_name": "Python 2",
   "language": "python",
   "name": "python2"
  },
  "language_info": {
   "codemirror_mode": {
    "name": "ipython",
    "version": 2
   },
   "file_extension": ".py",
   "mimetype": "text/x-python",
   "name": "python",
   "nbconvert_exporter": "python",
   "pygments_lexer": "ipython2",
   "version": "2.7.11"
  }
 },
 "nbformat": 4,
 "nbformat_minor": 0
}
