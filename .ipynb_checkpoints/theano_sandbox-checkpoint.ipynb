{
 "cells": [
  {
   "cell_type": "code",
   "execution_count": 6,
   "metadata": {
    "collapsed": false,
    "scrolled": false
   },
   "outputs": [
    {
     "name": "stderr",
     "output_type": "stream",
     "text": [
      "Using gpu device 0: GeForce 940M (CNMeM is disabled, CuDNN not available)\n"
     ]
    }
   ],
   "source": [
    "import theano\n",
    "import theano.tensor as T\n",
    "import keras\n"
   ]
  },
  {
   "cell_type": "code",
   "execution_count": 7,
   "metadata": {
    "collapsed": true
   },
   "outputs": [],
   "source": [
    "from sklearn.metrics import classification_report"
   ]
  },
  {
   "cell_type": "code",
   "execution_count": 8,
   "metadata": {
    "collapsed": true
   },
   "outputs": [],
   "source": [
    "def cat2lab (x):\n",
    "    '''only for binary category'''\n",
    "    return [0 if s[0] else 1 for s in x]"
   ]
  },
  {
   "cell_type": "code",
   "execution_count": 55,
   "metadata": {
    "collapsed": true
   },
   "outputs": [
    {
     "name": "stdout",
     "output_type": "stream",
     "text": [
      "floatX (('float64', 'float32', 'float16')) \n",
      "    Doc:  Default floating-point precision for python casts.\n",
      "\n",
      "Note: float16 support is experimental, use at your own risk.\n",
      "    Value:  float32\n",
      "\n",
      "warn_float64 (('ignore', 'warn', 'raise', 'pdb')) \n",
      "    Doc:  Do an action when a tensor variable with float64 dtype is created. They can't be run on the GPU with the current(old) gpu back-end and are slow with gamer GPUs.\n",
      "    Value:  ignore\n",
      "\n",
      "cast_policy (('custom', 'numpy+floatX')) \n",
      "    Doc:  Rules for implicit type casting\n",
      "    Value:  custom\n",
      "\n",
      "int_division (('int', 'raise', 'floatX')) \n",
      "    Doc:  What to do when one computes x / y, where both x and y are of integer types\n",
      "    Value:  int\n",
      "\n",
      "device (cpu, gpu*, opencl*, cuda*) \n",
      "    Doc:  Default device for computations. If gpu*, change the default to try to move computation to it and to put shared variable of float32 on it. Do not use upper case letters, only lower case even if NVIDIA use capital letters.\n",
      "    Value:  gpu\n",
      "\n",
      "init_gpu_device (, gpu*, opencl*, cuda*) \n",
      "    Doc:  Initialize the gpu device to use, works only if device=cpu. Unlike 'device', setting this option will NOT move computations, nor shared variables, to the specified GPU. It can be used to run GPU-specific tests on a particular GPU.\n",
      "    Value:  \n",
      "\n",
      "force_device (<function booltype at 0x0000000016EF50B8>) \n",
      "    Doc:  Raise an error if we can't use the specified device\n",
      "    Value:  False\n",
      "\n",
      "<theano.configdefaults.ContextsParam object at 0x0000000017015C88>\n",
      "    Doc:  \n",
      "    Context map for multi-gpu operation. Format is a\n",
      "    semicolon-separated list of names and device names in the\n",
      "    'name->dev_name' format. An example that would map name 'test' to\n",
      "    device 'cuda0' and name 'test2' to device 'opencl0:0' follows:\n",
      "    \"test->cuda0;test2->opencl0:0\".\n",
      "\n",
      "    Invalid context names are 'cpu', 'cuda*' and 'opencl*'\n",
      "    \n",
      "    Value:  \n",
      "\n",
      "print_active_device (<function booltype at 0x0000000016EF52E8>) \n",
      "    Doc:  Print active device at when the GPU device is initialized.\n",
      "    Value:  True\n",
      "\n",
      "enable_initial_driver_test (<function booltype at 0x0000000016EF5438>) \n",
      "    Doc:  Tests the nvidia driver when a GPU device is initialized.\n",
      "    Value:  True\n",
      "\n",
      "cuda.root (<type 'str'>) \n",
      "    Doc:  directory with bin/, lib/, include/ for cuda utilities.\n",
      "       This directory is included via -L and -rpath when linking\n",
      "       dynamically compiled modules.  If AUTO and nvcc is in the\n",
      "       path, it will use one of nvcc parent directory.  Otherwise\n",
      "       /usr/local/cuda will be used.  Leave empty to prevent extra\n",
      "       linker directives.  Default: environment variable \"CUDA_ROOT\"\n",
      "       or else \"AUTO\".\n",
      "       \n",
      "    Value:  \n",
      "\n",
      "<theano.configparser.ConfigParam object at 0x0000000016F1FDA0>\n",
      "    Doc:  Extra compiler flags for nvcc\n",
      "    Value:  --use-local-env --cl-version=2013\n",
      "\n",
      "nvcc.compiler_bindir (<type 'str'>) \n",
      "    Doc:  If defined, nvcc compiler driver will seek g++ and gcc in this directory\n",
      "    Value:  \n",
      "\n",
      "nvcc.fastmath (<function booltype at 0x0000000016EF5748>) \n",
      "    Doc:  \n",
      "    Value:  False\n",
      "\n",
      "gpuarray.sync (<function booltype at 0x0000000016EF5898>) \n",
      "    Doc:  If True, every op will make sure its work is done before\n",
      "                returning.  Setting this to True will slow down execution,\n",
      "                but give much more accurate results in profiling.\n",
      "    Value:  False\n",
      "\n",
      "gpuarray.preallocate (<type 'float'>) \n",
      "    Doc:  If 0 it doesn't do anything.  If between 0 and 1 it\n",
      "             will preallocate that fraction of the total GPU memory.\n",
      "             If 1 or greater it will preallocate that amount of memory\n",
      "             (in megabytes).\n",
      "    Value:  0.0\n",
      "\n",
      "<theano.configparser.ConfigParam object at 0x0000000016F07390>\n",
      "    Doc:  This flag is deprecated; use dnn.conv.algo_fwd.\n",
      "    Value:  True\n",
      "\n",
      "<theano.configparser.ConfigParam object at 0x0000000016F07588>\n",
      "    Doc:  This flag is deprecated; use dnn.conv.algo_bwd.\n",
      "    Value:  True\n",
      "\n",
      "<theano.configparser.ConfigParam object at 0x0000000016F075F8>\n",
      "    Doc:  This flag is deprecated; use dnn.conv.algo_bwd_data and dnn.conv.algo_bwd_filter.\n",
      "    Value:  True\n",
      "\n",
      "dnn.conv.algo_fwd (('small', 'none', 'large', 'fft', 'fft_tiling', 'guess_once', 'guess_on_shape_change', 'time_once', 'time_on_shape_change')) \n",
      "    Doc:  Default implementation to use for CuDNN forward convolution.\n",
      "    Value:  small\n",
      "\n",
      "dnn.conv.algo_bwd_data (('none', 'deterministic', 'fft', 'fft_tiling', 'guess_once', 'guess_on_shape_change', 'time_once', 'time_on_shape_change')) \n",
      "    Doc:  Default implementation to use for CuDNN backward convolution to get the gradients of the convolution with regard to the inputs.\n",
      "    Value:  none\n",
      "\n",
      "dnn.conv.algo_bwd_filter (('none', 'deterministic', 'fft', 'small', 'guess_once', 'guess_on_shape_change', 'time_once', 'time_on_shape_change')) \n",
      "    Doc:  Default implementation to use for CuDNN backward convolution to get the gradients of the convolution with regard to the filters.\n",
      "    Value:  none\n",
      "\n",
      "dnn.conv.precision (('as_input', 'float16', 'float32', 'float64')) \n",
      "    Doc:  Default data precision to use for the computation in CuDNN convolutions (defaults to the same dtype as the inputs of the convolutions).\n",
      "    Value:  as_input\n",
      "\n",
      "dnn.include_path (<type 'str'>) \n",
      "    Doc:  Location of the cudnn header (defaults to the cuda root)\n",
      "    Value:  \n",
      "\n",
      "dnn.library_path (<type 'str'>) \n",
      "    Doc:  Location of the cudnn header (defaults to the cuda root)\n",
      "    Value:  \n",
      "\n",
      "dnn.enabled (<type 'str'>) \n",
      "    Doc:  'auto', use CuDNN if available, but silently fall back to not using it if not present. If True and CuDNN can not be used, raise an error. If False, disable cudnn\n",
      "    Value:  auto\n",
      "\n",
      "assert_no_cpu_op (('ignore', 'warn', 'raise', 'pdb')) \n",
      "    Doc:  Raise an error/warning if there is a CPU op in the computational graph.\n",
      "    Value:  ignore\n",
      "\n",
      "mode (('Mode', 'ProfileMode', 'DebugMode', 'FAST_RUN', 'NanGuardMode', 'FAST_COMPILE', 'PROFILE_MODE', 'DEBUG_MODE')) \n",
      "    Doc:  Default compilation mode\n",
      "    Value:  Mode\n",
      "\n",
      "cxx (<type 'str'>) \n",
      "    Doc:  The C++ compiler to use. Currently only g++ is supported, but supporting additional compilers should not be too difficult. If it is empty, no C++ code is compiled.\n",
      "    Value:  C:\\Users\\Back_jud\\Anaconda2\\Scripts\\g++.bat\n",
      "\n",
      "linker (('cvm', 'c|py', 'py', 'c', 'c|py_nogc', 'vm', 'vm_nogc', 'cvm_nogc')) \n",
      "    Doc:  Default linker used if the theano flags mode is Mode or ProfileMode(deprecated)\n",
      "    Value:  cvm\n",
      "\n",
      "allow_gc (<function booltype at 0x0000000016EF16D8>) \n",
      "    Doc:  Do we default to delete intermediate results during Theano function calls? Doing so lowers the memory requirement, but asks that we reallocate memory at the next function call. This is implemented for the default linker, but may not work for all linkers.\n",
      "    Value:  True\n",
      "\n",
      "optimizer (('fast_run', 'merge', 'fast_compile', 'None')) \n",
      "    Doc:  Default optimizer. If not None, will use this linker with the Mode object (not ProfileMode(deprecated) or DebugMode)\n",
      "    Value:  fast_run\n",
      "\n",
      "optimizer_verbose (<function booltype at 0x0000000016EF1898>) \n",
      "    Doc:  If True, we print all optimization being applied\n",
      "    Value:  False\n",
      "\n",
      "on_opt_error (('warn', 'raise', 'pdb', 'ignore')) \n",
      "    Doc:  What to do when an optimization crashes: warn and skip it, raise the exception, or fall into the pdb debugger.\n",
      "    Value:  warn\n",
      "\n",
      "<theano.configparser.ConfigParam object at 0x0000000016F00780>\n",
      "    Doc:  This config option was removed in 0.5: do not use it!\n",
      "    Value:  True\n",
      "\n",
      "nocleanup (<function booltype at 0x0000000016EF1AC8>) \n",
      "    Doc:  Suppress the deletion of code files that did not compile cleanly\n",
      "    Value:  False\n",
      "\n",
      "on_unused_input (('raise', 'warn', 'ignore')) \n",
      "    Doc:  What to do if a variable in the 'inputs' list of  theano.function() is not used in the graph.\n",
      "    Value:  raise\n",
      "\n",
      "tensor.cmp_sloppy (<type 'int'>) \n",
      "    Doc:  Relax tensor._allclose (0) not at all, (1) a bit, (2) more\n",
      "    Value:  0\n",
      "\n",
      "tensor.local_elemwise_fusion (<function booltype at 0x0000000016EF1D68>) \n",
      "    Doc:  Enable or not in fast_run mode(fast_run optimization) the elemwise fusion optimization\n",
      "    Value:  True\n",
      "\n",
      "gpu.local_elemwise_fusion (<function booltype at 0x0000000016EF1EB8>) \n",
      "    Doc:  Enable or not in fast_run mode(fast_run optimization) the gpu elemwise fusion optimization\n",
      "    Value:  True\n",
      "\n",
      "lib.amdlibm (<function booltype at 0x0000000016EE4048>) \n",
      "    Doc:  Use amd's amdlibm numerical library\n",
      "    Value:  False\n",
      "\n",
      "gpuelemwise.sync (<function booltype at 0x0000000016EE4198>) \n",
      "    Doc:  when true, wait that the gpu fct finished and check it error code.\n",
      "    Value:  True\n",
      "\n",
      "traceback.limit (<type 'int'>) \n",
      "    Doc:  The number of stack to trace. -1 mean all.\n",
      "    Value:  8\n",
      "\n",
      "experimental.mrg (<function booltype at 0x0000000016EE4358>) \n",
      "    Doc:  Another random number generator that work on the gpu\n",
      "    Value:  False\n",
      "\n",
      "experimental.unpickle_gpu_on_cpu (<function booltype at 0x0000000016EE44A8>) \n",
      "    Doc:  Allow unpickling of pickled CudaNdarrays as numpy.ndarrays.This is useful, if you want to open a CudaNdarray without having cuda installed.If you have cuda installed, this will force unpickling tobe done on the cpu to numpy.ndarray.Please be aware that this may get you access to the data,however, trying to unpicke gpu functions will not succeed.This flag is experimental and may be removed any time, whengpu<>cpu transparency is solved.\n",
      "    Value:  False\n",
      "\n",
      "numpy.seterr_all (('ignore', 'warn', 'raise', 'call', 'print', 'log', 'None')) \n",
      "    Doc:  (\"Sets numpy's behaviour for floating-point errors, \", \"see numpy.seterr. 'None' means not to change numpy's default, which can be different for different numpy releases. This flag sets the default behaviour for all kinds of floating-point errors, its effect can be overriden for specific errors by the following flags: seterr_divide, seterr_over, seterr_under and seterr_invalid.\")\n",
      "    Value:  ignore\n",
      "\n",
      "numpy.seterr_divide (('None', 'ignore', 'warn', 'raise', 'call', 'print', 'log')) \n",
      "    Doc:  Sets numpy's behavior for division by zero, see numpy.seterr. 'None' means using the default, defined by numpy.seterr_all.\n",
      "    Value:  None\n",
      "\n",
      "numpy.seterr_over (('None', 'ignore', 'warn', 'raise', 'call', 'print', 'log')) \n",
      "    Doc:  Sets numpy's behavior for floating-point overflow, see numpy.seterr. 'None' means using the default, defined by numpy.seterr_all.\n",
      "    Value:  None\n",
      "\n",
      "numpy.seterr_under (('None', 'ignore', 'warn', 'raise', 'call', 'print', 'log')) \n",
      "    Doc:  Sets numpy's behavior for floating-point underflow, see numpy.seterr. 'None' means using the default, defined by numpy.seterr_all.\n",
      "    Value:  None\n",
      "\n",
      "numpy.seterr_invalid (('None', 'ignore', 'warn', 'raise', 'call', 'print', 'log')) \n",
      "    Doc:  Sets numpy's behavior for invalid floating-point operation, see numpy.seterr. 'None' means using the default, defined by numpy.seterr_all.\n",
      "    Value:  None\n",
      "\n",
      "warn.ignore_bug_before (('0.6', 'None', 'all', '0.3', '0.4', '0.4.1', '0.5', '0.7')) \n",
      "    Doc:  If 'None', we warn about all Theano bugs found by default. If 'all', we don't warn about Theano bugs found by default. If a version, we print only the warnings relative to Theano bugs found after that version. Warning for specific bugs can be configured with specific [warn] flags.\n",
      "    Value:  0.6\n",
      "\n",
      "warn.argmax_pushdown_bug (<function booltype at 0x0000000016EE4978>) \n",
      "    Doc:  Warn if in past version of Theano we generated a bug with the theano.tensor.nnet.nnet.local_argmax_pushdown optimization. Was fixed 27 may 2010\n",
      "    Value:  False\n",
      "\n",
      "warn.gpusum_01_011_0111_bug (<function booltype at 0x0000000016EE4AC8>) \n",
      "    Doc:  Warn if we are in a case where old version of Theano had a silent bug with GpuSum pattern 01,011 and 0111 when the first dimensions was bigger then 4096. Was fixed 31 may 2010\n",
      "    Value:  False\n",
      "\n",
      "warn.sum_sum_bug (<function booltype at 0x0000000016EE4C18>) \n",
      "    Doc:  Warn if we are in a case where Theano version between version 9923a40c7b7a and the 2 august 2010 (fixed date), generated an error in that case. This happens when there are 2 consecutive sums in the graph, bad code was generated. Was fixed 2 August 2010\n",
      "    Value:  False\n",
      "\n",
      "warn.sum_div_dimshuffle_bug (<function booltype at 0x0000000016EE4D68>) \n",
      "    Doc:  Warn if previous versions of Theano (between rev. 3bd9b789f5e8, 2010-06-16, and cfc6322e5ad4, 2010-08-03) would have given incorrect result. This bug was triggered by sum of division of dimshuffled tensors.\n",
      "    Value:  False\n",
      "\n",
      "warn.subtensor_merge_bug (<function booltype at 0x0000000016EE4EB8>) \n",
      "    Doc:  Warn if previous versions of Theano (before 0.5rc2) could have given incorrect results when indexing into a subtensor with negative stride (for instance, for instance, x[a:b:-1][c]).\n",
      "    Value:  False\n",
      "\n",
      "warn.gpu_set_subtensor1 (<function booltype at 0x0000000016EED048>) \n",
      "    Doc:  Warn if previous versions of Theano (before 0.6) could have given incorrect results when moving to the gpu set_subtensor(x[int vector], new_value)\n",
      "    Value:  False\n",
      "\n",
      "warn.vm_gc_bug (<function booltype at 0x0000000016EED198>) \n",
      "    Doc:  There was a bug that existed in the default Theano configuration, only in the development version between July 5th 2012 and July 30th 2012. This was not in a released version. If your code was affected by this bug, a warning will be printed during the code execution if you use the `linker=vm,vm.lazy=True,warn.vm_gc_bug=True` Theano flags. This warning is disabled by default as the bug was not released.\n",
      "    Value:  False\n",
      "\n",
      "warn.signal_conv2d_interface (<function booltype at 0x0000000016EED2E8>) \n",
      "    Doc:  Warn we use the new signal.conv2d() when its interface changed mid June 2014\n",
      "    Value:  True\n",
      "\n",
      "warn.reduce_join (<function booltype at 0x0000000016EED438>) \n",
      "    Doc:  Your current code is fine, but Theano versions prior to 0.7 (or this development version) might have given an incorrect result. To disable this warning, set the Theano flag warn.reduce_join to False. The problem was an optimization, that modified the pattern \"Reduce{scalar.op}(Join(axis=0, a, b), axis=0)\", did not check the reduction axis. So if the reduction axis was not 0, you got a wrong answer.\n",
      "    Value:  True\n",
      "\n",
      "warn.inc_set_subtensor1 (<function booltype at 0x0000000016EED588>) \n",
      "    Doc:  Warn if previous versions of Theano (before 0.7) could have given incorrect results for inc_subtensor and set_subtensor when using some patterns of advanced indexing (indexing with one vector or matrix of ints).\n",
      "    Value:  True\n",
      "\n",
      "compute_test_value (('off', 'ignore', 'warn', 'raise', 'pdb')) \n",
      "    Doc:  If 'True', Theano will run each op at graph build time, using Constants, SharedVariables and the tag 'test_value' as inputs to the function. This helps the user track down problems in the graph before it gets optimized.\n",
      "    Value:  off\n",
      "\n",
      "print_test_value (<function booltype at 0x0000000016EED748>) \n",
      "    Doc:  If 'True', the __eval__ of a Theano variable will return its test_value when this is available. This has the practical conseguence that, e.g., in debugging `my_var` will print the same as `my_var.tag.test_value` when a test value is defined.\n",
      "    Value:  False\n",
      "\n",
      "compute_test_value_opt (('off', 'ignore', 'warn', 'raise', 'pdb')) \n",
      "    Doc:  For debugging Theano optimization only. Same as compute_test_value, but is used during Theano optimization\n",
      "    Value:  off\n",
      "\n",
      "unpickle_function (<function booltype at 0x0000000016EED908>) \n",
      "    Doc:  Replace unpickled Theano functions with None. This is useful to unpickle old graphs that pickled them when it shouldn't\n",
      "    Value:  True\n",
      "\n",
      "reoptimize_unpickled_function (<function booltype at 0x0000000016EEDA58>) \n",
      "    Doc:  Re-optimize the graph when a theano function is unpickled from the disk.\n",
      "    Value:  False\n",
      "\n",
      "exception_verbosity (('low', 'high')) \n",
      "    Doc:  If 'low', the text of exceptions will generally refer to apply nodes with short names such as Elemwise{add_no_inplace}. If 'high', some exceptions will also refer to apply nodes with long descriptions  like:\n",
      "    A. Elemwise{add_no_inplace}\n",
      "            B. log_likelihood_v_given_h\n",
      "            C. log_likelihood_h\n",
      "    Value:  low\n",
      "\n",
      "openmp (<function booltype at 0x0000000016EEDC18>) \n",
      "    Doc:  Allow (or not) parallel computation on the CPU with OpenMP. This is the default value used when creating an Op that supports OpenMP parallelization. It is preferable to define it via the Theano configuration file ~/.theanorc or with the environment variable THEANO_FLAGS. Parallelization is only done for some operations that implement it, and even for operations that implement parallelism, each operation is free to respect this flag or not. You can control the number of threads used with the environment variable OMP_NUM_THREADS. If it is set to 1, we disable openmp in Theano by default.\n",
      "    Value:  False\n",
      "\n",
      "openmp_elemwise_minsize (<type 'int'>) \n",
      "    Doc:  If OpenMP is enabled, this is the minimum size of vectors for which the openmp parallelization is enabled in element wise ops.\n",
      "    Value:  200000\n",
      "\n",
      "check_input (<function booltype at 0x0000000016EEDDD8>) \n",
      "    Doc:  Specify if types should check their input in their C code. It can be used to speed up compilation, reduce overhead (particularly for scalars) and reduce the number of generated C files.\n",
      "    Value:  True\n",
      "\n",
      "cache_optimizations (<function booltype at 0x0000000016EEDF28>) \n",
      "    Doc:  WARNING: work in progress, does not work yet. Specify if the optimization cache should be used. This cache will any optimized graph and its optimization. Actually slow downs a lot the first optimization, and could possibly still contains some bugs. Use at your own risks.\n",
      "    Value:  False\n",
      "\n",
      "unittests.rseed (<type 'str'>) \n",
      "    Doc:  Seed to use for randomized unit tests. Special value 'random' means using a seed of None.\n",
      "    Value:  666\n",
      "\n",
      "NanGuardMode.nan_is_error (<function booltype at 0x0000000016EE6198>) \n",
      "    Doc:  Default value for nan_is_error\n",
      "    Value:  True\n",
      "\n",
      "NanGuardMode.inf_is_error (<function booltype at 0x0000000016EE62E8>) \n",
      "    Doc:  Default value for inf_is_error\n",
      "    Value:  True\n",
      "\n",
      "NanGuardMode.big_is_error (<function booltype at 0x0000000016EE6438>) \n",
      "    Doc:  Default value for big_is_error\n",
      "    Value:  True\n",
      "\n",
      "NanGuardMode.action (('raise', 'warn', 'pdb')) \n",
      "    Doc:  What NanGuardMode does when it finds a problem\n",
      "    Value:  raise\n",
      "\n",
      "ProfileMode.n_apply_to_print (<type 'int'>) \n",
      "    Doc:  Number of apply instances to print by default\n",
      "    Value:  15\n",
      "\n",
      "ProfileMode.n_ops_to_print (<type 'int'>) \n",
      "    Doc:  Number of ops to print by default\n",
      "    Value:  20\n",
      "\n",
      "ProfileMode.min_memory_size (<type 'int'>) \n",
      "    Doc:  For the memory profile, do not print apply nodes if the size of their outputs (in bytes) is lower then this threshold\n",
      "    Value:  1024\n",
      "\n",
      "ProfileMode.profile_memory (<function booltype at 0x0000000016EE6898>) \n",
      "    Doc:  Enable profiling of memory used by Theano functions\n",
      "    Value:  False\n",
      "\n",
      "optimizer_excluding (<type 'str'>) \n",
      "    Doc:  When using the default mode, we will remove optimizer with these tags. Separate tags with ':'.\n",
      "    Value:  \n",
      "\n",
      "optimizer_including (<type 'str'>) \n",
      "    Doc:  When using the default mode, we will add optimizer with these tags. Separate tags with ':'.\n",
      "    Value:  \n",
      "\n",
      "optimizer_requiring (<type 'str'>) \n",
      "    Doc:  When using the default mode, we will require optimizer with these tags. Separate tags with ':'.\n",
      "    Value:  \n",
      "\n",
      "DebugMode.patience (<type 'int'>) \n",
      "    Doc:  Optimize graph this many times to detect inconsistency\n",
      "    Value:  10\n",
      "\n",
      "DebugMode.check_c (<function booltype at 0x0000000016EE6C88>) \n",
      "    Doc:  Run C implementations where possible\n",
      "    Value:  True\n",
      "\n",
      "DebugMode.check_py (<function booltype at 0x0000000016EE6DD8>) \n",
      "    Doc:  Run Python implementations where possible\n",
      "    Value:  True\n",
      "\n",
      "DebugMode.check_finite (<function booltype at 0x0000000016EE6F28>) \n",
      "    Doc:  True -> complain about NaN/Inf results\n",
      "    Value:  True\n",
      "\n",
      "DebugMode.check_strides (<type 'int'>) \n",
      "    Doc:  Check that Python- and C-produced ndarrays have same strides. On difference: (0) - ignore, (1) warn, or (2) raise error\n",
      "    Value:  0\n",
      "\n",
      "DebugMode.warn_input_not_reused (<function booltype at 0x0000000016E6C198>) \n",
      "    Doc:  Generate a warning when destroy_map or view_map says that an op works inplace, but the op did not reuse the input for its output.\n",
      "    Value:  True\n",
      "\n",
      "DebugMode.check_preallocated_output (<type 'str'>) \n",
      "    Doc:  Test thunks with pre-allocated memory as output storage. This is a list of strings separated by \":\". Valid values are: \"initial\" (initial storage in storage map, happens with Scan),\"previous\" (previously-returned memory), \"c_contiguous\", \"f_contiguous\", \"strided\" (positive and negative strides), \"wrong_size\" (larger and smaller dimensions), and \"ALL\" (all of the above).\n",
      "    Value:  \n",
      "\n",
      "DebugMode.check_preallocated_output_ndim (<type 'int'>) \n",
      "    Doc:  When testing with \"strided\" preallocated output memory, test all combinations of strides over that number of (inner-most) dimensions. You may want to reduce that number to reduce memory or time usage, but it is advised to keep a minimum of 2.\n",
      "    Value:  4\n",
      "\n",
      "profiling.time_thunks (<function booltype at 0x0000000016E6C4A8>) \n",
      "    Doc:  Time individual thunks when profiling\n",
      "    Value:  True\n",
      "\n",
      "profiling.n_apply (<type 'int'>) \n",
      "    Doc:  Number of Apply instances to print by default\n",
      "    Value:  20\n",
      "\n",
      "profiling.n_ops (<type 'int'>) \n",
      "    Doc:  Number of Ops to print by default\n",
      "    Value:  20\n",
      "\n",
      "profiling.output_line_width (<type 'int'>) \n",
      "    Doc:  Max line width for the profiling output\n",
      "    Value:  512\n",
      "\n",
      "profiling.min_memory_size (<type 'int'>) \n",
      "    Doc:  For the memory profile, do not print Apply nodes if the size\n",
      "             of their outputs (in bytes) is lower than this threshold\n",
      "    Value:  1024\n",
      "\n",
      "profiling.min_peak_memory (<function booltype at 0x0000000016E6C978>) \n",
      "    Doc:  The min peak memory usage of the order\n",
      "    Value:  False\n",
      "\n",
      "profiling.destination (<type 'str'>) \n",
      "    Doc:  \n",
      "             File destination of the profiling output\n",
      "             \n",
      "    Value:  stderr\n",
      "\n",
      "profiling.debugprint (<function booltype at 0x0000000016E6CB38>) \n",
      "    Doc:  \n",
      "             Do a debugprint of the profiled functions\n",
      "             \n",
      "    Value:  False\n",
      "\n",
      "optdb.position_cutoff (<type 'float'>) \n",
      "    Doc:  Where to stop eariler during optimization. It represent the position of the optimizer where to stop.\n",
      "    Value:  inf\n",
      "\n",
      "optdb.max_use_ratio (<type 'float'>) \n",
      "    Doc:  A ratio that prevent infinite loop in EquilibriumOptimizer.\n",
      "    Value:  5.0\n",
      "\n",
      "gcc.cxxflags (<type 'str'>) \n",
      "    Doc:  Extra compiler flags for gcc\n",
      "    Value:  \n",
      "\n",
      "cmodule.mac_framework_link (<function booltype at 0x0000000016E6CDD8>) \n",
      "    Doc:  If set to True, breaks certain MacOS installations with the infamous Bus Error\n",
      "    Value:  False\n",
      "\n",
      "cmodule.warn_no_version (<function booltype at 0x0000000016E6CF28>) \n",
      "    Doc:  If True, will print a warning when compiling one or more Op with C code that can't be cached because there is no c_code_cache_version() function associated to at least one of those Ops.\n",
      "    Value:  False\n",
      "\n",
      "cmodule.remove_gxx_opt (<function booltype at 0x0000000016E9B0B8>) \n",
      "    Doc:  If True, will remove the -O* parameter passed to g++.This is useful to debug in gdb modules compiled by Theano.The parameter -g is passed by default to g++\n",
      "    Value:  False\n",
      "\n",
      "cmodule.compilation_warning (<function booltype at 0x0000000016E9B208>) \n",
      "    Doc:  If True, will print compilation warnings.\n",
      "    Value:  False\n",
      "\n",
      "cmodule.preload_cache (<function booltype at 0x0000000016E9B358>) \n",
      "    Doc:  If set to True, will preload the C module cache at import time\n",
      "    Value:  False\n",
      "\n",
      "blas.ldflags (<type 'str'>) \n",
      "    Doc:  lib[s] to include for [Fortran] level-3 blas implementation\n",
      "    Value:  \n",
      "\n",
      "metaopt.verbose (<function booltype at 0x0000000016E9B5F8>) \n",
      "    Doc:  Enable verbose output for meta optimizers\n",
      "    Value:  False\n",
      "\n",
      "profile (<function booltype at 0x0000000016E9B748>) \n",
      "    Doc:  If VM should collect profile information\n",
      "    Value:  False\n",
      "\n",
      "profile_optimizer (<function booltype at 0x0000000016E9B898>) \n",
      "    Doc:  If VM should collect optimizer profile information\n",
      "    Value:  False\n",
      "\n",
      "profile_memory (<function booltype at 0x0000000016E9B9E8>) \n",
      "    Doc:  If VM should collect memory profile information and print it\n",
      "    Value:  False\n",
      "\n",
      "<theano.configparser.ConfigParam object at 0x0000000016E76048>\n",
      "    Doc:  Useful only for the vm linkers. When lazy is None, auto detect if lazy evaluation is needed and use the apropriate version. If lazy is True/False, force the version used between Loop/LoopGC and Stack.\n",
      "    Value:  None\n",
      "\n",
      "warn.identify_1pexp_bug (<function booltype at 0x0000000016E9BBA8>) \n",
      "    Doc:  Warn if Theano versions prior to 7987b51 (2011-12-18) could have yielded a wrong result due to a bug in the is_1pexp function\n",
      "    Value:  False\n",
      "\n",
      "on_shape_error (('warn', 'raise')) \n",
      "    Doc:  warn: print a warning and use the default value. raise: raise an error\n",
      "    Value:  warn\n",
      "\n",
      "tensor.insert_inplace_optimizer_validate_nb (<type 'int'>) \n",
      "    Doc:  -1: auto, if graph have less then 500 nodes 1, else 10\n",
      "    Value:  -1\n",
      "\n",
      "experimental.local_alloc_elemwise (<function booltype at 0x0000000016E9BE48>) \n",
      "    Doc:  DEPRECATED: If True, enable the experimental optimization local_alloc_elemwise. Generates error if not True. Use optimizer_excluding=local_alloc_elemwise to dsiable.\n",
      "    Value:  True\n",
      "\n",
      "experimental.local_alloc_elemwise_assert (<function booltype at 0x0000000016E9BEB8>) \n",
      "    Doc:  When the local_alloc_elemwise is applied, add an assert to highlight shape errors.\n",
      "    Value:  True\n",
      "\n",
      "scan.allow_gc (<function booltype at 0x0000000016E890B8>) \n",
      "    Doc:  Allow/disallow gc inside of Scan (default: False)\n",
      "    Value:  False\n",
      "\n",
      "scan.allow_output_prealloc (<function booltype at 0x0000000016E89208>) \n",
      "    Doc:  Allow/disallow memory preallocation for outputs inside of scan (default: True)\n",
      "    Value:  True\n",
      "\n",
      "pycuda.init (<function booltype at 0x0000000016E89358>) \n",
      "    Doc:  If True, always initialize PyCUDA when Theano want to\n",
      "                initilize the GPU.  Currently, we must always initialize\n",
      "                PyCUDA before Theano do it.  Setting this flag to True,\n",
      "                ensure that, but always import PyCUDA.  It can be done\n",
      "                manually by importing theano.misc.pycuda_init before theano\n",
      "                initialize the GPU device.\n",
      "                  \n",
      "    Value:  False\n",
      "\n",
      "cublas.lib (<type 'str'>) \n",
      "    Doc:  Name of the cuda blas library for the linker.\n",
      "    Value:  cublas\n",
      "\n",
      "lib.cnmem (<type 'float'>) \n",
      "    Doc:  Do we enable CNMeM or not (a faster CUDA memory allocator).\n",
      "\n",
      "             The parameter represent the start size (in MB or % of\n",
      "             total GPU memory) of the memory pool.\n",
      "\n",
      "             0: not enabled.\n",
      "             0 < N <= 1: % of the total GPU memory (clipped to .985 for driver memory)\n",
      "             > 0: use that number of MB of memory.\n",
      "\n",
      "             \n",
      "    Value:  0.0\n",
      "\n",
      "compile.wait (<type 'int'>) \n",
      "    Doc:  Time to wait before retrying to aquire the compile lock.\n",
      "    Value:  5\n",
      "\n",
      "compile.timeout (<type 'int'>) \n",
      "    Doc:  In seconds, time that a process will wait before deciding to\n",
      "override an existing lock. An override only happens when the existing\n",
      "lock is held by the same owner *and* has not been 'refreshed' by this\n",
      "owner for more than this period. Refreshes are done every half timeout\n",
      "period for running processes.\n",
      "    Value:  120\n",
      "\n",
      "compiledir_format (<type 'str'>) \n",
      "    Doc:  Format string for platform-dependent compiled module subdirectory\n",
      "(relative to base_compiledir). Available keys: gxx_version, hostname,\n",
      "numpy_version, platform, processor, python_bitwidth,\n",
      "python_int_bitwidth, python_version, short_platform, theano_version.\n",
      "Defaults to 'compiledir_%(short_platform)s-%(processor)s-%(python_vers\n",
      "ion)s-%(python_bitwidth)s'.\n",
      "    Value:  compiledir_%(short_platform)s-%(processor)s-%(python_version)s-%(python_bitwidth)s\n",
      "\n",
      "<theano.configparser.ConfigParam object at 0x0000000016E76710>\n",
      "    Doc:  platform-independent root directory for compiled modules\n",
      "    Value:  C:\\Users\\Back_jud\\AppData\\Local\\Theano\n",
      "\n",
      "<theano.configparser.ConfigParam object at 0x0000000016E76630>\n",
      "    Doc:  platform-dependent cache directory for compiled modules\n",
      "    Value:  C:\\Users\\Back_jud\\AppData\\Local\\Theano\\compiledir_Windows-10-10.0.10586-Intel64_Family_6_Model_60_Stepping_3_GenuineIntel-2.7.11-64\n",
      "\n",
      "\n"
     ]
    }
   ],
   "source": [
    "print(theano.config)"
   ]
  },
  {
   "cell_type": "code",
   "execution_count": null,
   "metadata": {
    "collapsed": true
   },
   "outputs": [],
   "source": [
    "#np.distutils.__config__.show()"
   ]
  },
  {
   "cell_type": "markdown",
   "metadata": {},
   "source": [
    "### dram-> vram / bottleneck"
   ]
  },
  {
   "cell_type": "code",
   "execution_count": null,
   "metadata": {
    "collapsed": false,
    "scrolled": false
   },
   "outputs": [],
   "source": [
    "x= T.scalar('x',dtype='float64')\n",
    "compute = theano.function([x], 2*x**2)\n",
    "compute(2)\n"
   ]
  },
  {
   "cell_type": "markdown",
   "metadata": {},
   "source": [
    "### direct to gpu"
   ]
  },
  {
   "cell_type": "code",
   "execution_count": null,
   "metadata": {
    "collapsed": false
   },
   "outputs": [],
   "source": [
    "x_value = theano.shared(10.0)\n",
    "compute = theano.function([], 2*x , givens={x:x_value})\n",
    "compute()"
   ]
  },
  {
   "cell_type": "code",
   "execution_count": 9,
   "metadata": {
    "collapsed": false
   },
   "outputs": [
    {
     "name": "stderr",
     "output_type": "stream",
     "text": [
      "Using Theano backend.\n",
      "C:\\Users\\Back_jud\\Anaconda2\\lib\\site-packages\\theano\\tensor\\signal\\downsample.py:6: UserWarning:\n",
      "\n",
      "downsample module has been moved to the theano.tensor.signal.pool module.\n",
      "\n"
     ]
    }
   ],
   "source": [
    "from keras.models import Sequential\n",
    "from keras.layers.core import Dense, Dropout, Activation\n",
    "from keras.optimizers import SGD\n",
    "from sklearn.cross_validation import train_test_split\n",
    "from keras.layers import Convolution2D ,MaxPooling2D,Flatten\n",
    "from keras.utils import np_utils\n",
    "from keras import backend as K\n",
    "import pickle\n",
    "from keras.callbacks import History,Callback"
   ]
  },
  {
   "cell_type": "code",
   "execution_count": 143,
   "metadata": {
    "collapsed": true
   },
   "outputs": [],
   "source": [
    "from keras.layers import LSTM"
   ]
  },
  {
   "cell_type": "code",
   "execution_count": 10,
   "metadata": {
    "collapsed": false
   },
   "outputs": [],
   "source": [
    "a = open('d://labels.p')\n",
    "b = open('d://images.p')\n",
    "labels = np.array(pickle.load(a))\n",
    "imgs = np.array(pickle.load(b))\n",
    "imgs = imgs /255\n",
    "labels = np_utils.to_categorical(labels,nb_classes=2)\n"
   ]
  },
  {
   "cell_type": "code",
   "execution_count": 100,
   "metadata": {
    "collapsed": true
   },
   "outputs": [],
   "source": [
    "orimgs =[]\n",
    "for a in imgs:\n",
    "    orimgs.append(np.reshape(a,(50,50))) "
   ]
  },
  {
   "cell_type": "code",
   "execution_count": 101,
   "metadata": {
    "collapsed": true
   },
   "outputs": [],
   "source": [
    "x_tr,x_te,y_tr,y_te = train_test_split(orimgs,labels,test_size= 0.2,random_state= 123)"
   ]
  },
  {
   "cell_type": "code",
   "execution_count": 102,
   "metadata": {
    "collapsed": true
   },
   "outputs": [],
   "source": [
    "x_tr1,x_te1,y_tr1,y_te1 = train_test_split(imgs,labels,test_size= 0.2,random_state= 123)"
   ]
  },
  {
   "cell_type": "markdown",
   "metadata": {},
   "source": [
    "## Simple neuron1"
   ]
  },
  {
   "cell_type": "code",
   "execution_count": 246,
   "metadata": {
    "collapsed": true
   },
   "outputs": [],
   "source": [
    "model1 = Sequential()\n",
    "model1.add(Dense(50, input_dim=2500, activation=\"relu\", init='uniform'))\n",
    "model1.add(Dense(2, activation=\"softmax\"))\n",
    "model1.compile(loss='categorical_crossentropy', optimizer=SGD(lr=0.01,momentum=0.8,nesterov=True))"
   ]
  },
  {
   "cell_type": "code",
   "execution_count": 247,
   "metadata": {
    "collapsed": false,
    "scrolled": true
   },
   "outputs": [],
   "source": [
    "hist1 = model1.fit(np.array(x_tr1), np.array(y_tr1), nb_epoch=300, batch_size=30,show_accuracy=True,verbose=0)"
   ]
  },
  {
   "cell_type": "code",
   "execution_count": 248,
   "metadata": {
    "collapsed": false,
    "scrolled": true
   },
   "outputs": [
    {
     "data": {
      "text/plain": [
       "<matplotlib.legend.Legend at 0x32a00da0>"
      ]
     },
     "execution_count": 248,
     "metadata": {},
     "output_type": "execute_result"
    },
    {
     "data": {
      "image/png": "[encoded data removed]",
      "text/plain": [
       "<matplotlib.figure.Figure at 0x3099d7b8>"
      ]
     },
     "metadata": {},
     "output_type": "display_data"
    }
   ],
   "source": [
    "plt.plot(hist1.history['acc'],label='acc')\n",
    "plt.plot(hist1.history['loss'],label='label')\n",
    "plt.grid('off')\n",
    "plt.legend()"
   ]
  },
  {
   "cell_type": "code",
   "execution_count": 249,
   "metadata": {
    "collapsed": false
   },
   "outputs": [
    {
     "name": "stdout",
     "output_type": "stream",
     "text": [
      "18/18 [==============================] - 0s     \n"
     ]
    },
    {
     "data": {
      "text/plain": [
       "[1.7446989715099335, 0.77777777777777779]"
      ]
     },
     "execution_count": 249,
     "metadata": {},
     "output_type": "execute_result"
    }
   ],
   "source": [
    "model1.evaluate(np.array(x_te1),np.array(y_te1),batch_size=10,show_accuracy=True)"
   ]
  },
  {
   "cell_type": "code",
   "execution_count": 250,
   "metadata": {
    "collapsed": false,
    "scrolled": true
   },
   "outputs": [
    {
     "name": "stdout",
     "output_type": "stream",
     "text": [
      "18/18 [==============================] - 0s\n"
     ]
    }
   ],
   "source": [
    "y_pred1 = model1.predict_classes(np.array(x_te1),20)"
   ]
  },
  {
   "cell_type": "code",
   "execution_count": 251,
   "metadata": {
    "collapsed": true
   },
   "outputs": [],
   "source": [
    "y_ten1 = cat2lab(y_te1)"
   ]
  },
  {
   "cell_type": "code",
   "execution_count": 252,
   "metadata": {
    "collapsed": false
   },
   "outputs": [
    {
     "name": "stdout",
     "output_type": "stream",
     "text": [
      "             precision    recall  f1-score   support\n",
      "\n",
      "          0       0.88      0.70      0.78        10\n",
      "          1       0.70      0.88      0.78         8\n",
      "\n",
      "avg / total       0.80      0.78      0.78        18\n",
      "\n"
     ]
    }
   ],
   "source": [
    "print(classification_report(y_ten1,y_pred1))"
   ]
  },
  {
   "cell_type": "code",
   "execution_count": 136,
   "metadata": {
    "collapsed": false
   },
   "outputs": [],
   "source": [
    "d= model1.get_weights()[0]"
   ]
  },
  {
   "cell_type": "code",
   "execution_count": 137,
   "metadata": {
    "collapsed": false,
    "scrolled": true
   },
   "outputs": [
    {
     "data": {
      "image/png": "[encoded data removed]",
      "text/plain": [
       "<matplotlib.figure.Figure at 0x32789908>"
      ]
     },
     "metadata": {},
     "output_type": "display_data"
    }
   ],
   "source": [
    "plt.imshow(np.reshape(d[:,4],(50,50)),cmap='hot')\n",
    "plt.grid('off')"
   ]
  },
  {
   "cell_type": "code",
   "execution_count": null,
   "metadata": {
    "collapsed": true
   },
   "outputs": [],
   "source": []
  },
  {
   "cell_type": "code",
   "execution_count": 138,
   "metadata": {
    "collapsed": false
   },
   "outputs": [],
   "source": [
    "#imgs for CNN\n",
    "imgs2d= []\n",
    "for img in imgs:\n",
    "    imgs2d.append(np.reshape(img,(1,50,50)))\n"
   ]
  },
  {
   "cell_type": "code",
   "execution_count": 139,
   "metadata": {
    "collapsed": false
   },
   "outputs": [],
   "source": [
    "x_tr2,x_te2,y_tr2,y_te2 = train_test_split(imgs2d,labels,test_size= 0.2,random_state= 194)"
   ]
  },
  {
   "cell_type": "code",
   "execution_count": 169,
   "metadata": {
    "collapsed": false
   },
   "outputs": [
    {
     "name": "stderr",
     "output_type": "stream",
     "text": [
      "WARNING (theano.gof.compilelock): Overriding existing lock by dead process '7252' (I am process '3456')\n",
      "WARNING:theano.gof.compilelock:Overriding existing lock by dead process '7252' (I am process '3456')\n"
     ]
    }
   ],
   "source": [
    "model2 = Sequential()\n",
    "history2 = History()\n",
    "model2.add(Convolution2D(50,5, 5, border_mode='same', input_shape=(1, 50, 50)))\n",
    "model2.add(Activation('relu'))\n",
    "# model2.add(Convolution2D(50, 5, 5,init='uniform'))\n",
    "# model2.add(Activation('relu'))\n",
    "model2.add(MaxPooling2D(pool_size=(2, 2)))\n",
    "model2.add(Dropout(0.25))\n",
    "\n",
    "model2.add(Convolution2D(100, 5, 5, border_mode='same'))\n",
    "model2.add(Activation('relu'))\n",
    "# model2.add(Convolution2D(100, 5, 5,init='uniform'))\n",
    "# model2.add(Activation('relu'))\n",
    "model2.add(MaxPooling2D(pool_size=(2, 2)))\n",
    "model2.add(Dropout(0.25))\n",
    "\n",
    "model2.add(Flatten())\n",
    "model2.add(Dense(1250,init='uniform'))\n",
    "model2.add(Activation('relu'))\n",
    "model2.add(Dense(2,activation='softmax'))\n",
    "model2.compile(loss='categorical_crossentropy', optimizer=SGD(lr=0.01,\n",
    "                                                              decay=1e-6,\n",
    "                                                              momentum=0.9, \n",
    "                                                              nesterov=True))"
   ]
  },
  {
   "cell_type": "code",
   "execution_count": 170,
   "metadata": {
    "collapsed": false,
    "scrolled": true
   },
   "outputs": [
    {
     "name": "stdout",
     "output_type": "stream",
     "text": [
      "Train on 56 samples, validate on 15 samples\n",
      "Epoch 1/50\n",
      "56/56 [==============================] - 1s - loss: 3.3540 - acc: 0.5000 - val_loss: 0.7444 - val_acc: 0.6000\n",
      "Epoch 2/50\n",
      "56/56 [==============================] - 1s - loss: 1.1517 - acc: 0.3750 - val_loss: 0.6686 - val_acc: 0.6000\n",
      "Epoch 3/50\n",
      "56/56 [==============================] - 1s - loss: 0.7356 - acc: 0.5179 - val_loss: 0.6699 - val_acc: 0.6667\n",
      "Epoch 4/50\n",
      "56/56 [==============================] - 1s - loss: 0.6116 - acc: 0.7679 - val_loss: 0.6469 - val_acc: 0.7333\n",
      "Epoch 5/50\n",
      "56/56 [==============================] - 1s - loss: 0.5744 - acc: 0.8214 - val_loss: 0.6097 - val_acc: 0.8000\n",
      "Epoch 6/50\n",
      "56/56 [==============================] - 1s - loss: 0.5661 - acc: 0.7321 - val_loss: 0.5735 - val_acc: 0.8000\n",
      "Epoch 7/50\n",
      "56/56 [==============================] - 1s - loss: 0.5056 - acc: 0.8750 - val_loss: 0.5194 - val_acc: 0.8667\n",
      "Epoch 8/50\n",
      "56/56 [==============================] - 1s - loss: 0.4610 - acc: 0.7857 - val_loss: 0.9478 - val_acc: 0.6000\n",
      "Epoch 9/50\n",
      "56/56 [==============================] - 1s - loss: 0.9192 - acc: 0.5536 - val_loss: 0.6230 - val_acc: 0.6000\n",
      "Epoch 10/50\n",
      "56/56 [==============================] - 1s - loss: 0.5063 - acc: 0.8214 - val_loss: 0.5843 - val_acc: 0.8667\n",
      "Epoch 11/50\n",
      "56/56 [==============================] - 1s - loss: 0.4631 - acc: 0.9286 - val_loss: 0.5455 - val_acc: 0.8000\n",
      "Epoch 12/50\n",
      "56/56 [==============================] - 1s - loss: 0.4120 - acc: 0.9107 - val_loss: 0.4793 - val_acc: 0.8000\n",
      "Epoch 13/50\n",
      "56/56 [==============================] - 1s - loss: 0.3585 - acc: 0.9286 - val_loss: 0.4486 - val_acc: 0.8000\n",
      "Epoch 14/50\n",
      "56/56 [==============================] - 1s - loss: 0.2781 - acc: 0.9286 - val_loss: 0.3614 - val_acc: 0.8667\n",
      "Epoch 15/50\n",
      "56/56 [==============================] - 1s - loss: 0.2586 - acc: 0.9643 - val_loss: 0.4382 - val_acc: 0.8000\n",
      "Epoch 16/50\n",
      "56/56 [==============================] - 1s - loss: 0.4364 - acc: 0.7143 - val_loss: 0.9519 - val_acc: 0.6000\n",
      "Epoch 17/50\n",
      "56/56 [==============================] - 1s - loss: 0.7882 - acc: 0.7143 - val_loss: 0.4432 - val_acc: 0.8667\n",
      "Epoch 18/50\n",
      "56/56 [==============================] - 1s - loss: 0.2881 - acc: 0.9464 - val_loss: 0.3898 - val_acc: 0.8000\n",
      "Epoch 19/50\n",
      "56/56 [==============================] - 1s - loss: 0.2415 - acc: 0.9643 - val_loss: 0.3378 - val_acc: 0.8667\n",
      "Epoch 20/50\n",
      "56/56 [==============================] - 1s - loss: 0.1876 - acc: 0.9643 - val_loss: 0.3043 - val_acc: 0.8667\n",
      "Epoch 21/50\n",
      "56/56 [==============================] - 1s - loss: 0.1493 - acc: 1.0000 - val_loss: 0.2835 - val_acc: 0.8000\n",
      "Epoch 22/50\n",
      "56/56 [==============================] - 1s - loss: 0.1380 - acc: 0.9643 - val_loss: 0.3106 - val_acc: 0.8000\n",
      "Epoch 23/50\n",
      "56/56 [==============================] - 1s - loss: 0.1020 - acc: 1.0000 - val_loss: 0.2908 - val_acc: 0.9333\n",
      "Epoch 24/50\n",
      "56/56 [==============================] - 1s - loss: 0.4493 - acc: 0.7857 - val_loss: 2.1110 - val_acc: 0.4000\n",
      "Epoch 25/50\n",
      "56/56 [==============================] - 1s - loss: 1.5516 - acc: 0.5357 - val_loss: 0.4687 - val_acc: 0.8667\n",
      "Epoch 26/50\n",
      "56/56 [==============================] - 1s - loss: 0.3317 - acc: 0.9464 - val_loss: 0.4460 - val_acc: 0.8667\n",
      "Epoch 27/50\n",
      "56/56 [==============================] - 1s - loss: 0.2791 - acc: 0.9821 - val_loss: 0.3898 - val_acc: 0.8667\n",
      "Epoch 28/50\n",
      "56/56 [==============================] - 1s - loss: 0.2006 - acc: 0.9643 - val_loss: 0.3302 - val_acc: 0.8667\n",
      "Epoch 29/50\n",
      "56/56 [==============================] - 1s - loss: 0.1939 - acc: 0.9643 - val_loss: 0.3003 - val_acc: 0.9333\n",
      "Epoch 30/50\n",
      "56/56 [==============================] - 1s - loss: 0.1547 - acc: 0.9464 - val_loss: 0.3135 - val_acc: 0.8000\n",
      "Epoch 31/50\n",
      "56/56 [==============================] - 1s - loss: 0.1171 - acc: 0.9821 - val_loss: 0.2665 - val_acc: 0.9333\n",
      "Epoch 32/50\n",
      "56/56 [==============================] - 1s - loss: 0.0823 - acc: 1.0000 - val_loss: 0.2474 - val_acc: 0.8667\n",
      "Epoch 33/50\n",
      "56/56 [==============================] - 1s - loss: 0.0892 - acc: 0.9821 - val_loss: 0.3209 - val_acc: 0.8667\n",
      "Epoch 34/50\n",
      "56/56 [==============================] - 1s - loss: 0.1211 - acc: 0.9643 - val_loss: 0.2333 - val_acc: 0.9333\n",
      "Epoch 35/50\n",
      "56/56 [==============================] - 1s - loss: 0.0777 - acc: 1.0000 - val_loss: 0.2154 - val_acc: 0.8667\n",
      "Epoch 36/50\n",
      "56/56 [==============================] - 1s - loss: 0.0438 - acc: 1.0000 - val_loss: 0.2076 - val_acc: 0.9333\n",
      "Epoch 37/50\n",
      "56/56 [==============================] - 1s - loss: 0.0374 - acc: 1.0000 - val_loss: 0.2422 - val_acc: 0.8667\n",
      "Epoch 38/50\n",
      "56/56 [==============================] - 1s - loss: 0.0520 - acc: 1.0000 - val_loss: 0.2393 - val_acc: 0.8667\n",
      "Epoch 39/50\n",
      "56/56 [==============================] - 1s - loss: 0.0408 - acc: 1.0000 - val_loss: 0.2041 - val_acc: 0.9333\n",
      "Epoch 40/50\n",
      "56/56 [==============================] - 1s - loss: 0.0595 - acc: 1.0000 - val_loss: 0.2372 - val_acc: 0.9333\n",
      "Epoch 41/50\n",
      "56/56 [==============================] - 1s - loss: 0.0556 - acc: 0.9821 - val_loss: 0.2123 - val_acc: 0.8000\n",
      "Epoch 42/50\n",
      "56/56 [==============================] - 1s - loss: 0.0372 - acc: 1.0000 - val_loss: 0.2484 - val_acc: 0.9333\n",
      "Epoch 43/50\n",
      "56/56 [==============================] - 1s - loss: 0.0376 - acc: 1.0000 - val_loss: 0.2036 - val_acc: 0.9333\n",
      "Epoch 44/50\n",
      "56/56 [==============================] - 1s - loss: 0.0209 - acc: 1.0000 - val_loss: 0.2083 - val_acc: 0.8000\n",
      "Epoch 45/50\n",
      "56/56 [==============================] - 1s - loss: 0.0214 - acc: 1.0000 - val_loss: 0.2083 - val_acc: 0.8000\n",
      "Epoch 46/50\n",
      "56/56 [==============================] - 1s - loss: 0.0195 - acc: 1.0000 - val_loss: 0.1952 - val_acc: 0.9333\n",
      "Epoch 47/50\n",
      "56/56 [==============================] - 1s - loss: 0.0252 - acc: 1.0000 - val_loss: 0.1934 - val_acc: 0.9333\n",
      "Epoch 48/50\n",
      "56/56 [==============================] - 1s - loss: 0.0258 - acc: 1.0000 - val_loss: 0.1947 - val_acc: 0.9333\n",
      "Epoch 49/50\n",
      "56/56 [==============================] - 1s - loss: 0.0123 - acc: 1.0000 - val_loss: 0.2089 - val_acc: 0.8667\n",
      "Epoch 50/50\n",
      "56/56 [==============================] - 1s - loss: 0.0181 - acc: 1.0000 - val_loss: 0.2505 - val_acc: 0.8000\n",
      "Wall time: 1min 5s\n"
     ]
    }
   ],
   "source": [
    "%time hist2 = model2.fit(np.array(x_tr2), y_tr2, nb_epoch=50 , batch_size=36 ,validation_split=0.2, show_accuracy=True , shuffle=True,callbacks=[history2])"
   ]
  },
  {
   "cell_type": "code",
   "execution_count": 171,
   "metadata": {
    "collapsed": false,
    "scrolled": true
   },
   "outputs": [
    {
     "data": {
      "image/png": "[encoded data removed]",
      "text/plain": [
       "<matplotlib.figure.Figure at 0x3e2edac8>"
      ]
     },
     "metadata": {},
     "output_type": "display_data"
    }
   ],
   "source": [
    "plt.plot(hist2.history['acc'],label='acc')\n",
    "plt.plot(hist2.history['loss'],label='loss')\n",
    "plt.plot(hist2.history['val_loss'],label='val_loss')\n",
    "plt.plot(hist2.history['val_acc'],label='val_acc')\n",
    "plt.legend()\n",
    "plt.grid('off')"
   ]
  },
  {
   "cell_type": "code",
   "execution_count": 162,
   "metadata": {
    "collapsed": false
   },
   "outputs": [],
   "source": [
    "m2_wegh =  model2.get_weights()"
   ]
  },
  {
   "cell_type": "code",
   "execution_count": 163,
   "metadata": {
    "collapsed": false
   },
   "outputs": [
    {
     "name": "stdout",
     "output_type": "stream",
     "text": [
      "50\n",
      "50\n",
      "50\n",
      "50\n",
      "100\n",
      "100\n",
      "100\n",
      "100\n",
      "8100\n",
      "1250\n",
      "1250\n",
      "2\n"
     ]
    }
   ],
   "source": [
    "for a in m2_wegh:\n",
    "    print(len(a))\n",
    "    #     print(len(a))"
   ]
  },
  {
   "cell_type": "code",
   "execution_count": 172,
   "metadata": {
    "collapsed": false,
    "scrolled": true
   },
   "outputs": [
    {
     "name": "stdout",
     "output_type": "stream",
     "text": [
      "18/18 [==============================] - 0s     \n"
     ]
    },
    {
     "data": {
      "text/plain": [
       "[0.095350713469088078, 1.0]"
      ]
     },
     "execution_count": 172,
     "metadata": {},
     "output_type": "execute_result"
    }
   ],
   "source": [
    "model2.evaluate(np.array(x_te2),y_te2,batch_size=15,show_accuracy=True)"
   ]
  },
  {
   "cell_type": "code",
   "execution_count": 173,
   "metadata": {
    "collapsed": false
   },
   "outputs": [
    {
     "name": "stdout",
     "output_type": "stream",
     "text": [
      "18/18 [==============================] - 0s\n"
     ]
    }
   ],
   "source": [
    "y_pred2 = model2.predict_classes(np.array(x_te2))"
   ]
  },
  {
   "cell_type": "code",
   "execution_count": 174,
   "metadata": {
    "collapsed": false
   },
   "outputs": [],
   "source": [
    "y_ten2 = [0 if s[0] else 1 for s in y_te2]"
   ]
  },
  {
   "cell_type": "code",
   "execution_count": 175,
   "metadata": {
    "collapsed": false
   },
   "outputs": [],
   "source": [
    "cr = classification_report(y_ten2,y_pred2)"
   ]
  },
  {
   "cell_type": "code",
   "execution_count": 176,
   "metadata": {
    "collapsed": false,
    "scrolled": true
   },
   "outputs": [
    {
     "name": "stdout",
     "output_type": "stream",
     "text": [
      "             precision    recall  f1-score   support\n",
      "\n",
      "          0       1.00      1.00      1.00         6\n",
      "          1       1.00      1.00      1.00        12\n",
      "\n",
      "avg / total       1.00      1.00      1.00        18\n",
      "\n"
     ]
    }
   ],
   "source": [
    "print(cr)"
   ]
  },
  {
   "cell_type": "code",
   "execution_count": null,
   "metadata": {
    "collapsed": true
   },
   "outputs": [],
   "source": [
    "!start c:\\users\\back_jud\\anaconda2\\lib\\site-packages\\keras\\layers\\"
   ]
  },
  {
   "cell_type": "code",
   "execution_count": 177,
   "metadata": {
    "collapsed": false,
    "scrolled": true
   },
   "outputs": [
    {
     "name": "stdout",
     "output_type": "stream",
     "text": [
      "--------------------------------------------------------------------------------\n",
      "Initial input shape: (None, 1, 50, 50)\n",
      "--------------------------------------------------------------------------------\n",
      "Layer (name)                  Output Shape                  Param #             \n",
      "--------------------------------------------------------------------------------\n",
      "Convolution2D (convolution2d) (None, 50, 50, 50)            1300                \n",
      "Activation (activation)       (None, 50, 50, 50)            0                   \n",
      "MaxPooling2D (maxpooling2d)   (None, 50, 25, 25)            0                   \n",
      "Dropout (dropout)             (None, 50, 25, 25)            0                   \n",
      "Convolution2D (convolution2d) (None, 100, 25, 25)           125100              \n",
      "Activation (activation)       (None, 100, 25, 25)           0                   \n",
      "Convolution2D (convolution2d) (None, 100, 21, 21)           250100              \n",
      "Activation (activation)       (None, 100, 21, 21)           0                   \n",
      "MaxPooling2D (maxpooling2d)   (None, 100, 10, 10)           0                   \n",
      "Dropout (dropout)             (None, 100, 10, 10)           0                   \n",
      "Flatten (flatten)             (None, 10000)                 0                   \n",
      "Dense (dense)                 (None, 1250)                  12501250            \n",
      "Activation (activation)       (None, 1250)                  0                   \n",
      "Dense (dense)                 (None, 2)                     2502                \n",
      "--------------------------------------------------------------------------------\n",
      "Total params: 12880252\n",
      "--------------------------------------------------------------------------------\n"
     ]
    }
   ],
   "source": [
    "model2.summary()"
   ]
  },
  {
   "cell_type": "code",
   "execution_count": null,
   "metadata": {
    "collapsed": true
   },
   "outputs": [],
   "source": []
  },
  {
   "cell_type": "code",
   "execution_count": null,
   "metadata": {
    "collapsed": true
   },
   "outputs": [],
   "source": []
  },
  {
   "cell_type": "code",
   "execution_count": null,
   "metadata": {
    "collapsed": true
   },
   "outputs": [],
   "source": []
  },
  {
   "cell_type": "code",
   "execution_count": 54,
   "metadata": {
    "collapsed": true
   },
   "outputs": [
    {
     "name": "stdout",
     "output_type": "stream",
     "text": [
      "mod.cu\r\n",
      "\n",
      "['nvcc', '-shared', '-O3', '--maxrregcount=32', '--use-local-env', '--cl-version=2013', '-arch=sm_50', '-Xlinker', '/DEBUG', '-D HAVE_ROUND', '-m64', '-Xcompiler', '-DCUDA_NDARRAY_CUH=18715462c72ed6afcd7ca5d52813ce90,-DNPY_NO_DEPRECATED_API=NPY_1_7_API_VERSION,/Zi,/MD', '-IC:\\\\Users\\\\Back_jud\\\\AppData\\\\Local\\\\Theano\\\\compiledir_Windows-10-10.0.10586-Intel64_Family_6_Model_60_Stepping_3_GenuineIntel-2.7.11-64\\\\cuda_ndarray', '-IC:\\\\Users\\\\Back_jud\\\\Anaconda2\\\\lib\\\\site-packages\\\\numpy\\\\core\\\\include', '-IC:\\\\Users\\\\Back_jud\\\\Anaconda2\\\\include', '-IC:\\\\Users\\\\Back_jud\\\\Anaconda2\\\\lib\\\\site-packages\\\\theano\\\\gof', '-IC:\\\\Users\\\\Back_jud\\\\Anaconda2\\\\lib\\\\site-packages\\\\theano\\\\sandbox\\\\cuda', '-o', 'C:\\\\Users\\\\Back_jud\\\\AppData\\\\Local\\\\Theano\\\\compiledir_Windows-10-10.0.10586-Intel64_Family_6_Model_60_Stepping_3_GenuineIntel-2.7.11-64\\\\tmp4_hzw1\\\\1dec04b3ffb7f71e669f94f8c2dc9665.pyd', 'mod.cu', '-LC:\\\\Users\\\\Back_jud\\\\AppData\\\\Local\\\\Theano\\\\compiledir_Windows-10-10.0.10586-Intel64_Family_6_Model_60_Stepping_3_GenuineIntel-2.7.11-64\\\\cuda_ndarray', '-LC:\\\\Users\\\\Back_jud\\\\Anaconda2\\\\libs', '-LC:\\\\Users\\\\Back_jud\\\\Anaconda2', '-lcudart', '-lcublas', '-lcuda_ndarray', '-lpython27']\n"
     ]
    },
    {
     "name": "stderr",
     "output_type": "stream",
     "text": [
      "1 #include <Python.h>\n",
      "2 #include <iostream>\n",
      "3 #include \"theano_mod_helper.h\"\n",
      "4 #include \"cuda_ndarray.cuh\"\n",
      "5 //////////////////////\n",
      "6 ////  Support Code\n",
      "7 //////////////////////\n",
      "8 \n",
      "9 \n",
      "10 #define INTDIV_POW2(a, b) (a >> b)\n",
      "11 #define INTMOD_POW2(a, b) (a & ((1<<b)-1))\n",
      "12         // GpuElemwise{Composite{tanh((i0 + i1))}}[(0, 0)]\n",
      "13 // node.op.destroy_map={0: [0]}\n",
      "14 //    Input   0 CudaNdarrayType(float32, 4D)\n",
      "15 //    Input   1 CudaNdarrayType(float32, (True, False, True, True))\n",
      "16 //    Output  0 CudaNdarrayType(float32, 4D)\n",
      "17 static __global__ void kernel_Composite_node_1dec04b3ffb7f71e669f94f8c2dc9665_0_1(unsigned int numEls\n",
      "18 \t, const int dim0\n",
      "19 \t, const float * i0_data, int i0_str_0\n",
      "20 \t, const float * i1_data, int i1_str_0\n",
      "21 \t, float * o0_data, int o0_str_0\n",
      "22 \t)\n",
      "23 {\n",
      "24     const int idx = blockIdx.x * blockDim.x + threadIdx.x;\n",
      "25     const int numThreads = blockDim.x * gridDim.x;\n",
      "26     for (int i = idx; i < numEls; i += numThreads) {\n",
      "27         int ii = i;\n",
      "28         const float * ii_i0_data = i0_data;\n",
      "29         const float * ii_i1_data = i1_data;\n",
      "30         float * ii_o0_data = o0_data;\n",
      "31         int pos0 = ii;\n",
      "32         ii_i0_data += pos0 * i0_str_0;\n",
      "33         ii_i1_data += pos0 * i1_str_0;\n",
      "34         ii_o0_data += pos0 * o0_str_0;\n",
      "35 npy_float32 o0_i;\n",
      "36         {\n",
      "37 npy_float32 V_DUMMY_ID__tmp1;\n",
      "38 V_DUMMY_ID__tmp1 = ii_i0_data[0] + ii_i1_data[0];\n",
      "39 o0_i = tanh(V_DUMMY_ID__tmp1);\n",
      "40 }\n",
      "41 \n",
      "42 ii_o0_data[0] = o0_i;\n",
      "43     }\n",
      "44 }\n",
      "45 // GpuElemwise{Composite{tanh((i0 + i1))}}[(0, 0)]\n",
      "46 // node.op.destroy_map={0: [0]}\n",
      "47 //    Input   0 CudaNdarrayType(float32, 4D)\n",
      "48 //    Input   1 CudaNdarrayType(float32, (True, False, True, True))\n",
      "49 //    Output  0 CudaNdarrayType(float32, 4D)\n",
      "50 static __global__ void kernel_Composite_node_1dec04b3ffb7f71e669f94f8c2dc9665_0_2(unsigned int numEls\n",
      "51 \t, const int dim0, const int dim1\n",
      "52 \t, const float * i0_data, int i0_str_0, int i0_str_1\n",
      "53 \t, const float * i1_data, int i1_str_0, int i1_str_1\n",
      "54 \t, float * o0_data, int o0_str_0, int o0_str_1\n",
      "55 \t)\n",
      "56 {\n",
      "57     const int idx = blockIdx.x * blockDim.x + threadIdx.x;\n",
      "58     const int numThreads = blockDim.x * gridDim.x;\n",
      "59     for (int i = idx; i < numEls; i += numThreads) {\n",
      "60         int ii = i;\n",
      "61         const float * ii_i0_data = i0_data;\n",
      "62         const float * ii_i1_data = i1_data;\n",
      "63         float * ii_o0_data = o0_data;\n",
      "64         int pos1 = ii % dim1;\n",
      "65         ii = ii / dim1;\n",
      "66         ii_i0_data += pos1 * i0_str_1;\n",
      "67         ii_i1_data += pos1 * i1_str_1;\n",
      "68         ii_o0_data += pos1 * o0_str_1;\n",
      "69         int pos0 = ii;\n",
      "70         ii_i0_data += pos0 * i0_str_0;\n",
      "71         ii_i1_data += pos0 * i1_str_0;\n",
      "72         ii_o0_data += pos0 * o0_str_0;\n",
      "73 npy_float32 o0_i;\n",
      "74         {\n",
      "75 npy_float32 V_DUMMY_ID__tmp1;\n",
      "76 V_DUMMY_ID__tmp1 = ii_i0_data[0] + ii_i1_data[0];\n",
      "77 o0_i = tanh(V_DUMMY_ID__tmp1);\n",
      "78 }\n",
      "79 \n",
      "80 ii_o0_data[0] = o0_i;\n",
      "81     }\n",
      "82 }\n",
      "83 // GpuElemwise{Composite{tanh((i0 + i1))}}[(0, 0)]\n",
      "84 // node.op.destroy_map={0: [0]}\n",
      "85 //    Input   0 CudaNdarrayType(float32, 4D)\n",
      "86 //    Input   1 CudaNdarrayType(float32, (True, False, True, True))\n",
      "87 //    Output  0 CudaNdarrayType(float32, 4D)\n",
      "88 static __global__ void kernel_Composite_node_1dec04b3ffb7f71e669f94f8c2dc9665_0_3(unsigned int numEls\n",
      "89 \t, const int dim0, const int dim1, const int dim2\n",
      "90 \t, const float * i0_data, int i0_str_0, int i0_str_1, int i0_str_2\n",
      "91 \t, const float * i1_data, int i1_str_0, int i1_str_1, int i1_str_2\n",
      "92 \t, float * o0_data, int o0_str_0, int o0_str_1, int o0_str_2\n",
      "93 \t)\n",
      "94 {\n",
      "95     const int idx = blockIdx.x * blockDim.x + threadIdx.x;\n",
      "96     const int numThreads = blockDim.x * gridDim.x;\n",
      "97     for (int i = idx; i < numEls; i += numThreads) {\n",
      "98         int ii = i;\n",
      "99         const float * ii_i0_data = i0_data;\n",
      "100         const float * ii_i1_data = i1_data;\n",
      "101         float * ii_o0_data = o0_data;\n",
      "102         int pos2 = ii % dim2;\n",
      "103         ii = ii / dim2;\n",
      "104         ii_i0_data += pos2 * i0_str_2;\n",
      "105         ii_i1_data += pos2 * i1_str_2;\n",
      "106         ii_o0_data += pos2 * o0_str_2;\n",
      "107         int pos1 = ii % dim1;\n",
      "108         ii = ii / dim1;\n",
      "109         ii_i0_data += pos1 * i0_str_1;\n",
      "110         ii_i1_data += pos1 * i1_str_1;\n",
      "111         ii_o0_data += pos1 * o0_str_1;\n",
      "112         int pos0 = ii;\n",
      "113         ii_i0_data += pos0 * i0_str_0;\n",
      "114         ii_i1_data += pos0 * i1_str_0;\n",
      "115         ii_o0_data += pos0 * o0_str_0;\n",
      "116 npy_float32 o0_i;\n",
      "117         {\n",
      "118 npy_float32 V_DUMMY_ID__tmp1;\n",
      "119 V_DUMMY_ID__tmp1 = ii_i0_data[0] + ii_i1_data[0];\n",
      "120 o0_i = tanh(V_DUMMY_ID__tmp1);\n",
      "121 }\n",
      "122 \n",
      "123 ii_o0_data[0] = o0_i;\n",
      "124     }\n",
      "125 }\n",
      "126 // GpuElemwise{Composite{tanh((i0 + i1))}}[(0, 0)]\n",
      "127 // node.op.destroy_map={0: [0]}\n",
      "128 //    Input   0 CudaNdarrayType(float32, 4D)\n",
      "129 //    Input   1 CudaNdarrayType(float32, (True, False, True, True))\n",
      "130 //    Output  0 CudaNdarrayType(float32, 4D)\n",
      "131 static __global__ void kernel_Composite_node_1dec04b3ffb7f71e669f94f8c2dc9665_0_4(unsigned int numEls\n",
      "132 \t, const int dim0, const int dim1, const int dim2, const int dim3\n",
      "133 \t, const float * i0_data, int i0_str_0, int i0_str_1, int i0_str_2, int i0_str_3\n",
      "134 \t, const float * i1_data, int i1_str_0, int i1_str_1, int i1_str_2, int i1_str_3\n",
      "135 \t, float * o0_data, int o0_str_0, int o0_str_1, int o0_str_2, int o0_str_3\n",
      "136 \t)\n",
      "137 {\n",
      "138     const int idx = blockIdx.x * blockDim.x + threadIdx.x;\n",
      "139     const int numThreads = blockDim.x * gridDim.x;\n",
      "140     for (int i = idx; i < numEls; i += numThreads) {\n",
      "141         int ii = i;\n",
      "142         const float * ii_i0_data = i0_data;\n",
      "143         const float * ii_i1_data = i1_data;\n",
      "144         float * ii_o0_data = o0_data;\n",
      "145         int pos3 = ii % dim3;\n",
      "146         ii = ii / dim3;\n",
      "147         ii_i0_data += pos3 * i0_str_3;\n",
      "148         ii_i1_data += pos3 * i1_str_3;\n",
      "149         ii_o0_data += pos3 * o0_str_3;\n",
      "150         int pos2 = ii % dim2;\n",
      "151         ii = ii / dim2;\n",
      "152         ii_i0_data += pos2 * i0_str_2;\n",
      "153         ii_i1_data += pos2 * i1_str_2;\n",
      "154         ii_o0_data += pos2 * o0_str_2;\n",
      "155         int pos1 = ii % dim1;\n",
      "156         ii = ii / dim1;\n",
      "157         ii_i0_data += pos1 * i0_str_1;\n",
      "158         ii_i1_data += pos1 * i1_str_1;\n",
      "159         ii_o0_data += pos1 * o0_str_1;\n",
      "160         int pos0 = ii;\n",
      "161         ii_i0_data += pos0 * i0_str_0;\n",
      "162         ii_i1_data += pos0 * i1_str_0;\n",
      "163         ii_o0_data += pos0 * o0_str_0;\n",
      "164 npy_float32 o0_i;\n",
      "165         {\n",
      "166 npy_float32 V_DUMMY_ID__tmp1;\n",
      "167 V_DUMMY_ID__tmp1 = ii_i0_data[0] + ii_i1_data[0];\n",
      "168 o0_i = tanh(V_DUMMY_ID__tmp1);\n",
      "169 }\n",
      "170 \n",
      "171 ii_o0_data[0] = o0_i;\n",
      "172     }\n",
      "173 }\n",
      "174 // GpuElemwise{Composite{tanh((i0 + i1))}}[(0, 0)]\n",
      "175 // node.op.destroy_map={0: [0]}\n",
      "176 //    Input   0 CudaNdarrayType(float32, 4D)\n",
      "177 //    Input   1 CudaNdarrayType(float32, (True, False, True, True))\n",
      "178 //    Output  0 CudaNdarrayType(float32, 4D)\n",
      "179 static __global__ void kernel_Composite_node_1dec04b3ffb7f71e669f94f8c2dc9665_0_Ccontiguous (unsigned int numEls\n",
      "180 \t, const float * i0_data\n",
      "181 \t, const float * i1_data\n",
      "182 \t, float * o0_data\n",
      "183 \t)\n",
      "184 {\n",
      "185     const int idx = blockIdx.x * blockDim.x + threadIdx.x;\n",
      "186     const int numThreads = blockDim.x * gridDim.x;\n",
      "187     for (int i = idx; i < numEls; i += numThreads) {\n",
      "188 npy_float32 o0_i;\n",
      "189         {\n",
      "190 npy_float32 V_DUMMY_ID__tmp1;\n",
      "191 V_DUMMY_ID__tmp1 = i0_data[i] + i1_data[i];\n",
      "192 o0_i = tanh(V_DUMMY_ID__tmp1);\n",
      "193 }\n",
      "194 \n",
      "195 o0_data[i] = o0_i;\n",
      "196     }\n",
      "197 }\n",
      "198 \n",
      "199         static void can_collapse_node_1dec04b3ffb7f71e669f94f8c2dc9665_0(int nd, const int * dims, const int * strides, int collapse[])\n",
      "200         {\n",
      "201             //can we collapse dims[i] and dims[i-1]\n",
      "202             for(int i=nd-1;i>0;i--){\n",
      "203                 if(strides[i]*dims[i]==strides[i-1]){//the dims nd-1 are not strided again dimension nd\n",
      "204                     collapse[i]=1;\n",
      "205                 }else collapse[i]=0;\n",
      "206             }\n",
      "207         }\n",
      "208         \n",
      "209 \n",
      "210         static int callkernel_node_1dec04b3ffb7f71e669f94f8c2dc9665_0(unsigned int numEls, const int d,\n",
      "211             const int * dims,\n",
      "212             const float * i0_data, const int * i0_str, const float * i1_data, const int * i1_str,\n",
      "213             float * o0_data, const int * o0_str)\n",
      "214         {\n",
      "215             numEls = dims[0]*dims[1]*dims[2]*dims[3]*1;\n",
      "216         \n",
      "217 int local_dims[4];\n",
      "218 \n",
      "219             int local_str[2][4];\n",
      "220             int local_ostr[1][4];\n",
      "221             \n",
      "222 \n",
      "223         int nd_collapse = 4;\n",
      "224         for(int i=0;i<4;i++){//init new dim\n",
      "225           local_dims[i]=dims[i];\n",
      "226         }\n",
      "227         \n",
      "228 \n",
      "229             for(int i=0;i<4;i++){//init new strides\n",
      "230               local_str[0][i]=i0_str[i];\n",
      "231             }\n",
      "232             \n",
      "233 \n",
      "234             for(int i=0;i<4;i++){//init new strides\n",
      "235               local_str[1][i]=i1_str[i];\n",
      "236             }\n",
      "237             \n",
      "238 \n",
      "239             for(int i=0;i<4;i++){//init new strides\n",
      "240               local_ostr[0][i]=o0_str[i];\n",
      "241             }\n",
      "242             \n",
      "243 \n",
      "244         for(int id=0;id<nd_collapse;id++){\n",
      "245 \n",
      "246           bool all_broadcast=true;\n",
      "247           for(int input_id=0;input_id<2;input_id++){\n",
      "248             if(local_str[input_id][id]!=0 || local_dims[id]!=1) all_broadcast= false;\n",
      "249           }\n",
      "250           for(int input_id=0;input_id<1;input_id++){\n",
      "251             if(local_ostr[input_id][id]!=0 || local_dims[id]!=1) all_broadcast= false;\n",
      "252           }\n",
      "253           if(all_broadcast){\n",
      "254             for(int j=id+1;j<nd_collapse;j++)//remove dims i from the array\n",
      "255               local_dims[j-1]=local_dims[j];\n",
      "256             for(int input_id=0;input_id<2;input_id++){\n",
      "257               for(int j=id+1;j<nd_collapse;j++){//remove dims i from the array\n",
      "258                 local_str[input_id][j-1]=local_str[input_id][j];\n",
      "259               }\n",
      "260             }\n",
      "261             for(int output_id=0;output_id<1;output_id++){\n",
      "262               for(int j=id+1;j<nd_collapse;j++){//remove dims i from the array\n",
      "263                 local_ostr[output_id][j-1]=local_ostr[output_id][j];\n",
      "264               }\n",
      "265             }\n",
      "266             nd_collapse--; id--;\n",
      "267           }\n",
      "268         }\n",
      "269         \n",
      "270 int nd_collapse_[4] = {1,1,1,1};\n",
      "271 \n",
      "272                         int nd_collapse_0[4] = {1,1,1,1};\n",
      "273 \n",
      "274 can_collapse_node_1dec04b3ffb7f71e669f94f8c2dc9665_0(nd_collapse, local_dims, local_str[0], nd_collapse_0);\n",
      "275 for(int i=0;i<nd_collapse;i++){\n",
      "276 if(nd_collapse_0[i]==0)\n",
      "277 nd_collapse_[i]=0;\n",
      "278 }\n",
      "279                 \n",
      "280 \n",
      "281                         int nd_collapse_1[4] = {1,1,1,1};\n",
      "282 \n",
      "283 can_collapse_node_1dec04b3ffb7f71e669f94f8c2dc9665_0(nd_collapse, local_dims, local_str[1], nd_collapse_1);\n",
      "284 for(int i=0;i<nd_collapse;i++){\n",
      "285 if(nd_collapse_1[i]==0)\n",
      "286 nd_collapse_[i]=0;\n",
      "287 }\n",
      "288                 \n",
      "289 \n",
      "290             for(int i=nd_collapse-1;i>0;i--){\n",
      "291               if(nd_collapse_[i]==1){\n",
      "292                 local_str[0][i-1]=local_str[0][i];//set new strides\n",
      "293                 for(int j=i+1;j<nd_collapse;j++)//remove stride i from the array\n",
      "294                   local_str[0][j-1]=local_str[0][j];\n",
      "295                 }\n",
      "296             }\n",
      "297             \n",
      "298 \n",
      "299             for(int i=nd_collapse-1;i>0;i--){\n",
      "300               if(nd_collapse_[i]==1){\n",
      "301                 local_str[1][i-1]=local_str[1][i];//set new strides\n",
      "302                 for(int j=i+1;j<nd_collapse;j++)//remove stride i from the array\n",
      "303                   local_str[1][j-1]=local_str[1][j];\n",
      "304                 }\n",
      "305             }\n",
      "306             \n",
      "307 \n",
      "308             for(int i=nd_collapse-1;i>0;i--){\n",
      "309               if(nd_collapse_[i]==1){\n",
      "310                 local_ostr[0][i-1]=local_ostr[0][i];//set new strides\n",
      "311                 for(int j=i+1;j<nd_collapse;j++)//remove stride i from the array\n",
      "312                   local_ostr[0][j-1]=local_ostr[0][j];\n",
      "313                 }\n",
      "314             }\n",
      "315             \n",
      "316 \n",
      "317         for(int i=nd_collapse-1;i>0;i--){\n",
      "318           if(nd_collapse_[i]==1){\n",
      "319             local_dims[i-1]*=local_dims[i];//set new dims\n",
      "320             for(int j=i+1;j<nd_collapse;j++)//remove dims i from the array\n",
      "321               local_dims[j-1]=local_dims[j];\n",
      "322           }\n",
      "323         }\n",
      "324         \n",
      "325 \n",
      "326         for(int i=1, end=nd_collapse;i<end;i++){\n",
      "327           if(nd_collapse_[i]==1)nd_collapse--;\n",
      "328         }\n",
      "329         if(nd_collapse == 1 \n",
      "330  &&  local_str[0][nd_collapse-1]==1  && local_str[1][nd_collapse-1]==1  && local_ostr[0][nd_collapse-1]==1 \n",
      "331 ){nd_collapse=0;} \n",
      "332 if(numEls==0) return 0;\n",
      "333 switch (nd_collapse==0?0:min(4,nd_collapse)) {\n",
      "334 case 0: {\n",
      "335 \n",
      "336                 //first use at least a full warp\n",
      "337                 int threads_per_block = std::min(numEls,  (unsigned int)32); //WARP SIZE\n",
      "338 \n",
      "339                 //next start adding multiprocessors\n",
      "340                 int n_blocks = std::min(numEls/threads_per_block + (numEls % threads_per_block?1:0), (unsigned int)30); // UP TO NUMBER OF MULTIPROCESSORS\n",
      "341 \n",
      "342                 // next start adding more warps per multiprocessor\n",
      "343                 if (threads_per_block * n_blocks < numEls)\n",
      "344                     threads_per_block = std::min(numEls/n_blocks, (unsigned int)NUM_VECTOR_OP_THREADS_PER_BLOCK);\n",
      "345                 kernel_Composite_node_1dec04b3ffb7f71e669f94f8c2dc9665_0_Ccontiguous<<<n_blocks, threads_per_block>>>(numEls, i0_data, i1_data, o0_data);\n",
      "346 \n",
      "347                 //std::cerr << \"calling callkernel returned\\n\";\n",
      "348                 \n",
      "349 \n",
      "350                 CNDA_THREAD_SYNC;\n",
      "351                 cudaError_t err = cudaGetLastError();\n",
      "352                 if( cudaSuccess != err)\n",
      "353                 {\n",
      "354                     PyErr_Format(PyExc_RuntimeError, \"Cuda error: %s: %s.\\n    n_blocks=%i threads_per_block=%i\\n   Call: %s\\n\",\n",
      "355                          \"GpuElemwise node_1dec04b3ffb7f71e669f94f8c2dc9665_0 Composite\", cudaGetErrorString(err),\n",
      "356                          n_blocks, threads_per_block,\n",
      "357                          \"kernel_Composite_node_1dec04b3ffb7f71e669f94f8c2dc9665_0_Ccontiguous<<<n_blocks, threads_per_block>>>(numEls, i0_data, i1_data, o0_data)\");\n",
      "358                     return -1;\n",
      "359 \n",
      "360                 }\n",
      "361                 \n",
      "362                 return 0;\n",
      "363                 \n",
      "364         } break;\n",
      "365 case 1: {\n",
      "366 \n",
      "367                 //first use at least a full warp\n",
      "368                 int threads_per_block = std::min(numEls, (unsigned int)32); //WARP SIZE\n",
      "369 \n",
      "370                 //next start adding multiprocessors\n",
      "371                 int n_blocks = std::min(numEls/threads_per_block + (numEls % threads_per_block?1:0), (unsigned int)30); // UP TO NUMBER OF MULTIPROCESSORS\n",
      "372 \n",
      "373                 // next start adding more warps per multiprocessor\n",
      "374                 if (threads_per_block * n_blocks < numEls)\n",
      "375                     threads_per_block = std::min(numEls/n_blocks, (unsigned int)NUM_VECTOR_OP_THREADS_PER_BLOCK);\n",
      "376 \n",
      "377                 kernel_Composite_node_1dec04b3ffb7f71e669f94f8c2dc9665_0_1<<<n_blocks, threads_per_block>>>(numEls, local_dims[0], i0_data, local_str[0][0], i1_data, local_str[1][0], o0_data, local_ostr[0][0]);\n",
      "378                 \n",
      "379 \n",
      "380                 CNDA_THREAD_SYNC;\n",
      "381                 cudaError_t err = cudaGetLastError();\n",
      "382                 if( cudaSuccess != err)\n",
      "383                 {\n",
      "384                     PyErr_Format(PyExc_RuntimeError, \"Cuda error: %s: %s.\\n    n_blocks=%i threads_per_block=%i\\n   Call: %s\\n\",\n",
      "385                          \"GpuElemwise node_1dec04b3ffb7f71e669f94f8c2dc9665_0 Composite\", cudaGetErrorString(err),\n",
      "386                          n_blocks, threads_per_block,\n",
      "387                          \"kernel_Composite_node_1dec04b3ffb7f71e669f94f8c2dc9665_0_Ccontiguous<<<n_blocks, threads_per_block>>>(numEls, local_dims[0], i0_data, local_str[0][0], i1_data, local_str[1][0], o0_data, local_ostr[0][0])\");\n",
      "388                     return -1;\n",
      "389 \n",
      "390                 }\n",
      "391                 return 0;\n",
      "392                 \n",
      "393         } break;\n",
      "394 case 2: {\n",
      "395 \n",
      "396                 //first use at least a full warp\n",
      "397                 int threads_per_block = std::min(numEls, (unsigned int)32); //WARP SIZE\n",
      "398 \n",
      "399                 //next start adding multiprocessors\n",
      "400                 int n_blocks = std::min(numEls/threads_per_block + (numEls % threads_per_block?1:0), (unsigned int)30); // UP TO NUMBER OF MULTIPROCESSORS\n",
      "401 \n",
      "402                 // next start adding more warps per multiprocessor\n",
      "403                 if (threads_per_block * n_blocks < numEls)\n",
      "404                     threads_per_block = std::min(numEls/n_blocks, (unsigned int)NUM_VECTOR_OP_THREADS_PER_BLOCK);\n",
      "405 \n",
      "406                 kernel_Composite_node_1dec04b3ffb7f71e669f94f8c2dc9665_0_2<<<n_blocks, threads_per_block>>>(numEls, local_dims[0], local_dims[1], i0_data, local_str[0][0], local_str[0][1], i1_data, local_str[1][0], local_str[1][1], o0_data, local_ostr[0][0], local_ostr[0][1]);\n",
      "407                 \n",
      "408 \n",
      "409                 CNDA_THREAD_SYNC;\n",
      "410                 cudaError_t err = cudaGetLastError();\n",
      "411                 if( cudaSuccess != err)\n",
      "412                 {\n",
      "413                     PyErr_Format(PyExc_RuntimeError, \"Cuda error: %s: %s.\\n    n_blocks=%i threads_per_block=%i\\n   Call: %s\\n\",\n",
      "414                          \"GpuElemwise node_1dec04b3ffb7f71e669f94f8c2dc9665_0 Composite\", cudaGetErrorString(err),\n",
      "415                          n_blocks, threads_per_block,\n",
      "416                          \"kernel_Composite_node_1dec04b3ffb7f71e669f94f8c2dc9665_0_Ccontiguous<<<n_blocks, threads_per_block>>>(numEls, local_dims[0], local_dims[1], i0_data, local_str[0][0], local_str[0][1], i1_data, local_str[1][0], local_str[1][1], o0_data, local_ostr[0][0], local_ostr[0][1])\");\n",
      "417                     return -1;\n",
      "418 \n",
      "419                 }\n",
      "420                 return 0;\n",
      "421                 \n",
      "422         } break;\n",
      "423 case 3: {\n",
      "424 \n",
      "425                 //first use at least a full warp\n",
      "426                 int threads_per_block = std::min(numEls, (unsigned int)32); //WARP SIZE\n",
      "427 \n",
      "428                 //next start adding multiprocessors\n",
      "429                 int n_blocks = std::min(numEls/threads_per_block + (numEls % threads_per_block?1:0), (unsigned int)30); // UP TO NUMBER OF MULTIPROCESSORS\n",
      "430 \n",
      "431                 // next start adding more warps per multiprocessor\n",
      "432                 if (threads_per_block * n_blocks < numEls)\n",
      "433                     threads_per_block = std::min(numEls/n_blocks, (unsigned int)NUM_VECTOR_OP_THREADS_PER_BLOCK);\n",
      "434 \n",
      "435                 kernel_Composite_node_1dec04b3ffb7f71e669f94f8c2dc9665_0_3<<<n_blocks, threads_per_block>>>(numEls, local_dims[0], local_dims[1], local_dims[2], i0_data, local_str[0][0], local_str[0][1], local_str[0][2], i1_data, local_str[1][0], local_str[1][1], local_str[1][2], o0_data, local_ostr[0][0], local_ostr[0][1], local_ostr[0][2]);\n",
      "436                 \n",
      "437 \n",
      "438                 CNDA_THREAD_SYNC;\n",
      "439                 cudaError_t err = cudaGetLastError();\n",
      "440                 if( cudaSuccess != err)\n",
      "441                 {\n",
      "442                     PyErr_Format(PyExc_RuntimeError, \"Cuda error: %s: %s.\\n    n_blocks=%i threads_per_block=%i\\n   Call: %s\\n\",\n",
      "443                          \"GpuElemwise node_1dec04b3ffb7f71e669f94f8c2dc9665_0 Composite\", cudaGetErrorString(err),\n",
      "444                          n_blocks, threads_per_block,\n",
      "445                          \"kernel_Composite_node_1dec04b3ffb7f71e669f94f8c2dc9665_0_Ccontiguous<<<n_blocks, threads_per_block>>>(numEls, local_dims[0], local_dims[1], local_dims[2], i0_data, local_str[0][0], local_str[0][1], local_str[0][2], i1_data, local_str[1][0], local_str[1][1], local_str[1][2], o0_data, local_ostr[0][0], local_ostr[0][1], local_ostr[0][2])\");\n",
      "446                     return -1;\n",
      "447 \n",
      "448                 }\n",
      "449                 return 0;\n",
      "450                 \n",
      "451         } break;\n",
      "452 case 4: {\n",
      "453 \n",
      "454                 //first use at least a full warp\n",
      "455                 int threads_per_block = std::min(numEls, (unsigned int)32); //WARP SIZE\n",
      "456 \n",
      "457                 //next start adding multiprocessors\n",
      "458                 int n_blocks = std::min(numEls/threads_per_block + (numEls % threads_per_block?1:0), (unsigned int)30); // UP TO NUMBER OF MULTIPROCESSORS\n",
      "459 \n",
      "460                 // next start adding more warps per multiprocessor\n",
      "461                 if (threads_per_block * n_blocks < numEls)\n",
      "462                     threads_per_block = std::min(numEls/n_blocks, (unsigned int)NUM_VECTOR_OP_THREADS_PER_BLOCK);\n",
      "463 \n",
      "464                 kernel_Composite_node_1dec04b3ffb7f71e669f94f8c2dc9665_0_4<<<n_blocks, threads_per_block>>>(numEls, local_dims[0], local_dims[1], local_dims[2], local_dims[3], i0_data, local_str[0][0], local_str[0][1], local_str[0][2], local_str[0][3], i1_data, local_str[1][0], local_str[1][1], local_str[1][2], local_str[1][3], o0_data, local_ostr[0][0], local_ostr[0][1], local_ostr[0][2], local_ostr[0][3]);\n",
      "465                 \n",
      "466 \n",
      "467                 CNDA_THREAD_SYNC;\n",
      "468                 cudaError_t err = cudaGetLastError();\n",
      "469                 if( cudaSuccess != err)\n",
      "470                 {\n",
      "471                     PyErr_Format(PyExc_RuntimeError, \"Cuda error: %s: %s.\\n    n_blocks=%i threads_per_block=%i\\n   Call: %s\\n\",\n",
      "472                          \"GpuElemwise node_1dec04b3ffb7f71e669f94f8c2dc9665_0 Composite\", cudaGetErrorString(err),\n",
      "473                          n_blocks, threads_per_block,\n",
      "474                          \"kernel_Composite_node_1dec04b3ffb7f71e669f94f8c2dc9665_0_Ccontiguous<<<n_blocks, threads_per_block>>>(numEls, local_dims[0], local_dims[1], local_dims[2], local_dims[3], i0_data, local_str[0][0], local_str[0][1], local_str[0][2], local_str[0][3], i1_data, local_str[1][0], local_str[1][1], local_str[1][2], local_str[1][3], o0_data, local_ostr[0][0], local_ostr[0][1], local_ostr[0][2], local_ostr[0][3])\");\n",
      "475                     return -1;\n",
      "476 \n",
      "477                 }\n",
      "478                 return 0;\n",
      "479                 \n",
      "480         } break;\n",
      "481 }\n",
      "482 return -2;\n",
      "483 }\n",
      "484 \n",
      "485 \n",
      "486     namespace {\n",
      "487     struct __struct_compiled_op_1dec04b3ffb7f71e669f94f8c2dc9665 {\n",
      "488         PyObject* __ERROR;\n",
      "489 \n",
      "490         PyObject* storage_V3;\n",
      "491 PyObject* storage_V5;\n",
      "492 PyObject* storage_V1;\n",
      "493         \n",
      "494 \n",
      "495         __struct_compiled_op_1dec04b3ffb7f71e669f94f8c2dc9665() {\n",
      "496             // This is only somewhat safe because we:\n",
      "497             //  1) Are not a virtual class\n",
      "498             //  2) Do not use any virtual classes in the members\n",
      "499             //  3) Deal with mostly POD and pointers\n",
      "500 \n",
      "501             // If this changes, we would have to revise this, but for\n",
      "502             // now I am tired of chasing segfaults because\n",
      "503             // initialization code had an error and some pointer has\n",
      "504             // a junk value.\n",
      "505             memset(this, 0, sizeof(*this));\n",
      "506         }\n",
      "507         ~__struct_compiled_op_1dec04b3ffb7f71e669f94f8c2dc9665(void) {\n",
      "508             cleanup();\n",
      "509         }\n",
      "510 \n",
      "511         int init(PyObject* __ERROR, PyObject* storage_V3, PyObject* storage_V5, PyObject* storage_V1) {\n",
      "512             Py_XINCREF(storage_V3);\n",
      "513 Py_XINCREF(storage_V5);\n",
      "514 Py_XINCREF(storage_V1);\n",
      "515             this->storage_V3 = storage_V3;\n",
      "516 this->storage_V5 = storage_V5;\n",
      "517 this->storage_V1 = storage_V1;\n",
      "518             \n",
      "519 \n",
      "520 \n",
      "521 \n",
      "522 \n",
      "523             this->__ERROR = __ERROR;\n",
      "524             return 0;\n",
      "525         }\n",
      "526         void cleanup(void) {\n",
      "527             __label_1:\n",
      "528 \n",
      "529 double __DUMMY_1;\n",
      "530 __label_3:\n",
      "531 \n",
      "532 double __DUMMY_3;\n",
      "533 __label_5:\n",
      "534 \n",
      "535 double __DUMMY_5;\n",
      "536 __label_8:\n",
      "537 \n",
      "538 double __DUMMY_8;\n",
      "539 \n",
      "540             Py_XDECREF(this->storage_V3);\n",
      "541 Py_XDECREF(this->storage_V5);\n",
      "542 Py_XDECREF(this->storage_V1);\n",
      "543         }\n",
      "544         int run(void) {\n",
      "545             int __failure = 0;\n",
      "546             \n",
      "547     PyObject* py_V1;\n",
      "548      CudaNdarray * V1;\n",
      "549     PyObject* py_V3;\n",
      "550      CudaNdarray * V3;\n",
      "551     PyObject* py_V5;\n",
      "552      CudaNdarray * V5;\n",
      "553 {\n",
      "554 \n",
      "555     py_V1 = PyList_GET_ITEM(storage_V1, 0);\n",
      "556     {Py_XINCREF(py_V1);}\n",
      "557     \n",
      "558         if (py_V1 == Py_None)\n",
      "559         {\n",
      "560             V1 = NULL;\n",
      "561         }\n",
      "562         else\n",
      "563         {\n",
      "564             \n",
      "565         assert(py_V1->ob_refcnt >= 2); // There should be at least one ref from the container object,\n",
      "566         // and one ref from the local scope.\n",
      "567 \n",
      "568         if (CudaNdarray_Check(py_V1))\n",
      "569         {\n",
      "570             //fprintf(stderr, \"c_extract CNDA object w refcnt %p %i\\n\", py_V1, (py_V1->ob_refcnt));\n",
      "571             V1 = (CudaNdarray*)py_V1;\n",
      "572             //std::cerr << \"c_extract \" << V1 << '\\n';\n",
      "573         \n",
      "574 \n",
      "575                 if (V1->nd != 4)\n",
      "576                 {\n",
      "577                     PyErr_Format(PyExc_RuntimeError,\n",
      "578                                  \"c_extract: Some CudaNdarray has rank %i, it was supposed to have rank 4\",\n",
      "579                                  V1->nd);\n",
      "580                     V1 = NULL;\n",
      "581                     {\n",
      "582         __failure = 2;\n",
      "583         if (!PyErr_Occurred()) {\n",
      "584             PyErr_SetString(PyExc_RuntimeError,\n",
      "585                 \"Unexpected error in an Op's C code. \"\n",
      "586                 \"No Python exception was set.\");\n",
      "587             }\n",
      "588         goto __label_2;};\n",
      "589                 }\n",
      "590                 //std::cerr << \"c_extract \" << V1 << \" nd check passed\\n\";\n",
      "591             \n",
      "592 \n",
      "593                 assert(V1);\n",
      "594                 Py_INCREF(py_V1);\n",
      "595             }\n",
      "596             else if (py_V1 == Py_None)\n",
      "597             {\n",
      "598                 PyErr_SetString(PyExc_TypeError,\n",
      "599                                 \"expected a CudaNdarray, not None\");\n",
      "600                 V1 = NULL;\n",
      "601                 {\n",
      "602         __failure = 2;\n",
      "603         if (!PyErr_Occurred()) {\n",
      "604             PyErr_SetString(PyExc_RuntimeError,\n",
      "605                 \"Unexpected error in an Op's C code. \"\n",
      "606                 \"No Python exception was set.\");\n",
      "607             }\n",
      "608         goto __label_2;};\n",
      "609             }\n",
      "610             else\n",
      "611             {\n",
      "612                 //fprintf(stderr, \"FAILING c_extract CNDA object w refcnt %p %i\\n\", py_V1, (py_V1->ob_refcnt));\n",
      "613                 PyErr_SetString(PyExc_TypeError, \"Argument not a CudaNdarray\");\n",
      "614                 V1 = NULL;\n",
      "615                 {\n",
      "616         __failure = 2;\n",
      "617         if (!PyErr_Occurred()) {\n",
      "618             PyErr_SetString(PyExc_RuntimeError,\n",
      "619                 \"Unexpected error in an Op's C code. \"\n",
      "620                 \"No Python exception was set.\");\n",
      "621             }\n",
      "622         goto __label_2;};\n",
      "623             }\n",
      "624             //std::cerr << \"c_extract done \" << V1 << '\\n';\n",
      "625             \n",
      "626 \n",
      "627         }\n",
      "628         \n",
      "629 {\n",
      "630 \n",
      "631     py_V3 = PyList_GET_ITEM(storage_V3, 0);\n",
      "632     {Py_XINCREF(py_V3);}\n",
      "633     \n",
      "634         assert(py_V3->ob_refcnt >= 2); // There should be at least one ref from the container object,\n",
      "635         // and one ref from the local scope.\n",
      "636 \n",
      "637         if (CudaNdarray_Check(py_V3))\n",
      "638         {\n",
      "639             //fprintf(stderr, \"c_extract CNDA object w refcnt %p %i\\n\", py_V3, (py_V3->ob_refcnt));\n",
      "640             V3 = (CudaNdarray*)py_V3;\n",
      "641             //std::cerr << \"c_extract \" << V3 << '\\n';\n",
      "642         \n",
      "643 \n",
      "644                 if (V3->nd != 4)\n",
      "645                 {\n",
      "646                     PyErr_Format(PyExc_RuntimeError,\n",
      "647                                  \"c_extract: Some CudaNdarray has rank %i, it was supposed to have rank 4\",\n",
      "648                                  V3->nd);\n",
      "649                     V3 = NULL;\n",
      "650                     {\n",
      "651         __failure = 4;\n",
      "652         if (!PyErr_Occurred()) {\n",
      "653             PyErr_SetString(PyExc_RuntimeError,\n",
      "654                 \"Unexpected error in an Op's C code. \"\n",
      "655                 \"No Python exception was set.\");\n",
      "656             }\n",
      "657         goto __label_4;};\n",
      "658                 }\n",
      "659                 //std::cerr << \"c_extract \" << V3 << \" nd check passed\\n\";\n",
      "660             \n",
      "661 \n",
      "662                 assert(V3);\n",
      "663                 Py_INCREF(py_V3);\n",
      "664             }\n",
      "665             else if (py_V3 == Py_None)\n",
      "666             {\n",
      "667                 PyErr_SetString(PyExc_TypeError,\n",
      "668                                 \"expected a CudaNdarray, not None\");\n",
      "669                 V3 = NULL;\n",
      "670                 {\n",
      "671         __failure = 4;\n",
      "672         if (!PyErr_Occurred()) {\n",
      "673             PyErr_SetString(PyExc_RuntimeError,\n",
      "674                 \"Unexpected error in an Op's C code. \"\n",
      "675                 \"No Python exception was set.\");\n",
      "676             }\n",
      "677         goto __label_4;};\n",
      "678             }\n",
      "679             else\n",
      "680             {\n",
      "681                 //fprintf(stderr, \"FAILING c_extract CNDA object w refcnt %p %i\\n\", py_V3, (py_V3->ob_refcnt));\n",
      "682                 PyErr_SetString(PyExc_TypeError, \"Argument not a CudaNdarray\");\n",
      "683                 V3 = NULL;\n",
      "684                 {\n",
      "685         __failure = 4;\n",
      "686         if (!PyErr_Occurred()) {\n",
      "687             PyErr_SetString(PyExc_RuntimeError,\n",
      "688                 \"Unexpected error in an Op's C code. \"\n",
      "689                 \"No Python exception was set.\");\n",
      "690             }\n",
      "691         goto __label_4;};\n",
      "692             }\n",
      "693             //std::cerr << \"c_extract done \" << V3 << '\\n';\n",
      "694             \n",
      "695 \n",
      "696 {\n",
      "697 \n",
      "698     py_V5 = PyList_GET_ITEM(storage_V5, 0);\n",
      "699     {Py_XINCREF(py_V5);}\n",
      "700     \n",
      "701         assert(py_V5->ob_refcnt >= 2); // There should be at least one ref from the container object,\n",
      "702         // and one ref from the local scope.\n",
      "703 \n",
      "704         if (CudaNdarray_Check(py_V5))\n",
      "705         {\n",
      "706             //fprintf(stderr, \"c_extract CNDA object w refcnt %p %i\\n\", py_V5, (py_V5->ob_refcnt));\n",
      "707             V5 = (CudaNdarray*)py_V5;\n",
      "708             //std::cerr << \"c_extract \" << V5 << '\\n';\n",
      "709         \n",
      "710 \n",
      "711                 if (V5->nd != 4)\n",
      "712                 {\n",
      "713                     PyErr_Format(PyExc_RuntimeError,\n",
      "714                                  \"c_extract: Some CudaNdarray has rank %i, it was supposed to have rank 4\",\n",
      "715                                  V5->nd);\n",
      "716                     V5 = NULL;\n",
      "717                     {\n",
      "718         __failure = 6;\n",
      "719         if (!PyErr_Occurred()) {\n",
      "720             PyErr_SetString(PyExc_RuntimeError,\n",
      "721                 \"Unexpected error in an Op's C code. \"\n",
      "722                 \"No Python exception was set.\");\n",
      "723             }\n",
      "724         goto __label_6;};\n",
      "725                 }\n",
      "726                 //std::cerr << \"c_extract \" << V5 << \" nd check passed\\n\";\n",
      "727             \n",
      "728 \n",
      "729                 if (CudaNdarray_HOST_DIMS(V5)[0] != 1)\n",
      "730                 {\n",
      "731                     PyErr_Format(PyExc_RuntimeError,\n",
      "732                                  \"c_extract: Some CudaNdarray has dim %i on broadcastable dimension %i\",\n",
      "733                                  CudaNdarray_HOST_DIMS(V5)[0], 0);\n",
      "734                     V5 = NULL;\n",
      "735                     {\n",
      "736         __failure = 6;\n",
      "737         if (!PyErr_Occurred()) {\n",
      "738             PyErr_SetString(PyExc_RuntimeError,\n",
      "739                 \"Unexpected error in an Op's C code. \"\n",
      "740                 \"No Python exception was set.\");\n",
      "741             }\n",
      "742         goto __label_6;};\n",
      "743                 }\n",
      "744                 //std::cerr << \"c_extract \" << V5 << \"dim check 0 passed\\n\";\n",
      "745                 //std::cerr << \"c_extract \" << V5 << \"checking bcast 0 <\" << V5->str<< \">\\n\";\n",
      "746                 //std::cerr << \"c_extract \" << V5->str[0] << \"\\n\";\n",
      "747                 if (CudaNdarray_HOST_STRIDES(V5)[0])\n",
      "748                 {\n",
      "749                     //std::cerr << \"c_extract bad stride detected...\\n\";\n",
      "750                     PyErr_Format(PyExc_RuntimeError,\n",
      "751                                  \"c_extract: Some CudaNdarray has a nonzero stride %i on a broadcastable dimension %i\",\n",
      "752                                  CudaNdarray_HOST_STRIDES(V5)[0], 0);\n",
      "753                     V5 = NULL;\n",
      "754                     {\n",
      "755         __failure = 6;\n",
      "756         if (!PyErr_Occurred()) {\n",
      "757             PyErr_SetString(PyExc_RuntimeError,\n",
      "758                 \"Unexpected error in an Op's C code. \"\n",
      "759                 \"No Python exception was set.\");\n",
      "760             }\n",
      "761         goto __label_6;};\n",
      "762                 }\n",
      "763                 //std::cerr << \"c_extract \" << V5 << \"bcast check 0 passed\\n\";\n",
      "764                     \n",
      "765 \n",
      "766                 if (CudaNdarray_HOST_DIMS(V5)[2] != 1)\n",
      "767                 {\n",
      "768                     PyErr_Format(PyExc_RuntimeError,\n",
      "769                                  \"c_extract: Some CudaNdarray has dim %i on broadcastable dimension %i\",\n",
      "770                                  CudaNdarray_HOST_DIMS(V5)[2], 2);\n",
      "771                     V5 = NULL;\n",
      "772                     {\n",
      "773         __failure = 6;\n",
      "774         if (!PyErr_Occurred()) {\n",
      "775             PyErr_SetString(PyExc_RuntimeError,\n",
      "776                 \"Unexpected error in an Op's C code. \"\n",
      "777                 \"No Python exception was set.\");\n",
      "778             }\n",
      "779         goto __label_6;};\n",
      "780                 }\n",
      "781                 //std::cerr << \"c_extract \" << V5 << \"dim check 2 passed\\n\";\n",
      "782                 //std::cerr << \"c_extract \" << V5 << \"checking bcast 2 <\" << V5->str<< \">\\n\";\n",
      "783                 //std::cerr << \"c_extract \" << V5->str[2] << \"\\n\";\n",
      "784                 if (CudaNdarray_HOST_STRIDES(V5)[2])\n",
      "785                 {\n",
      "786                     //std::cerr << \"c_extract bad stride detected...\\n\";\n",
      "787                     PyErr_Format(PyExc_RuntimeError,\n",
      "788                                  \"c_extract: Some CudaNdarray has a nonzero stride %i on a broadcastable dimension %i\",\n",
      "789                                  CudaNdarray_HOST_STRIDES(V5)[2], 2);\n",
      "790                     V5 = NULL;\n",
      "791                     {\n",
      "792         __failure = 6;\n",
      "793         if (!PyErr_Occurred()) {\n",
      "794             PyErr_SetString(PyExc_RuntimeError,\n",
      "795                 \"Unexpected error in an Op's C code. \"\n",
      "796                 \"No Python exception was set.\");\n",
      "797             }\n",
      "798         goto __label_6;};\n",
      "799                 }\n",
      "800                 //std::cerr << \"c_extract \" << V5 << \"bcast check 2 passed\\n\";\n",
      "801                     \n",
      "802 \n",
      "803                 if (CudaNdarray_HOST_DIMS(V5)[3] != 1)\n",
      "804                 {\n",
      "805                     PyErr_Format(PyExc_RuntimeError,\n",
      "806                                  \"c_extract: Some CudaNdarray has dim %i on broadcastable dimension %i\",\n",
      "807                                  CudaNdarray_HOST_DIMS(V5)[3], 3);\n",
      "808                     V5 = NULL;\n",
      "809                     {\n",
      "810         __failure = 6;\n",
      "811         if (!PyErr_Occurred()) {\n",
      "812             PyErr_SetString(PyExc_RuntimeError,\n",
      "813                 \"Unexpected error in an Op's C code. \"\n",
      "814                 \"No Python exception was set.\");\n",
      "815             }\n",
      "816         goto __label_6;};\n",
      "817                 }\n",
      "818                 //std::cerr << \"c_extract \" << V5 << \"dim check 3 passed\\n\";\n",
      "819                 //std::cerr << \"c_extract \" << V5 << \"checking bcast 3 <\" << V5->str<< \">\\n\";\n",
      "820                 //std::cerr << \"c_extract \" << V5->str[3] << \"\\n\";\n",
      "821                 if (CudaNdarray_HOST_STRIDES(V5)[3])\n",
      "822                 {\n",
      "823                     //std::cerr << \"c_extract bad stride detected...\\n\";\n",
      "824                     PyErr_Format(PyExc_RuntimeError,\n",
      "825                                  \"c_extract: Some CudaNdarray has a nonzero stride %i on a broadcastable dimension %i\",\n",
      "826                                  CudaNdarray_HOST_STRIDES(V5)[3], 3);\n",
      "827                     V5 = NULL;\n",
      "828                     {\n",
      "829         __failure = 6;\n",
      "830         if (!PyErr_Occurred()) {\n",
      "831             PyErr_SetString(PyExc_RuntimeError,\n",
      "832                 \"Unexpected error in an Op's C code. \"\n",
      "833                 \"No Python exception was set.\");\n",
      "834             }\n",
      "835         goto __label_6;};\n",
      "836                 }\n",
      "837                 //std::cerr << \"c_extract \" << V5 << \"bcast check 3 passed\\n\";\n",
      "838                     \n",
      "839 \n",
      "840                 assert(V5);\n",
      "841                 Py_INCREF(py_V5);\n",
      "842             }\n",
      "843             else if (py_V5 == Py_None)\n",
      "844             {\n",
      "845                 PyErr_SetString(PyExc_TypeError,\n",
      "846                                 \"expected a CudaNdarray, not None\");\n",
      "847                 V5 = NULL;\n",
      "848                 {\n",
      "849         __failure = 6;\n",
      "850         if (!PyErr_Occurred()) {\n",
      "851             PyErr_SetString(PyExc_RuntimeError,\n",
      "852                 \"Unexpected error in an Op's C code. \"\n",
      "853                 \"No Python exception was set.\");\n",
      "854             }\n",
      "855         goto __label_6;};\n",
      "856             }\n",
      "857             else\n",
      "858             {\n",
      "859                 //fprintf(stderr, \"FAILING c_extract CNDA object w refcnt %p %i\\n\", py_V5, (py_V5->ob_refcnt));\n",
      "860                 PyErr_SetString(PyExc_TypeError, \"Argument not a CudaNdarray\");\n",
      "861                 V5 = NULL;\n",
      "862                 {\n",
      "863         __failure = 6;\n",
      "864         if (!PyErr_Occurred()) {\n",
      "865             PyErr_SetString(PyExc_RuntimeError,\n",
      "866                 \"Unexpected error in an Op's C code. \"\n",
      "867                 \"No Python exception was set.\");\n",
      "868             }\n",
      "869         goto __label_6;};\n",
      "870             }\n",
      "871             //std::cerr << \"c_extract done \" << V5 << '\\n';\n",
      "872             \n",
      "873 \n",
      "874 {\n",
      "875 // Op class GpuElemwise\n",
      "876 \n",
      "877         //std::cerr << \"C_CODE Composite{tanh((i0 + i1))} START\\n\";\n",
      "878         //standard elemwise size checks\n",
      "879             \n",
      "880 \n",
      "881             int dims[4] = {1,1,1,1};\n",
      "882             \n",
      "883 \n",
      "884                 int broadcasts_V3[4] = {0, 0, 0, 0};\n",
      "885                 \n",
      "886 \n",
      "887                 int broadcasts_V5[4] = {1, 0, 1, 1};\n",
      "888                 \n",
      "889 \n",
      "890         //std::cerr << \"C_CODE Composite{tanh((i0 + i1))} checking input V3\\n\";\n",
      "891         if (4 != V3->nd)\n",
      "892         {\n",
      "893             PyErr_Format(PyExc_TypeError,\n",
      "894                          \"need 4 dims, not %i\", V3->nd);\n",
      "895             {\n",
      "896         __failure = 7;\n",
      "897         if (!PyErr_Occurred()) {\n",
      "898             PyErr_SetString(PyExc_RuntimeError,\n",
      "899                 \"Unexpected error in an Op's C code. \"\n",
      "900                 \"No Python exception was set.\");\n",
      "901             }\n",
      "902         goto __label_7;};\n",
      "903         }\n",
      "904         for (int i = 0; i< 4; ++i)\n",
      "905         {\n",
      "906             dims[i] = (dims[i] == 1) ? CudaNdarray_HOST_DIMS(V3)[i] : dims[i];\n",
      "907             if ((!(broadcasts_V3[i] &&\n",
      "908                  CudaNdarray_HOST_DIMS(V3)[i] == 1)) &&\n",
      "909                 (dims[i] != CudaNdarray_HOST_DIMS(V3)[i]))\n",
      "910             {\n",
      "911                 //std::cerr << \"C_CODE Composite{tanh((i0 + i1))} checking input V3 failed\\n\";\n",
      "912                 PyErr_Format(PyExc_ValueError,\n",
      "913                              \"GpuElemwise. Input dimension mis-match. Input\"\n",
      "914                              \" 0 (indices start at 0) has shape[%i] == %i\"\n",
      "915                              \", but the output's size on that axis is %i.\",\n",
      "916                              i,\n",
      "917                              CudaNdarray_HOST_DIMS(V3)[i],\n",
      "918                              dims[i]\n",
      "919                             );\n",
      "920                 {\n",
      "921         __failure = 7;\n",
      "922         if (!PyErr_Occurred()) {\n",
      "923             PyErr_SetString(PyExc_RuntimeError,\n",
      "924                 \"Unexpected error in an Op's C code. \"\n",
      "925                 \"No Python exception was set.\");\n",
      "926             }\n",
      "927         goto __label_7;};\n",
      "928             }\n",
      "929         }\n",
      "930             \n",
      "931 \n",
      "932         //std::cerr << \"C_CODE Composite{tanh((i0 + i1))} checking input V5\\n\";\n",
      "933         if (4 != V5->nd)\n",
      "934         {\n",
      "935             PyErr_Format(PyExc_TypeError,\n",
      "936                          \"need 4 dims, not %i\", V5->nd);\n",
      "937             {\n",
      "938         __failure = 7;\n",
      "939         if (!PyErr_Occurred()) {\n",
      "940             PyErr_SetString(PyExc_RuntimeError,\n",
      "941                 \"Unexpected error in an Op's C code. \"\n",
      "942                 \"No Python exception was set.\");\n",
      "943             }\n",
      "944         goto __label_7;};\n",
      "945         }\n",
      "946         for (int i = 0; i< 4; ++i)\n",
      "947         {\n",
      "948             dims[i] = (dims[i] == 1) ? CudaNdarray_HOST_DIMS(V5)[i] : dims[i];\n",
      "949             if ((!(broadcasts_V5[i] &&\n",
      "950                  CudaNdarray_HOST_DIMS(V5)[i] == 1)) &&\n",
      "951                 (dims[i] != CudaNdarray_HOST_DIMS(V5)[i]))\n",
      "952             {\n",
      "953                 //std::cerr << \"C_CODE Composite{tanh((i0 + i1))} checking input V5 failed\\n\";\n",
      "954                 PyErr_Format(PyExc_ValueError,\n",
      "955                              \"GpuElemwise. Input dimension mis-match. Input\"\n",
      "956                              \" 1 (indices start at 0) has shape[%i] == %i\"\n",
      "957                              \", but the output's size on that axis is %i.\",\n",
      "958                              i,\n",
      "959                              CudaNdarray_HOST_DIMS(V5)[i],\n",
      "960                              dims[i]\n",
      "961                             );\n",
      "962                 {\n",
      "963         __failure = 7;\n",
      "964         if (!PyErr_Occurred()) {\n",
      "965             PyErr_SetString(PyExc_RuntimeError,\n",
      "966                 \"Unexpected error in an Op's C code. \"\n",
      "967                 \"No Python exception was set.\");\n",
      "968             }\n",
      "969         goto __label_7;};\n",
      "970             }\n",
      "971         }\n",
      "972             \n",
      "973 \n",
      "974         Py_XDECREF(V1);\n",
      "975         V1 = V3;\n",
      "976         Py_INCREF(V1);\n",
      "977         for (int i = 0; (i< 4) && (V1); ++i) {\n",
      "978             if (dims[i] != CudaNdarray_HOST_DIMS(V1)[i])\n",
      "979             {\n",
      "980                 PyErr_Format(PyExc_ValueError,\n",
      "981                              \"GpuElemwise. Output dimension mis-match. Output\"\n",
      "982                              \" 0 (indices start at 0), working inplace\"\n",
      "983                              \" on input 0, has shape[%i] == %i\"\n",
      "984                              \", but the output's size on that axis is %i.\",\n",
      "985                              i,\n",
      "986                              CudaNdarray_HOST_DIMS(V1)[i],\n",
      "987                              dims[i]\n",
      "988                             );\n",
      "989                 Py_DECREF(V1);\n",
      "990                 V1 = NULL;\n",
      "991                 {\n",
      "992         __failure = 7;\n",
      "993         if (!PyErr_Occurred()) {\n",
      "994             PyErr_SetString(PyExc_RuntimeError,\n",
      "995                 \"Unexpected error in an Op's C code. \"\n",
      "996                 \"No Python exception was set.\");\n",
      "997             }\n",
      "998         goto __label_7;};\n",
      "999             }\n",
      "1000         }\n",
      "1001         //std::cerr << \"ELEMWISE NEW V1 nd\" << V1->nd << \"\\n\";\n",
      "1002         //std::cerr << \"ELEMWISE NEW V1 data\" << V1->devdata << \"\\n\";\n",
      "1003         \n",
      "1004 \n",
      "1005         {\n",
      "1006             //new block so that failure gotos don't skip over variable initialization\n",
      "1007             //std::cerr << \"calling callkernel\\n\";\n",
      "1008             if (callkernel_node_1dec04b3ffb7f71e669f94f8c2dc9665_0(1, 0, dims\n",
      "1009             \n",
      "1010 \n",
      "1011                         , CudaNdarray_DEV_DATA(V3), CudaNdarray_HOST_STRIDES(V3)\n",
      "1012             \n",
      "1013 \n",
      "1014                         , CudaNdarray_DEV_DATA(V5), CudaNdarray_HOST_STRIDES(V5)\n",
      "1015             \n",
      "1016 \n",
      "1017                         , CudaNdarray_DEV_DATA(V1), CudaNdarray_HOST_STRIDES(V1)\n",
      "1018             \n",
      "1019 \n",
      "1020                         ))\n",
      "1021             {\n",
      "1022                  // error\n",
      "1023             \n",
      "1024 \n",
      "1025                 Py_DECREF(V1);\n",
      "1026                 V1 = NULL;\n",
      "1027                 \n",
      "1028 \n",
      "1029                 {\n",
      "1030         __failure = 7;\n",
      "1031         if (!PyErr_Occurred()) {\n",
      "1032             PyErr_SetString(PyExc_RuntimeError,\n",
      "1033                 \"Unexpected error in an Op's C code. \"\n",
      "1034                 \"No Python exception was set.\");\n",
      "1035             }\n",
      "1036         goto __label_7;};\n",
      "1037             }\n",
      "1038             else // no error\n",
      "1039             {\n",
      "1040             }\n",
      "1041         }\n",
      "1042         //std::cerr << \"C_CODE Composite{tanh((i0 + i1))} END\\n\";\n",
      "1043         \n",
      "1044 __label_7:\n",
      "1045 \n",
      "1046 double __DUMMY_7;\n",
      "1047 \n",
      "1048 }\n",
      "1049 __label_6:\n",
      "1050 \n",
      "1051         //std::cerr << \"cleanup \" << py_V5 << \" \" << V5 << \"\\n\";\n",
      "1052         //fprintf(stderr, \"c_cleanup CNDA py_object w refcnt %p %i\\n\", py_V5, (py_V5->ob_refcnt));\n",
      "1053         if (V5)\n",
      "1054         {\n",
      "1055             //fprintf(stderr, \"c_cleanup CNDA cn_object w refcnt %p %i\\n\", V5, (V5->ob_refcnt));\n",
      "1056             Py_XDECREF(V5);\n",
      "1057         }\n",
      "1058         //std::cerr << \"cleanup done\" << py_V5 << \"\\n\";\n",
      "1059         \n",
      "1060     {Py_XDECREF(py_V5);}\n",
      "1061     \n",
      "1062 double __DUMMY_6;\n",
      "1063 \n",
      "1064 }\n",
      "1065 __label_4:\n",
      "1066 \n",
      "1067         //std::cerr << \"cleanup \" << py_V3 << \" \" << V3 << \"\\n\";\n",
      "1068         //fprintf(stderr, \"c_cleanup CNDA py_object w refcnt %p %i\\n\", py_V3, (py_V3->ob_refcnt));\n",
      "1069         if (V3)\n",
      "1070         {\n",
      "1071             //fprintf(stderr, \"c_cleanup CNDA cn_object w refcnt %p %i\\n\", V3, (V3->ob_refcnt));\n",
      "1072             Py_XDECREF(V3);\n",
      "1073         }\n",
      "1074         //std::cerr << \"cleanup done\" << py_V3 << \"\\n\";\n",
      "1075         \n",
      "1076     {Py_XDECREF(py_V3);}\n",
      "1077     \n",
      "1078 double __DUMMY_4;\n",
      "1079 \n",
      "1080 }\n",
      "1081 __label_2:\n",
      "1082 \n",
      "1083     if (!__failure) {\n",
      "1084       \n",
      "1085         //std::cerr << \"sync\\n\";\n",
      "1086         if (NULL == V1) {\n",
      "1087             // failure: sync None to storage\n",
      "1088             Py_XDECREF(py_V1);\n",
      "1089             py_V1 = Py_None;\n",
      "1090             Py_INCREF(py_V1);\n",
      "1091         }\n",
      "1092         else\n",
      "1093         {\n",
      "1094             if (py_V1 != (PyObject*)V1)\n",
      "1095             {\n",
      "1096                 Py_XDECREF(py_V1);\n",
      "1097                 py_V1 = (PyObject*)V1;\n",
      "1098                 Py_INCREF(py_V1);\n",
      "1099             }\n",
      "1100             assert(py_V1->ob_refcnt);\n",
      "1101         }\n",
      "1102         \n",
      "1103       PyObject* old = PyList_GET_ITEM(storage_V1, 0);\n",
      "1104       {Py_XINCREF(py_V1);}\n",
      "1105       PyList_SET_ITEM(storage_V1, 0, py_V1);\n",
      "1106       {Py_XDECREF(old);}\n",
      "1107     }\n",
      "1108     \n",
      "1109         //std::cerr << \"cleanup \" << py_V1 << \" \" << V1 << \"\\n\";\n",
      "1110         //fprintf(stderr, \"c_cleanup CNDA py_object w refcnt %p %i\\n\", py_V1, (py_V1->ob_refcnt));\n",
      "1111         if (V1)\n",
      "1112         {\n",
      "1113             //fprintf(stderr, \"c_cleanup CNDA cn_object w refcnt %p %i\\n\", V1, (V1->ob_refcnt));\n",
      "1114             Py_XDECREF(V1);\n",
      "1115         }\n",
      "1116         //std::cerr << \"cleanup done\" << py_V1 << \"\\n\";\n",
      "1117         \n",
      "1118     {Py_XDECREF(py_V1);}\n",
      "1119     \n",
      "1120 double __DUMMY_2;\n",
      "1121 \n",
      "1122 }\n",
      "1123 \n",
      "1124             \n",
      "1125         if (__failure) {\n",
      "1126             // When there is a failure, this code puts the exception\n",
      "1127             // in __ERROR.\n",
      "1128             PyObject* err_type = NULL;\n",
      "1129             PyObject* err_msg = NULL;\n",
      "1130             PyObject* err_traceback = NULL;\n",
      "1131             PyErr_Fetch(&err_type, &err_msg, &err_traceback);\n",
      "1132             if (!err_type) {err_type = Py_None;Py_INCREF(Py_None);}\n",
      "1133             if (!err_msg) {err_msg = Py_None; Py_INCREF(Py_None);}\n",
      "1134             if (!err_traceback) {err_traceback = Py_None; Py_INCREF(Py_None);}\n",
      "1135             PyObject* old_err_type = PyList_GET_ITEM(__ERROR, 0);\n",
      "1136             PyObject* old_err_msg = PyList_GET_ITEM(__ERROR, 1);\n",
      "1137             PyObject* old_err_traceback = PyList_GET_ITEM(__ERROR, 2);\n",
      "1138             PyList_SET_ITEM(__ERROR, 0, err_type);\n",
      "1139             PyList_SET_ITEM(__ERROR, 1, err_msg);\n",
      "1140             PyList_SET_ITEM(__ERROR, 2, err_traceback);\n",
      "1141             {Py_XDECREF(old_err_type);}\n",
      "1142             {Py_XDECREF(old_err_msg);}\n",
      "1143             {Py_XDECREF(old_err_traceback);}\n",
      "1144         }\n",
      "1145         // The failure code is returned to index what code block failed.\n",
      "1146         return __failure;\n",
      "1147         \n",
      "1148         }\n",
      "1149     };\n",
      "1150     }\n",
      "1151     \n",
      "1152 \n",
      "1153         static int __struct_compiled_op_1dec04b3ffb7f71e669f94f8c2dc9665_executor(__struct_compiled_op_1dec04b3ffb7f71e669f94f8c2dc9665* self) {\n",
      "1154             return self->run();\n",
      "1155         }\n",
      "1156 \n",
      "1157         static void __struct_compiled_op_1dec04b3ffb7f71e669f94f8c2dc9665_destructor(void* executor, void* self) {\n",
      "1158             delete ((__struct_compiled_op_1dec04b3ffb7f71e669f94f8c2dc9665*)self);\n",
      "1159         }\n",
      "1160         \n",
      "1161 //////////////////////\n",
      "1162 ////  Functions\n",
      "1163 //////////////////////\n",
      "1164 static PyObject * instantiate(PyObject * self, PyObject *argtuple) {\n",
      "1165   assert(PyTuple_Check(argtuple));\n",
      "1166   if (4 != PyTuple_Size(argtuple)){ \n",
      "1167      PyErr_Format(PyExc_TypeError, \"Wrong number of arguments, expected 4, got %i\", (int)PyTuple_Size(argtuple));\n",
      "1168      return NULL;\n",
      "1169   }\n",
      "1170   __struct_compiled_op_1dec04b3ffb7f71e669f94f8c2dc9665* struct_ptr = new __struct_compiled_op_1dec04b3ffb7f71e669f94f8c2dc9665();\n",
      "1171   if (struct_ptr->init( PyTuple_GET_ITEM(argtuple, 0),PyTuple_GET_ITEM(argtuple, 1),PyTuple_GET_ITEM(argtuple, 2),PyTuple_GET_ITEM(argtuple, 3) ) != 0) {\n",
      "1172     delete struct_ptr;\n",
      "1173     return NULL;\n",
      "1174   }\n",
      "1175   PyObject* thunk = PyCObject_FromVoidPtrAndDesc((void*)(&__struct_compiled_op_1dec04b3ffb7f71e669f94f8c2dc9665_executor), struct_ptr, __struct_compiled_op_1dec04b3ffb7f71e669f94f8c2dc9665_destructor);\n",
      "1176   return thunk; }\n",
      "1177 \n",
      "1178 //////////////////////\n",
      "1179 ////  Module init\n",
      "1180 //////////////////////\n",
      "1181 static PyMethodDef MyMethods[] = {\n",
      "1182 \t{\"instantiate\", instantiate, METH_VARARGS, \"undocumented\"} ,\n",
      "1183 \t{NULL, NULL, 0, NULL}\n",
      "1184 };\n",
      "1185 PyMODINIT_FUNC init1dec04b3ffb7f71e669f94f8c2dc9665(void){\n",
      "1186    (void) Py_InitModule(\"1dec04b3ffb7f71e669f94f8c2dc9665\", MyMethods);\n",
      "1187 }\n",
      "1188 \n",
      "===============================\n",
      "d:\\program file\\lean\\include\\host_config.h(191) : fatal error C1083: Cannot open include file: 'crtdefs.h': No such file or directory\r\n"
     ]
    },
    {
     "ename": "Exception",
     "evalue": "('The following error happened while compiling the node', GpuElemwise{Composite{tanh((i0 + i1))}}[(0, 0)](GpuSubtensor{::, ::, int64:int64:, int64:int64:}.0, GpuReshape{4}.0), '\\n', 'nvcc return status', 2, 'for cmd', 'nvcc -shared -O3 --maxrregcount=32 --use-local-env --cl-version=2013 -arch=sm_50 -Xlinker /DEBUG -D HAVE_ROUND -m64 -Xcompiler -DCUDA_NDARRAY_CUH=18715462c72ed6afcd7ca5d52813ce90,-DNPY_NO_DEPRECATED_API=NPY_1_7_API_VERSION,/Zi,/MD -IC:\\\\Users\\\\Back_jud\\\\AppData\\\\Local\\\\Theano\\\\compiledir_Windows-10-10.0.10586-Intel64_Family_6_Model_60_Stepping_3_GenuineIntel-2.7.11-64\\\\cuda_ndarray -IC:\\\\Users\\\\Back_jud\\\\Anaconda2\\\\lib\\\\site-packages\\\\numpy\\\\core\\\\include -IC:\\\\Users\\\\Back_jud\\\\Anaconda2\\\\include -IC:\\\\Users\\\\Back_jud\\\\Anaconda2\\\\lib\\\\site-packages\\\\theano\\\\gof -IC:\\\\Users\\\\Back_jud\\\\Anaconda2\\\\lib\\\\site-packages\\\\theano\\\\sandbox\\\\cuda -o C:\\\\Users\\\\Back_jud\\\\AppData\\\\Local\\\\Theano\\\\compiledir_Windows-10-10.0.10586-Intel64_Family_6_Model_60_Stepping_3_GenuineIntel-2.7.11-64\\\\tmp4_hzw1\\\\1dec04b3ffb7f71e669f94f8c2dc9665.pyd mod.cu -LC:\\\\Users\\\\Back_jud\\\\AppData\\\\Local\\\\Theano\\\\compiledir_Windows-10-10.0.10586-Intel64_Family_6_Model_60_Stepping_3_GenuineIntel-2.7.11-64\\\\cuda_ndarray -LC:\\\\Users\\\\Back_jud\\\\Anaconda2\\\\libs -LC:\\\\Users\\\\Back_jud\\\\Anaconda2 -lcudart -lcublas -lcuda_ndarray -lpython27', '[GpuElemwise{Composite{tanh((i0 + i1))}}[(0, 0)](<CudaNdarrayType(float32, 4D)>, <CudaNdarrayType(float32, (True, False, True, True))>)]')",
     "output_type": "error",
     "traceback": [
      "\u001b[1;31m---------------------------------------------------------------------------\u001b[0m",
      "\u001b[1;31mException\u001b[0m                                 Traceback (most recent call last)",
      "\u001b[1;32m<ipython-input-54-adee12223ac2>\u001b[0m in \u001b[0;36m<module>\u001b[1;34m()\u001b[0m\n\u001b[0;32m     17\u001b[0m \u001b[0mmodel3\u001b[0m\u001b[1;33m.\u001b[0m\u001b[0madd\u001b[0m\u001b[1;33m(\u001b[0m\u001b[0mActivation\u001b[0m\u001b[1;33m(\u001b[0m\u001b[1;34m'tanh'\u001b[0m\u001b[1;33m)\u001b[0m\u001b[1;33m)\u001b[0m\u001b[1;33m\u001b[0m\u001b[0m\n\u001b[0;32m     18\u001b[0m \u001b[0mmodel3\u001b[0m\u001b[1;33m.\u001b[0m\u001b[0madd\u001b[0m\u001b[1;33m(\u001b[0m\u001b[0mDense\u001b[0m\u001b[1;33m(\u001b[0m\u001b[1;36m2\u001b[0m\u001b[1;33m,\u001b[0m\u001b[0mactivation\u001b[0m\u001b[1;33m=\u001b[0m\u001b[1;34m'softmax'\u001b[0m\u001b[1;33m)\u001b[0m\u001b[1;33m)\u001b[0m\u001b[1;33m\u001b[0m\u001b[0m\n\u001b[1;32m---> 19\u001b[1;33m \u001b[0mmodel3\u001b[0m\u001b[1;33m.\u001b[0m\u001b[0mcompile\u001b[0m\u001b[1;33m(\u001b[0m\u001b[0mloss\u001b[0m\u001b[1;33m=\u001b[0m\u001b[1;34m'categorical_crossentropy'\u001b[0m\u001b[1;33m,\u001b[0m \u001b[0moptimizer\u001b[0m\u001b[1;33m=\u001b[0m\u001b[0mSGD\u001b[0m\u001b[1;33m(\u001b[0m\u001b[0mlr\u001b[0m\u001b[1;33m=\u001b[0m\u001b[1;36m0.01\u001b[0m\u001b[1;33m,\u001b[0m \u001b[0mdecay\u001b[0m\u001b[1;33m=\u001b[0m\u001b[1;36m1e-6\u001b[0m\u001b[1;33m,\u001b[0m \u001b[0mmomentum\u001b[0m\u001b[1;33m=\u001b[0m\u001b[1;36m0.6\u001b[0m\u001b[1;33m,\u001b[0m \u001b[0mnesterov\u001b[0m\u001b[1;33m=\u001b[0m\u001b[0mTrue\u001b[0m\u001b[1;33m)\u001b[0m\u001b[1;33m)\u001b[0m\u001b[1;33m\u001b[0m\u001b[0m\n\u001b[0m",
      "\u001b[1;32mC:\\Users\\Back_jud\\Anaconda2\\lib\\site-packages\\keras\\models.pyc\u001b[0m in \u001b[0;36mcompile\u001b[1;34m(self, optimizer, loss, class_mode, sample_weight_mode)\u001b[0m\n\u001b[0;32m    513\u001b[0m             \u001b[0mpredict_ins\u001b[0m \u001b[1;33m=\u001b[0m \u001b[1;33m[\u001b[0m\u001b[0mself\u001b[0m\u001b[1;33m.\u001b[0m\u001b[0mX_test\u001b[0m\u001b[1;33m]\u001b[0m\u001b[1;33m\u001b[0m\u001b[0m\n\u001b[0;32m    514\u001b[0m \u001b[1;33m\u001b[0m\u001b[0m\n\u001b[1;32m--> 515\u001b[1;33m         \u001b[0mself\u001b[0m\u001b[1;33m.\u001b[0m\u001b[0m_train\u001b[0m \u001b[1;33m=\u001b[0m \u001b[0mK\u001b[0m\u001b[1;33m.\u001b[0m\u001b[0mfunction\u001b[0m\u001b[1;33m(\u001b[0m\u001b[0mtrain_ins\u001b[0m\u001b[1;33m,\u001b[0m \u001b[1;33m[\u001b[0m\u001b[0mtrain_loss\u001b[0m\u001b[1;33m]\u001b[0m\u001b[1;33m,\u001b[0m \u001b[0mupdates\u001b[0m\u001b[1;33m=\u001b[0m\u001b[0mupdates\u001b[0m\u001b[1;33m)\u001b[0m\u001b[1;33m\u001b[0m\u001b[0m\n\u001b[0m\u001b[0;32m    516\u001b[0m         \u001b[0mself\u001b[0m\u001b[1;33m.\u001b[0m\u001b[0m_train_with_acc\u001b[0m \u001b[1;33m=\u001b[0m \u001b[0mK\u001b[0m\u001b[1;33m.\u001b[0m\u001b[0mfunction\u001b[0m\u001b[1;33m(\u001b[0m\u001b[0mtrain_ins\u001b[0m\u001b[1;33m,\u001b[0m \u001b[1;33m[\u001b[0m\u001b[0mtrain_loss\u001b[0m\u001b[1;33m,\u001b[0m \u001b[0mtrain_accuracy\u001b[0m\u001b[1;33m]\u001b[0m\u001b[1;33m,\u001b[0m \u001b[0mupdates\u001b[0m\u001b[1;33m=\u001b[0m\u001b[0mupdates\u001b[0m\u001b[1;33m)\u001b[0m\u001b[1;33m\u001b[0m\u001b[0m\n\u001b[0;32m    517\u001b[0m         \u001b[0mself\u001b[0m\u001b[1;33m.\u001b[0m\u001b[0m_predict\u001b[0m \u001b[1;33m=\u001b[0m \u001b[0mK\u001b[0m\u001b[1;33m.\u001b[0m\u001b[0mfunction\u001b[0m\u001b[1;33m(\u001b[0m\u001b[0mpredict_ins\u001b[0m\u001b[1;33m,\u001b[0m \u001b[1;33m[\u001b[0m\u001b[0mself\u001b[0m\u001b[1;33m.\u001b[0m\u001b[0my_test\u001b[0m\u001b[1;33m]\u001b[0m\u001b[1;33m,\u001b[0m \u001b[0mupdates\u001b[0m\u001b[1;33m=\u001b[0m\u001b[0mself\u001b[0m\u001b[1;33m.\u001b[0m\u001b[0mstate_updates\u001b[0m\u001b[1;33m)\u001b[0m\u001b[1;33m\u001b[0m\u001b[0m\n",
      "\u001b[1;32mC:\\Users\\Back_jud\\Anaconda2\\lib\\site-packages\\keras\\backend\\theano_backend.pyc\u001b[0m in \u001b[0;36mfunction\u001b[1;34m(inputs, outputs, updates)\u001b[0m\n\u001b[0;32m    386\u001b[0m \u001b[1;33m\u001b[0m\u001b[0m\n\u001b[0;32m    387\u001b[0m \u001b[1;32mdef\u001b[0m \u001b[0mfunction\u001b[0m\u001b[1;33m(\u001b[0m\u001b[0minputs\u001b[0m\u001b[1;33m,\u001b[0m \u001b[0moutputs\u001b[0m\u001b[1;33m,\u001b[0m \u001b[0mupdates\u001b[0m\u001b[1;33m=\u001b[0m\u001b[1;33m[\u001b[0m\u001b[1;33m]\u001b[0m\u001b[1;33m)\u001b[0m\u001b[1;33m:\u001b[0m\u001b[1;33m\u001b[0m\u001b[0m\n\u001b[1;32m--> 388\u001b[1;33m     \u001b[1;32mreturn\u001b[0m \u001b[0mFunction\u001b[0m\u001b[1;33m(\u001b[0m\u001b[0minputs\u001b[0m\u001b[1;33m,\u001b[0m \u001b[0moutputs\u001b[0m\u001b[1;33m,\u001b[0m \u001b[0mupdates\u001b[0m\u001b[1;33m=\u001b[0m\u001b[0mupdates\u001b[0m\u001b[1;33m)\u001b[0m\u001b[1;33m\u001b[0m\u001b[0m\n\u001b[0m\u001b[0;32m    389\u001b[0m \u001b[1;33m\u001b[0m\u001b[0m\n\u001b[0;32m    390\u001b[0m \u001b[1;33m\u001b[0m\u001b[0m\n",
      "\u001b[1;32mC:\\Users\\Back_jud\\Anaconda2\\lib\\site-packages\\keras\\backend\\theano_backend.pyc\u001b[0m in \u001b[0;36m__init__\u001b[1;34m(self, inputs, outputs, updates, **kwargs)\u001b[0m\n\u001b[0;32m    378\u001b[0m     \u001b[1;32mdef\u001b[0m \u001b[0m__init__\u001b[0m\u001b[1;33m(\u001b[0m\u001b[0mself\u001b[0m\u001b[1;33m,\u001b[0m \u001b[0minputs\u001b[0m\u001b[1;33m,\u001b[0m \u001b[0moutputs\u001b[0m\u001b[1;33m,\u001b[0m \u001b[0mupdates\u001b[0m\u001b[1;33m=\u001b[0m\u001b[1;33m[\u001b[0m\u001b[1;33m]\u001b[0m\u001b[1;33m,\u001b[0m \u001b[1;33m**\u001b[0m\u001b[0mkwargs\u001b[0m\u001b[1;33m)\u001b[0m\u001b[1;33m:\u001b[0m\u001b[1;33m\u001b[0m\u001b[0m\n\u001b[0;32m    379\u001b[0m         self.function = theano.function(inputs, outputs, updates=updates,\n\u001b[1;32m--> 380\u001b[1;33m                                         allow_input_downcast=True, **kwargs)\n\u001b[0m\u001b[0;32m    381\u001b[0m \u001b[1;33m\u001b[0m\u001b[0m\n\u001b[0;32m    382\u001b[0m     \u001b[1;32mdef\u001b[0m \u001b[0m__call__\u001b[0m\u001b[1;33m(\u001b[0m\u001b[0mself\u001b[0m\u001b[1;33m,\u001b[0m \u001b[0minputs\u001b[0m\u001b[1;33m)\u001b[0m\u001b[1;33m:\u001b[0m\u001b[1;33m\u001b[0m\u001b[0m\n",
      "\u001b[1;32mC:\\Users\\Back_jud\\Anaconda2\\lib\\site-packages\\theano\\compile\\function.pyc\u001b[0m in \u001b[0;36mfunction\u001b[1;34m(inputs, outputs, mode, updates, givens, no_default_updates, accept_inplace, name, rebuild_strict, allow_input_downcast, profile, on_unused_input)\u001b[0m\n\u001b[0;32m    318\u001b[0m                    \u001b[0mon_unused_input\u001b[0m\u001b[1;33m=\u001b[0m\u001b[0mon_unused_input\u001b[0m\u001b[1;33m,\u001b[0m\u001b[1;33m\u001b[0m\u001b[0m\n\u001b[0;32m    319\u001b[0m                    \u001b[0mprofile\u001b[0m\u001b[1;33m=\u001b[0m\u001b[0mprofile\u001b[0m\u001b[1;33m,\u001b[0m\u001b[1;33m\u001b[0m\u001b[0m\n\u001b[1;32m--> 320\u001b[1;33m                    output_keys=output_keys)\n\u001b[0m\u001b[0;32m    321\u001b[0m     \u001b[1;31m# We need to add the flag check_aliased inputs if we have any mutable or\u001b[0m\u001b[1;33m\u001b[0m\u001b[1;33m\u001b[0m\u001b[0m\n\u001b[0;32m    322\u001b[0m     \u001b[1;31m# borrowed used defined inputs\u001b[0m\u001b[1;33m\u001b[0m\u001b[1;33m\u001b[0m\u001b[0m\n",
      "\u001b[1;32mC:\\Users\\Back_jud\\Anaconda2\\lib\\site-packages\\theano\\compile\\pfunc.pyc\u001b[0m in \u001b[0;36mpfunc\u001b[1;34m(params, outputs, mode, updates, givens, no_default_updates, accept_inplace, name, rebuild_strict, allow_input_downcast, profile, on_unused_input, output_keys)\u001b[0m\n\u001b[0;32m    477\u001b[0m                          \u001b[0maccept_inplace\u001b[0m\u001b[1;33m=\u001b[0m\u001b[0maccept_inplace\u001b[0m\u001b[1;33m,\u001b[0m \u001b[0mname\u001b[0m\u001b[1;33m=\u001b[0m\u001b[0mname\u001b[0m\u001b[1;33m,\u001b[0m\u001b[1;33m\u001b[0m\u001b[0m\n\u001b[0;32m    478\u001b[0m                          \u001b[0mprofile\u001b[0m\u001b[1;33m=\u001b[0m\u001b[0mprofile\u001b[0m\u001b[1;33m,\u001b[0m \u001b[0mon_unused_input\u001b[0m\u001b[1;33m=\u001b[0m\u001b[0mon_unused_input\u001b[0m\u001b[1;33m,\u001b[0m\u001b[1;33m\u001b[0m\u001b[0m\n\u001b[1;32m--> 479\u001b[1;33m                          output_keys=output_keys)\n\u001b[0m\u001b[0;32m    480\u001b[0m \u001b[1;33m\u001b[0m\u001b[0m\n\u001b[0;32m    481\u001b[0m \u001b[1;33m\u001b[0m\u001b[0m\n",
      "\u001b[1;32mC:\\Users\\Back_jud\\Anaconda2\\lib\\site-packages\\theano\\compile\\function_module.pyc\u001b[0m in \u001b[0;36morig_function\u001b[1;34m(inputs, outputs, mode, accept_inplace, name, profile, on_unused_input, output_keys)\u001b[0m\n\u001b[0;32m   1775\u001b[0m                    \u001b[0mon_unused_input\u001b[0m\u001b[1;33m=\u001b[0m\u001b[0mon_unused_input\u001b[0m\u001b[1;33m,\u001b[0m\u001b[1;33m\u001b[0m\u001b[0m\n\u001b[0;32m   1776\u001b[0m                    \u001b[0moutput_keys\u001b[0m\u001b[1;33m=\u001b[0m\u001b[0moutput_keys\u001b[0m\u001b[1;33m)\u001b[0m\u001b[1;33m.\u001b[0m\u001b[0mcreate\u001b[0m\u001b[1;33m(\u001b[0m\u001b[1;33m\u001b[0m\u001b[0m\n\u001b[1;32m-> 1777\u001b[1;33m             defaults)\n\u001b[0m\u001b[0;32m   1778\u001b[0m \u001b[1;33m\u001b[0m\u001b[0m\n\u001b[0;32m   1779\u001b[0m     \u001b[0mt2\u001b[0m \u001b[1;33m=\u001b[0m \u001b[0mtime\u001b[0m\u001b[1;33m.\u001b[0m\u001b[0mtime\u001b[0m\u001b[1;33m(\u001b[0m\u001b[1;33m)\u001b[0m\u001b[1;33m\u001b[0m\u001b[0m\n",
      "\u001b[1;32mC:\\Users\\Back_jud\\Anaconda2\\lib\\site-packages\\theano\\compile\\function_module.pyc\u001b[0m in \u001b[0;36mcreate\u001b[1;34m(self, input_storage, trustme, storage_map)\u001b[0m\n\u001b[0;32m   1639\u001b[0m             \u001b[0mtheano\u001b[0m\u001b[1;33m.\u001b[0m\u001b[0mconfig\u001b[0m\u001b[1;33m.\u001b[0m\u001b[0mtraceback\u001b[0m\u001b[1;33m.\u001b[0m\u001b[0mlimit\u001b[0m \u001b[1;33m=\u001b[0m \u001b[1;36m0\u001b[0m\u001b[1;33m\u001b[0m\u001b[0m\n\u001b[0;32m   1640\u001b[0m             _fn, _i, _o = self.linker.make_thunk(\n\u001b[1;32m-> 1641\u001b[1;33m                 input_storage=input_storage_lists, storage_map=storage_map)\n\u001b[0m\u001b[0;32m   1642\u001b[0m         \u001b[1;32mfinally\u001b[0m\u001b[1;33m:\u001b[0m\u001b[1;33m\u001b[0m\u001b[0m\n\u001b[0;32m   1643\u001b[0m             \u001b[0mtheano\u001b[0m\u001b[1;33m.\u001b[0m\u001b[0mconfig\u001b[0m\u001b[1;33m.\u001b[0m\u001b[0mtraceback\u001b[0m\u001b[1;33m.\u001b[0m\u001b[0mlimit\u001b[0m \u001b[1;33m=\u001b[0m \u001b[0mlimit_orig\u001b[0m\u001b[1;33m\u001b[0m\u001b[0m\n",
      "\u001b[1;32mC:\\Users\\Back_jud\\Anaconda2\\lib\\site-packages\\theano\\gof\\link.pyc\u001b[0m in \u001b[0;36mmake_thunk\u001b[1;34m(self, input_storage, output_storage, storage_map)\u001b[0m\n\u001b[0;32m    688\u001b[0m         return self.make_all(input_storage=input_storage,\n\u001b[0;32m    689\u001b[0m                              \u001b[0moutput_storage\u001b[0m\u001b[1;33m=\u001b[0m\u001b[0moutput_storage\u001b[0m\u001b[1;33m,\u001b[0m\u001b[1;33m\u001b[0m\u001b[0m\n\u001b[1;32m--> 690\u001b[1;33m                              storage_map=storage_map)[:3]\n\u001b[0m\u001b[0;32m    691\u001b[0m \u001b[1;33m\u001b[0m\u001b[0m\n\u001b[0;32m    692\u001b[0m     \u001b[1;32mdef\u001b[0m \u001b[0mmake_all\u001b[0m\u001b[1;33m(\u001b[0m\u001b[0mself\u001b[0m\u001b[1;33m,\u001b[0m \u001b[0minput_storage\u001b[0m\u001b[1;33m,\u001b[0m \u001b[0moutput_storage\u001b[0m\u001b[1;33m)\u001b[0m\u001b[1;33m:\u001b[0m\u001b[1;33m\u001b[0m\u001b[0m\n",
      "\u001b[1;32mC:\\Users\\Back_jud\\Anaconda2\\lib\\site-packages\\theano\\gof\\vm.pyc\u001b[0m in \u001b[0;36mmake_all\u001b[1;34m(self, profiler, input_storage, output_storage, storage_map)\u001b[0m\n\u001b[0;32m   1001\u001b[0m                                                  \u001b[0mstorage_map\u001b[0m\u001b[1;33m,\u001b[0m\u001b[1;33m\u001b[0m\u001b[0m\n\u001b[0;32m   1002\u001b[0m                                                  \u001b[0mcompute_map\u001b[0m\u001b[1;33m,\u001b[0m\u001b[1;33m\u001b[0m\u001b[0m\n\u001b[1;32m-> 1003\u001b[1;33m                                                  no_recycling))\n\u001b[0m\u001b[0;32m   1004\u001b[0m                 \u001b[1;32mif\u001b[0m \u001b[1;32mnot\u001b[0m \u001b[0mhasattr\u001b[0m\u001b[1;33m(\u001b[0m\u001b[0mthunks\u001b[0m\u001b[1;33m[\u001b[0m\u001b[1;33m-\u001b[0m\u001b[1;36m1\u001b[0m\u001b[1;33m]\u001b[0m\u001b[1;33m,\u001b[0m \u001b[1;34m'lazy'\u001b[0m\u001b[1;33m)\u001b[0m\u001b[1;33m:\u001b[0m\u001b[1;33m\u001b[0m\u001b[0m\n\u001b[0;32m   1005\u001b[0m                     \u001b[1;31m# We don't want all ops maker to think about lazy Ops.\u001b[0m\u001b[1;33m\u001b[0m\u001b[1;33m\u001b[0m\u001b[0m\n",
      "\u001b[1;32mC:\\Users\\Back_jud\\Anaconda2\\lib\\site-packages\\theano\\sandbox\\cuda\\__init__.pyc\u001b[0m in \u001b[0;36mmake_thunk\u001b[1;34m(self, node, storage_map, compute_map, no_recycling)\u001b[0m\n\u001b[0;32m    254\u001b[0m                 enable_cuda=False)\n\u001b[0;32m    255\u001b[0m         return super(GpuOp, self).make_thunk(node, storage_map,\n\u001b[1;32m--> 256\u001b[1;33m                                              compute_map, no_recycling)\n\u001b[0m\u001b[0;32m    257\u001b[0m \u001b[1;33m\u001b[0m\u001b[0m\n\u001b[0;32m    258\u001b[0m theano.compile.debugmode.default_make_thunk.append(\n",
      "\u001b[1;32mC:\\Users\\Back_jud\\Anaconda2\\lib\\site-packages\\theano\\gof\\op.pyc\u001b[0m in \u001b[0;36mmake_thunk\u001b[1;34m(self, node, storage_map, compute_map, no_recycling)\u001b[0m\n\u001b[0;32m    968\u001b[0m             \u001b[1;32mtry\u001b[0m\u001b[1;33m:\u001b[0m\u001b[1;33m\u001b[0m\u001b[0m\n\u001b[0;32m    969\u001b[0m                 return self.make_c_thunk(node, storage_map, compute_map,\n\u001b[1;32m--> 970\u001b[1;33m                                          no_recycling)\n\u001b[0m\u001b[0;32m    971\u001b[0m             \u001b[1;32mexcept\u001b[0m \u001b[1;33m(\u001b[0m\u001b[0mNotImplementedError\u001b[0m\u001b[1;33m,\u001b[0m \u001b[0mutils\u001b[0m\u001b[1;33m.\u001b[0m\u001b[0mMethodNotDefined\u001b[0m\u001b[1;33m)\u001b[0m\u001b[1;33m:\u001b[0m\u001b[1;33m\u001b[0m\u001b[0m\n\u001b[0;32m    972\u001b[0m                 \u001b[0mlogger\u001b[0m\u001b[1;33m.\u001b[0m\u001b[0mdebug\u001b[0m\u001b[1;33m(\u001b[0m\u001b[1;34m'Falling back on perform'\u001b[0m\u001b[1;33m)\u001b[0m\u001b[1;33m\u001b[0m\u001b[0m\n",
      "\u001b[1;32mC:\\Users\\Back_jud\\Anaconda2\\lib\\site-packages\\theano\\gof\\op.pyc\u001b[0m in \u001b[0;36mmake_c_thunk\u001b[1;34m(self, node, storage_map, compute_map, no_recycling)\u001b[0m\n\u001b[0;32m    877\u001b[0m         \u001b[0mlogger\u001b[0m\u001b[1;33m.\u001b[0m\u001b[0mdebug\u001b[0m\u001b[1;33m(\u001b[0m\u001b[1;34m'Trying CLinker.make_thunk'\u001b[0m\u001b[1;33m)\u001b[0m\u001b[1;33m\u001b[0m\u001b[0m\n\u001b[0;32m    878\u001b[0m         outputs = cl.make_thunk(input_storage=node_input_storage,\n\u001b[1;32m--> 879\u001b[1;33m                                 output_storage=node_output_storage)\n\u001b[0m\u001b[0;32m    880\u001b[0m         \u001b[0mfill_storage\u001b[0m\u001b[1;33m,\u001b[0m \u001b[0mnode_input_filters\u001b[0m\u001b[1;33m,\u001b[0m \u001b[0mnode_output_filters\u001b[0m \u001b[1;33m=\u001b[0m \u001b[0moutputs\u001b[0m\u001b[1;33m\u001b[0m\u001b[0m\n\u001b[0;32m    881\u001b[0m \u001b[1;33m\u001b[0m\u001b[0m\n",
      "\u001b[1;32mC:\\Users\\Back_jud\\Anaconda2\\lib\\site-packages\\theano\\gof\\cc.pyc\u001b[0m in \u001b[0;36mmake_thunk\u001b[1;34m(self, input_storage, output_storage, storage_map, keep_lock)\u001b[0m\n\u001b[0;32m   1198\u001b[0m         cthunk, in_storage, out_storage, error_storage = self.__compile__(\n\u001b[0;32m   1199\u001b[0m             \u001b[0minput_storage\u001b[0m\u001b[1;33m,\u001b[0m \u001b[0moutput_storage\u001b[0m\u001b[1;33m,\u001b[0m \u001b[0mstorage_map\u001b[0m\u001b[1;33m,\u001b[0m\u001b[1;33m\u001b[0m\u001b[0m\n\u001b[1;32m-> 1200\u001b[1;33m             keep_lock=keep_lock)\n\u001b[0m\u001b[0;32m   1201\u001b[0m \u001b[1;33m\u001b[0m\u001b[0m\n\u001b[0;32m   1202\u001b[0m         \u001b[0mres\u001b[0m \u001b[1;33m=\u001b[0m \u001b[0m_CThunk\u001b[0m\u001b[1;33m(\u001b[0m\u001b[0mcthunk\u001b[0m\u001b[1;33m,\u001b[0m \u001b[0minit_tasks\u001b[0m\u001b[1;33m,\u001b[0m \u001b[0mtasks\u001b[0m\u001b[1;33m,\u001b[0m \u001b[0merror_storage\u001b[0m\u001b[1;33m)\u001b[0m\u001b[1;33m\u001b[0m\u001b[0m\n",
      "\u001b[1;32mC:\\Users\\Back_jud\\Anaconda2\\lib\\site-packages\\theano\\gof\\cc.pyc\u001b[0m in \u001b[0;36m__compile__\u001b[1;34m(self, input_storage, output_storage, storage_map, keep_lock)\u001b[0m\n\u001b[0;32m   1141\u001b[0m                                     \u001b[0moutput_storage\u001b[0m\u001b[1;33m,\u001b[0m\u001b[1;33m\u001b[0m\u001b[0m\n\u001b[0;32m   1142\u001b[0m                                     \u001b[0mstorage_map\u001b[0m\u001b[1;33m,\u001b[0m\u001b[1;33m\u001b[0m\u001b[0m\n\u001b[1;32m-> 1143\u001b[1;33m                                     keep_lock=keep_lock)\n\u001b[0m\u001b[0;32m   1144\u001b[0m         return (thunk,\n\u001b[0;32m   1145\u001b[0m                 [link.Container(input, storage) for input, storage in\n",
      "\u001b[1;32mC:\\Users\\Back_jud\\Anaconda2\\lib\\site-packages\\theano\\gof\\cc.pyc\u001b[0m in \u001b[0;36mcthunk_factory\u001b[1;34m(self, error_storage, in_storage, out_storage, storage_map, keep_lock)\u001b[0m\n\u001b[0;32m   1593\u001b[0m         \u001b[1;32melse\u001b[0m\u001b[1;33m:\u001b[0m\u001b[1;33m\u001b[0m\u001b[0m\n\u001b[0;32m   1594\u001b[0m             module = get_module_cache().module_from_key(\n\u001b[1;32m-> 1595\u001b[1;33m                 key=key, lnk=self, keep_lock=keep_lock)\n\u001b[0m\u001b[0;32m   1596\u001b[0m \u001b[1;33m\u001b[0m\u001b[0m\n\u001b[0;32m   1597\u001b[0m         \u001b[0mvars\u001b[0m \u001b[1;33m=\u001b[0m \u001b[0mself\u001b[0m\u001b[1;33m.\u001b[0m\u001b[0minputs\u001b[0m \u001b[1;33m+\u001b[0m \u001b[0mself\u001b[0m\u001b[1;33m.\u001b[0m\u001b[0moutputs\u001b[0m \u001b[1;33m+\u001b[0m \u001b[0mself\u001b[0m\u001b[1;33m.\u001b[0m\u001b[0morphans\u001b[0m\u001b[1;33m\u001b[0m\u001b[0m\n",
      "\u001b[1;32mC:\\Users\\Back_jud\\Anaconda2\\lib\\site-packages\\theano\\gof\\cmodule.pyc\u001b[0m in \u001b[0;36mmodule_from_key\u001b[1;34m(self, key, lnk, keep_lock)\u001b[0m\n\u001b[0;32m   1140\u001b[0m             \u001b[1;32mtry\u001b[0m\u001b[1;33m:\u001b[0m\u001b[1;33m\u001b[0m\u001b[0m\n\u001b[0;32m   1141\u001b[0m                 \u001b[0mlocation\u001b[0m \u001b[1;33m=\u001b[0m \u001b[0mdlimport_workdir\u001b[0m\u001b[1;33m(\u001b[0m\u001b[0mself\u001b[0m\u001b[1;33m.\u001b[0m\u001b[0mdirname\u001b[0m\u001b[1;33m)\u001b[0m\u001b[1;33m\u001b[0m\u001b[0m\n\u001b[1;32m-> 1142\u001b[1;33m                 \u001b[0mmodule\u001b[0m \u001b[1;33m=\u001b[0m \u001b[0mlnk\u001b[0m\u001b[1;33m.\u001b[0m\u001b[0mcompile_cmodule\u001b[0m\u001b[1;33m(\u001b[0m\u001b[0mlocation\u001b[0m\u001b[1;33m)\u001b[0m\u001b[1;33m\u001b[0m\u001b[0m\n\u001b[0m\u001b[0;32m   1143\u001b[0m                 \u001b[0mname\u001b[0m \u001b[1;33m=\u001b[0m \u001b[0mmodule\u001b[0m\u001b[1;33m.\u001b[0m\u001b[0m__file__\u001b[0m\u001b[1;33m\u001b[0m\u001b[0m\n\u001b[0;32m   1144\u001b[0m                 \u001b[1;32massert\u001b[0m \u001b[0mname\u001b[0m\u001b[1;33m.\u001b[0m\u001b[0mstartswith\u001b[0m\u001b[1;33m(\u001b[0m\u001b[0mlocation\u001b[0m\u001b[1;33m)\u001b[0m\u001b[1;33m\u001b[0m\u001b[0m\n",
      "\u001b[1;32mC:\\Users\\Back_jud\\Anaconda2\\lib\\site-packages\\theano\\gof\\cc.pyc\u001b[0m in \u001b[0;36mcompile_cmodule\u001b[1;34m(self, location)\u001b[0m\n\u001b[0;32m   1504\u001b[0m                 \u001b[0mlib_dirs\u001b[0m\u001b[1;33m=\u001b[0m\u001b[0mself\u001b[0m\u001b[1;33m.\u001b[0m\u001b[0mlib_dirs\u001b[0m\u001b[1;33m(\u001b[0m\u001b[1;33m)\u001b[0m\u001b[1;33m,\u001b[0m\u001b[1;33m\u001b[0m\u001b[0m\n\u001b[0;32m   1505\u001b[0m                 \u001b[0mlibs\u001b[0m\u001b[1;33m=\u001b[0m\u001b[0mlibs\u001b[0m\u001b[1;33m,\u001b[0m\u001b[1;33m\u001b[0m\u001b[0m\n\u001b[1;32m-> 1506\u001b[1;33m                 preargs=preargs)\n\u001b[0m\u001b[0;32m   1507\u001b[0m         \u001b[1;32mexcept\u001b[0m \u001b[0mException\u001b[0m \u001b[1;32mas\u001b[0m \u001b[0me\u001b[0m\u001b[1;33m:\u001b[0m\u001b[1;33m\u001b[0m\u001b[0m\n\u001b[0;32m   1508\u001b[0m             \u001b[0me\u001b[0m\u001b[1;33m.\u001b[0m\u001b[0margs\u001b[0m \u001b[1;33m+=\u001b[0m \u001b[1;33m(\u001b[0m\u001b[0mstr\u001b[0m\u001b[1;33m(\u001b[0m\u001b[0mself\u001b[0m\u001b[1;33m.\u001b[0m\u001b[0mfgraph\u001b[0m\u001b[1;33m)\u001b[0m\u001b[1;33m,\u001b[0m\u001b[1;33m)\u001b[0m\u001b[1;33m\u001b[0m\u001b[0m\n",
      "\u001b[1;32mC:\\Users\\Back_jud\\Anaconda2\\lib\\site-packages\\theano\\sandbox\\cuda\\nvcc_compiler.pyc\u001b[0m in \u001b[0;36mcompile_str\u001b[1;34m(module_name, src_code, location, include_dirs, lib_dirs, libs, preargs, rpaths, py_module, hide_symbols)\u001b[0m\n\u001b[0;32m    395\u001b[0m             \u001b[1;32mprint\u001b[0m\u001b[1;33m(\u001b[0m\u001b[0mcmd\u001b[0m\u001b[1;33m)\u001b[0m\u001b[1;33m\u001b[0m\u001b[0m\n\u001b[0;32m    396\u001b[0m             raise Exception('nvcc return status', p.returncode,\n\u001b[1;32m--> 397\u001b[1;33m                             'for cmd', ' '.join(cmd))\n\u001b[0m\u001b[0;32m    398\u001b[0m         \u001b[1;32melif\u001b[0m \u001b[0mconfig\u001b[0m\u001b[1;33m.\u001b[0m\u001b[0mcmodule\u001b[0m\u001b[1;33m.\u001b[0m\u001b[0mcompilation_warning\u001b[0m \u001b[1;32mand\u001b[0m \u001b[0mnvcc_stdout\u001b[0m\u001b[1;33m:\u001b[0m\u001b[1;33m\u001b[0m\u001b[0m\n\u001b[0;32m    399\u001b[0m             \u001b[1;32mprint\u001b[0m\u001b[1;33m(\u001b[0m\u001b[0mnvcc_stdout\u001b[0m\u001b[1;33m)\u001b[0m\u001b[1;33m\u001b[0m\u001b[0m\n",
      "\u001b[1;31mException\u001b[0m: ('The following error happened while compiling the node', GpuElemwise{Composite{tanh((i0 + i1))}}[(0, 0)](GpuSubtensor{::, ::, int64:int64:, int64:int64:}.0, GpuReshape{4}.0), '\\n', 'nvcc return status', 2, 'for cmd', 'nvcc -shared -O3 --maxrregcount=32 --use-local-env --cl-version=2013 -arch=sm_50 -Xlinker /DEBUG -D HAVE_ROUND -m64 -Xcompiler -DCUDA_NDARRAY_CUH=18715462c72ed6afcd7ca5d52813ce90,-DNPY_NO_DEPRECATED_API=NPY_1_7_API_VERSION,/Zi,/MD -IC:\\\\Users\\\\Back_jud\\\\AppData\\\\Local\\\\Theano\\\\compiledir_Windows-10-10.0.10586-Intel64_Family_6_Model_60_Stepping_3_GenuineIntel-2.7.11-64\\\\cuda_ndarray -IC:\\\\Users\\\\Back_jud\\\\Anaconda2\\\\lib\\\\site-packages\\\\numpy\\\\core\\\\include -IC:\\\\Users\\\\Back_jud\\\\Anaconda2\\\\include -IC:\\\\Users\\\\Back_jud\\\\Anaconda2\\\\lib\\\\site-packages\\\\theano\\\\gof -IC:\\\\Users\\\\Back_jud\\\\Anaconda2\\\\lib\\\\site-packages\\\\theano\\\\sandbox\\\\cuda -o C:\\\\Users\\\\Back_jud\\\\AppData\\\\Local\\\\Theano\\\\compiledir_Windows-10-10.0.10586-Intel64_Family_6_Model_60_Stepping_3_GenuineIntel-2.7.11-64\\\\tmp4_hzw1\\\\1dec04b3ffb7f71e669f94f8c2dc9665.pyd mod.cu -LC:\\\\Users\\\\Back_jud\\\\AppData\\\\Local\\\\Theano\\\\compiledir_Windows-10-10.0.10586-Intel64_Family_6_Model_60_Stepping_3_GenuineIntel-2.7.11-64\\\\cuda_ndarray -LC:\\\\Users\\\\Back_jud\\\\Anaconda2\\\\libs -LC:\\\\Users\\\\Back_jud\\\\Anaconda2 -lcudart -lcublas -lcuda_ndarray -lpython27', '[GpuElemwise{Composite{tanh((i0 + i1))}}[(0, 0)](<CudaNdarrayType(float32, 4D)>, <CudaNdarrayType(float32, (True, False, True, True))>)]')"
     ]
    }
   ],
   "source": [
    "model3 = Sequential()\n",
    "history3 = History()\n",
    "model3.add(Convolution2D(50,5, 5, border_mode='same',activation='tanh' ,input_shape=(1, 50, 50)))\n",
    "# model3.add(Convolution2D(50, 5, 5,,activation='logistic' ,init='uniform'))\n",
    "model3.add(MaxPooling2D(pool_size=(2, 2)))\n",
    "model3.add(Dropout(0.25))\n",
    "\n",
    "# model3.add(Convolution2D(100, 5, 5, border_mode='same'))\n",
    "# model3.add(Activation('LSTM'))\n",
    "# model3.add(Convolution2D(100, 5, 5,init='uniform'))\n",
    "# model3.add(Activation('LSTM'))\n",
    "# model3.add(MaxPooling2D(pool_size=(2, 2)))\n",
    "# model3.add(Dropout(0.25))\n",
    "\n",
    "model3.add(Flatten())\n",
    "model3.add(Dense(1250,init='uniform'))\n",
    "model3.add(Activation('tanh'))\n",
    "model3.add(Dense(2,activation='softmax'))\n",
    "model3.compile(loss='categorical_crossentropy', optimizer=SGD(lr=0.01, decay=1e-6, momentum=0.6, nesterov=True))"
   ]
  },
  {
   "cell_type": "code",
   "execution_count": null,
   "metadata": {
    "collapsed": true
   },
   "outputs": [],
   "source": [
    "%timeit hist3 = model3.fit(np.array(x_tr2), y_tr2, nb_epoch=40 , batch_size=36 ,validation_split=0.2, show_accuracy=True , shuffle=True,callbacks=[history2])"
   ]
  },
  {
   "cell_type": "code",
   "execution_count": null,
   "metadata": {
    "collapsed": true
   },
   "outputs": [],
   "source": []
  },
  {
   "cell_type": "markdown",
   "metadata": {},
   "source": [
    "## SVM"
   ]
  },
  {
   "cell_type": "markdown",
   "metadata": {},
   "source": [
    "### sample수 부족으로 "
   ]
  },
  {
   "cell_type": "code",
   "execution_count": 70,
   "metadata": {
    "collapsed": true
   },
   "outputs": [],
   "source": [
    "from sklearn.svm import SVC\n",
    "from sklearn.grid_search import GridSearchCV\n",
    "from sklearn.svm import LinearSVC"
   ]
  },
  {
   "cell_type": "code",
   "execution_count": 145,
   "metadata": {
    "collapsed": false
   },
   "outputs": [],
   "source": [
    "params4 = {'C' : [1e1, 1e2, 1e3,1e4,1e5],\n",
    "           'gamma' : [0.0001,0.0005,0.001,0.005,0.01]}"
   ]
  },
  {
   "cell_type": "code",
   "execution_count": 220,
   "metadata": {
    "collapsed": false
   },
   "outputs": [],
   "source": [
    "clf = GridSearchCV(SVC(kernel='rbf'),params4)"
   ]
  },
  {
   "cell_type": "code",
   "execution_count": 221,
   "metadata": {
    "collapsed": false,
    "scrolled": true
   },
   "outputs": [],
   "source": [
    "y_trn4 = cat2lab(y_tr)\n",
    "model4 = clf.fit(x_tr,y_trn4)"
   ]
  },
  {
   "cell_type": "code",
   "execution_count": 222,
   "metadata": {
    "collapsed": false,
    "scrolled": true
   },
   "outputs": [
    {
     "data": {
      "text/plain": [
       "0.77777777777777779"
      ]
     },
     "execution_count": 222,
     "metadata": {},
     "output_type": "execute_result"
    }
   ],
   "source": [
    "model4.score(x_te,cat2lab(y_te))"
   ]
  },
  {
   "cell_type": "code",
   "execution_count": 223,
   "metadata": {
    "collapsed": false,
    "scrolled": true
   },
   "outputs": [
    {
     "data": {
      "text/plain": [
       "(0.84507042253521125, {'C': 10.0, 'gamma': 0.01})"
      ]
     },
     "execution_count": 223,
     "metadata": {},
     "output_type": "execute_result"
    }
   ],
   "source": [
    "\n",
    "model4.best_score_ ,model4.best_params_"
   ]
  },
  {
   "cell_type": "code",
   "execution_count": 224,
   "metadata": {
    "collapsed": false
   },
   "outputs": [
    {
     "data": {
      "text/plain": [
       "array([1, 0, 1, 1, 1, 1, 0, 0, 0, 1, 1, 1, 1, 0, 1, 0, 1, 1])"
      ]
     },
     "execution_count": 224,
     "metadata": {},
     "output_type": "execute_result"
    }
   ],
   "source": [
    "y_pred4 = model4.predict(x_te)\n",
    "y_pred4"
   ]
  },
  {
   "cell_type": "code",
   "execution_count": 184,
   "metadata": {
    "collapsed": false
   },
   "outputs": [
    {
     "data": {
      "text/plain": [
       "[1, 0, 0, 1, 1, 1, 0, 0, 0, 1, 1, 1, 0, 0, 1, 0, 0, 0]"
      ]
     },
     "execution_count": 184,
     "metadata": {},
     "output_type": "execute_result"
    }
   ],
   "source": [
    "y_ten4 = cat2lab(y_te)\n",
    "y_ten4"
   ]
  },
  {
   "cell_type": "code",
   "execution_count": 173,
   "metadata": {
    "collapsed": false
   },
   "outputs": [
    {
     "name": "stdout",
     "output_type": "stream",
     "text": [
      "             precision    recall  f1-score   support\n",
      "\n",
      "          0       1.00      0.60      0.75        10\n",
      "          1       0.67      1.00      0.80         8\n",
      "\n",
      "avg / total       0.85      0.78      0.77        18\n",
      "\n"
     ]
    }
   ],
   "source": [
    "print(classification_report(y_ten4,y_pred4))"
   ]
  },
  {
   "cell_type": "code",
   "execution_count": null,
   "metadata": {
    "collapsed": true
   },
   "outputs": [],
   "source": []
  },
  {
   "cell_type": "code",
   "execution_count": 12,
   "metadata": {
    "collapsed": false
   },
   "outputs": [],
   "source": [
    "import pywt"
   ]
  },
  {
   "cell_type": "code",
   "execution_count": 209,
   "metadata": {
    "collapsed": false
   },
   "outputs": [],
   "source": [
    "Ca,Cd = pywt.dwt2(x_tr[25],'haar')"
   ]
  },
  {
   "cell_type": "code",
   "execution_count": 210,
   "metadata": {
    "collapsed": false
   },
   "outputs": [
    {
     "data": {
      "text/plain": [
       "(25L, 25L)"
      ]
     },
     "execution_count": 210,
     "metadata": {},
     "output_type": "execute_result"
    }
   ],
   "source": [
    "np.shape(Ca)"
   ]
  },
  {
   "cell_type": "code",
   "execution_count": 211,
   "metadata": {
    "collapsed": false
   },
   "outputs": [
    {
     "data": {
      "text/plain": [
       "<matplotlib.image.AxesImage at 0x45a7b978>"
      ]
     },
     "execution_count": 211,
     "metadata": {},
     "output_type": "execute_result"
    },
    {
     "data": {
      "image/png": "[encoded data removed]",
      "text/plain": [
       "<matplotlib.figure.Figure at 0x45959240>"
      ]
     },
     "metadata": {},
     "output_type": "display_data"
    }
   ],
   "source": [
    "plt.imshow(Ca)"
   ]
  },
  {
   "cell_type": "code",
   "execution_count": 212,
   "metadata": {
    "collapsed": false
   },
   "outputs": [
    {
     "data": {
      "text/plain": [
       "<matplotlib.image.AxesImage at 0x3dea22e8>"
      ]
     },
     "execution_count": 212,
     "metadata": {},
     "output_type": "execute_result"
    },
    {
     "data": {
      "image/png": "[encoded data removed]",
      "text/plain": [
       "<matplotlib.figure.Figure at 0x45c44828>"
      ]
     },
     "metadata": {},
     "output_type": "display_data"
    }
   ],
   "source": [
    "plt.imshow(Cd[1])"
   ]
  },
  {
   "cell_type": "code",
   "execution_count": 218,
   "metadata": {
    "collapsed": false
   },
   "outputs": [
    {
     "data": {
      "text/plain": [
       "<matplotlib.image.AxesImage at 0x37e26fd0>"
      ]
     },
     "execution_count": 218,
     "metadata": {},
     "output_type": "execute_result"
    },
    {
     "data": {
      "image/png": "[encoded data removed]",
      "text/plain": [
       "<matplotlib.figure.Figure at 0x3776b278>"
      ]
     },
     "metadata": {},
     "output_type": "display_data"
    }
   ],
   "source": [
    "plt.imshow(pywt.threshold(Cd[1],0.3))"
   ]
  },
  {
   "cell_type": "code",
   "execution_count": null,
   "metadata": {
    "collapsed": true
   },
   "outputs": [],
   "source": []
  },
  {
   "cell_type": "code",
   "execution_count": 257,
   "metadata": {
    "collapsed": false
   },
   "outputs": [],
   "source": [
    "from cv2 import HoughLines\n",
    "from cv2 import HoughLinesP\n",
    "import cv2"
   ]
  },
  {
   "cell_type": "code",
   "execution_count": 259,
   "metadata": {
    "collapsed": false
   },
   "outputs": [
    {
     "ename": "NameError",
     "evalue": "name 'PATH' is not defined",
     "output_type": "error",
     "traceback": [
      "\u001b[1;31m---------------------------------------------------------------------------\u001b[0m",
      "\u001b[1;31mNameError\u001b[0m                                 Traceback (most recent call last)",
      "\u001b[1;32m<ipython-input-259-701af7499ddf>\u001b[0m in \u001b[0;36m<module>\u001b[1;34m()\u001b[0m\n\u001b[1;32m----> 1\u001b[1;33m \u001b[0mPATH\u001b[0m\u001b[1;33m\u001b[0m\u001b[0m\n\u001b[0m",
      "\u001b[1;31mNameError\u001b[0m: name 'PATH' is not defined"
     ]
    }
   ],
   "source": [
    "PATH"
   ]
  },
  {
   "cell_type": "code",
   "execution_count": 260,
   "metadata": {
    "collapsed": true
   },
   "outputs": [],
   "source": [
    "from os import listdir"
   ]
  },
  {
   "cell_type": "code",
   "execution_count": 261,
   "metadata": {
    "collapsed": true
   },
   "outputs": [],
   "source": [
    "asdf = listdir('d://nor/')"
   ]
  },
  {
   "cell_type": "code",
   "execution_count": 263,
   "metadata": {
    "collapsed": false
   },
   "outputs": [],
   "source": [
    "ima = cv2.imread('d://nor/'+asdf[1])"
   ]
  },
  {
   "cell_type": "code",
   "execution_count": 273,
   "metadata": {
    "collapsed": false,
    "scrolled": true
   },
   "outputs": [
    {
     "ename": "error",
     "evalue": "C:\\builds\\master_PackSlaveAddon-win64-vc12-static\\opencv\\modules\\imgproc\\src\\hough.cpp:86: error: (-215) img.type() == CV_8UC1 in function cv::HoughLinesStandard\n",
     "output_type": "error",
     "traceback": [
      "\u001b[1;31m---------------------------------------------------------------------------\u001b[0m",
      "\u001b[1;31merror\u001b[0m                                     Traceback (most recent call last)",
      "\u001b[1;32m<ipython-input-273-e52e3ad81251>\u001b[0m in \u001b[0;36m<module>\u001b[1;34m()\u001b[0m\n\u001b[1;32m----> 1\u001b[1;33m \u001b[0mHoughLines\u001b[0m\u001b[1;33m(\u001b[0m\u001b[0mima\u001b[0m\u001b[1;33m,\u001b[0m\u001b[1;36m1\u001b[0m\u001b[1;33m,\u001b[0m\u001b[1;36m0.5\u001b[0m\u001b[1;33m,\u001b[0m\u001b[1;36m2\u001b[0m\u001b[1;33m)\u001b[0m\u001b[1;33m\u001b[0m\u001b[0m\n\u001b[0m",
      "\u001b[1;31merror\u001b[0m: C:\\builds\\master_PackSlaveAddon-win64-vc12-static\\opencv\\modules\\imgproc\\src\\hough.cpp:86: error: (-215) img.type() == CV_8UC1 in function cv::HoughLinesStandard\n"
     ]
    }
   ],
   "source": [
    "cv2.(ima,1,0.5,2)"
   ]
  },
  {
   "cell_type": "code",
   "execution_count": null,
   "metadata": {
    "collapsed": true
   },
   "outputs": [],
   "source": []
  }
 ],
 "metadata": {
  "kernelspec": {
   "display_name": "Python 2",
   "language": "python",
   "name": "python2"
  },
  "language_info": {
   "codemirror_mode": {
    "name": "ipython",
    "version": 2
   },
   "file_extension": ".py",
   "mimetype": "text/x-python",
   "name": "python",
   "nbconvert_exporter": "python",
   "pygments_lexer": "ipython2",
   "version": "2.7.11"
  }
 },
 "nbformat": 4,
 "nbformat_minor": 0
}
