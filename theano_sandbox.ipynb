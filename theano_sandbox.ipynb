{
 "cells": [
  {
   "cell_type": "code",
   "execution_count": 1,
   "metadata": {
    "collapsed": false,
    "scrolled": false
   },
   "outputs": [
    {
     "name": "stderr",
     "output_type": "stream",
     "text": [
      "Using Theano backend.\n",
      "Using gpu device 0: GeForce 940M (CNMeM is disabled, CuDNN not available)\n",
      "C:\\Users\\Back_jud\\Anaconda2\\lib\\site-packages\\theano\\tensor\\signal\\downsample.py:6: UserWarning:\n",
      "\n",
      "downsample module has been moved to the theano.tensor.signal.pool module.\n",
      "\n"
     ]
    }
   ],
   "source": [
    "from keras.layers import Convolution2D ,MaxPooling2D,Flatten\n",
    "from keras.layers.core import Dense, Dropout, Activation\n",
    "from sklearn.cross_validation import train_test_split\n",
    "from keras.callbacks import History,Callback\n",
    "from sklearn.metrics import classification_report\n",
    "from keras.models import Sequential\n",
    "from keras.optimizers import SGD\n",
    "from keras.utils import np_utils\n",
    "from keras import backend as K\n",
    "import theano.tensor as T\n",
    "import theano\n",
    "import keras\n",
    "import pickle\n"
   ]
  },
  {
   "cell_type": "code",
   "execution_count": 2,
   "metadata": {
    "collapsed": true
   },
   "outputs": [],
   "source": [
    "def cat2lab (x):\n",
    "    '''only for binary category'''\n",
    "    return [0 if s[0] else 1 for s in x]"
   ]
  },
  {
   "cell_type": "code",
   "execution_count": 3,
   "metadata": {
    "collapsed": true
   },
   "outputs": [],
   "source": [
    "# print(theano.config)"
   ]
  },
  {
   "cell_type": "code",
   "execution_count": 4,
   "metadata": {
    "collapsed": true
   },
   "outputs": [],
   "source": [
    "#np.distutils.__config__.show()"
   ]
  },
  {
   "cell_type": "markdown",
   "metadata": {},
   "source": [
    "### dram-> vram / bottleneck"
   ]
  },
  {
   "cell_type": "raw",
   "metadata": {
    "collapsed": false,
    "scrolled": false
   },
   "source": [
    "x= T.scalar('x',dtype='float64')\n",
    "compute = theano.function([x], 2*x**2)\n",
    "compute(2)\n"
   ]
  },
  {
   "cell_type": "markdown",
   "metadata": {},
   "source": [
    "### direct to gpu"
   ]
  },
  {
   "cell_type": "raw",
   "metadata": {
    "collapsed": false
   },
   "source": [
    "x_value = theano.shared(10.0)\n",
    "compute = theano.function([], 2*x , givens={x:x_value})\n",
    "compute()"
   ]
  },
  {
   "cell_type": "code",
   "execution_count": null,
   "metadata": {
    "collapsed": false
   },
   "outputs": [],
   "source": []
  },
  {
   "cell_type": "markdown",
   "metadata": {},
   "source": [
    "### Load pickle and formatting"
   ]
  },
  {
   "cell_type": "code",
   "execution_count": 5,
   "metadata": {
    "collapsed": false
   },
   "outputs": [],
   "source": [
    "a = open('d://labels_new.p')\n",
    "b = open('d://images_new.p')\n",
    "labels = np.array(pickle.load(a))\n",
    "imgs = np.array(pickle.load(b))\n",
    "imgs = imgs /255\n",
    "labels = np_utils.to_categorical(labels,nb_classes=2)\n"
   ]
  },
  {
   "cell_type": "code",
   "execution_count": 6,
   "metadata": {
    "collapsed": true
   },
   "outputs": [],
   "source": [
    "orimgs =[]\n",
    "for a in imgs:\n",
    "    orimgs.append(np.reshape(a,(50,50))) "
   ]
  },
  {
   "cell_type": "code",
   "execution_count": 7,
   "metadata": {
    "collapsed": true
   },
   "outputs": [],
   "source": [
    "x_tr,x_te,y_tr,y_te = train_test_split(orimgs,labels,test_size= 0.2,random_state= 123)"
   ]
  },
  {
   "cell_type": "code",
   "execution_count": 8,
   "metadata": {
    "collapsed": true
   },
   "outputs": [],
   "source": [
    "x_tr1,x_te1,y_tr1,y_te1 = train_test_split(imgs,labels,test_size= 0.2,random_state= 123)"
   ]
  },
  {
   "cell_type": "code",
   "execution_count": 9,
   "metadata": {
    "collapsed": false
   },
   "outputs": [
    {
     "data": {
      "text/plain": [
       "array([ 0.,  0.,  0., ...,  0.,  0.,  0.])"
      ]
     },
     "execution_count": 9,
     "metadata": {},
     "output_type": "execute_result"
    }
   ],
   "source": [
    "x_tr1[0]"
   ]
  },
  {
   "cell_type": "markdown",
   "metadata": {},
   "source": [
    "## Trial1.Simple neuron"
   ]
  },
  {
   "cell_type": "code",
   "execution_count": 10,
   "metadata": {
    "collapsed": false
   },
   "outputs": [],
   "source": [
    "model1 = Sequential()\n",
    "model1.add(Dense(2500, input_dim=2500,init ='uniform'))\n",
    "model1.add(Activation('relu'))\n",
    "model1.add(Dense(2, activation=\"softmax\"))\n",
    "model1.compile(loss='categorical_crossentropy', optimizer=SGD(lr=0.01,decay= 1e-6,momentum=0.9,nesterov=True))"
   ]
  },
  {
   "cell_type": "code",
   "execution_count": 11,
   "metadata": {
    "collapsed": false,
    "scrolled": true
   },
   "outputs": [
    {
     "name": "stdout",
     "output_type": "stream",
     "text": [
      "Wall time: 44.6 s\n"
     ]
    }
   ],
   "source": [
    "%time hist1 = model1.fit(np.array(x_tr1), np.array(y_tr1), nb_epoch=300,validation_split=0.1 ,batch_size=50,show_accuracy=True,verbose=0)"
   ]
  },
  {
   "cell_type": "code",
   "execution_count": 12,
   "metadata": {
    "collapsed": false,
    "scrolled": true
   },
   "outputs": [
    {
     "data": {
      "text/plain": [
       "<matplotlib.legend.Legend at 0x2c108a20>"
      ]
     },
     "execution_count": 12,
     "metadata": {},
     "output_type": "execute_result"
    },
    {
     "data": {
      "image/png": "[encoded data removed]",
      "text/plain": [
       "<matplotlib.figure.Figure at 0x2bf572e8>"
      ]
     },
     "metadata": {},
     "output_type": "display_data"
    }
   ],
   "source": [
    "plt.plot(hist1.history['acc'],label='acc')\n",
    "plt.plot(hist1.history['loss'],label='loss')\n",
    "plt.plot(hist1.history['val_acc'],label='val_acc')\n",
    "plt.plot(hist1.history['val_loss'],label='val_loss')\n",
    "plt.grid('off')\n",
    "plt.legend()"
   ]
  },
  {
   "cell_type": "code",
   "execution_count": 13,
   "metadata": {
    "collapsed": false
   },
   "outputs": [
    {
     "name": "stdout",
     "output_type": "stream",
     "text": [
      "29/29 [==============================] - 0s\n"
     ]
    },
    {
     "data": {
      "text/plain": [
       "[1.2852578163146973, 0.72413793103448276]"
      ]
     },
     "execution_count": 13,
     "metadata": {},
     "output_type": "execute_result"
    }
   ],
   "source": [
    "model1.evaluate(np.array(x_te1),y_te1,batch_size=50,show_accuracy=True)"
   ]
  },
  {
   "cell_type": "code",
   "execution_count": 14,
   "metadata": {
    "collapsed": false
   },
   "outputs": [
    {
     "name": "stdout",
     "output_type": "stream",
     "text": [
      "--------------------------------------------------------------------------------\n",
      "Initial input shape: (None, 2500)\n",
      "--------------------------------------------------------------------------------\n",
      "Layer (name)                  Output Shape                  Param #             \n",
      "--------------------------------------------------------------------------------\n",
      "Dense (dense)                 (None, 2500)                  6252500             \n",
      "Activation (activation)       (None, 2500)                  0                   \n",
      "Dense (dense)                 (None, 2)                     5002                \n",
      "--------------------------------------------------------------------------------\n",
      "Total params: 6257502\n",
      "--------------------------------------------------------------------------------\n"
     ]
    }
   ],
   "source": [
    "model1.summary()"
   ]
  },
  {
   "cell_type": "code",
   "execution_count": 15,
   "metadata": {
    "collapsed": false,
    "scrolled": true
   },
   "outputs": [
    {
     "name": "stdout",
     "output_type": "stream",
     "text": [
      "29/29 [==============================] - 0s     \n"
     ]
    }
   ],
   "source": [
    "y_pred1 = model1.predict_classes(np.array(x_te1),20)"
   ]
  },
  {
   "cell_type": "code",
   "execution_count": 16,
   "metadata": {
    "collapsed": true
   },
   "outputs": [],
   "source": [
    "y_ten1 = cat2lab(y_te1)"
   ]
  },
  {
   "cell_type": "code",
   "execution_count": 17,
   "metadata": {
    "collapsed": false
   },
   "outputs": [
    {
     "name": "stdout",
     "output_type": "stream",
     "text": [
      "             precision    recall  f1-score   support\n",
      "\n",
      "          0       0.62      0.73      0.67        11\n",
      "          1       0.81      0.72      0.76        18\n",
      "\n",
      "avg / total       0.74      0.72      0.73        29\n",
      "\n"
     ]
    }
   ],
   "source": [
    "print(classification_report(y_ten1,y_pred1))"
   ]
  },
  {
   "cell_type": "code",
   "execution_count": 18,
   "metadata": {
    "collapsed": false
   },
   "outputs": [
    {
     "name": "stdout",
     "output_type": "stream",
     "text": [
      "(2500L, 2500L)\n",
      "(2500L,)\n",
      "(2500L, 2L)\n",
      "(2L,)\n"
     ]
    }
   ],
   "source": [
    "for i in model1.get_weights():\n",
    "    print(np.shape(i))"
   ]
  },
  {
   "cell_type": "markdown",
   "metadata": {},
   "source": [
    "## Trial2. CNN"
   ]
  },
  {
   "cell_type": "code",
   "execution_count": 19,
   "metadata": {
    "collapsed": false
   },
   "outputs": [],
   "source": [
    "#imgs for CNN\n",
    "imgs2d= []\n",
    "for img in imgs:\n",
    "    imgs2d.append(np.reshape(img,(1,50,50)))\n"
   ]
  },
  {
   "cell_type": "code",
   "execution_count": 20,
   "metadata": {
    "collapsed": false
   },
   "outputs": [],
   "source": [
    "x_tr2,x_te2,y_tr2,y_te2 = train_test_split(imgs2d,labels,test_size= 0.2,random_state= 123)"
   ]
  },
  {
   "cell_type": "code",
   "execution_count": 21,
   "metadata": {
    "collapsed": false
   },
   "outputs": [],
   "source": [
    "model2 = Sequential()\n",
    "history2 = History()\n",
    "model2.add(Convolution2D(10,10, 10, border_mode='same', input_shape=(1, 50, 50)))\n",
    "model2.add(Activation('relu'))\n",
    "# model2.add(Convolution2D(50, 5, 5,init='uniform'))\n",
    "# model2.add(Activation('relu'))\n",
    "model2.add(MaxPooling2D(pool_size=(2, 2)))\n",
    "model2.add(Dropout(0.25))\n",
    "\n",
    "model2.add(Convolution2D(10, 10, 10,init='uniform' ,border_mode='same'))\n",
    "model2.add(Activation('relu'))\n",
    "# model2.add(Convolution2D(100, 5, 5,init='uniform'))\n",
    "# model2.add(Activation('relu'))\n",
    "model2.add(MaxPooling2D(pool_size=(2, 2)))\n",
    "model2.add(Dropout(0.25))\n",
    "\n",
    "model2.add(Flatten())\n",
    "model2.add(Dense(1250,init='uniform'))\n",
    "model2.add(Activation('relu'))\n",
    "model2.add(Dense(2,activation='softmax'))\n",
    "model2.compile(loss='categorical_crossentropy', optimizer=SGD(lr=0.01,\n",
    "                                                              decay=1e-6,\n",
    "                                                              momentum=0.6, \n",
    "                                                              nesterov=True))"
   ]
  },
  {
   "cell_type": "code",
   "execution_count": 22,
   "metadata": {
    "collapsed": false,
    "scrolled": true
   },
   "outputs": [
    {
     "name": "stdout",
     "output_type": "stream",
     "text": [
      "Train on 90 samples, validate on 23 samples\n",
      "Epoch 1/150\n",
      "90/90 [==============================] - 0s - loss: 0.7639 - acc: 0.5000 - val_loss: 0.7446 - val_acc: 0.3913\n",
      "Epoch 2/150\n",
      "90/90 [==============================] - 0s - loss: 0.6853 - acc: 0.5778 - val_loss: 0.6631 - val_acc: 0.6522\n",
      "Epoch 3/150\n",
      "90/90 [==============================] - 0s - loss: 0.6395 - acc: 0.6556 - val_loss: 0.6854 - val_acc: 0.5217\n",
      "Epoch 4/150\n",
      "90/90 [==============================] - 0s - loss: 0.6251 - acc: 0.7111 - val_loss: 0.6762 - val_acc: 0.4783\n",
      "Epoch 5/150\n",
      "90/90 [==============================] - 0s - loss: 0.6631 - acc: 0.6000 - val_loss: 0.8017 - val_acc: 0.6087\n",
      "Epoch 6/150\n",
      "90/90 [==============================] - 0s - loss: 0.8725 - acc: 0.5778 - val_loss: 0.6893 - val_acc: 0.5217\n",
      "Epoch 7/150\n",
      "90/90 [==============================] - 0s - loss: 0.6667 - acc: 0.7111 - val_loss: 0.6959 - val_acc: 0.4348\n",
      "Epoch 8/150\n",
      "90/90 [==============================] - 0s - loss: 0.6740 - acc: 0.5778 - val_loss: 0.6969 - val_acc: 0.4348\n",
      "Epoch 9/150\n",
      "90/90 [==============================] - 1s - loss: 0.6550 - acc: 0.6000 - val_loss: 0.6923 - val_acc: 0.4783\n",
      "Epoch 10/150\n",
      "90/90 [==============================] - 1s - loss: 0.6416 - acc: 0.6000 - val_loss: 0.6151 - val_acc: 0.7826\n",
      "Epoch 11/150\n",
      "90/90 [==============================] - 1s - loss: 0.5782 - acc: 0.8000 - val_loss: 0.5324 - val_acc: 0.6957\n",
      "Epoch 12/150\n",
      "90/90 [==============================] - 0s - loss: 0.6255 - acc: 0.6222 - val_loss: 0.4911 - val_acc: 0.7391\n",
      "Epoch 13/150\n",
      "90/90 [==============================] - 0s - loss: 0.5127 - acc: 0.8111 - val_loss: 0.5237 - val_acc: 0.6522\n",
      "Epoch 14/150\n",
      "90/90 [==============================] - 0s - loss: 0.5423 - acc: 0.6889 - val_loss: 0.5832 - val_acc: 0.6957\n",
      "Epoch 15/150\n",
      "90/90 [==============================] - 0s - loss: 0.4155 - acc: 0.8111 - val_loss: 0.4149 - val_acc: 0.8696\n",
      "Epoch 16/150\n",
      "90/90 [==============================] - 0s - loss: 0.3526 - acc: 0.8778 - val_loss: 0.3105 - val_acc: 0.8696\n",
      "Epoch 17/150\n",
      "90/90 [==============================] - 0s - loss: 0.6265 - acc: 0.7333 - val_loss: 0.5746 - val_acc: 0.9130\n",
      "Epoch 18/150\n",
      "90/90 [==============================] - 0s - loss: 0.5125 - acc: 0.9222 - val_loss: 0.4138 - val_acc: 0.8696\n",
      "Epoch 19/150\n",
      "90/90 [==============================] - 0s - loss: 0.4233 - acc: 0.8556 - val_loss: 0.3501 - val_acc: 0.8696\n",
      "Epoch 20/150\n",
      "90/90 [==============================] - 0s - loss: 0.3679 - acc: 0.8889 - val_loss: 0.2818 - val_acc: 0.8696\n",
      "Epoch 21/150\n",
      "90/90 [==============================] - 0s - loss: 0.3219 - acc: 0.8778 - val_loss: 0.3031 - val_acc: 0.8696\n",
      "Epoch 22/150\n",
      "90/90 [==============================] - 0s - loss: 0.4052 - acc: 0.8444 - val_loss: 0.7147 - val_acc: 0.5652\n",
      "Epoch 23/150\n",
      "90/90 [==============================] - 0s - loss: 0.4615 - acc: 0.8111 - val_loss: 0.3116 - val_acc: 0.9130\n",
      "Epoch 24/150\n",
      "90/90 [==============================] - 0s - loss: 0.2859 - acc: 0.9111 - val_loss: 0.2769 - val_acc: 0.9130\n",
      "Epoch 25/150\n",
      "90/90 [==============================] - 0s - loss: 0.3754 - acc: 0.8000 - val_loss: 0.2203 - val_acc: 0.8696\n",
      "Epoch 26/150\n",
      "90/90 [==============================] - 0s - loss: 0.2486 - acc: 0.9333 - val_loss: 0.2170 - val_acc: 0.9565\n",
      "Epoch 27/150\n",
      "90/90 [==============================] - 0s - loss: 0.2230 - acc: 0.9111 - val_loss: 0.3121 - val_acc: 0.8696\n",
      "Epoch 28/150\n",
      "90/90 [==============================] - 0s - loss: 0.2563 - acc: 0.9000 - val_loss: 0.2444 - val_acc: 0.9130\n",
      "Epoch 29/150\n",
      "90/90 [==============================] - 0s - loss: 0.2007 - acc: 0.9333 - val_loss: 0.1926 - val_acc: 0.9130\n",
      "Epoch 30/150\n",
      "90/90 [==============================] - 0s - loss: 0.1998 - acc: 0.9333 - val_loss: 0.1826 - val_acc: 0.9130\n",
      "Epoch 31/150\n",
      "90/90 [==============================] - 0s - loss: 0.1785 - acc: 0.9333 - val_loss: 0.4039 - val_acc: 0.7826\n",
      "Epoch 32/150\n",
      "90/90 [==============================] - 0s - loss: 0.5940 - acc: 0.7000 - val_loss: 0.2156 - val_acc: 0.9130\n",
      "Epoch 33/150\n",
      "90/90 [==============================] - 0s - loss: 0.2217 - acc: 0.9444 - val_loss: 0.1778 - val_acc: 0.9130\n",
      "Epoch 34/150\n",
      "90/90 [==============================] - 0s - loss: 0.1845 - acc: 0.9333 - val_loss: 0.1388 - val_acc: 0.9130\n",
      "Epoch 35/150\n",
      "90/90 [==============================] - 0s - loss: 0.1867 - acc: 0.9000 - val_loss: 0.1363 - val_acc: 0.9130\n",
      "Epoch 36/150\n",
      "90/90 [==============================] - 0s - loss: 0.1935 - acc: 0.9333 - val_loss: 0.2144 - val_acc: 0.9565\n",
      "Epoch 37/150\n",
      "90/90 [==============================] - 0s - loss: 0.1390 - acc: 0.9556 - val_loss: 0.1421 - val_acc: 0.9130\n",
      "Epoch 38/150\n",
      "90/90 [==============================] - 0s - loss: 0.1490 - acc: 0.9556 - val_loss: 0.2379 - val_acc: 0.9130\n",
      "Epoch 39/150\n",
      "90/90 [==============================] - 0s - loss: 0.1711 - acc: 0.9556 - val_loss: 0.1630 - val_acc: 0.9565\n",
      "Epoch 40/150\n",
      "90/90 [==============================] - 0s - loss: 0.1284 - acc: 0.9667 - val_loss: 0.2264 - val_acc: 0.9130\n",
      "Epoch 41/150\n",
      "90/90 [==============================] - 0s - loss: 0.1229 - acc: 0.9556 - val_loss: 0.1438 - val_acc: 0.9565\n",
      "Epoch 42/150\n",
      "90/90 [==============================] - 0s - loss: 0.0745 - acc: 0.9778 - val_loss: 0.1305 - val_acc: 0.9130\n",
      "Epoch 43/150\n",
      "90/90 [==============================] - 0s - loss: 0.1203 - acc: 0.9556 - val_loss: 0.1489 - val_acc: 0.9565\n",
      "Epoch 44/150\n",
      "90/90 [==============================] - 0s - loss: 0.1185 - acc: 0.9333 - val_loss: 0.1329 - val_acc: 0.9130\n",
      "Epoch 45/150\n",
      "90/90 [==============================] - 0s - loss: 0.0803 - acc: 0.9667 - val_loss: 0.1292 - val_acc: 0.9130\n",
      "Epoch 46/150\n",
      "90/90 [==============================] - 0s - loss: 0.0824 - acc: 0.9667 - val_loss: 0.1489 - val_acc: 0.9130\n",
      "Epoch 47/150\n",
      "90/90 [==============================] - 0s - loss: 0.0888 - acc: 0.9556 - val_loss: 0.1499 - val_acc: 0.9565\n",
      "Epoch 48/150\n",
      "90/90 [==============================] - 0s - loss: 0.0774 - acc: 0.9778 - val_loss: 0.1219 - val_acc: 0.9565\n",
      "Epoch 49/150\n",
      "90/90 [==============================] - 0s - loss: 0.0892 - acc: 0.9778 - val_loss: 0.1413 - val_acc: 0.9565\n",
      "Epoch 50/150\n",
      "90/90 [==============================] - 0s - loss: 0.0570 - acc: 0.9778 - val_loss: 0.1772 - val_acc: 0.9565\n",
      "Epoch 51/150\n",
      "90/90 [==============================] - 0s - loss: 0.1917 - acc: 0.9333 - val_loss: 0.2342 - val_acc: 0.8696\n",
      "Epoch 52/150\n",
      "90/90 [==============================] - 0s - loss: 0.1192 - acc: 0.9667 - val_loss: 0.1781 - val_acc: 0.9565\n",
      "Epoch 53/150\n",
      "90/90 [==============================] - 0s - loss: 0.0684 - acc: 0.9778 - val_loss: 0.2111 - val_acc: 0.8696\n",
      "Epoch 54/150\n",
      "90/90 [==============================] - 0s - loss: 0.0888 - acc: 0.9556 - val_loss: 0.2302 - val_acc: 0.8696\n",
      "Epoch 55/150\n",
      "90/90 [==============================] - 0s - loss: 0.0572 - acc: 0.9889 - val_loss: 0.1130 - val_acc: 0.9565\n",
      "Epoch 56/150\n",
      "90/90 [==============================] - 0s - loss: 0.0554 - acc: 1.0000 - val_loss: 0.1097 - val_acc: 0.9565\n",
      "Epoch 57/150\n",
      "90/90 [==============================] - 0s - loss: 0.0529 - acc: 0.9889 - val_loss: 0.1470 - val_acc: 0.9130\n",
      "Epoch 58/150\n",
      "90/90 [==============================] - 0s - loss: 0.0623 - acc: 0.9778 - val_loss: 0.1494 - val_acc: 0.9565\n",
      "Epoch 59/150\n",
      "90/90 [==============================] - 0s - loss: 0.0460 - acc: 1.0000 - val_loss: 0.1218 - val_acc: 0.9565\n",
      "Epoch 60/150\n",
      "90/90 [==============================] - 0s - loss: 0.0557 - acc: 0.9889 - val_loss: 0.1621 - val_acc: 0.9130\n",
      "Epoch 61/150\n",
      "90/90 [==============================] - 0s - loss: 0.0352 - acc: 0.9889 - val_loss: 0.2023 - val_acc: 0.8696\n",
      "Epoch 62/150\n",
      "90/90 [==============================] - 0s - loss: 0.0534 - acc: 0.9778 - val_loss: 0.1691 - val_acc: 0.9565\n",
      "Epoch 63/150\n",
      "90/90 [==============================] - 0s - loss: 0.0431 - acc: 0.9889 - val_loss: 0.1557 - val_acc: 0.9130\n",
      "Epoch 64/150\n",
      "90/90 [==============================] - 0s - loss: 0.0420 - acc: 0.9778 - val_loss: 0.1520 - val_acc: 0.9130\n",
      "Epoch 65/150\n",
      "90/90 [==============================] - 0s - loss: 0.0319 - acc: 0.9889 - val_loss: 0.1500 - val_acc: 0.9130\n",
      "Epoch 66/150\n",
      "90/90 [==============================] - 0s - loss: 0.0291 - acc: 1.0000 - val_loss: 0.1717 - val_acc: 0.9130\n",
      "Epoch 67/150\n",
      "90/90 [==============================] - 0s - loss: 0.0421 - acc: 0.9889 - val_loss: 0.1700 - val_acc: 0.9565\n",
      "Epoch 68/150\n",
      "90/90 [==============================] - 0s - loss: 0.0305 - acc: 1.0000 - val_loss: 0.1744 - val_acc: 0.9130\n",
      "Epoch 69/150\n",
      "90/90 [==============================] - 0s - loss: 0.0564 - acc: 0.9778 - val_loss: 0.1682 - val_acc: 0.9130\n",
      "Epoch 70/150\n",
      "90/90 [==============================] - 0s - loss: 0.0217 - acc: 1.0000 - val_loss: 0.5732 - val_acc: 0.7826\n",
      "Epoch 71/150\n",
      "90/90 [==============================] - 0s - loss: 0.0627 - acc: 0.9889 - val_loss: 0.2975 - val_acc: 0.8261\n",
      "Epoch 72/150\n",
      "90/90 [==============================] - 0s - loss: 0.0362 - acc: 0.9889 - val_loss: 0.2546 - val_acc: 0.8696\n",
      "Epoch 73/150\n",
      "90/90 [==============================] - 0s - loss: 0.0235 - acc: 0.9889 - val_loss: 0.2203 - val_acc: 0.9130\n",
      "Epoch 74/150\n",
      "90/90 [==============================] - 0s - loss: 0.0363 - acc: 1.0000 - val_loss: 0.1934 - val_acc: 0.9130\n",
      "Epoch 75/150\n",
      "90/90 [==============================] - 0s - loss: 0.0183 - acc: 1.0000 - val_loss: 0.2176 - val_acc: 0.9130\n",
      "Epoch 76/150\n",
      "90/90 [==============================] - 0s - loss: 0.0233 - acc: 0.9889 - val_loss: 0.1872 - val_acc: 0.9130\n",
      "Epoch 77/150\n",
      "90/90 [==============================] - 0s - loss: 0.0357 - acc: 0.9778 - val_loss: 0.1872 - val_acc: 0.9130\n",
      "Epoch 78/150\n",
      "90/90 [==============================] - 0s - loss: 0.0232 - acc: 1.0000 - val_loss: 0.2238 - val_acc: 0.8696\n",
      "Epoch 79/150\n",
      "90/90 [==============================] - 0s - loss: 0.0130 - acc: 1.0000 - val_loss: 0.2131 - val_acc: 0.9130\n",
      "Epoch 80/150\n",
      "90/90 [==============================] - 0s - loss: 0.0150 - acc: 1.0000 - val_loss: 0.2154 - val_acc: 0.8696\n",
      "Epoch 81/150\n",
      "90/90 [==============================] - 0s - loss: 0.0453 - acc: 0.9889 - val_loss: 0.2004 - val_acc: 0.9565\n",
      "Epoch 82/150\n",
      "90/90 [==============================] - 0s - loss: 0.0243 - acc: 1.0000 - val_loss: 0.2042 - val_acc: 0.9565\n",
      "Epoch 83/150\n",
      "90/90 [==============================] - 0s - loss: 0.0256 - acc: 1.0000 - val_loss: 0.1915 - val_acc: 0.9130\n",
      "Epoch 84/150\n",
      "90/90 [==============================] - 0s - loss: 0.0203 - acc: 1.0000 - val_loss: 0.1919 - val_acc: 0.9130\n",
      "Epoch 85/150\n",
      "90/90 [==============================] - 0s - loss: 0.0134 - acc: 1.0000 - val_loss: 0.1828 - val_acc: 0.9130\n",
      "Epoch 86/150\n",
      "90/90 [==============================] - 0s - loss: 0.0146 - acc: 1.0000 - val_loss: 0.1857 - val_acc: 0.9130\n",
      "Epoch 87/150\n",
      "90/90 [==============================] - 0s - loss: 0.0207 - acc: 1.0000 - val_loss: 0.2326 - val_acc: 0.8696\n",
      "Epoch 88/150\n",
      "90/90 [==============================] - 0s - loss: 0.0260 - acc: 1.0000 - val_loss: 0.2502 - val_acc: 0.9130\n",
      "Epoch 89/150\n",
      "90/90 [==============================] - 0s - loss: 0.0440 - acc: 0.9889 - val_loss: 0.2006 - val_acc: 0.8696\n",
      "Epoch 90/150\n",
      "90/90 [==============================] - 0s - loss: 0.0078 - acc: 1.0000 - val_loss: 0.1943 - val_acc: 0.9130\n",
      "Epoch 91/150\n",
      "90/90 [==============================] - 0s - loss: 0.0122 - acc: 1.0000 - val_loss: 0.1786 - val_acc: 0.9130\n",
      "Epoch 92/150\n",
      "90/90 [==============================] - 0s - loss: 0.0134 - acc: 1.0000 - val_loss: 0.1861 - val_acc: 0.9130\n",
      "Epoch 93/150\n",
      "90/90 [==============================] - 0s - loss: 0.0141 - acc: 1.0000 - val_loss: 0.2031 - val_acc: 0.9130\n",
      "Epoch 94/150\n",
      "90/90 [==============================] - 0s - loss: 0.0126 - acc: 1.0000 - val_loss: 0.1874 - val_acc: 0.9130\n",
      "Epoch 95/150\n",
      "90/90 [==============================] - 0s - loss: 0.0065 - acc: 1.0000 - val_loss: 0.1869 - val_acc: 0.9130\n",
      "Epoch 96/150\n",
      "90/90 [==============================] - 0s - loss: 0.0233 - acc: 0.9889 - val_loss: 0.1839 - val_acc: 0.9130\n",
      "Epoch 97/150\n",
      "90/90 [==============================] - 0s - loss: 0.0122 - acc: 1.0000 - val_loss: 0.2381 - val_acc: 0.8696\n",
      "Epoch 98/150\n",
      "90/90 [==============================] - 0s - loss: 0.0162 - acc: 0.9889 - val_loss: 0.1802 - val_acc: 0.9130\n",
      "Epoch 99/150\n",
      "90/90 [==============================] - 0s - loss: 0.0146 - acc: 1.0000 - val_loss: 0.1863 - val_acc: 0.9130\n",
      "Epoch 100/150\n",
      "90/90 [==============================] - 0s - loss: 0.0109 - acc: 1.0000 - val_loss: 0.2006 - val_acc: 0.9130\n",
      "Epoch 101/150\n",
      "90/90 [==============================] - 0s - loss: 0.0162 - acc: 1.0000 - val_loss: 0.1986 - val_acc: 0.9130\n",
      "Epoch 102/150\n",
      "90/90 [==============================] - 0s - loss: 0.0103 - acc: 1.0000 - val_loss: 0.1889 - val_acc: 0.9130\n",
      "Epoch 103/150\n",
      "90/90 [==============================] - 0s - loss: 0.0188 - acc: 0.9889 - val_loss: 0.2577 - val_acc: 0.8696\n",
      "Epoch 104/150\n",
      "90/90 [==============================] - 0s - loss: 0.0136 - acc: 1.0000 - val_loss: 0.1890 - val_acc: 0.9130\n",
      "Epoch 105/150\n",
      "90/90 [==============================] - 0s - loss: 0.0129 - acc: 1.0000 - val_loss: 0.1883 - val_acc: 0.9130\n",
      "Epoch 106/150\n",
      "90/90 [==============================] - 0s - loss: 0.0196 - acc: 0.9889 - val_loss: 0.1907 - val_acc: 0.9130\n",
      "Epoch 107/150\n",
      "90/90 [==============================] - 0s - loss: 0.0145 - acc: 1.0000 - val_loss: 0.2232 - val_acc: 0.9130\n",
      "Epoch 108/150\n",
      "90/90 [==============================] - 0s - loss: 0.0128 - acc: 1.0000 - val_loss: 0.2001 - val_acc: 0.9130\n",
      "Epoch 109/150\n",
      "90/90 [==============================] - 0s - loss: 0.0132 - acc: 1.0000 - val_loss: 0.2335 - val_acc: 0.9130\n",
      "Epoch 110/150\n",
      "90/90 [==============================] - 0s - loss: 0.0227 - acc: 0.9889 - val_loss: 0.2368 - val_acc: 0.9130\n",
      "Epoch 111/150\n",
      "90/90 [==============================] - 0s - loss: 0.0126 - acc: 1.0000 - val_loss: 0.2264 - val_acc: 0.9130\n",
      "Epoch 112/150\n",
      "90/90 [==============================] - 0s - loss: 0.0149 - acc: 1.0000 - val_loss: 0.2297 - val_acc: 0.9130\n",
      "Epoch 113/150\n",
      "90/90 [==============================] - 0s - loss: 0.0136 - acc: 1.0000 - val_loss: 0.2971 - val_acc: 0.9130\n",
      "Epoch 114/150\n",
      "90/90 [==============================] - 0s - loss: 0.0473 - acc: 0.9889 - val_loss: 0.2557 - val_acc: 0.9130\n",
      "Epoch 115/150\n",
      "90/90 [==============================] - 0s - loss: 0.0089 - acc: 1.0000 - val_loss: 0.2935 - val_acc: 0.8696\n",
      "Epoch 116/150\n",
      "90/90 [==============================] - 0s - loss: 0.0118 - acc: 1.0000 - val_loss: 0.3554 - val_acc: 0.9130\n",
      "Epoch 117/150\n",
      "90/90 [==============================] - 0s - loss: 0.0312 - acc: 0.9889 - val_loss: 0.2590 - val_acc: 0.9130\n",
      "Epoch 118/150\n",
      "90/90 [==============================] - 0s - loss: 0.0083 - acc: 1.0000 - val_loss: 0.2536 - val_acc: 0.9130\n",
      "Epoch 119/150\n",
      "90/90 [==============================] - 0s - loss: 0.0203 - acc: 1.0000 - val_loss: 0.2927 - val_acc: 0.9130\n",
      "Epoch 120/150\n",
      "90/90 [==============================] - 0s - loss: 0.0077 - acc: 1.0000 - val_loss: 0.2889 - val_acc: 0.9130\n",
      "Epoch 121/150\n",
      "90/90 [==============================] - 0s - loss: 0.0128 - acc: 1.0000 - val_loss: 0.2783 - val_acc: 0.9130\n",
      "Epoch 122/150\n",
      "90/90 [==============================] - 0s - loss: 0.0086 - acc: 1.0000 - val_loss: 0.2494 - val_acc: 0.9130\n",
      "Epoch 123/150\n",
      "90/90 [==============================] - 0s - loss: 0.0352 - acc: 0.9889 - val_loss: 0.2666 - val_acc: 0.9130\n",
      "Epoch 124/150\n",
      "90/90 [==============================] - 0s - loss: 0.0109 - acc: 1.0000 - val_loss: 0.2649 - val_acc: 0.9130\n",
      "Epoch 125/150\n",
      "90/90 [==============================] - 0s - loss: 0.0200 - acc: 1.0000 - val_loss: 0.2535 - val_acc: 0.9130\n",
      "Epoch 126/150\n",
      "90/90 [==============================] - 0s - loss: 0.0203 - acc: 0.9889 - val_loss: 0.2575 - val_acc: 0.9130\n",
      "Epoch 127/150\n",
      "90/90 [==============================] - 0s - loss: 0.0109 - acc: 1.0000 - val_loss: 0.3274 - val_acc: 0.9130\n",
      "Epoch 128/150\n",
      "90/90 [==============================] - 0s - loss: 0.0161 - acc: 1.0000 - val_loss: 0.2512 - val_acc: 0.9130\n",
      "Epoch 129/150\n",
      "90/90 [==============================] - 0s - loss: 0.0229 - acc: 0.9889 - val_loss: 0.2988 - val_acc: 0.9130\n",
      "Epoch 130/150\n",
      "90/90 [==============================] - 0s - loss: 0.1846 - acc: 0.9333 - val_loss: 0.2553 - val_acc: 0.9130\n",
      "Epoch 131/150\n",
      "90/90 [==============================] - 0s - loss: 0.0209 - acc: 1.0000 - val_loss: 0.1662 - val_acc: 0.9130\n",
      "Epoch 132/150\n",
      "90/90 [==============================] - 0s - loss: 0.0076 - acc: 1.0000 - val_loss: 0.2204 - val_acc: 0.8696\n",
      "Epoch 133/150\n",
      "90/90 [==============================] - 0s - loss: 0.0140 - acc: 1.0000 - val_loss: 0.1667 - val_acc: 0.9130\n",
      "Epoch 134/150\n",
      "90/90 [==============================] - 0s - loss: 0.0158 - acc: 1.0000 - val_loss: 0.2840 - val_acc: 0.8261\n",
      "Epoch 135/150\n",
      "90/90 [==============================] - 0s - loss: 0.0103 - acc: 1.0000 - val_loss: 0.2333 - val_acc: 0.8696\n",
      "Epoch 136/150\n",
      "90/90 [==============================] - 0s - loss: 0.0139 - acc: 0.9889 - val_loss: 0.1825 - val_acc: 0.9130\n",
      "Epoch 137/150\n",
      "90/90 [==============================] - 0s - loss: 0.0195 - acc: 0.9889 - val_loss: 0.2018 - val_acc: 0.9130\n",
      "Epoch 138/150\n",
      "90/90 [==============================] - 0s - loss: 0.0103 - acc: 1.0000 - val_loss: 0.2110 - val_acc: 0.9130\n",
      "Epoch 139/150\n",
      "90/90 [==============================] - 0s - loss: 0.0145 - acc: 0.9889 - val_loss: 0.2001 - val_acc: 0.9130\n",
      "Epoch 140/150\n",
      "90/90 [==============================] - 0s - loss: 0.0264 - acc: 0.9889 - val_loss: 0.2078 - val_acc: 0.9130\n",
      "Epoch 141/150\n",
      "90/90 [==============================] - 0s - loss: 0.0035 - acc: 1.0000 - val_loss: 0.2152 - val_acc: 0.9130\n",
      "Epoch 142/150\n",
      "90/90 [==============================] - 0s - loss: 0.0048 - acc: 1.0000 - val_loss: 0.2279 - val_acc: 0.9130\n",
      "Epoch 143/150\n",
      "90/90 [==============================] - 0s - loss: 0.0045 - acc: 1.0000 - val_loss: 0.2281 - val_acc: 0.9130\n",
      "Epoch 144/150\n",
      "90/90 [==============================] - 0s - loss: 0.0107 - acc: 1.0000 - val_loss: 0.2634 - val_acc: 0.8696\n",
      "Epoch 145/150\n",
      "90/90 [==============================] - 0s - loss: 0.0066 - acc: 1.0000 - val_loss: 0.2366 - val_acc: 0.9130\n",
      "Epoch 146/150\n",
      "90/90 [==============================] - 0s - loss: 0.0022 - acc: 1.0000 - val_loss: 0.2373 - val_acc: 0.9130\n",
      "Epoch 147/150\n",
      "90/90 [==============================] - 0s - loss: 0.0055 - acc: 1.0000 - val_loss: 0.2766 - val_acc: 0.9130\n",
      "Epoch 148/150\n",
      "90/90 [==============================] - 0s - loss: 0.0092 - acc: 1.0000 - val_loss: 0.2760 - val_acc: 0.9130\n",
      "Epoch 149/150\n",
      "90/90 [==============================] - 0s - loss: 0.0054 - acc: 1.0000 - val_loss: 0.2579 - val_acc: 0.9130\n",
      "Epoch 150/150\n",
      "90/90 [==============================] - 0s - loss: 0.0066 - acc: 1.0000 - val_loss: 0.2797 - val_acc: 0.9130\n",
      "Wall time: 1min 44s\n"
     ]
    }
   ],
   "source": [
    "%time hist2 = model2.fit(np.array(x_tr2), y_tr2, nb_epoch=150 , batch_size=40 ,validation_split=0.2, show_accuracy=True ,shuffle=True,callbacks=[history2])"
   ]
  },
  {
   "cell_type": "code",
   "execution_count": 23,
   "metadata": {
    "collapsed": false
   },
   "outputs": [
    {
     "name": "stdout",
     "output_type": "stream",
     "text": [
      "--------------------------------------------------------------------------------\n",
      "Initial input shape: (None, 1, 50, 50)\n",
      "--------------------------------------------------------------------------------\n",
      "Layer (name)                  Output Shape                  Param #             \n",
      "--------------------------------------------------------------------------------\n",
      "Convolution2D (convolution2d) (None, 10, 50, 50)            1010                \n",
      "Activation (activation)       (None, 10, 50, 50)            0                   \n",
      "MaxPooling2D (maxpooling2d)   (None, 10, 25, 25)            0                   \n",
      "Dropout (dropout)             (None, 10, 25, 25)            0                   \n",
      "Convolution2D (convolution2d) (None, 10, 25, 25)            10010               \n",
      "Activation (activation)       (None, 10, 25, 25)            0                   \n",
      "MaxPooling2D (maxpooling2d)   (None, 10, 12, 12)            0                   \n",
      "Dropout (dropout)             (None, 10, 12, 12)            0                   \n",
      "Flatten (flatten)             (None, 1440)                  0                   \n",
      "Dense (dense)                 (None, 1250)                  1801250             \n",
      "Activation (activation)       (None, 1250)                  0                   \n",
      "Dense (dense)                 (None, 2)                     2502                \n",
      "--------------------------------------------------------------------------------\n",
      "Total params: 1814772\n",
      "--------------------------------------------------------------------------------\n"
     ]
    }
   ],
   "source": [
    "model2.summary()"
   ]
  },
  {
   "cell_type": "code",
   "execution_count": 24,
   "metadata": {
    "collapsed": false,
    "scrolled": true
   },
   "outputs": [
    {
     "data": {
      "image/png": "[encoded data removed]",
      "text/plain": [
       "<matplotlib.figure.Figure at 0x3603c278>"
      ]
     },
     "metadata": {},
     "output_type": "display_data"
    }
   ],
   "source": [
    "plt.plot(hist2.history['acc'],label='acc')\n",
    "plt.plot(hist2.history['loss'],label='loss')\n",
    "plt.plot(hist2.history['val_loss'],label='val_loss')\n",
    "plt.plot(hist2.history['val_acc'],label='val_acc')\n",
    "plt.legend()\n",
    "plt.grid('off')"
   ]
  },
  {
   "cell_type": "code",
   "execution_count": 25,
   "metadata": {
    "collapsed": false
   },
   "outputs": [],
   "source": [
    "m2_wegh =  model2.get_weights()"
   ]
  },
  {
   "cell_type": "code",
   "execution_count": 26,
   "metadata": {
    "collapsed": false,
    "scrolled": true
   },
   "outputs": [
    {
     "name": "stdout",
     "output_type": "stream",
     "text": [
      "29/29 [==============================] - 0s\n"
     ]
    },
    {
     "data": {
      "text/plain": [
       "[0.35862597823143005, 0.93103448275862066]"
      ]
     },
     "execution_count": 26,
     "metadata": {},
     "output_type": "execute_result"
    }
   ],
   "source": [
    "model2.evaluate(np.array(x_te2),y_te2,batch_size=50,show_accuracy=True,verbose=1)"
   ]
  },
  {
   "cell_type": "code",
   "execution_count": 27,
   "metadata": {
    "collapsed": false,
    "scrolled": true
   },
   "outputs": [],
   "source": [
    "def plot_wegh (model):\n",
    "    '''\n",
    "    Plot weights of convolution layer\n",
    "    only for first layer\n",
    "    \n",
    "    #Args\n",
    "    model : fitted model\n",
    "    '''\n",
    "    wegh_arr = model.get_weights()\n",
    "    num = len(wegh_arr[0])\n",
    "    if type(np.sqrt(num)) is int:\n",
    "        col = np.sqrt(num)\n",
    "        row = np.sqrt(num) \n",
    "    else:\n",
    "        col = int(num/2)\n",
    "        row = int(num/col)\n",
    "        \n",
    "    fig ,axes = plt.subplots(row,col, subplot_kw={'xticks': [], 'yticks': []})\n",
    "    plt.subplots_adjust(hspace=0.02,wspace = 0.05)\n",
    "    \n",
    "    for i, ax in zip(xrange(num),axes.flat):\n",
    "        \n",
    "        ax.imshow(wegh_arr[0][i][0])\n",
    "        ax.grid('off')\n",
    "    plt.show()"
   ]
  },
  {
   "cell_type": "code",
   "execution_count": 28,
   "metadata": {
    "collapsed": false,
    "scrolled": true
   },
   "outputs": [
    {
     "data": {
      "image/png": "[encoded data removed]",
      "text/plain": [
       "<matplotlib.figure.Figure at 0x2c034f98>"
      ]
     },
     "metadata": {},
     "output_type": "display_data"
    }
   ],
   "source": [
    "plot_wegh(model2)"
   ]
  },
  {
   "cell_type": "code",
   "execution_count": 29,
   "metadata": {
    "collapsed": false,
    "scrolled": false
   },
   "outputs": [
    {
     "name": "stdout",
     "output_type": "stream",
     "text": [
      "(10L, 1L, 10L, 10L)\n",
      "(10L,)\n",
      "(10L, 10L, 10L, 10L)\n",
      "(10L,)\n",
      "(1440L, 1250L)\n",
      "(1250L,)\n",
      "(1250L, 2L)\n",
      "(2L,)\n"
     ]
    }
   ],
   "source": [
    "m2_wegh = model2.get_weights()\n",
    "for a in m2_wegh:\n",
    "    print(np.shape(a))"
   ]
  },
  {
   "cell_type": "code",
   "execution_count": 30,
   "metadata": {
    "collapsed": false
   },
   "outputs": [
    {
     "name": "stdout",
     "output_type": "stream",
     "text": [
      "[[ 0.07418927  0.1430741   0.02453059  0.06455074  0.10467906 -0.23005356\n",
      "  -0.17824274  0.22771966  0.12387523  0.17248526]\n",
      " [ 0.22891882  0.02765426  0.1621221   0.14253011 -0.06549755 -0.09797908\n",
      "  -0.18679333  0.19248219 -0.21944144 -0.05894414]\n",
      " [ 0.12646101 -0.18065214 -0.22698802  0.11215076  0.00725033  0.03477551\n",
      "   0.00833952 -0.07207317 -0.03830424  0.11927665]\n",
      " [ 0.13565861  0.11918296  0.19730575  0.09652358 -0.14485154  0.16248475\n",
      "  -0.02079122 -0.06901824 -0.2242575   0.06003168]\n",
      " [ 0.00242668  0.00356161  0.11482441  0.2202172  -0.17065907 -0.12773921\n",
      "   0.03875421  0.05152614 -0.02728023 -0.13622335]\n",
      " [ 0.11054812 -0.1228752  -0.18189842 -0.04744179 -0.11331531 -0.02799909\n",
      "   0.1882612  -0.11453771 -0.21650128 -0.02513698]\n",
      " [-0.2255633   0.20154059  0.23318018 -0.09013356  0.18793207  0.12449389\n",
      "   0.05637023 -0.21450128 -0.19486138 -0.13614188]\n",
      " [ 0.20669445  0.1829592  -0.08956315 -0.05294123  0.19708109 -0.02951103\n",
      "  -0.20646864  0.02066872  0.07211804  0.09609867]\n",
      " [-0.23903795 -0.12721953  0.08386159 -0.14095707 -0.04447371 -0.02871947\n",
      "  -0.01540838 -0.19393934 -0.06788032 -0.07207794]\n",
      " [-0.14714146 -0.05884475 -0.10022205  0.11307754  0.20024513 -0.04973219\n",
      "  -0.22494514  0.04801459  0.0751197   0.07354958]]\n",
      "[[ 0.16285998  0.04109595 -0.22462368  0.01169956  0.19780286 -0.06936973\n",
      "  -0.38152793  0.42530924 -0.07938346  0.22403035]\n",
      " [ 0.09360446 -0.00961051 -0.03173064 -0.0163506  -0.12808129 -0.06503741\n",
      "  -0.03317341  0.34221873 -0.31589231 -0.02776593]\n",
      " [ 0.29533231 -0.16381232 -0.36224991  0.05813521  0.01741772 -0.07978588\n",
      "   0.12566663 -0.16741949  0.19209512  0.0137419 ]\n",
      " [ 0.30883837  0.0242297   0.38579911 -0.09591182 -0.30004799  0.28904885\n",
      "  -0.01666384  0.03861954 -0.19739328  0.16785076]\n",
      " [ 0.16247685  0.00887293  0.26737171  0.05643409 -0.39690751 -0.13851491\n",
      "   0.14425613  0.21427126  0.0947585  -0.23895758]\n",
      " [ 0.09792777  0.09978651 -0.02851272 -0.18380505 -0.22134253 -0.11510945\n",
      "   0.34142637 -0.26610163 -0.27596197  0.00333135]\n",
      " [ 0.00318897  0.44062841  0.00780369 -0.30112234  0.2191762   0.0284228\n",
      "  -0.11567684 -0.31720555 -0.39938521 -0.06135485]\n",
      " [ 0.27736795  0.36897492  0.0830112   0.08615177  0.00765043 -0.26245606\n",
      "  -0.070305    0.26288354  0.1136627   0.30842704]\n",
      " [-0.15940329  0.00101167  0.089714   -0.23460808 -0.22995068 -0.18943669\n",
      "  -0.1044447  -0.12266599 -0.19814701 -0.14332411]\n",
      " [-0.12536182 -0.04106294 -0.28611434  0.0621437   0.22308771 -0.23954363\n",
      "  -0.07493946  0.12411913  0.00151648  0.17303428]]\n",
      "[[ 0.09227355  0.16928858 -0.00379829  0.16764811  0.25302017  0.14128911\n",
      "  -0.35656819  0.43657634 -0.28760016  0.28603515]\n",
      " [ 0.00523492  0.11650088 -0.21493372 -0.03680875  0.0701182   0.09658609\n",
      "   0.07158275  0.50409228 -0.21176173 -0.28000706]\n",
      " [ 0.33211416 -0.29406559 -0.31934103  0.04546318 -0.02665246 -0.12616047\n",
      "  -0.05265766 -0.17101113  0.38757217 -0.15864223]\n",
      " [ 0.47347862  0.14035596  0.54623258 -0.1215055  -0.32955852  0.37485173\n",
      "  -0.2165979  -0.12521613 -0.20686515  0.05218178]\n",
      " [ 0.32630485 -0.06394412  0.19860607  0.06874489 -0.41136178 -0.08216646\n",
      "   0.39266717  0.23559651  0.25879493 -0.46688747]\n",
      " [ 0.09582464 -0.09120643 -0.18150811 -0.21450403 -0.41956764 -0.05885231\n",
      "   0.38880402 -0.4869771  -0.06276017  0.09326593]\n",
      " [ 0.00403153  0.51893574 -0.14057556 -0.11489144  0.27122879  0.15871593\n",
      "  -0.09092123 -0.48564607 -0.35522962 -0.02377114]\n",
      " [ 0.41441941  0.25654089  0.03358296  0.11484016 -0.13213022 -0.35930794\n",
      "   0.16604979  0.32589364  0.05891536  0.2899195 ]\n",
      " [-0.36559901  0.01592423  0.27041432 -0.36815017 -0.30654967 -0.05460045\n",
      "   0.02879642 -0.33485258 -0.14556482 -0.31287473]\n",
      " [-0.14960703 -0.09953089 -0.43079731  0.05744727  0.07188487 -0.29265457\n",
      "   0.05344504  0.11621171  0.19197291  0.33795971]]\n",
      "[[ 0.10274665 -0.0356275  -0.10642996  0.15291128  0.22122291  0.12129524\n",
      "  -0.32382953  0.43995887 -0.15650663  0.19215712]\n",
      " [-0.17711893 -0.10001808  0.00138851  0.12134788  0.21399181 -0.0661984\n",
      "   0.0420328   0.61208373 -0.43690687 -0.26753405]\n",
      " [ 0.52531242 -0.10232444 -0.46426451 -0.14473668 -0.24582551 -0.14578244\n",
      "  -0.22777636 -0.15277646  0.61395335  0.04297143]\n",
      " [ 0.52587253  0.26576149  0.45523435  0.05475238 -0.34773755  0.25757939\n",
      "  -0.41024643 -0.15109177 -0.40198517  0.15317008]\n",
      " [ 0.29231104 -0.2065465   0.23551822  0.11355588 -0.21990973 -0.07059987\n",
      "   0.25380266  0.47066423  0.19332293 -0.26350403]\n",
      " [-0.07849255 -0.07993893 -0.23017937 -0.12578306 -0.34404674 -0.21004079\n",
      "   0.58968395 -0.49743038 -0.26794297 -0.12879795]\n",
      " [ 0.04901238  0.57625932 -0.27604347 -0.05833933  0.40756208  0.11176882\n",
      "  -0.11639781 -0.55400139 -0.51827466 -0.16294771]\n",
      " [ 0.54634809  0.42880329 -0.18780144  0.30989164 -0.1517328  -0.4520449\n",
      "  -0.01147287  0.4867464  -0.02963934  0.28806812]\n",
      " [-0.51558983  0.00137974  0.48534313 -0.36412674 -0.369596   -0.16264942\n",
      "  -0.06232019 -0.15188308 -0.32653075 -0.13781296]\n",
      " [-0.3558315  -0.04577786 -0.28408593 -0.02791451  0.03779905 -0.51922673\n",
      "   0.07891492  0.31442398 -0.05470133  0.40240052]]\n",
      "[[ 0.08216111  0.19009657 -0.26791662  0.05143322  0.12548202  0.29108137\n",
      "  -0.45749587  0.31110436 -0.31750941  0.04524198]\n",
      " [-0.19918069  0.0770729   0.12488893  0.09359663  0.00805131 -0.03469441\n",
      "   0.04657172  0.51628941 -0.25057754 -0.28517318]\n",
      " [ 0.6240325  -0.1227755  -0.5556556  -0.18941583 -0.45326632 -0.37595993\n",
      "  -0.15176773  0.06010899  0.61062598 -0.16365981]\n",
      " [ 0.63866723  0.46573776  0.27980494 -0.13300754 -0.15417531  0.17405748\n",
      "  -0.55609995 -0.18725321 -0.40387148 -0.05305955]\n",
      " [ 0.50466198 -0.12201402  0.34098572  0.12667124 -0.20787716 -0.28084505\n",
      "   0.23910317  0.26425019  0.06968067 -0.19125143]\n",
      " [-0.11309457 -0.0378874  -0.44174656 -0.21075711 -0.54267651 -0.2484933\n",
      "   0.39493021 -0.70415211 -0.45383421 -0.28667063]\n",
      " [ 0.08045102  0.77135003 -0.26898721 -0.19500843  0.36919013  0.11797015\n",
      "  -0.29601955 -0.74976122 -0.43673593 -0.34261048]\n",
      " [ 0.53931159  0.4529177  -0.09352618  0.19597057 -0.11399604 -0.45525801\n",
      "   0.15486474  0.32293323 -0.22913003  0.24174446]\n",
      " [-0.48495513 -0.08143032  0.48336679 -0.56655705 -0.2912055  -0.33286864\n",
      "  -0.24558382 -0.35807019 -0.30044851 -0.111127  ]\n",
      " [-0.22003764 -0.11112889 -0.17521089 -0.02798213  0.26021248 -0.66784292\n",
      "  -0.12906224  0.21748284  0.05212887  0.41431475]]\n",
      "[[ 0.242327    0.07695101 -0.2912561  -0.08620861  0.13174453  0.07183219\n",
      "  -0.37584776  0.36817387 -0.23161918  0.05927991]\n",
      " [-0.39743084 -0.15596339  0.17968994  0.32507333 -0.03144979 -0.2042399\n",
      "   0.01434818  0.60680795 -0.21136789 -0.22418526]\n",
      " [ 0.83304024 -0.23438597 -0.61939621 -0.10382857 -0.3636359  -0.2150445\n",
      "  -0.11908941  0.21569078  0.56079221 -0.32234341]\n",
      " [ 0.45950443  0.38028747  0.47069407  0.0819459  -0.18820697  0.08232346\n",
      "  -0.45313379 -0.14005694 -0.51220214 -0.15289012]\n",
      " [ 0.56207645 -0.32250226  0.30562174  0.33528221 -0.40321475 -0.31105313\n",
      "   0.10182813  0.41503614  0.24939352 -0.42796427]\n",
      " [-0.01683205 -0.1787551  -0.20229548 -0.41408756 -0.56244701 -0.47544199\n",
      "   0.53822601 -0.45701933 -0.48142511 -0.29922739]\n",
      " [ 0.21309766  0.61543226 -0.12549232 -0.1257903   0.29129618  0.24499059\n",
      "  -0.33393735 -0.50697017 -0.50810707 -0.20445651]\n",
      " [ 0.33427122  0.29816234 -0.05973933  0.12227622  0.05607141 -0.42209548\n",
      "   0.18968764  0.39938611 -0.34024447  0.17135203]\n",
      " [-0.72292006 -0.02768898  0.61638141 -0.57996351 -0.2963928  -0.60724759\n",
      "  -0.29497114 -0.47008753 -0.47789031 -0.35322246]\n",
      " [-0.32258379 -0.06890127 -0.185412   -0.1883838   0.26355538 -0.50086313\n",
      "  -0.02370518  0.29298472  0.14949921  0.18212071]]\n",
      "[[ 0.41348648  0.17124076 -0.05346352 -0.03193467  0.34684318  0.1035711\n",
      "  -0.62131023  0.42963535 -0.36419615 -0.06891554]\n",
      " [-0.20795338  0.03088613  0.37464154  0.37764344  0.03480513 -0.36666381\n",
      "  -0.03330222  0.47704172 -0.25631645 -0.46735305]\n",
      " [ 0.60879838 -0.30069497 -0.73857617 -0.08215068 -0.49056619 -0.32507348\n",
      "  -0.38169551  0.19050147  0.57974756 -0.55886787]\n",
      " [ 0.57134205  0.38228092  0.60133266  0.26760781 -0.40754157  0.03955341\n",
      "  -0.66235679 -0.34902966 -0.70100856 -0.1058765 ]\n",
      " [ 0.56031519 -0.23770702  0.15073074  0.42188016 -0.22454499 -0.55202204\n",
      "   0.21895346  0.40402126  0.31614402 -0.38038909]\n",
      " [ 0.0575719  -0.00285028 -0.41215277 -0.2107078  -0.37867126 -0.62036157\n",
      "   0.41792002 -0.52140576 -0.38456059 -0.13393207]\n",
      " [-0.02744204  0.72316355  0.09136909 -0.35108554  0.47467259  0.26619038\n",
      "  -0.43107307 -0.70230383 -0.5282883  -0.06410813]\n",
      " [ 0.26510549  0.47263795 -0.16664556  0.15496676  0.23297745 -0.60138249\n",
      "   0.26234865  0.46267405 -0.23856618  0.21351245]\n",
      " [-0.54517311 -0.05292331  0.59469646 -0.74849826 -0.44924992 -0.56045425\n",
      "  -0.16779381 -0.35324988 -0.63887119 -0.44846782]\n",
      " [-0.13466921  0.10598846  0.05077791 -0.12667702  0.40793747 -0.36326492\n",
      "   0.06621772  0.48446375  0.00431368  0.22820163]]\n",
      "[[  3.98527801e-01   2.73052752e-01   5.86565062e-02  -4.59492095e-02\n",
      "    1.87821165e-01   1.53499722e-01  -5.26278496e-01   5.14348388e-01\n",
      "   -3.15371573e-01  -2.48193324e-01]\n",
      " [ -4.39885557e-01  -1.43473148e-02   4.87892509e-01   3.45912188e-01\n",
      "    3.30556184e-04  -2.86639333e-01  -8.12336132e-02   3.29133928e-01\n",
      "   -4.28303868e-01  -4.69901979e-01]\n",
      " [  6.14228487e-01  -1.32236093e-01  -7.08073676e-01  -2.23556697e-01\n",
      "   -6.76774502e-01  -5.02834678e-01  -2.80523002e-01   2.87797511e-01\n",
      "    6.48252726e-01  -5.67476630e-01]\n",
      " [  3.65066320e-01   6.12183213e-01   8.41326475e-01   4.60152954e-01\n",
      "   -5.44339955e-01  -2.97500640e-02  -6.65515780e-01  -2.43700981e-01\n",
      "   -5.49946368e-01   5.12096211e-02]\n",
      " [  6.52012885e-01  -2.65249908e-01   3.84313345e-01   4.54777956e-01\n",
      "   -3.71931255e-01  -5.65072358e-01   1.33553386e-01   6.15565777e-01\n",
      "    1.95041388e-01  -3.88752818e-01]\n",
      " [  1.32793307e-01   1.65934470e-02  -5.23296535e-01  -1.56864226e-02\n",
      "   -3.45375806e-01  -7.76555598e-01   4.26341355e-01  -5.63564420e-01\n",
      "   -3.40405524e-01  -2.93409973e-02]\n",
      " [ -2.41137266e-01   8.67906094e-01  -6.39903247e-02  -4.54458803e-01\n",
      "    4.51163054e-01   3.56100202e-02  -3.17942262e-01  -5.29151320e-01\n",
      "   -3.38727415e-01  -7.41974339e-02]\n",
      " [  1.72150671e-01   6.25702977e-01   3.05941701e-02   1.39203727e-01\n",
      "    3.81541193e-01  -5.84046781e-01  -3.19516659e-03   2.74934828e-01\n",
      "   -6.70046359e-02   9.68991220e-03]\n",
      " [ -3.97329628e-01  -2.28797227e-01   3.39543164e-01  -5.60684383e-01\n",
      "   -4.18610424e-01  -6.40323997e-01  -6.82705417e-02  -3.81946176e-01\n",
      "   -7.44019628e-01  -5.00909746e-01]\n",
      " [ -2.65728652e-01   2.86195397e-01  -7.43969828e-02   3.95954847e-02\n",
      "    4.77172524e-01  -4.62486863e-01   9.57376510e-02   6.10096276e-01\n",
      "    1.21867783e-01   1.77379489e-01]]\n",
      "[[ 0.53178418  0.35407391 -0.09013283 -0.02144152  0.187846    0.39244694\n",
      "  -0.70252663  0.71956456 -0.30593005 -0.3108736 ]\n",
      " [-0.67028433 -0.08276134  0.46419632  0.16987546  0.07708602 -0.0218823\n",
      "   0.01187321  0.0961681  -0.32536331 -0.24532168]\n",
      " [ 0.73555827 -0.19430065 -0.55545747 -0.1805829  -0.88264787 -0.45487925\n",
      "  -0.18890736  0.16326609  0.44639826 -0.77148658]\n",
      " [ 0.16327292  0.73886496  0.76231408  0.44610864 -0.75253463  0.03830446\n",
      "  -0.87657154 -0.17889357 -0.6431852   0.21532086]\n",
      " [ 0.79612637 -0.23214363  0.17746863  0.20821147 -0.4628045  -0.53378868\n",
      "  -0.0455925   0.73586559 -0.0257604  -0.36200422]\n",
      " [ 0.04495732 -0.13068502 -0.5628314   0.15009941 -0.43581825 -0.68655515\n",
      "   0.32770589 -0.7043798  -0.23586296 -0.21229778]\n",
      " [-0.29172641  1.01294351 -0.07644238 -0.66954792  0.55729669  0.10535655\n",
      "  -0.24532226 -0.70435369 -0.20103212 -0.02536768]\n",
      " [ 0.25699976  0.80443645 -0.1505679   0.20344736  0.28085893 -0.51045799\n",
      "  -0.23166576  0.24423584  0.15124348  0.15873735]\n",
      " [-0.30599755 -0.31761363  0.40576747 -0.79241025 -0.17119151 -0.45998558\n",
      "  -0.13864893 -0.37799996 -0.86531222 -0.24025986]\n",
      " [-0.13533276  0.06687792 -0.29600328 -0.14075762  0.65466851 -0.52875948\n",
      "  -0.09694836  0.77744871  0.21210194  0.35282493]]\n",
      "[[  2.78713405e-01   5.00646114e-01   7.35824034e-02  -1.75392359e-01\n",
      "   -1.19610876e-02   3.31594080e-01  -7.73068011e-01   9.33388352e-01\n",
      "   -2.35301495e-01  -3.74354124e-01]\n",
      " [ -5.87254882e-01  -2.50807136e-01   5.72463512e-01   2.08471000e-01\n",
      "    6.96226954e-04   1.49609506e-01   2.83843756e-01   5.11810109e-02\n",
      "   -3.05949003e-01  -2.98754364e-01]\n",
      " [  8.75458956e-01  -6.65101409e-02  -7.14762986e-01  -3.82187963e-02\n",
      "   -9.24465418e-01  -3.68291467e-01  -2.16472298e-02   2.46537983e-01\n",
      "    3.08355093e-01  -8.77989471e-01]\n",
      " [ -5.56575060e-02   8.36405098e-01   8.58867824e-01   6.06032312e-01\n",
      "   -7.86990464e-01   7.97556639e-02  -8.42350841e-01  -1.18843541e-01\n",
      "   -6.89331949e-01   1.36940032e-02]\n",
      " [  6.40547812e-01  -3.47972900e-01   1.11639485e-01   2.06602052e-01\n",
      "   -3.00150812e-01  -4.65078652e-01  -2.23362416e-01   8.88549924e-01\n",
      "    2.15498433e-01  -1.82584643e-01]\n",
      " [  1.03990406e-01  -3.96241099e-02  -7.79457569e-01  -4.08361256e-02\n",
      "   -3.09572160e-01  -4.87579197e-01   2.23479033e-01  -7.50671983e-01\n",
      "   -3.93963784e-01  -4.21793848e-01]\n",
      " [ -3.01044077e-01   8.18727136e-01   9.89056304e-02  -8.50828052e-01\n",
      "    7.47129261e-01   2.14682370e-01  -5.86499274e-02  -7.74160147e-01\n",
      "   -1.33110434e-01   1.00179970e-01]\n",
      " [  1.66028783e-01   6.16536379e-01  -1.53204143e-01   4.37149525e-01\n",
      "    3.17612290e-01  -7.01806426e-01  -4.75575507e-01   1.50498241e-01\n",
      "   -5.23439050e-02   2.36449838e-02]\n",
      " [ -3.24601084e-01  -4.98569906e-01   6.04752600e-01  -5.42486846e-01\n",
      "   -1.21285036e-01  -4.43980694e-01  -2.71807015e-01  -3.11910748e-01\n",
      "   -6.45749748e-01  -2.59730697e-01]\n",
      " [ -3.36067319e-01   2.51556695e-01  -2.92643785e-01  -1.07501745e-01\n",
      "    6.93719625e-01  -6.99015915e-01  -2.34242246e-01   6.38725400e-01\n",
      "    3.79590303e-01   2.21718073e-01]]\n"
     ]
    }
   ],
   "source": [
    "s = 0\n",
    "for a in m2_wegh[0]:\n",
    "    s +=a[0]\n",
    "    print(s)"
   ]
  },
  {
   "cell_type": "code",
   "execution_count": null,
   "metadata": {
    "collapsed": true
   },
   "outputs": [],
   "source": []
  },
  {
   "cell_type": "code",
   "execution_count": 31,
   "metadata": {
    "collapsed": false
   },
   "outputs": [
    {
     "name": "stdout",
     "output_type": "stream",
     "text": [
      "29/29 [==============================] - 0s\n"
     ]
    }
   ],
   "source": [
    "y_pred2 = model2.predict_classes(np.array(x_te2))"
   ]
  },
  {
   "cell_type": "code",
   "execution_count": 32,
   "metadata": {
    "collapsed": false
   },
   "outputs": [
    {
     "data": {
      "text/plain": [
       "array([1, 0, 0, 1, 1, 1, 0, 1, 1, 1, 0, 0, 1, 0, 0, 0, 1, 1, 0, 1, 1, 1, 1,\n",
       "       1, 1, 1, 1, 1, 1], dtype=int64)"
      ]
     },
     "execution_count": 32,
     "metadata": {},
     "output_type": "execute_result"
    }
   ],
   "source": [
    "y_pred2"
   ]
  },
  {
   "cell_type": "code",
   "execution_count": 33,
   "metadata": {
    "collapsed": false
   },
   "outputs": [],
   "source": [
    "y_ten2 = [0 if s[0] else 1 for s in y_te2]"
   ]
  },
  {
   "cell_type": "code",
   "execution_count": 34,
   "metadata": {
    "collapsed": false
   },
   "outputs": [
    {
     "data": {
      "text/plain": [
       "array([0, 0, 0, 1, 1, 1, 0, 1, 1, 1, 0, 0, 1, 0, 0, 0, 1, 1, 0, 1, 1, 1, 1,\n",
       "       1, 0, 1, 1, 1, 1])"
      ]
     },
     "execution_count": 34,
     "metadata": {},
     "output_type": "execute_result"
    }
   ],
   "source": [
    "np.array(y_ten2)"
   ]
  },
  {
   "cell_type": "code",
   "execution_count": 35,
   "metadata": {
    "collapsed": false
   },
   "outputs": [
    {
     "name": "stdout",
     "output_type": "stream",
     "text": [
      "29/29 [==============================] - 0s\n"
     ]
    },
    {
     "data": {
      "text/plain": [
       "array([[  1.44644768e-03,   9.98553574e-01],\n",
       "       [  9.99540329e-01,   4.59693780e-04],\n",
       "       [  9.85533834e-01,   1.44661423e-02],\n",
       "       [  1.09466411e-04,   9.99890566e-01],\n",
       "       [  4.97276299e-02,   9.50272322e-01],\n",
       "       [  5.57071939e-02,   9.44292784e-01],\n",
       "       [  9.01160836e-01,   9.88391861e-02],\n",
       "       [  3.63904255e-05,   9.99963641e-01],\n",
       "       [  9.21256506e-05,   9.99907851e-01],\n",
       "       [  1.71261796e-04,   9.99828696e-01],\n",
       "       [  9.04983580e-01,   9.50163677e-02],\n",
       "       [  9.99414206e-01,   5.85763191e-04],\n",
       "       [  3.50437649e-02,   9.64956284e-01],\n",
       "       [  9.99748886e-01,   2.51168356e-04],\n",
       "       [  9.99931455e-01,   6.85254490e-05],\n",
       "       [  9.99992728e-01,   7.24816482e-06],\n",
       "       [  4.91123705e-04,   9.99508858e-01],\n",
       "       [  5.25929063e-05,   9.99947429e-01],\n",
       "       [  9.95676577e-01,   4.32346063e-03],\n",
       "       [  4.30412851e-02,   9.56958711e-01],\n",
       "       [  6.74042385e-04,   9.99325991e-01],\n",
       "       [  4.17116571e-05,   9.99958277e-01],\n",
       "       [  2.36634677e-03,   9.97633696e-01],\n",
       "       [  3.47806863e-03,   9.96521950e-01],\n",
       "       [  3.26444656e-02,   9.67355490e-01],\n",
       "       [  1.41273224e-04,   9.99858737e-01],\n",
       "       [  1.72820669e-02,   9.82717931e-01],\n",
       "       [  2.06049322e-03,   9.97939527e-01],\n",
       "       [  8.94123150e-05,   9.99910593e-01]])"
      ]
     },
     "execution_count": 35,
     "metadata": {},
     "output_type": "execute_result"
    }
   ],
   "source": [
    "model2.predict_proba(np.array(x_te2))"
   ]
  },
  {
   "cell_type": "code",
   "execution_count": 36,
   "metadata": {
    "collapsed": true
   },
   "outputs": [],
   "source": [
    "import PIL"
   ]
  },
  {
   "cell_type": "code",
   "execution_count": 37,
   "metadata": {
    "collapsed": false
   },
   "outputs": [
    {
     "data": {
      "text/plain": [
       "(29L, 50L, 50L)"
      ]
     },
     "execution_count": 37,
     "metadata": {},
     "output_type": "execute_result"
    }
   ],
   "source": [
    "np.shape(x_te)"
   ]
  },
  {
   "cell_type": "code",
   "execution_count": 38,
   "metadata": {
    "collapsed": false,
    "scrolled": true
   },
   "outputs": [
    {
     "data": {
      "text/plain": [
       "(-0.5, 49.5, 49.5, -0.5)"
      ]
     },
     "execution_count": 38,
     "metadata": {},
     "output_type": "execute_result"
    },
    {
     "data": {
      "image/png": "[encoded data removed]",
      "text/plain": [
       "<matplotlib.figure.Figure at 0x3839f978>"
      ]
     },
     "metadata": {},
     "output_type": "display_data"
    }
   ],
   "source": [
    "plt.imshow(x_te2[19][0])\n",
    "plt.axis('off')"
   ]
  },
  {
   "cell_type": "code",
   "execution_count": 39,
   "metadata": {
    "collapsed": false
   },
   "outputs": [
    {
     "data": {
      "text/plain": [
       "(-0.5, 49.5, 49.5, -0.5)"
      ]
     },
     "execution_count": 39,
     "metadata": {},
     "output_type": "execute_result"
    },
    {
     "data": {
      "image/png": "[encoded data removed]",
      "text/plain": [
       "<matplotlib.figure.Figure at 0x38f61400>"
      ]
     },
     "metadata": {},
     "output_type": "display_data"
    }
   ],
   "source": [
    "plt.imshow(x_te2[-7][0])\n",
    "plt.axis('off')"
   ]
  },
  {
   "cell_type": "code",
   "execution_count": 40,
   "metadata": {
    "collapsed": false
   },
   "outputs": [],
   "source": [
    "cr = classification_report(y_ten2,y_pred2)"
   ]
  },
  {
   "cell_type": "code",
   "execution_count": 41,
   "metadata": {
    "collapsed": false,
    "scrolled": true
   },
   "outputs": [
    {
     "name": "stdout",
     "output_type": "stream",
     "text": [
      "             precision    recall  f1-score   support\n",
      "\n",
      "          0       1.00      0.82      0.90        11\n",
      "          1       0.90      1.00      0.95        18\n",
      "\n",
      "avg / total       0.94      0.93      0.93        29\n",
      "\n"
     ]
    }
   ],
   "source": [
    "print(cr)"
   ]
  },
  {
   "cell_type": "code",
   "execution_count": 42,
   "metadata": {
    "collapsed": false
   },
   "outputs": [],
   "source": [
    "model3 = Sequential()\n",
    "history3 = History()\n",
    "model3.add(Convolution2D(50,5, 5, border_mode='same',init='uniform',activation='relu' ,input_shape=(1, 50, 50)))\n",
    "# model3.add(Convolution2D(50, 5, 5,,activation='logistic' ,init='uniform'))\n",
    "model3.add(MaxPooling2D(pool_size=(2, 2)))\n",
    "model3.add(Dropout(0.50))\n",
    "\n",
    "# model3.add(Convolution2D(100, 5, 5, border_mode='same'))\n",
    "# model3.add(Activation('LSTM'))\n",
    "# model3.add(Convolution2D(100, 5, 5,init='uniform'))\n",
    "# model3.add(Activation('LSTM'))\n",
    "# model3.add(MaxPooling2D(pool_size=(2, 2)))\n",
    "# model3.add(Dropout(0.25))\n",
    "\n",
    "model3.add(Flatten())\n",
    "model3.add(Dense(1250,init='uniform'))\n",
    "model3.add(Activation('relu'))\n",
    "model3.add(Dense(2,activation='softmax'))\n",
    "model3.compile(loss='categorical_crossentropy', optimizer=SGD(lr=0.01, decay=1e-6, momentum=0.9, nesterov=True))"
   ]
  },
  {
   "cell_type": "code",
   "execution_count": 43,
   "metadata": {
    "collapsed": false,
    "scrolled": true
   },
   "outputs": [
    {
     "name": "stdout",
     "output_type": "stream",
     "text": [
      "Train on 90 samples, validate on 23 samples\n",
      "Epoch 1/50\n",
      "90/90 [==============================] - 1s - loss: 0.7003 - acc: 0.5667 - val_loss: 0.6805 - val_acc: 0.5217\n",
      "Epoch 2/50\n",
      "90/90 [==============================] - 1s - loss: 0.6821 - acc: 0.5889 - val_loss: 0.6737 - val_acc: 0.6087\n",
      "Epoch 3/50\n",
      "90/90 [==============================] - 1s - loss: 0.6542 - acc: 0.6889 - val_loss: 0.6636 - val_acc: 0.6957\n",
      "Epoch 4/50\n",
      "90/90 [==============================] - 1s - loss: 0.6160 - acc: 0.6556 - val_loss: 0.6305 - val_acc: 0.6957\n",
      "Epoch 5/50\n",
      "90/90 [==============================] - 1s - loss: 0.5948 - acc: 0.6889 - val_loss: 0.5898 - val_acc: 0.7826\n",
      "Epoch 6/50\n",
      "90/90 [==============================] - 1s - loss: 0.5450 - acc: 0.8000 - val_loss: 0.5722 - val_acc: 0.8261\n",
      "Epoch 7/50\n",
      "90/90 [==============================] - 1s - loss: 0.5050 - acc: 0.8444 - val_loss: 0.5878 - val_acc: 0.6957\n",
      "Epoch 8/50\n",
      "90/90 [==============================] - 1s - loss: 0.4659 - acc: 0.8222 - val_loss: 0.5221 - val_acc: 0.8261\n",
      "Epoch 9/50\n",
      "90/90 [==============================] - 1s - loss: 0.4239 - acc: 0.8222 - val_loss: 0.6289 - val_acc: 0.5652\n",
      "Epoch 10/50\n",
      "90/90 [==============================] - 1s - loss: 0.6230 - acc: 0.6333 - val_loss: 1.1517 - val_acc: 0.3913\n",
      "Epoch 11/50\n",
      "90/90 [==============================] - 1s - loss: 0.6062 - acc: 0.6889 - val_loss: 0.4659 - val_acc: 0.7391\n",
      "Epoch 12/50\n",
      "90/90 [==============================] - 1s - loss: 0.3084 - acc: 0.8889 - val_loss: 0.4590 - val_acc: 0.8261\n",
      "Epoch 13/50\n",
      "90/90 [==============================] - 1s - loss: 0.2884 - acc: 0.9333 - val_loss: 0.4729 - val_acc: 0.7391\n",
      "Epoch 14/50\n",
      "90/90 [==============================] - 1s - loss: 0.2791 - acc: 0.8889 - val_loss: 0.5248 - val_acc: 0.6522\n",
      "Epoch 15/50\n",
      "90/90 [==============================] - 1s - loss: 0.3165 - acc: 0.8778 - val_loss: 0.4052 - val_acc: 0.8696\n",
      "Epoch 16/50\n",
      "90/90 [==============================] - 1s - loss: 0.2031 - acc: 0.9667 - val_loss: 0.4019 - val_acc: 0.7826\n",
      "Epoch 17/50\n",
      "90/90 [==============================] - 1s - loss: 0.1825 - acc: 0.9556 - val_loss: 0.4471 - val_acc: 0.7826\n",
      "Epoch 18/50\n",
      "90/90 [==============================] - 1s - loss: 0.1437 - acc: 0.9667 - val_loss: 0.4377 - val_acc: 0.7826\n",
      "Epoch 19/50\n",
      "90/90 [==============================] - 1s - loss: 0.1404 - acc: 0.9444 - val_loss: 0.4496 - val_acc: 0.7826\n",
      "Epoch 20/50\n",
      "90/90 [==============================] - 1s - loss: 0.1201 - acc: 0.9667 - val_loss: 0.4217 - val_acc: 0.8261\n",
      "Epoch 21/50\n",
      "90/90 [==============================] - 1s - loss: 0.1317 - acc: 0.9556 - val_loss: 0.3627 - val_acc: 0.7391\n",
      "Epoch 22/50\n",
      "90/90 [==============================] - 1s - loss: 0.1269 - acc: 0.9667 - val_loss: 0.3489 - val_acc: 0.8696\n",
      "Epoch 23/50\n",
      "90/90 [==============================] - 1s - loss: 0.1117 - acc: 0.9667 - val_loss: 0.4406 - val_acc: 0.8261\n",
      "Epoch 24/50\n",
      "90/90 [==============================] - 1s - loss: 0.0890 - acc: 0.9889 - val_loss: 0.4614 - val_acc: 0.7826\n",
      "Epoch 25/50\n",
      "90/90 [==============================] - 1s - loss: 0.0862 - acc: 0.9667 - val_loss: 0.3319 - val_acc: 0.8696\n",
      "Epoch 26/50\n",
      "90/90 [==============================] - 1s - loss: 0.0647 - acc: 0.9778 - val_loss: 0.3189 - val_acc: 0.8696\n",
      "Epoch 27/50\n",
      "90/90 [==============================] - 1s - loss: 0.0563 - acc: 1.0000 - val_loss: 0.3167 - val_acc: 0.8261\n",
      "Epoch 28/50\n",
      "90/90 [==============================] - 1s - loss: 0.0653 - acc: 0.9778 - val_loss: 0.4597 - val_acc: 0.8261\n",
      "Epoch 29/50\n",
      "90/90 [==============================] - 1s - loss: 0.0572 - acc: 0.9889 - val_loss: 0.3062 - val_acc: 0.8261\n",
      "Epoch 30/50\n",
      "90/90 [==============================] - 1s - loss: 0.0340 - acc: 1.0000 - val_loss: 0.4076 - val_acc: 0.8261\n",
      "Epoch 31/50\n",
      "90/90 [==============================] - 1s - loss: 0.0270 - acc: 1.0000 - val_loss: 0.4688 - val_acc: 0.8261\n",
      "Epoch 32/50\n",
      "90/90 [==============================] - 1s - loss: 0.0519 - acc: 0.9889 - val_loss: 0.3801 - val_acc: 0.8261\n",
      "Epoch 33/50\n",
      "90/90 [==============================] - 1s - loss: 0.0574 - acc: 0.9778 - val_loss: 0.4053 - val_acc: 0.8261\n",
      "Epoch 34/50\n",
      "90/90 [==============================] - 1s - loss: 0.0318 - acc: 0.9889 - val_loss: 0.3767 - val_acc: 0.8261\n",
      "Epoch 35/50\n",
      "90/90 [==============================] - 1s - loss: 0.0195 - acc: 1.0000 - val_loss: 0.3911 - val_acc: 0.8261\n",
      "Epoch 36/50\n",
      "90/90 [==============================] - 1s - loss: 0.0208 - acc: 1.0000 - val_loss: 0.4548 - val_acc: 0.8261\n",
      "Epoch 37/50\n",
      "90/90 [==============================] - 1s - loss: 0.0194 - acc: 1.0000 - val_loss: 0.4253 - val_acc: 0.8261\n",
      "Epoch 38/50\n",
      "90/90 [==============================] - 1s - loss: 0.0194 - acc: 1.0000 - val_loss: 0.4512 - val_acc: 0.8261\n",
      "Epoch 39/50\n",
      "90/90 [==============================] - 1s - loss: 0.0456 - acc: 0.9778 - val_loss: 0.3738 - val_acc: 0.7826\n",
      "Epoch 40/50\n",
      "90/90 [==============================] - 1s - loss: 0.0434 - acc: 0.9889 - val_loss: 0.5383 - val_acc: 0.7826\n",
      "Epoch 41/50\n",
      "90/90 [==============================] - 1s - loss: 0.0249 - acc: 1.0000 - val_loss: 0.4144 - val_acc: 0.8261\n",
      "Epoch 42/50\n",
      "90/90 [==============================] - 1s - loss: 0.0155 - acc: 1.0000 - val_loss: 0.3725 - val_acc: 0.8696\n",
      "Epoch 43/50\n",
      "90/90 [==============================] - 1s - loss: 0.0190 - acc: 1.0000 - val_loss: 0.4020 - val_acc: 0.8261\n",
      "Epoch 44/50\n",
      "90/90 [==============================] - 1s - loss: 0.0112 - acc: 1.0000 - val_loss: 0.3838 - val_acc: 0.8696\n",
      "Epoch 45/50\n",
      "90/90 [==============================] - 1s - loss: 0.0338 - acc: 0.9889 - val_loss: 0.3755 - val_acc: 0.7826\n",
      "Epoch 46/50\n",
      "90/90 [==============================] - 1s - loss: 0.0112 - acc: 1.0000 - val_loss: 0.3707 - val_acc: 0.8696\n",
      "Epoch 47/50\n",
      "90/90 [==============================] - 1s - loss: 0.0129 - acc: 1.0000 - val_loss: 0.4043 - val_acc: 0.8261\n",
      "Epoch 48/50\n",
      "90/90 [==============================] - 1s - loss: 0.0089 - acc: 1.0000 - val_loss: 0.4253 - val_acc: 0.8261\n",
      "Epoch 49/50\n",
      "90/90 [==============================] - 1s - loss: 0.0177 - acc: 1.0000 - val_loss: 0.3742 - val_acc: 0.8696\n",
      "Epoch 50/50\n",
      "90/90 [==============================] - 1s - loss: 0.0196 - acc: 1.0000 - val_loss: 0.3623 - val_acc: 0.8696\n",
      "Wall time: 1min 8s\n"
     ]
    }
   ],
   "source": [
    "%time hist3 = model3.fit(np.array(x_tr2), y_tr2, nb_epoch=50 , batch_size=50 ,validation_split=0.2, show_accuracy=True , shuffle=True,callbacks=[history3])"
   ]
  },
  {
   "cell_type": "code",
   "execution_count": 44,
   "metadata": {
    "collapsed": false,
    "scrolled": false
   },
   "outputs": [
    {
     "data": {
      "image/png": "[encoded data removed]",
      "text/plain": [
       "<matplotlib.figure.Figure at 0x2c03ce48>"
      ]
     },
     "metadata": {},
     "output_type": "display_data"
    }
   ],
   "source": [
    "plt.plot(hist3.history['acc'],label='acc')\n",
    "plt.plot(hist3.history['loss'],label='loss')\n",
    "plt.plot(hist3.history['val_loss'],label='val_loss')\n",
    "plt.plot(hist3.history['val_acc'],label='val_acc')\n",
    "plt.legend()\n",
    "plt.grid('off')"
   ]
  },
  {
   "cell_type": "code",
   "execution_count": 45,
   "metadata": {
    "collapsed": false
   },
   "outputs": [
    {
     "name": "stdout",
     "output_type": "stream",
     "text": [
      "29/29 [==============================] - 0s\n"
     ]
    },
    {
     "data": {
      "text/plain": [
       "[0.68722707033157349, 0.75862068965517238]"
      ]
     },
     "execution_count": 45,
     "metadata": {},
     "output_type": "execute_result"
    }
   ],
   "source": [
    "model3.evaluate(np.array(x_te2),y_te2,show_accuracy=True)"
   ]
  },
  {
   "cell_type": "code",
   "execution_count": 46,
   "metadata": {
    "collapsed": false
   },
   "outputs": [
    {
     "name": "stdout",
     "output_type": "stream",
     "text": [
      "29/29 [==============================] - 0s\n"
     ]
    }
   ],
   "source": [
    "y_pred3 = model3.predict_classes(np.array(x_te2))"
   ]
  },
  {
   "cell_type": "code",
   "execution_count": 47,
   "metadata": {
    "collapsed": false
   },
   "outputs": [
    {
     "name": "stdout",
     "output_type": "stream",
     "text": [
      "29/29 [==============================] - 0s\n"
     ]
    },
    {
     "data": {
      "text/plain": [
       "[0.68722707033157349, 0.75862068965517238]"
      ]
     },
     "execution_count": 47,
     "metadata": {},
     "output_type": "execute_result"
    }
   ],
   "source": [
    "model3.evaluate(np.array(x_te2),y_te2,batch_size=50,show_accuracy=True)"
   ]
  },
  {
   "cell_type": "code",
   "execution_count": 48,
   "metadata": {
    "collapsed": false
   },
   "outputs": [
    {
     "name": "stdout",
     "output_type": "stream",
     "text": [
      "             precision    recall  f1-score   support\n",
      "\n",
      "          0       0.67      0.73      0.70        11\n",
      "          1       0.82      0.78      0.80        18\n",
      "\n",
      "avg / total       0.76      0.76      0.76        29\n",
      "\n"
     ]
    }
   ],
   "source": [
    "print(classification_report(y_ten2,y_pred3))"
   ]
  },
  {
   "cell_type": "code",
   "execution_count": 49,
   "metadata": {
    "collapsed": false,
    "scrolled": false
   },
   "outputs": [
    {
     "name": "stdout",
     "output_type": "stream",
     "text": [
      "--------------------------------------------------------------------------------\n",
      "Initial input shape: (None, 1, 50, 50)\n",
      "--------------------------------------------------------------------------------\n",
      "Layer (name)                  Output Shape                  Param #             \n",
      "--------------------------------------------------------------------------------\n",
      "Convolution2D (convolution2d) (None, 50, 50, 50)            1300                \n",
      "MaxPooling2D (maxpooling2d)   (None, 50, 25, 25)            0                   \n",
      "Dropout (dropout)             (None, 50, 25, 25)            0                   \n",
      "Flatten (flatten)             (None, 31250)                 0                   \n",
      "Dense (dense)                 (None, 1250)                  39063750            \n",
      "Activation (activation)       (None, 1250)                  0                   \n",
      "Dense (dense)                 (None, 2)                     2502                \n",
      "--------------------------------------------------------------------------------\n",
      "Total params: 39067552\n",
      "--------------------------------------------------------------------------------\n"
     ]
    }
   ],
   "source": [
    "model3.summary()"
   ]
  },
  {
   "cell_type": "code",
   "execution_count": 50,
   "metadata": {
    "collapsed": false,
    "scrolled": false
   },
   "outputs": [
    {
     "data": {
      "text/plain": [
       "array([1, 0, 0, 1, 0, 1, 0, 1, 1, 1, 1, 0, 0, 0, 0, 0, 1, 0, 1, 1, 1, 1, 1,\n",
       "       1, 0, 0, 1, 1, 1], dtype=int64)"
      ]
     },
     "execution_count": 50,
     "metadata": {},
     "output_type": "execute_result"
    }
   ],
   "source": [
    "y_pred3"
   ]
  },
  {
   "cell_type": "code",
   "execution_count": 51,
   "metadata": {
    "collapsed": false,
    "scrolled": true
   },
   "outputs": [
    {
     "data": {
      "text/plain": [
       "array([0, 0, 0, 1, 1, 1, 0, 1, 1, 1, 0, 0, 1, 0, 0, 0, 1, 1, 0, 1, 1, 1, 1,\n",
       "       1, 0, 1, 1, 1, 1])"
      ]
     },
     "execution_count": 51,
     "metadata": {},
     "output_type": "execute_result"
    }
   ],
   "source": [
    "np.array(y_ten2)"
   ]
  },
  {
   "cell_type": "markdown",
   "metadata": {},
   "source": [
    "## SVM"
   ]
  },
  {
   "cell_type": "markdown",
   "metadata": {},
   "source": [
    "### sample수 부족??? sample 수 늘리니 결과 향상"
   ]
  },
  {
   "cell_type": "code",
   "execution_count": 52,
   "metadata": {
    "collapsed": true
   },
   "outputs": [],
   "source": [
    "from sklearn.svm import SVC\n",
    "from sklearn.grid_search import GridSearchCV"
   ]
  },
  {
   "cell_type": "code",
   "execution_count": 53,
   "metadata": {
    "collapsed": false
   },
   "outputs": [],
   "source": [
    "params4 = {'C' : [1e1, 1e2, 1e3,1e4,1e5],\n",
    "           'gamma' : [0.0001,0.0005,0.001,0.005,0.01]}"
   ]
  },
  {
   "cell_type": "code",
   "execution_count": 54,
   "metadata": {
    "collapsed": false
   },
   "outputs": [],
   "source": [
    "clf = GridSearchCV(SVC(kernel='rbf'),params4)"
   ]
  },
  {
   "cell_type": "code",
   "execution_count": 55,
   "metadata": {
    "collapsed": false,
    "scrolled": true
   },
   "outputs": [],
   "source": [
    "y_trn4 = cat2lab(y_tr1)\n",
    "model4 = clf.fit(x_tr1,y_trn4)"
   ]
  },
  {
   "cell_type": "code",
   "execution_count": 56,
   "metadata": {
    "collapsed": false,
    "scrolled": true
   },
   "outputs": [
    {
     "data": {
      "text/plain": [
       "0.89655172413793105"
      ]
     },
     "execution_count": 56,
     "metadata": {},
     "output_type": "execute_result"
    }
   ],
   "source": [
    "model4.score(x_te1,cat2lab(y_te1))"
   ]
  },
  {
   "cell_type": "code",
   "execution_count": 57,
   "metadata": {
    "collapsed": false
   },
   "outputs": [],
   "source": [
    "clf2 = SVC(kernel='rbf',C=10.0,gamma = 0.01)\n"
   ]
  },
  {
   "cell_type": "code",
   "execution_count": 58,
   "metadata": {
    "collapsed": false
   },
   "outputs": [],
   "source": [
    "model5 = clf2.fit(x_tr1,y_trn4)\n"
   ]
  },
  {
   "cell_type": "code",
   "execution_count": 59,
   "metadata": {
    "collapsed": false
   },
   "outputs": [
    {
     "data": {
      "text/plain": [
       "0.89655172413793105"
      ]
     },
     "execution_count": 59,
     "metadata": {},
     "output_type": "execute_result"
    }
   ],
   "source": [
    "model5.score(x_te1,cat2lab(y_te1))"
   ]
  },
  {
   "cell_type": "code",
   "execution_count": 60,
   "metadata": {
    "collapsed": false,
    "scrolled": true
   },
   "outputs": [
    {
     "data": {
      "text/plain": [
       "(0.80530973451327437, {'C': 10.0, 'gamma': 0.01})"
      ]
     },
     "execution_count": 60,
     "metadata": {},
     "output_type": "execute_result"
    }
   ],
   "source": [
    "model4.best_score_ ,model4.best_params_"
   ]
  },
  {
   "cell_type": "code",
   "execution_count": 61,
   "metadata": {
    "collapsed": false
   },
   "outputs": [
    {
     "data": {
      "text/plain": [
       "array([0, 0, 0, 1, 1, 1, 0, 1, 1, 1, 1, 0, 1, 0, 0, 0, 1, 0, 1, 1, 1, 1, 1,\n",
       "       1, 0, 1, 1, 1, 1])"
      ]
     },
     "execution_count": 61,
     "metadata": {},
     "output_type": "execute_result"
    }
   ],
   "source": [
    "y_pred4 = model4.predict(x_te1)\n",
    "y_pred4"
   ]
  },
  {
   "cell_type": "code",
   "execution_count": 62,
   "metadata": {
    "collapsed": false
   },
   "outputs": [
    {
     "data": {
      "text/plain": [
       "[0,\n",
       " 0,\n",
       " 0,\n",
       " 1,\n",
       " 1,\n",
       " 1,\n",
       " 0,\n",
       " 1,\n",
       " 1,\n",
       " 1,\n",
       " 0,\n",
       " 0,\n",
       " 1,\n",
       " 0,\n",
       " 0,\n",
       " 0,\n",
       " 1,\n",
       " 1,\n",
       " 0,\n",
       " 1,\n",
       " 1,\n",
       " 1,\n",
       " 1,\n",
       " 1,\n",
       " 0,\n",
       " 1,\n",
       " 1,\n",
       " 1,\n",
       " 1]"
      ]
     },
     "execution_count": 62,
     "metadata": {},
     "output_type": "execute_result"
    }
   ],
   "source": [
    "y_ten4 = cat2lab(y_te1)\n",
    "y_ten4"
   ]
  },
  {
   "cell_type": "code",
   "execution_count": 63,
   "metadata": {
    "collapsed": false
   },
   "outputs": [
    {
     "name": "stdout",
     "output_type": "stream",
     "text": [
      "             precision    recall  f1-score   support\n",
      "\n",
      "          0       0.90      0.82      0.86        11\n",
      "          1       0.89      0.94      0.92        18\n",
      "\n",
      "avg / total       0.90      0.90      0.90        29\n",
      "\n"
     ]
    }
   ],
   "source": [
    "print(classification_report(y_ten4,y_pred4))"
   ]
  },
  {
   "cell_type": "code",
   "execution_count": 64,
   "metadata": {
    "collapsed": false
   },
   "outputs": [],
   "source": [
    "import pywt"
   ]
  },
  {
   "cell_type": "code",
   "execution_count": 65,
   "metadata": {
    "collapsed": false
   },
   "outputs": [],
   "source": [
    "Ca,Cd = pywt.dwt2(x_tr[25],'haar')"
   ]
  },
  {
   "cell_type": "code",
   "execution_count": 66,
   "metadata": {
    "collapsed": false
   },
   "outputs": [
    {
     "data": {
      "text/plain": [
       "(25L, 25L)"
      ]
     },
     "execution_count": 66,
     "metadata": {},
     "output_type": "execute_result"
    }
   ],
   "source": [
    "np.shape(Ca)"
   ]
  },
  {
   "cell_type": "code",
   "execution_count": 67,
   "metadata": {
    "collapsed": false
   },
   "outputs": [
    {
     "data": {
      "text/plain": [
       "<matplotlib.image.AxesImage at 0x467172e8>"
      ]
     },
     "execution_count": 67,
     "metadata": {},
     "output_type": "execute_result"
    },
    {
     "data": {
      "image/png": "[encoded data removed]",
      "text/plain": [
       "<matplotlib.figure.Figure at 0x46651cc0>"
      ]
     },
     "metadata": {},
     "output_type": "display_data"
    }
   ],
   "source": [
    "plt.imshow(Cd[1])"
   ]
  },
  {
   "cell_type": "code",
   "execution_count": null,
   "metadata": {
    "collapsed": false
   },
   "outputs": [],
   "source": []
  },
  {
   "cell_type": "code",
   "execution_count": 68,
   "metadata": {
    "collapsed": false
   },
   "outputs": [
    {
     "data": {
      "text/plain": [
       "<matplotlib.image.AxesImage at 0x468e3a90>"
      ]
     },
     "execution_count": 68,
     "metadata": {},
     "output_type": "execute_result"
    },
    {
     "data": {
      "image/png": "[encoded data removed]",
      "text/plain": [
       "<matplotlib.figure.Figure at 0x3c0d1860>"
      ]
     },
     "metadata": {},
     "output_type": "display_data"
    }
   ],
   "source": [
    "plt.imshow(pywt.threshold(Cd[1],0.3))"
   ]
  },
  {
   "cell_type": "code",
   "execution_count": null,
   "metadata": {
    "collapsed": true
   },
   "outputs": [],
   "source": []
  },
  {
   "cell_type": "markdown",
   "metadata": {},
   "source": [
    "### Hough"
   ]
  },
  {
   "cell_type": "code",
   "execution_count": 69,
   "metadata": {
    "collapsed": false
   },
   "outputs": [],
   "source": [
    "from cv2 import HoughLines\n",
    "from cv2 import HoughLinesP\n",
    "import cv2"
   ]
  },
  {
   "cell_type": "code",
   "execution_count": 70,
   "metadata": {
    "collapsed": true
   },
   "outputs": [],
   "source": [
    "from os import listdir"
   ]
  },
  {
   "cell_type": "code",
   "execution_count": 71,
   "metadata": {
    "collapsed": false
   },
   "outputs": [],
   "source": [
    "asdf = listdir('d://nor/')"
   ]
  },
  {
   "cell_type": "code",
   "execution_count": 72,
   "metadata": {
    "collapsed": false
   },
   "outputs": [],
   "source": [
    "ima = cv2.imread('d://nor/'+asdf[1],1)"
   ]
  },
  {
   "cell_type": "code",
   "execution_count": 73,
   "metadata": {
    "collapsed": false,
    "scrolled": true
   },
   "outputs": [],
   "source": [
    "imb = cv2.Canny(ima,100,250)"
   ]
  },
  {
   "cell_type": "code",
   "execution_count": null,
   "metadata": {
    "collapsed": true
   },
   "outputs": [],
   "source": []
  },
  {
   "cell_type": "markdown",
   "metadata": {},
   "source": [
    "### ensenble and ranfo"
   ]
  },
  {
   "cell_type": "code",
   "execution_count": 74,
   "metadata": {
    "collapsed": true
   },
   "outputs": [],
   "source": [
    "from sklearn.ensemble import AdaBoostClassifier, RandomForestClassifier\n",
    "from sklearn.tree import DecisionTreeClassifier"
   ]
  },
  {
   "cell_type": "code",
   "execution_count": 75,
   "metadata": {
    "collapsed": false
   },
   "outputs": [
    {
     "data": {
      "text/plain": [
       "AdaBoostClassifier(algorithm='SAMME',\n",
       "          base_estimator=DecisionTreeClassifier(class_weight='balanced', criterion='gini',\n",
       "            max_depth=10, max_features=None, max_leaf_nodes=None,\n",
       "            min_samples_leaf=1, min_samples_split=2,\n",
       "            min_weight_fraction_leaf=0.0, presort=False, random_state=None,\n",
       "            splitter='best'),\n",
       "          learning_rate=1.0, n_estimators=200, random_state=None)"
      ]
     },
     "execution_count": 75,
     "metadata": {},
     "output_type": "execute_result"
    }
   ],
   "source": [
    "# bdt = AdaBoostClassifier(RandomForestClassifier(n_estimators),\n",
    "#                          algorithm=\"SAMME\",\n",
    "#                          n_estimators=200)\n",
    "\n",
    "\n",
    "bdt = AdaBoostClassifier(DecisionTreeClassifier(class_weight='balanced',max_depth=10),\n",
    "                         algorithm=\"SAMME\",\n",
    "                         n_estimators=200)\n",
    "\n",
    "bdt.fit(x_tr1, cat2lab(y_tr1))\n"
   ]
  },
  {
   "cell_type": "code",
   "execution_count": 76,
   "metadata": {
    "collapsed": false
   },
   "outputs": [
    {
     "data": {
      "text/plain": [
       "array([ 0.,  0.,  0., ...,  0.,  0.,  0.])"
      ]
     },
     "execution_count": 76,
     "metadata": {},
     "output_type": "execute_result"
    }
   ],
   "source": [
    "bdt.feature_importances_"
   ]
  },
  {
   "cell_type": "code",
   "execution_count": 77,
   "metadata": {
    "collapsed": false
   },
   "outputs": [
    {
     "data": {
      "text/plain": [
       "(29L, 2500L)"
      ]
     },
     "execution_count": 77,
     "metadata": {},
     "output_type": "execute_result"
    }
   ],
   "source": [
    "np.shape(x_te1)"
   ]
  },
  {
   "cell_type": "code",
   "execution_count": 78,
   "metadata": {
    "collapsed": false
   },
   "outputs": [
    {
     "data": {
      "text/plain": [
       "array([[ 0.73105858,  0.26894142],\n",
       "       [ 0.26894142,  0.73105858],\n",
       "       [ 0.73105858,  0.26894142],\n",
       "       [ 0.73105858,  0.26894142],\n",
       "       [ 0.73105858,  0.26894142],\n",
       "       [ 0.26894142,  0.73105858],\n",
       "       [ 0.26894142,  0.73105858],\n",
       "       [ 0.73105858,  0.26894142],\n",
       "       [ 0.73105858,  0.26894142],\n",
       "       [ 0.26894142,  0.73105858],\n",
       "       [ 0.26894142,  0.73105858],\n",
       "       [ 0.73105858,  0.26894142],\n",
       "       [ 0.73105858,  0.26894142],\n",
       "       [ 0.73105858,  0.26894142],\n",
       "       [ 0.73105858,  0.26894142],\n",
       "       [ 0.26894142,  0.73105858],\n",
       "       [ 0.26894142,  0.73105858],\n",
       "       [ 0.73105858,  0.26894142],\n",
       "       [ 0.73105858,  0.26894142],\n",
       "       [ 0.26894142,  0.73105858],\n",
       "       [ 0.73105858,  0.26894142],\n",
       "       [ 0.73105858,  0.26894142],\n",
       "       [ 0.73105858,  0.26894142],\n",
       "       [ 0.73105858,  0.26894142],\n",
       "       [ 0.73105858,  0.26894142],\n",
       "       [ 0.26894142,  0.73105858],\n",
       "       [ 0.26894142,  0.73105858],\n",
       "       [ 0.73105858,  0.26894142],\n",
       "       [ 0.73105858,  0.26894142]])"
      ]
     },
     "execution_count": 78,
     "metadata": {},
     "output_type": "execute_result"
    }
   ],
   "source": [
    "bdt.predict_proba(x_te1)"
   ]
  },
  {
   "cell_type": "code",
   "execution_count": 79,
   "metadata": {
    "collapsed": false
   },
   "outputs": [
    {
     "data": {
      "text/plain": [
       "0.44827586206896552"
      ]
     },
     "execution_count": 79,
     "metadata": {},
     "output_type": "execute_result"
    }
   ],
   "source": [
    "bdt.score(x_te1,cat2lab(y_te1))"
   ]
  },
  {
   "cell_type": "code",
   "execution_count": null,
   "metadata": {
    "collapsed": true
   },
   "outputs": [],
   "source": []
  },
  {
   "cell_type": "code",
   "execution_count": null,
   "metadata": {
    "collapsed": true
   },
   "outputs": [],
   "source": []
  },
  {
   "cell_type": "code",
   "execution_count": null,
   "metadata": {
    "collapsed": true
   },
   "outputs": [],
   "source": []
  }
 ],
 "metadata": {
  "kernelspec": {
   "display_name": "Python 2",
   "language": "python",
   "name": "python2"
  },
  "language_info": {
   "codemirror_mode": {
    "name": "ipython",
    "version": 2
   },
   "file_extension": ".py",
   "mimetype": "text/x-python",
   "name": "python",
   "nbconvert_exporter": "python",
   "pygments_lexer": "ipython2",
   "version": "2.7.11"
  }
 },
 "nbformat": 4,
 "nbformat_minor": 0
}
