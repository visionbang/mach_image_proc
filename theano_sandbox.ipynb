{
 "cells": [
  {
   "cell_type": "code",
   "execution_count": 1,
   "metadata": {
    "collapsed": false
   },
   "outputs": [
    {
     "name": "stderr",
     "output_type": "stream",
     "text": [
      "Using gpu device 0: GeForce 940M (CNMeM is disabled, CuDNN not available)\n"
     ]
    }
   ],
   "source": [
    "import theano\n",
    "import theano.tensor as T\n",
    "import keras\n"
   ]
  },
  {
   "cell_type": "code",
   "execution_count": null,
   "metadata": {
    "collapsed": true
   },
   "outputs": [],
   "source": []
  },
  {
   "cell_type": "code",
   "execution_count": null,
   "metadata": {
    "collapsed": true
   },
   "outputs": [],
   "source": [
    "#print(theano.config)"
   ]
  },
  {
   "cell_type": "code",
   "execution_count": null,
   "metadata": {
    "collapsed": true
   },
   "outputs": [],
   "source": [
    "#np.distutils.__config__.show()"
   ]
  },
  {
   "cell_type": "code",
   "execution_count": null,
   "metadata": {
    "collapsed": false
   },
   "outputs": [],
   "source": [
    "x = T.dmatrix('x')\n",
    "s = 1 / (1 + T.exp(-x))\n",
    "logistic = theano.function([x], s)\n",
    "logistic([[0, 1], [-1, -2]])"
   ]
  },
  {
   "cell_type": "code",
   "execution_count": null,
   "metadata": {
    "collapsed": false
   },
   "outputs": [],
   "source": [
    "x = T.scalar('x',dtype='float64')\n",
    "compute = theano.function([x], 2*x);\n",
    "compute(10)\n"
   ]
  },
  {
   "cell_type": "markdown",
   "metadata": {},
   "source": [
    "### dram-> vram / bottleneck"
   ]
  },
  {
   "cell_type": "code",
   "execution_count": null,
   "metadata": {
    "collapsed": false,
    "scrolled": false
   },
   "outputs": [],
   "source": [
    "x= T.scalar('x',dtype='float64')\n",
    "compute = theano.function([x], 2*x**2)\n",
    "compute(2)\n"
   ]
  },
  {
   "cell_type": "markdown",
   "metadata": {},
   "source": [
    "### direct to gpu"
   ]
  },
  {
   "cell_type": "code",
   "execution_count": null,
   "metadata": {
    "collapsed": false
   },
   "outputs": [],
   "source": [
    "x_value = theano.shared(10.0)\n",
    "compute = theano.function([], 2*x , givens={x:x_value})\n",
    "compute()"
   ]
  },
  {
   "cell_type": "code",
   "execution_count": 2,
   "metadata": {
    "collapsed": false
   },
   "outputs": [
    {
     "name": "stderr",
     "output_type": "stream",
     "text": [
      "Using Theano backend.\n",
      "C:\\Users\\Back_jud\\Anaconda2\\lib\\site-packages\\theano\\tensor\\signal\\downsample.py:6: UserWarning:\n",
      "\n",
      "downsample module has been moved to the theano.tensor.signal.pool module.\n",
      "\n"
     ]
    }
   ],
   "source": [
    "from keras.models import Sequential\n",
    "from keras.layers.core import Dense, Dropout, Activation\n",
    "from keras.optimizers import SGD\n",
    "from sklearn.cross_validation import train_test_split\n",
    "from keras.layers import Convolution2D ,MaxPooling2D,Flatten\n",
    "from keras.utils import np_utils\n",
    "import pickle"
   ]
  },
  {
   "cell_type": "code",
   "execution_count": null,
   "metadata": {
    "collapsed": true
   },
   "outputs": [],
   "source": [
    "from keras import backend as K\n"
   ]
  },
  {
   "cell_type": "code",
   "execution_count": 8,
   "metadata": {
    "collapsed": false
   },
   "outputs": [],
   "source": [
    "a = open('d://labels.p')\n",
    "b = open('d://images.p')\n",
    "labels = np.array(pickle.load(a))\n",
    "imgs = np.array(pickle.load(b))\n",
    "imgs = imgs /255"
   ]
  },
  {
   "cell_type": "code",
   "execution_count": 9,
   "metadata": {
    "collapsed": false
   },
   "outputs": [],
   "source": [
    "labels = np_utils.to_categorical(labels,nb_classes=2)"
   ]
  },
  {
   "cell_type": "code",
   "execution_count": 10,
   "metadata": {
    "collapsed": true
   },
   "outputs": [],
   "source": [
    "x_tr,x_te,y_tr,y_te = train_test_split(imgs,labels,test_size= 0.2,random_state= 123)"
   ]
  },
  {
   "cell_type": "code",
   "execution_count": null,
   "metadata": {
    "collapsed": true
   },
   "outputs": [],
   "source": []
  },
  {
   "cell_type": "code",
   "execution_count": null,
   "metadata": {
    "collapsed": true
   },
   "outputs": [],
   "source": [
    "model1 = Sequential()\n",
    "model1.add(Dense(50, input_dim=2500, activation=\"sigmoid\", init='uniform'))\n",
    "model1.add(Dense(2, activation=\"softmax\", init='uniform'))\n",
    "model1.compile(loss='categorical_crossentropy', optimizer=SGD())"
   ]
  },
  {
   "cell_type": "code",
   "execution_count": null,
   "metadata": {
    "collapsed": false,
    "scrolled": true
   },
   "outputs": [],
   "source": [
    "%time hist1 = model1.fit(np.array(x_tr), np.array(y_tr), nb_epoch=300, batch_size=15,show_accuracy=True)"
   ]
  },
  {
   "cell_type": "code",
   "execution_count": null,
   "metadata": {
    "collapsed": false
   },
   "outputs": [],
   "source": [
    "d= model1.get_weights()[0]"
   ]
  },
  {
   "cell_type": "code",
   "execution_count": null,
   "metadata": {
    "collapsed": false
   },
   "outputs": [],
   "source": [
    "d1"
   ]
  },
  {
   "cell_type": "code",
   "execution_count": null,
   "metadata": {
    "collapsed": false
   },
   "outputs": [],
   "source": [
    "plt.imshow(np.reshape(d[:,4],(50,50)),cmap='hot')"
   ]
  },
  {
   "cell_type": "code",
   "execution_count": null,
   "metadata": {
    "collapsed": false
   },
   "outputs": [],
   "source": [
    "model1.evaluate(np.array(x_te),np.array(y_te),batch_size=10,show_accuracy=True)"
   ]
  },
  {
   "cell_type": "code",
   "execution_count": null,
   "metadata": {
    "collapsed": false,
    "scrolled": true
   },
   "outputs": [],
   "source": [
    "model1.predict_classes(np.array(x_te),2)"
   ]
  },
  {
   "cell_type": "code",
   "execution_count": null,
   "metadata": {
    "collapsed": false,
    "scrolled": false
   },
   "outputs": [],
   "source": [
    "plt.plot(hist1.history['acc'])"
   ]
  },
  {
   "cell_type": "code",
   "execution_count": null,
   "metadata": {
    "collapsed": true
   },
   "outputs": [],
   "source": []
  },
  {
   "cell_type": "code",
   "execution_count": null,
   "metadata": {
    "collapsed": true
   },
   "outputs": [],
   "source": []
  },
  {
   "cell_type": "code",
   "execution_count": null,
   "metadata": {
    "collapsed": true
   },
   "outputs": [],
   "source": []
  },
  {
   "cell_type": "code",
   "execution_count": null,
   "metadata": {
    "collapsed": true
   },
   "outputs": [],
   "source": []
  },
  {
   "cell_type": "code",
   "execution_count": 11,
   "metadata": {
    "collapsed": false
   },
   "outputs": [],
   "source": [
    "#imgs for CNN\n",
    "imgs2d= []\n",
    "for img in imgs:\n",
    "    imgs2d.append(np.reshape(img,(1,50,50)))\n",
    "    "
   ]
  },
  {
   "cell_type": "code",
   "execution_count": 12,
   "metadata": {
    "collapsed": false
   },
   "outputs": [],
   "source": [
    "x_tr2,x_te2,y_tr2,y_te2 = train_test_split(imgs2d,labels,test_size= 0.2,random_state= 123)"
   ]
  },
  {
   "cell_type": "code",
   "execution_count": 25,
   "metadata": {
    "collapsed": false
   },
   "outputs": [],
   "source": [
    "model2 = Sequential()\n",
    "model2.add(Convolution2D(50,5, 5, border_mode='same', input_shape=(1, 50, 50)))\n",
    "model2.add(Activation('relu'))\n",
    "model2.add(Convolution2D(50, 5, 5,init='uniform'))\n",
    "model2.add(Activation('relu'))\n",
    "model2.add(MaxPooling2D(pool_size=(2, 2)))\n",
    "model2.add(Dropout(0.25))\n",
    "\n",
    "model2.add(Convolution2D(100, 5, 5, border_mode='same'))\n",
    "model2.add(Activation('relu'))\n",
    "model2.add(Convolution2D(100, 5, 5,init='uniform'))\n",
    "model2.add(Activation('relu'))\n",
    "model2.add(MaxPooling2D(pool_size=(2, 2)))\n",
    "model2.add(Dropout(0.25))\n",
    "\n",
    "model2.add(Flatten())\n",
    "model2.add(Dense(1250,init='uniform'))\n",
    "model2.add(Activation('relu'))\n",
    "model2.add(Dense(2,activation='softmax'))\n",
    "\n",
    "\n",
    "model2.compile(loss='mse', optimizer=SGD(lr=0.01, decay=1e-6, momentum=0.9, nesterov=True))"
   ]
  },
  {
   "cell_type": "code",
   "execution_count": 27,
   "metadata": {
    "collapsed": false,
    "scrolled": true
   },
   "outputs": [
    {
     "name": "stdout",
     "output_type": "stream",
     "text": [
      "Train on 56 samples, validate on 15 samples\n",
      "Epoch 1/100\n",
      "56/56 [==============================] - 4s - loss: 0.3433 - acc: 0.5000 - val_loss: 0.2482 - val_acc: 0.5333\n",
      "Epoch 2/100\n",
      "56/56 [==============================] - 1s - loss: 0.2792 - acc: 0.6071 - val_loss: 0.6116 - val_acc: 0.3333\n",
      "Epoch 3/100\n",
      "56/56 [==============================] - 1s - loss: 0.3787 - acc: 0.6071 - val_loss: 0.6391 - val_acc: 0.3333\n",
      "Epoch 4/100\n",
      "56/56 [==============================] - 1s - loss: 0.3878 - acc: 0.6071 - val_loss: 0.6404 - val_acc: 0.3333\n",
      "Epoch 5/100\n",
      "56/56 [==============================] - 1s - loss: 0.3841 - acc: 0.6071 - val_loss: 0.6062 - val_acc: 0.3333\n",
      "Epoch 6/100\n",
      "56/56 [==============================] - 1s - loss: 0.3746 - acc: 0.6071 - val_loss: 0.4160 - val_acc: 0.3333\n",
      "Epoch 7/100\n",
      "56/56 [==============================] - 1s - loss: 0.2840 - acc: 0.6250 - val_loss: 0.1776 - val_acc: 0.8000\n",
      "Epoch 8/100\n",
      "56/56 [==============================] - 1s - loss: 0.1918 - acc: 0.7679 - val_loss: 0.1674 - val_acc: 0.8000\n",
      "Epoch 9/100\n",
      "56/56 [==============================] - 1s - loss: 0.1531 - acc: 0.8750 - val_loss: 0.1454 - val_acc: 0.8000\n",
      "Epoch 10/100\n",
      "56/56 [==============================] - 1s - loss: 0.1251 - acc: 0.8929 - val_loss: 0.1544 - val_acc: 0.8000\n",
      "Epoch 11/100\n",
      "56/56 [==============================] - 1s - loss: 0.1945 - acc: 0.6607 - val_loss: 0.1505 - val_acc: 0.8000\n",
      "Epoch 12/100\n",
      "56/56 [==============================] - 1s - loss: 0.1375 - acc: 0.7857 - val_loss: 0.0956 - val_acc: 0.8667\n",
      "Epoch 13/100\n",
      "56/56 [==============================] - 1s - loss: 0.0679 - acc: 0.9107 - val_loss: 0.0703 - val_acc: 0.9333\n",
      "Epoch 14/100\n",
      "56/56 [==============================] - 1s - loss: 0.0495 - acc: 0.9643 - val_loss: 0.0782 - val_acc: 0.8667\n",
      "Epoch 15/100\n",
      "56/56 [==============================] - 1s - loss: 0.0400 - acc: 0.9643 - val_loss: 0.0827 - val_acc: 0.8667\n",
      "Epoch 16/100\n",
      "56/56 [==============================] - 1s - loss: 0.0444 - acc: 0.9643 - val_loss: 0.1112 - val_acc: 0.8667\n",
      "Epoch 17/100\n",
      "56/56 [==============================] - 1s - loss: 0.0407 - acc: 0.9464 - val_loss: 0.0844 - val_acc: 0.8667\n",
      "Epoch 18/100\n",
      "56/56 [==============================] - 1s - loss: 0.0151 - acc: 0.9821 - val_loss: 0.0661 - val_acc: 0.9333\n",
      "Epoch 19/100\n",
      "56/56 [==============================] - 1s - loss: 0.0437 - acc: 0.9464 - val_loss: 0.1111 - val_acc: 0.8667\n",
      "Epoch 20/100\n",
      "56/56 [==============================] - 1s - loss: 0.0222 - acc: 0.9821 - val_loss: 0.0616 - val_acc: 0.8667\n",
      "Epoch 21/100\n",
      "56/56 [==============================] - 1s - loss: 0.0439 - acc: 0.9464 - val_loss: 0.0706 - val_acc: 0.9333\n",
      "Epoch 22/100\n",
      "56/56 [==============================] - 1s - loss: 0.0044 - acc: 1.0000 - val_loss: 0.0695 - val_acc: 0.9333\n",
      "Epoch 23/100\n",
      "56/56 [==============================] - 1s - loss: 0.0030 - acc: 1.0000 - val_loss: 0.0589 - val_acc: 0.9333\n",
      "Epoch 24/100\n",
      "56/56 [==============================] - 1s - loss: 0.0048 - acc: 1.0000 - val_loss: 0.0601 - val_acc: 0.9333\n",
      "Epoch 25/100\n",
      "56/56 [==============================] - 1s - loss: 0.0030 - acc: 1.0000 - val_loss: 0.0572 - val_acc: 0.9333\n",
      "Epoch 26/100\n",
      "56/56 [==============================] - 1s - loss: 0.0113 - acc: 0.9821 - val_loss: 0.0675 - val_acc: 0.9333\n",
      "Epoch 27/100\n",
      "56/56 [==============================] - 1s - loss: 0.0014 - acc: 1.0000 - val_loss: 0.0676 - val_acc: 0.9333\n",
      "Epoch 28/100\n",
      "56/56 [==============================] - 1s - loss: 0.0032 - acc: 1.0000 - val_loss: 0.0626 - val_acc: 0.9333\n",
      "Epoch 29/100\n",
      "56/56 [==============================] - 1s - loss: 0.0010 - acc: 1.0000 - val_loss: 0.0590 - val_acc: 0.9333\n",
      "Epoch 30/100\n",
      "56/56 [==============================] - 2s - loss: 0.0041 - acc: 1.0000 - val_loss: 0.0662 - val_acc: 0.9333\n",
      "Epoch 31/100\n",
      "56/56 [==============================] - 2s - loss: 4.7366e-04 - acc: 1.0000 - val_loss: 0.0686 - val_acc: 0.9333\n",
      "Epoch 32/100\n",
      "56/56 [==============================] - 2s - loss: 0.0011 - acc: 1.0000 - val_loss: 0.0668 - val_acc: 0.9333\n",
      "Epoch 33/100\n",
      "56/56 [==============================] - 2s - loss: 3.3208e-04 - acc: 1.0000 - val_loss: 0.0657 - val_acc: 0.9333\n",
      "Epoch 34/100\n",
      "56/56 [==============================] - 2s - loss: 7.3861e-04 - acc: 1.0000 - val_loss: 0.0641 - val_acc: 0.9333\n",
      "Epoch 35/100\n",
      "56/56 [==============================] - 2s - loss: 2.9052e-04 - acc: 1.0000 - val_loss: 0.0636 - val_acc: 0.9333\n",
      "Epoch 36/100\n",
      "56/56 [==============================] - 2s - loss: 3.7180e-04 - acc: 1.0000 - val_loss: 0.0639 - val_acc: 0.9333\n",
      "Epoch 37/100\n",
      "56/56 [==============================] - 2s - loss: 1.3414e-04 - acc: 1.0000 - val_loss: 0.0640 - val_acc: 0.9333\n",
      "Epoch 38/100\n",
      "56/56 [==============================] - 2s - loss: 7.2439e-04 - acc: 1.0000 - val_loss: 0.0654 - val_acc: 0.9333\n",
      "Epoch 39/100\n",
      "56/56 [==============================] - 2s - loss: 3.4238e-04 - acc: 1.0000 - val_loss: 0.0666 - val_acc: 0.9333\n",
      "Epoch 40/100\n",
      "56/56 [==============================] - 2s - loss: 4.3106e-04 - acc: 1.0000 - val_loss: 0.0664 - val_acc: 0.9333\n",
      "Epoch 41/100\n",
      "56/56 [==============================] - 2s - loss: 4.8137e-04 - acc: 1.0000 - val_loss: 0.0665 - val_acc: 0.9333\n",
      "Epoch 42/100\n",
      "56/56 [==============================] - 2s - loss: 1.5028e-04 - acc: 1.0000 - val_loss: 0.0664 - val_acc: 0.9333\n",
      "Epoch 43/100\n",
      "56/56 [==============================] - 2s - loss: 4.9075e-04 - acc: 1.0000 - val_loss: 0.0657 - val_acc: 0.9333\n",
      "Epoch 44/100\n",
      "56/56 [==============================] - 2s - loss: 5.3841e-04 - acc: 1.0000 - val_loss: 0.0661 - val_acc: 0.9333\n",
      "Epoch 45/100\n",
      "56/56 [==============================] - 2s - loss: 2.9007e-04 - acc: 1.0000 - val_loss: 0.0660 - val_acc: 0.9333\n",
      "Epoch 46/100\n",
      "56/56 [==============================] - 2s - loss: 1.3497e-04 - acc: 1.0000 - val_loss: 0.0658 - val_acc: 0.9333\n",
      "Epoch 47/100\n",
      "56/56 [==============================] - 2s - loss: 4.4542e-04 - acc: 1.0000 - val_loss: 0.0659 - val_acc: 0.9333\n",
      "Epoch 48/100\n",
      "56/56 [==============================] - 2s - loss: 7.5986e-04 - acc: 1.0000 - val_loss: 0.0669 - val_acc: 0.9333\n",
      "Epoch 49/100\n",
      "56/56 [==============================] - 2s - loss: 2.7740e-04 - acc: 1.0000 - val_loss: 0.0675 - val_acc: 0.9333\n",
      "Epoch 50/100\n",
      "56/56 [==============================] - 2s - loss: 2.8763e-04 - acc: 1.0000 - val_loss: 0.0673 - val_acc: 0.9333\n",
      "Epoch 51/100\n",
      "56/56 [==============================] - 2s - loss: 8.4123e-04 - acc: 1.0000 - val_loss: 0.0651 - val_acc: 0.9333\n",
      "Epoch 52/100\n",
      "56/56 [==============================] - 2s - loss: 2.3872e-04 - acc: 1.0000 - val_loss: 0.0640 - val_acc: 0.9333\n",
      "Epoch 53/100\n",
      "56/56 [==============================] - 2s - loss: 4.4039e-04 - acc: 1.0000 - val_loss: 0.0645 - val_acc: 0.9333\n",
      "Epoch 54/100\n",
      "56/56 [==============================] - 2s - loss: 7.3630e-04 - acc: 1.0000 - val_loss: 0.0658 - val_acc: 0.9333\n",
      "Epoch 55/100\n",
      "56/56 [==============================] - 2s - loss: 1.4702e-04 - acc: 1.0000 - val_loss: 0.0666 - val_acc: 0.9333\n",
      "Epoch 56/100\n",
      "56/56 [==============================] - 2s - loss: 3.4374e-04 - acc: 1.0000 - val_loss: 0.0678 - val_acc: 0.9333\n",
      "Epoch 57/100\n",
      "56/56 [==============================] - 1s - loss: 2.2354e-04 - acc: 1.0000 - val_loss: 0.0680 - val_acc: 0.9333\n",
      "Epoch 58/100\n",
      "56/56 [==============================] - 1s - loss: 3.0849e-04 - acc: 1.0000 - val_loss: 0.0678 - val_acc: 0.9333\n",
      "Epoch 59/100\n",
      "56/56 [==============================] - 2s - loss: 6.1043e-04 - acc: 1.0000 - val_loss: 0.0670 - val_acc: 0.9333\n",
      "Epoch 60/100\n",
      "56/56 [==============================] - 1s - loss: 3.0101e-04 - acc: 1.0000 - val_loss: 0.0661 - val_acc: 0.9333\n",
      "Epoch 61/100\n",
      "56/56 [==============================] - 1s - loss: 3.0523e-05 - acc: 1.0000 - val_loss: 0.0656 - val_acc: 0.9333\n",
      "Epoch 62/100\n",
      "56/56 [==============================] - 1s - loss: 4.2938e-05 - acc: 1.0000 - val_loss: 0.0653 - val_acc: 0.9333\n",
      "Epoch 63/100\n",
      "56/56 [==============================] - 1s - loss: 1.5133e-04 - acc: 1.0000 - val_loss: 0.0651 - val_acc: 0.9333\n",
      "Epoch 64/100\n",
      "56/56 [==============================] - 1s - loss: 5.4701e-04 - acc: 1.0000 - val_loss: 0.0653 - val_acc: 0.9333\n",
      "Epoch 65/100\n",
      "56/56 [==============================] - 1s - loss: 3.1786e-04 - acc: 1.0000 - val_loss: 0.0658 - val_acc: 0.9333\n",
      "Epoch 66/100\n",
      "56/56 [==============================] - 1s - loss: 2.4987e-04 - acc: 1.0000 - val_loss: 0.0659 - val_acc: 0.9333\n",
      "Epoch 67/100\n",
      "56/56 [==============================] - 1s - loss: 5.8458e-05 - acc: 1.0000 - val_loss: 0.0661 - val_acc: 0.9333\n",
      "Epoch 68/100\n",
      "56/56 [==============================] - 1s - loss: 1.9942e-05 - acc: 1.0000 - val_loss: 0.0662 - val_acc: 0.9333\n",
      "Epoch 69/100\n",
      "56/56 [==============================] - 1s - loss: 6.3920e-04 - acc: 1.0000 - val_loss: 0.0668 - val_acc: 0.9333\n",
      "Epoch 70/100\n",
      "56/56 [==============================] - 1s - loss: 1.6975e-04 - acc: 1.0000 - val_loss: 0.0671 - val_acc: 0.9333\n",
      "Epoch 71/100\n",
      "56/56 [==============================] - 1s - loss: 2.0325e-04 - acc: 1.0000 - val_loss: 0.0669 - val_acc: 0.9333\n",
      "Epoch 72/100\n",
      "56/56 [==============================] - 1s - loss: 1.8962e-04 - acc: 1.0000 - val_loss: 0.0665 - val_acc: 0.9333\n",
      "Epoch 73/100\n",
      "56/56 [==============================] - 1s - loss: 5.5829e-05 - acc: 1.0000 - val_loss: 0.0664 - val_acc: 0.9333\n",
      "Epoch 74/100\n",
      "56/56 [==============================] - 2s - loss: 2.3886e-04 - acc: 1.0000 - val_loss: 0.0660 - val_acc: 0.9333\n",
      "Epoch 75/100\n",
      "56/56 [==============================] - 1s - loss: 4.4660e-04 - acc: 1.0000 - val_loss: 0.0664 - val_acc: 0.9333\n",
      "Epoch 76/100\n",
      "56/56 [==============================] - 1s - loss: 8.5557e-05 - acc: 1.0000 - val_loss: 0.0668 - val_acc: 0.9333\n",
      "Epoch 77/100\n",
      "56/56 [==============================] - 1s - loss: 2.7357e-04 - acc: 1.0000 - val_loss: 0.0666 - val_acc: 0.9333\n",
      "Epoch 78/100\n",
      "56/56 [==============================] - 1s - loss: 1.3744e-04 - acc: 1.0000 - val_loss: 0.0665 - val_acc: 0.9333\n",
      "Epoch 79/100\n",
      "56/56 [==============================] - 1s - loss: 1.1852e-04 - acc: 1.0000 - val_loss: 0.0663 - val_acc: 0.9333\n",
      "Epoch 80/100\n",
      "56/56 [==============================] - 1s - loss: 5.5111e-04 - acc: 1.0000 - val_loss: 0.0659 - val_acc: 0.9333\n",
      "Epoch 81/100\n",
      "56/56 [==============================] - 3s - loss: 4.8669e-05 - acc: 1.0000 - val_loss: 0.0656 - val_acc: 0.9333\n",
      "Epoch 82/100\n",
      "56/56 [==============================] - 1s - loss: 1.3594e-04 - acc: 1.0000 - val_loss: 0.0655 - val_acc: 0.9333\n",
      "Epoch 83/100\n",
      "56/56 [==============================] - 1s - loss: 8.8162e-05 - acc: 1.0000 - val_loss: 0.0655 - val_acc: 0.9333\n",
      "Epoch 84/100\n",
      "56/56 [==============================] - 1s - loss: 3.6823e-05 - acc: 1.0000 - val_loss: 0.0655 - val_acc: 0.9333\n",
      "Epoch 85/100\n",
      "56/56 [==============================] - 1s - loss: 1.8554e-04 - acc: 1.0000 - val_loss: 0.0656 - val_acc: 0.9333\n",
      "Epoch 86/100\n",
      "56/56 [==============================] - 1s - loss: 2.0215e-04 - acc: 1.0000 - val_loss: 0.0658 - val_acc: 0.9333\n",
      "Epoch 87/100\n",
      "56/56 [==============================] - 1s - loss: 6.7562e-05 - acc: 1.0000 - val_loss: 0.0658 - val_acc: 0.9333\n",
      "Epoch 88/100\n",
      "56/56 [==============================] - 2s - loss: 5.7469e-05 - acc: 1.0000 - val_loss: 0.0659 - val_acc: 0.9333\n",
      "Epoch 89/100\n",
      "56/56 [==============================] - 1s - loss: 2.3527e-05 - acc: 1.0000 - val_loss: 0.0659 - val_acc: 0.9333\n",
      "Epoch 90/100\n",
      "56/56 [==============================] - 2s - loss: 4.4890e-05 - acc: 1.0000 - val_loss: 0.0660 - val_acc: 0.9333\n",
      "Epoch 91/100\n",
      "56/56 [==============================] - 1s - loss: 5.3069e-05 - acc: 1.0000 - val_loss: 0.0660 - val_acc: 0.9333\n",
      "Epoch 92/100\n",
      "56/56 [==============================] - 1s - loss: 2.4264e-04 - acc: 1.0000 - val_loss: 0.0663 - val_acc: 0.9333\n",
      "Epoch 93/100\n",
      "56/56 [==============================] - 2s - loss: 1.5928e-04 - acc: 1.0000 - val_loss: 0.0666 - val_acc: 0.9333\n",
      "Epoch 94/100\n",
      "56/56 [==============================] - 2s - loss: 4.0426e-05 - acc: 1.0000 - val_loss: 0.0667 - val_acc: 0.9333\n",
      "Epoch 95/100\n",
      "56/56 [==============================] - 2s - loss: 3.3366e-05 - acc: 1.0000 - val_loss: 0.0669 - val_acc: 0.9333\n",
      "Epoch 96/100\n",
      "56/56 [==============================] - 2s - loss: 4.0874e-05 - acc: 1.0000 - val_loss: 0.0671 - val_acc: 0.9333\n",
      "Epoch 97/100\n",
      "56/56 [==============================] - 2s - loss: 2.3802e-04 - acc: 1.0000 - val_loss: 0.0668 - val_acc: 0.9333\n",
      "Epoch 98/100\n",
      "56/56 [==============================] - 2s - loss: 1.9445e-04 - acc: 1.0000 - val_loss: 0.0663 - val_acc: 0.9333\n",
      "Epoch 99/100\n",
      "56/56 [==============================] - 2s - loss: 1.7816e-04 - acc: 1.0000 - val_loss: 0.0659 - val_acc: 0.9333\n",
      "Epoch 100/100\n",
      "56/56 [==============================] - 2s - loss: 4.4316e-05 - acc: 1.0000 - val_loss: 0.0655 - val_acc: 0.9333\n",
      "Wall time: 3min 32s\n"
     ]
    }
   ],
   "source": [
    "%time hist2 = model2.fit(np.array(x_tr2), y_tr2, nb_epoch=100 , batch_size=36 ,validation_split=0.2, show_accuracy=True , shuffle=True)"
   ]
  },
  {
   "cell_type": "code",
   "execution_count": null,
   "metadata": {
    "collapsed": true
   },
   "outputs": [],
   "source": []
  },
  {
   "cell_type": "code",
   "execution_count": 30,
   "metadata": {
    "collapsed": false
   },
   "outputs": [
    {
     "data": {
      "text/plain": [
       "[<matplotlib.lines.Line2D at 0x4436e240>]"
      ]
     },
     "execution_count": 30,
     "metadata": {},
     "output_type": "execute_result"
    },
    {
     "data": {
      "image/png": "[encoded data removed]",
      "text/plain": [
       "<matplotlib.figure.Figure at 0x44112828>"
      ]
     },
     "metadata": {},
     "output_type": "display_data"
    }
   ],
   "source": [
    "plt.plot(hist2.history['loss'])"
   ]
  },
  {
   "cell_type": "code",
   "execution_count": 28,
   "metadata": {
    "collapsed": false,
    "scrolled": false
   },
   "outputs": [
    {
     "data": {
      "text/plain": [
       "[<matplotlib.lines.Line2D at 0x391e9630>]"
      ]
     },
     "execution_count": 28,
     "metadata": {},
     "output_type": "execute_result"
    },
    {
     "data": {
      "image/png": "[encoded data removed]",
      "text/plain": [
       "<matplotlib.figure.Figure at 0x3d3abe80>"
      ]
     },
     "metadata": {},
     "output_type": "display_data"
    }
   ],
   "source": [
    "plt.plot(hist2.history['acc'])"
   ]
  },
  {
   "cell_type": "code",
   "execution_count": 29,
   "metadata": {
    "collapsed": false
   },
   "outputs": [
    {
     "data": {
      "text/plain": [
       "[<matplotlib.lines.Line2D at 0x440f8da0>]"
      ]
     },
     "execution_count": 29,
     "metadata": {},
     "output_type": "execute_result"
    },
    {
     "data": {
      "image/png": "[encoded data removed]",
      "text/plain": [
       "<matplotlib.figure.Figure at 0x3d3abb70>"
      ]
     },
     "metadata": {},
     "output_type": "display_data"
    }
   ],
   "source": [
    "plt.plot(hist2.history['val_acc'])"
   ]
  },
  {
   "cell_type": "code",
   "execution_count": 31,
   "metadata": {
    "collapsed": true
   },
   "outputs": [],
   "source": [
    "from sklearn.metrics import classification_report"
   ]
  },
  {
   "cell_type": "code",
   "execution_count": 74,
   "metadata": {
    "collapsed": false
   },
   "outputs": [],
   "source": [
    "m2_wegh =  model2.get_weights()"
   ]
  },
  {
   "cell_type": "code",
   "execution_count": 95,
   "metadata": {
    "collapsed": false
   },
   "outputs": [
    {
     "name": "stdout",
     "output_type": "stream",
     "text": [
      "--------------------------------------------------------------------------------\n",
      "Initial input shape: (None, 1, 50, 50)\n",
      "--------------------------------------------------------------------------------\n",
      "Layer (name)                  Output Shape                  Param #             \n",
      "--------------------------------------------------------------------------------\n",
      "mod.cu\n",
      "\n",
      "['nvcc', '-shared', '-O3', '--use-local-env', '--cl-version=2013', '-arch=sm_50', '-Xlinker', '/DEBUG', '-D HAVE_ROUND', '-m64', '-Xcompiler', '-DCUDA_NDARRAY_CUH=18715462c72ed6afcd7ca5d52813ce90,-DNPY_NO_DEPRECATED_API=NPY_1_7_API_VERSION,/Zi,/MD', '-IC:\\\\Users\\\\Back_jud\\\\AppData\\\\Local\\\\Theano\\\\compiledir_Windows-10-10.0.10586-Intel64_Family_6_Model_60_Stepping_3_GenuineIntel-2.7.11-64\\\\cuda_ndarray', '-IC:\\\\Users\\\\Back_jud\\\\Anaconda2\\\\lib\\\\site-packages\\\\numpy\\\\core\\\\include', '-IC:\\\\Users\\\\Back_jud\\\\Anaconda2\\\\include', '-IC:\\\\Users\\\\Back_jud\\\\Anaconda2\\\\lib\\\\site-packages\\\\theano\\\\gof', '-IC:\\\\Users\\\\Back_jud\\\\Anaconda2\\\\lib\\\\site-packages\\\\theano\\\\sandbox\\\\cuda', '-o', 'C:\\\\Users\\\\Back_jud\\\\AppData\\\\Local\\\\Theano\\\\compiledir_Windows-10-10.0.10586-Intel64_Family_6_Model_60_Stepping_3_GenuineIntel-2.7.11-64\\\\tmpjk4iqe\\\\afbaa7b36dd6451ec278a6e6338d23a7.pyd', 'mod.cu', '-LC:\\\\Users\\\\Back_jud\\\\AppData\\\\Local\\\\Theano\\\\compiledir_Windows-10-10.0.10586-Intel64_Family_6_Model_60_Stepping_3_GenuineIntel-2.7.11-64\\\\cuda_ndarray', '-LC:\\\\Users\\\\Back_jud\\\\Anaconda2\\\\libs', '-LC:\\\\Users\\\\Back_jud\\\\Anaconda2', '-lcudart', '-lcublas', '-lcuda_ndarray', '-lpython27']\n"
     ]
    },
    {
     "name": "stderr",
     "output_type": "stream",
     "text": [
      "1 #include <Python.h>\n",
      "2 #include <iostream>\n",
      "3 #include \"theano_mod_helper.h\"\n",
      "4 #include <math.h>\n",
      "5 #include <numpy/arrayobject.h>\n",
      "6 #include <numpy/arrayscalars.h>\n",
      "7 #include \"cuda_ndarray.cuh\"\n",
      "8 //////////////////////\n",
      "9 ////  Support Code\n",
      "10 //////////////////////\n",
      "11 \n",
      "12 \n",
      "13     namespace {\n",
      "14     struct __struct_compiled_op_afbaa7b36dd6451ec278a6e6338d23a7 {\n",
      "15         PyObject* __ERROR;\n",
      "16 \n",
      "17         PyObject* storage_V3;\n",
      "18 PyObject* storage_V1;\n",
      "19         \n",
      "20 \n",
      "21         __struct_compiled_op_afbaa7b36dd6451ec278a6e6338d23a7() {\n",
      "22             // This is only somewhat safe because we:\n",
      "23             //  1) Are not a virtual class\n",
      "24             //  2) Do not use any virtual classes in the members\n",
      "25             //  3) Deal with mostly POD and pointers\n",
      "26 \n",
      "27             // If this changes, we would have to revise this, but for\n",
      "28             // now I am tired of chasing segfaults because\n",
      "29             // initialization code had an error and some pointer has\n",
      "30             // a junk value.\n",
      "31             memset(this, 0, sizeof(*this));\n",
      "32         }\n",
      "33         ~__struct_compiled_op_afbaa7b36dd6451ec278a6e6338d23a7(void) {\n",
      "34             cleanup();\n",
      "35         }\n",
      "36 \n",
      "37         int init(PyObject* __ERROR, PyObject* storage_V3, PyObject* storage_V1) {\n",
      "38             Py_XINCREF(storage_V3);\n",
      "39 Py_XINCREF(storage_V1);\n",
      "40             this->storage_V3 = storage_V3;\n",
      "41 this->storage_V1 = storage_V1;\n",
      "42             \n",
      "43 \n",
      "44 \n",
      "45 \n",
      "46             this->__ERROR = __ERROR;\n",
      "47             return 0;\n",
      "48         }\n",
      "49         void cleanup(void) {\n",
      "50             __label_1:\n",
      "51 \n",
      "52 double __DUMMY_1;\n",
      "53 __label_3:\n",
      "54 \n",
      "55 double __DUMMY_3;\n",
      "56 __label_6:\n",
      "57 \n",
      "58 double __DUMMY_6;\n",
      "59 \n",
      "60             Py_XDECREF(this->storage_V3);\n",
      "61 Py_XDECREF(this->storage_V1);\n",
      "62         }\n",
      "63         int run(void) {\n",
      "64             int __failure = 0;\n",
      "65             \n",
      "66     PyObject* py_V1;\n",
      "67     \n",
      "68         PyArrayObject* V1;\n",
      "69         \n",
      "70     PyObject* py_V3;\n",
      "71      CudaNdarray * V3;\n",
      "72 {\n",
      "73 \n",
      "74     py_V1 = PyList_GET_ITEM(storage_V1, 0);\n",
      "75     {Py_XINCREF(py_V1);}\n",
      "76     \n",
      "77         if (py_V1 == Py_None)\n",
      "78         {\n",
      "79             \n",
      "80         V1 = NULL;\n",
      "81         \n",
      "82         }\n",
      "83         else\n",
      "84         {\n",
      "85             \n",
      "86         V1 = (PyArrayObject*)(py_V1);\n",
      "87         Py_XINCREF(V1);\n",
      "88         \n",
      "89         }\n",
      "90         \n",
      "91 {\n",
      "92 \n",
      "93     py_V3 = PyList_GET_ITEM(storage_V3, 0);\n",
      "94     {Py_XINCREF(py_V3);}\n",
      "95     \n",
      "96         assert(py_V3->ob_refcnt >= 2); // There should be at least one ref from the container object,\n",
      "97         // and one ref from the local scope.\n",
      "98 \n",
      "99         if (CudaNdarray_Check(py_V3))\n",
      "100         {\n",
      "101             //fprintf(stderr, \"c_extract CNDA object w refcnt %p %i\\n\", py_V3, (py_V3->ob_refcnt));\n",
      "102             V3 = (CudaNdarray*)py_V3;\n",
      "103             //std::cerr << \"c_extract \" << V3 << '\\n';\n",
      "104         \n",
      "105 \n",
      "106                 assert(V3);\n",
      "107                 Py_INCREF(py_V3);\n",
      "108             }\n",
      "109             \n",
      "110 \n",
      "111 {\n",
      "112 // Op class Shape_i\n",
      "113 \n",
      "114     if (3>=CudaNdarray_NDIM(V3)){\n",
      "115         PyErr_SetString(PyExc_TypeError,\n",
      "116             \"Number of dimensions lower than expected\");\n",
      "117         {\n",
      "118         __failure = 5;\n",
      "119         if (!PyErr_Occurred()) {\n",
      "120             PyErr_SetString(PyExc_RuntimeError,\n",
      "121                 \"Unexpected error in an Op's C code. \"\n",
      "122                 \"No Python exception was set.\");\n",
      "123             }\n",
      "124         goto __label_5;}\n",
      "125     }\n",
      "126     \n",
      "127     if(!V1)\n",
      "128         V1=(PyArrayObject*)PyArray_ZEROS(0, NULL, NPY_INT64, 0);\n",
      "129     ((npy_int64*)PyArray_DATA(V1))[0] =\n",
      "130                               CudaNdarray_HOST_DIMS(V3)[3];\n",
      "131     __label_5:\n",
      "132 \n",
      "133 double __DUMMY_5;\n",
      "134 \n",
      "135 }\n",
      "136 __label_4:\n",
      "137 \n",
      "138         //std::cerr << \"cleanup \" << py_V3 << \" \" << V3 << \"\\n\";\n",
      "139         //fprintf(stderr, \"c_cleanup CNDA py_object w refcnt %p %i\\n\", py_V3, (py_V3->ob_refcnt));\n",
      "140         if (V3)\n",
      "141         {\n",
      "142             //fprintf(stderr, \"c_cleanup CNDA cn_object w refcnt %p %i\\n\", V3, (V3->ob_refcnt));\n",
      "143             Py_XDECREF(V3);\n",
      "144         }\n",
      "145         //std::cerr << \"cleanup done\" << py_V3 << \"\\n\";\n",
      "146         \n",
      "147     {Py_XDECREF(py_V3);}\n",
      "148     \n",
      "149 double __DUMMY_4;\n",
      "150 \n",
      "151 }\n",
      "152 __label_2:\n",
      "153 \n",
      "154     if (!__failure) {\n",
      "155       \n",
      "156         {Py_XDECREF(py_V1);}\n",
      "157         if (!V1) {\n",
      "158             Py_INCREF(Py_None);\n",
      "159             py_V1 = Py_None;\n",
      "160         }\n",
      "161         else if ((void*)py_V1 != (void*)V1) {\n",
      "162             py_V1 = (PyObject*)V1;\n",
      "163         }\n",
      "164 \n",
      "165         {Py_XINCREF(py_V1);}\n",
      "166 \n",
      "167         if (V1 && !PyArray_ISALIGNED((PyArrayObject*) py_V1)) {\n",
      "168             PyErr_Format(PyExc_NotImplementedError,\n",
      "169                          \"c_sync: expected an aligned array, got non-aligned array of type %ld\"\n",
      "170                          \" with %ld dimensions, with 3 last dims \"\n",
      "171                          \"%ld, %ld, %ld\"\n",
      "172                          \" and 3 last strides %ld %ld, %ld.\",\n",
      "173                          (long int) PyArray_TYPE((PyArrayObject*) py_V1),\n",
      "174                          (long int) PyArray_NDIM(V1),\n",
      "175                          (long int) PyArray_NDIM(V1) >= 3 ?\n",
      "176         PyArray_DIMS(V1)[PyArray_NDIM(V1)-3] : -1,\n",
      "177                          (long int) PyArray_NDIM(V1) >= 2 ?\n",
      "178         PyArray_DIMS(V1)[PyArray_NDIM(V1)-2] : -1,\n",
      "179                          (long int) PyArray_NDIM(V1) >= 1 ?\n",
      "180         PyArray_DIMS(V1)[PyArray_NDIM(V1)-1] : -1,\n",
      "181                          (long int) PyArray_NDIM(V1) >= 3 ?\n",
      "182         PyArray_STRIDES(V1)[PyArray_NDIM(V1)-3] : -1,\n",
      "183                          (long int) PyArray_NDIM(V1) >= 2 ?\n",
      "184         PyArray_STRIDES(V1)[PyArray_NDIM(V1)-2] : -1,\n",
      "185                          (long int) PyArray_NDIM(V1) >= 1 ?\n",
      "186         PyArray_STRIDES(V1)[PyArray_NDIM(V1)-1] : -1\n",
      "187         );\n",
      "188             {\n",
      "189         __failure = 2;\n",
      "190         if (!PyErr_Occurred()) {\n",
      "191             PyErr_SetString(PyExc_RuntimeError,\n",
      "192                 \"Unexpected error in an Op's C code. \"\n",
      "193                 \"No Python exception was set.\");\n",
      "194             }\n",
      "195         goto __label_2;}\n",
      "196         }\n",
      "197         \n",
      "198       PyObject* old = PyList_GET_ITEM(storage_V1, 0);\n",
      "199       {Py_XINCREF(py_V1);}\n",
      "200       PyList_SET_ITEM(storage_V1, 0, py_V1);\n",
      "201       {Py_XDECREF(old);}\n",
      "202     }\n",
      "203     \n",
      "204         if (V1) {\n",
      "205             Py_XDECREF(V1);\n",
      "206         }\n",
      "207         \n",
      "208     {Py_XDECREF(py_V1);}\n",
      "209     \n",
      "210 double __DUMMY_2;\n",
      "211 \n",
      "212 }\n",
      "213 \n",
      "214             \n",
      "215         if (__failure) {\n",
      "216             // When there is a failure, this code puts the exception\n",
      "217             // in __ERROR.\n",
      "218             PyObject* err_type = NULL;\n",
      "219             PyObject* err_msg = NULL;\n",
      "220             PyObject* err_traceback = NULL;\n",
      "221             PyErr_Fetch(&err_type, &err_msg, &err_traceback);\n",
      "222             if (!err_type) {err_type = Py_None;Py_INCREF(Py_None);}\n",
      "223             if (!err_msg) {err_msg = Py_None; Py_INCREF(Py_None);}\n",
      "224             if (!err_traceback) {err_traceback = Py_None; Py_INCREF(Py_None);}\n",
      "225             PyObject* old_err_type = PyList_GET_ITEM(__ERROR, 0);\n",
      "226             PyObject* old_err_msg = PyList_GET_ITEM(__ERROR, 1);\n",
      "227             PyObject* old_err_traceback = PyList_GET_ITEM(__ERROR, 2);\n",
      "228             PyList_SET_ITEM(__ERROR, 0, err_type);\n",
      "229             PyList_SET_ITEM(__ERROR, 1, err_msg);\n",
      "230             PyList_SET_ITEM(__ERROR, 2, err_traceback);\n",
      "231             {Py_XDECREF(old_err_type);}\n",
      "232             {Py_XDECREF(old_err_msg);}\n",
      "233             {Py_XDECREF(old_err_traceback);}\n",
      "234         }\n",
      "235         // The failure code is returned to index what code block failed.\n",
      "236         return __failure;\n",
      "237         \n",
      "238         }\n",
      "239     };\n",
      "240     }\n",
      "241     \n",
      "242 \n",
      "243         static int __struct_compiled_op_afbaa7b36dd6451ec278a6e6338d23a7_executor(__struct_compiled_op_afbaa7b36dd6451ec278a6e6338d23a7* self) {\n",
      "244             return self->run();\n",
      "245         }\n",
      "246 \n",
      "247         static void __struct_compiled_op_afbaa7b36dd6451ec278a6e6338d23a7_destructor(void* executor, void* self) {\n",
      "248             delete ((__struct_compiled_op_afbaa7b36dd6451ec278a6e6338d23a7*)self);\n",
      "249         }\n",
      "250         \n",
      "251 //////////////////////\n",
      "252 ////  Functions\n",
      "253 //////////////////////\n",
      "254 static PyObject * instantiate(PyObject * self, PyObject *argtuple) {\n",
      "255   assert(PyTuple_Check(argtuple));\n",
      "256   if (3 != PyTuple_Size(argtuple)){ \n",
      "257      PyErr_Format(PyExc_TypeError, \"Wrong number of arguments, expected 3, got %i\", (int)PyTuple_Size(argtuple));\n",
      "258      return NULL;\n",
      "259   }\n",
      "260   __struct_compiled_op_afbaa7b36dd6451ec278a6e6338d23a7* struct_ptr = new __struct_compiled_op_afbaa7b36dd6451ec278a6e6338d23a7();\n",
      "261   if (struct_ptr->init( PyTuple_GET_ITEM(argtuple, 0),PyTuple_GET_ITEM(argtuple, 1),PyTuple_GET_ITEM(argtuple, 2) ) != 0) {\n",
      "262     delete struct_ptr;\n",
      "263     return NULL;\n",
      "264   }\n",
      "265   PyObject* thunk = PyCObject_FromVoidPtrAndDesc((void*)(&__struct_compiled_op_afbaa7b36dd6451ec278a6e6338d23a7_executor), struct_ptr, __struct_compiled_op_afbaa7b36dd6451ec278a6e6338d23a7_destructor);\n",
      "266   return thunk; }\n",
      "267 \n",
      "268 //////////////////////\n",
      "269 ////  Module init\n",
      "270 //////////////////////\n",
      "271 static PyMethodDef MyMethods[] = {\n",
      "272 \t{\"instantiate\", instantiate, METH_VARARGS, \"undocumented\"} ,\n",
      "273 \t{NULL, NULL, 0, NULL}\n",
      "274 };\n",
      "275 PyMODINIT_FUNC initafbaa7b36dd6451ec278a6e6338d23a7(void){\n",
      "276    import_array();\n",
      "277    (void) Py_InitModule(\"afbaa7b36dd6451ec278a6e6338d23a7\", MyMethods);\n",
      "278 }\n",
      "279 \n",
      "===============================\n",
      "d:\\program file\\lean\\include\\host_config.h(191) : fatal error C1083: Cannot open include file: 'crtdefs.h': No such file or directory\r\n"
     ]
    },
    {
     "ename": "Exception",
     "evalue": "('The following error happened while compiling the node', Shape_i{3}(<CudaNdarrayType(float32, 4D)>), '\\n', 'nvcc return status', 2, 'for cmd', 'nvcc -shared -O3 --use-local-env --cl-version=2013 -arch=sm_50 -Xlinker /DEBUG -D HAVE_ROUND -m64 -Xcompiler -DCUDA_NDARRAY_CUH=18715462c72ed6afcd7ca5d52813ce90,-DNPY_NO_DEPRECATED_API=NPY_1_7_API_VERSION,/Zi,/MD -IC:\\\\Users\\\\Back_jud\\\\AppData\\\\Local\\\\Theano\\\\compiledir_Windows-10-10.0.10586-Intel64_Family_6_Model_60_Stepping_3_GenuineIntel-2.7.11-64\\\\cuda_ndarray -IC:\\\\Users\\\\Back_jud\\\\Anaconda2\\\\lib\\\\site-packages\\\\numpy\\\\core\\\\include -IC:\\\\Users\\\\Back_jud\\\\Anaconda2\\\\include -IC:\\\\Users\\\\Back_jud\\\\Anaconda2\\\\lib\\\\site-packages\\\\theano\\\\gof -IC:\\\\Users\\\\Back_jud\\\\Anaconda2\\\\lib\\\\site-packages\\\\theano\\\\sandbox\\\\cuda -o C:\\\\Users\\\\Back_jud\\\\AppData\\\\Local\\\\Theano\\\\compiledir_Windows-10-10.0.10586-Intel64_Family_6_Model_60_Stepping_3_GenuineIntel-2.7.11-64\\\\tmpjk4iqe\\\\afbaa7b36dd6451ec278a6e6338d23a7.pyd mod.cu -LC:\\\\Users\\\\Back_jud\\\\AppData\\\\Local\\\\Theano\\\\compiledir_Windows-10-10.0.10586-Intel64_Family_6_Model_60_Stepping_3_GenuineIntel-2.7.11-64\\\\cuda_ndarray -LC:\\\\Users\\\\Back_jud\\\\Anaconda2\\\\libs -LC:\\\\Users\\\\Back_jud\\\\Anaconda2 -lcudart -lcublas -lcuda_ndarray -lpython27', '[Shape_i{3}(<CudaNdarrayType(float32, 4D)>)]')",
     "output_type": "error",
     "traceback": [
      "\u001b[1;31m---------------------------------------------------------------------------\u001b[0m",
      "\u001b[1;31mException\u001b[0m                                 Traceback (most recent call last)",
      "\u001b[1;32m<ipython-input-95-112f58008490>\u001b[0m in \u001b[0;36m<module>\u001b[1;34m()\u001b[0m\n\u001b[1;32m----> 1\u001b[1;33m \u001b[0mmodel2\u001b[0m\u001b[1;33m.\u001b[0m\u001b[0msummary\u001b[0m\u001b[1;33m(\u001b[0m\u001b[1;33m)\u001b[0m\u001b[1;33m\u001b[0m\u001b[0m\n\u001b[0m",
      "\u001b[1;32mC:\\Users\\Back_jud\\Anaconda2\\lib\\site-packages\\keras\\models.pyc\u001b[0m in \u001b[0;36msummary\u001b[1;34m(self)\u001b[0m\n\u001b[0;32m    430\u001b[0m         \u001b[0minclude\u001b[0m \u001b[0mparameter\u001b[0m \u001b[0mcount\u001b[0m \u001b[0minformation\u001b[0m\u001b[1;33m.\u001b[0m\u001b[1;33m\u001b[0m\u001b[0m\n\u001b[0;32m    431\u001b[0m         '''\n\u001b[1;32m--> 432\u001b[1;33m         \u001b[0mmodel_summary\u001b[0m\u001b[1;33m(\u001b[0m\u001b[0mself\u001b[0m\u001b[1;33m)\u001b[0m\u001b[1;33m\u001b[0m\u001b[0m\n\u001b[0m\u001b[0;32m    433\u001b[0m \u001b[1;33m\u001b[0m\u001b[0m\n\u001b[0;32m    434\u001b[0m \u001b[1;33m\u001b[0m\u001b[0m\n",
      "\u001b[1;32mC:\\Users\\Back_jud\\Anaconda2\\lib\\site-packages\\keras\\utils\\layer_utils.pyc\u001b[0m in \u001b[0;36mmodel_summary\u001b[1;34m(model)\u001b[0m\n\u001b[0;32m    131\u001b[0m         \u001b[1;32mfor\u001b[0m \u001b[0mlayer\u001b[0m \u001b[1;32min\u001b[0m \u001b[0mmodel\u001b[0m\u001b[1;33m.\u001b[0m\u001b[0mlayers\u001b[0m\u001b[1;33m:\u001b[0m\u001b[1;33m\u001b[0m\u001b[0m\n\u001b[0;32m    132\u001b[0m             \u001b[0mname\u001b[0m \u001b[1;33m=\u001b[0m \u001b[0mgetattr\u001b[0m\u001b[1;33m(\u001b[0m\u001b[0mlayer\u001b[0m\u001b[1;33m,\u001b[0m \u001b[1;34m'name'\u001b[0m\u001b[1;33m,\u001b[0m \u001b[1;34m'Unnamed'\u001b[0m\u001b[1;33m)\u001b[0m\u001b[1;33m\u001b[0m\u001b[0m\n\u001b[1;32m--> 133\u001b[1;33m             \u001b[0mdisplay_layer_info\u001b[0m\u001b[1;33m(\u001b[0m\u001b[0mlayer\u001b[0m\u001b[1;33m,\u001b[0m \u001b[0mname\u001b[0m\u001b[1;33m,\u001b[0m \u001b[0mpositions\u001b[0m\u001b[1;33m)\u001b[0m\u001b[1;33m\u001b[0m\u001b[0m\n\u001b[0m\u001b[0;32m    134\u001b[0m             \u001b[0mparam_count\u001b[0m \u001b[1;33m+=\u001b[0m \u001b[0mlayer\u001b[0m\u001b[1;33m.\u001b[0m\u001b[0mcount_params\u001b[0m\u001b[1;33m(\u001b[0m\u001b[1;33m)\u001b[0m\u001b[1;33m\u001b[0m\u001b[0m\n\u001b[0;32m    135\u001b[0m \u001b[1;33m\u001b[0m\u001b[0m\n",
      "\u001b[1;32mC:\\Users\\Back_jud\\Anaconda2\\lib\\site-packages\\keras\\utils\\layer_utils.pyc\u001b[0m in \u001b[0;36mdisplay_layer_info\u001b[1;34m(layer, name, positions)\u001b[0m\n\u001b[0;32m    108\u001b[0m         \u001b[0mlayer_type\u001b[0m \u001b[1;33m=\u001b[0m \u001b[0mlayer\u001b[0m\u001b[1;33m.\u001b[0m\u001b[0m__class__\u001b[0m\u001b[1;33m.\u001b[0m\u001b[0m__name__\u001b[0m\u001b[1;33m\u001b[0m\u001b[0m\n\u001b[0;32m    109\u001b[0m         \u001b[0moutput_shape\u001b[0m \u001b[1;33m=\u001b[0m \u001b[0mlayer\u001b[0m\u001b[1;33m.\u001b[0m\u001b[0moutput_shape\u001b[0m\u001b[1;33m\u001b[0m\u001b[0m\n\u001b[1;32m--> 110\u001b[1;33m         \u001b[0mparams\u001b[0m \u001b[1;33m=\u001b[0m \u001b[0mlayer\u001b[0m\u001b[1;33m.\u001b[0m\u001b[0mcount_params\u001b[0m\u001b[1;33m(\u001b[0m\u001b[1;33m)\u001b[0m\u001b[1;33m\u001b[0m\u001b[0m\n\u001b[0m\u001b[0;32m    111\u001b[0m         \u001b[0mto_display\u001b[0m \u001b[1;33m=\u001b[0m \u001b[1;33m[\u001b[0m\u001b[1;34m'%s (%s)'\u001b[0m \u001b[1;33m%\u001b[0m \u001b[1;33m(\u001b[0m\u001b[0mlayer_type\u001b[0m\u001b[1;33m,\u001b[0m \u001b[0mname\u001b[0m\u001b[1;33m)\u001b[0m\u001b[1;33m,\u001b[0m \u001b[0moutput_shape\u001b[0m\u001b[1;33m,\u001b[0m \u001b[0mparams\u001b[0m\u001b[1;33m]\u001b[0m\u001b[1;33m\u001b[0m\u001b[0m\n\u001b[0;32m    112\u001b[0m         \u001b[0mdisplay\u001b[0m\u001b[1;33m(\u001b[0m\u001b[0mto_display\u001b[0m\u001b[1;33m,\u001b[0m \u001b[0mpositions\u001b[0m\u001b[1;33m)\u001b[0m\u001b[1;33m\u001b[0m\u001b[0m\n",
      "\u001b[1;32mC:\\Users\\Back_jud\\Anaconda2\\lib\\site-packages\\keras\\layers\\core.pyc\u001b[0m in \u001b[0;36mcount_params\u001b[1;34m(self)\u001b[0m\n\u001b[0;32m    289\u001b[0m         \u001b[0mcomposing\u001b[0m \u001b[0mthe\u001b[0m \u001b[0mweights\u001b[0m \u001b[0mof\u001b[0m \u001b[0mthe\u001b[0m \u001b[0mlayer\u001b[0m\u001b[1;33m.\u001b[0m\u001b[1;33m\u001b[0m\u001b[0m\n\u001b[0;32m    290\u001b[0m         '''\n\u001b[1;32m--> 291\u001b[1;33m         \u001b[1;32mreturn\u001b[0m \u001b[0msum\u001b[0m\u001b[1;33m(\u001b[0m\u001b[1;33m[\u001b[0m\u001b[0mK\u001b[0m\u001b[1;33m.\u001b[0m\u001b[0mcount_params\u001b[0m\u001b[1;33m(\u001b[0m\u001b[0mp\u001b[0m\u001b[1;33m)\u001b[0m \u001b[1;32mfor\u001b[0m \u001b[0mp\u001b[0m \u001b[1;32min\u001b[0m \u001b[0mself\u001b[0m\u001b[1;33m.\u001b[0m\u001b[0mtrainable_weights\u001b[0m\u001b[1;33m]\u001b[0m\u001b[1;33m)\u001b[0m\u001b[1;33m\u001b[0m\u001b[0m\n\u001b[0m\u001b[0;32m    292\u001b[0m \u001b[1;33m\u001b[0m\u001b[0m\n\u001b[0;32m    293\u001b[0m \u001b[1;33m\u001b[0m\u001b[0m\n",
      "\u001b[1;32mC:\\Users\\Back_jud\\Anaconda2\\lib\\site-packages\\keras\\backend\\theano_backend.pyc\u001b[0m in \u001b[0;36mcount_params\u001b[1;34m(x)\u001b[0m\n\u001b[0;32m     90\u001b[0m     \u001b[0mReturn\u001b[0m\u001b[1;33m:\u001b[0m \u001b[0mnumpy\u001b[0m \u001b[0minteger\u001b[0m\u001b[1;33m.\u001b[0m\u001b[1;33m\u001b[0m\u001b[0m\n\u001b[0;32m     91\u001b[0m     '''\n\u001b[1;32m---> 92\u001b[1;33m     \u001b[1;32mreturn\u001b[0m \u001b[0mnp\u001b[0m\u001b[1;33m.\u001b[0m\u001b[0mprod\u001b[0m\u001b[1;33m(\u001b[0m\u001b[0mx\u001b[0m\u001b[1;33m.\u001b[0m\u001b[0mshape\u001b[0m\u001b[1;33m.\u001b[0m\u001b[0meval\u001b[0m\u001b[1;33m(\u001b[0m\u001b[1;33m)\u001b[0m\u001b[1;33m)\u001b[0m\u001b[1;33m\u001b[0m\u001b[0m\n\u001b[0m\u001b[0;32m     93\u001b[0m \u001b[1;33m\u001b[0m\u001b[0m\n\u001b[0;32m     94\u001b[0m \u001b[1;33m\u001b[0m\u001b[0m\n",
      "\u001b[1;32mC:\\Users\\Back_jud\\Anaconda2\\lib\\site-packages\\theano\\gof\\graph.pyc\u001b[0m in \u001b[0;36meval\u001b[1;34m(self, inputs_to_values)\u001b[0m\n\u001b[0;32m    518\u001b[0m         \u001b[0minputs\u001b[0m \u001b[1;33m=\u001b[0m \u001b[0mtuple\u001b[0m\u001b[1;33m(\u001b[0m\u001b[0msorted\u001b[0m\u001b[1;33m(\u001b[0m\u001b[0minputs_to_values\u001b[0m\u001b[1;33m.\u001b[0m\u001b[0mkeys\u001b[0m\u001b[1;33m(\u001b[0m\u001b[1;33m)\u001b[0m\u001b[1;33m,\u001b[0m \u001b[0mkey\u001b[0m\u001b[1;33m=\u001b[0m\u001b[0mid\u001b[0m\u001b[1;33m)\u001b[0m\u001b[1;33m)\u001b[0m\u001b[1;33m\u001b[0m\u001b[0m\n\u001b[0;32m    519\u001b[0m         \u001b[1;32mif\u001b[0m \u001b[0minputs\u001b[0m \u001b[1;32mnot\u001b[0m \u001b[1;32min\u001b[0m \u001b[0mself\u001b[0m\u001b[1;33m.\u001b[0m\u001b[0m_fn_cache\u001b[0m\u001b[1;33m:\u001b[0m\u001b[1;33m\u001b[0m\u001b[0m\n\u001b[1;32m--> 520\u001b[1;33m             \u001b[0mself\u001b[0m\u001b[1;33m.\u001b[0m\u001b[0m_fn_cache\u001b[0m\u001b[1;33m[\u001b[0m\u001b[0minputs\u001b[0m\u001b[1;33m]\u001b[0m \u001b[1;33m=\u001b[0m \u001b[0mtheano\u001b[0m\u001b[1;33m.\u001b[0m\u001b[0mfunction\u001b[0m\u001b[1;33m(\u001b[0m\u001b[0minputs\u001b[0m\u001b[1;33m,\u001b[0m \u001b[0mself\u001b[0m\u001b[1;33m)\u001b[0m\u001b[1;33m\u001b[0m\u001b[0m\n\u001b[0m\u001b[0;32m    521\u001b[0m         \u001b[0margs\u001b[0m \u001b[1;33m=\u001b[0m \u001b[1;33m[\u001b[0m\u001b[0minputs_to_values\u001b[0m\u001b[1;33m[\u001b[0m\u001b[0mparam\u001b[0m\u001b[1;33m]\u001b[0m \u001b[1;32mfor\u001b[0m \u001b[0mparam\u001b[0m \u001b[1;32min\u001b[0m \u001b[0minputs\u001b[0m\u001b[1;33m]\u001b[0m\u001b[1;33m\u001b[0m\u001b[0m\n\u001b[0;32m    522\u001b[0m \u001b[1;33m\u001b[0m\u001b[0m\n",
      "\u001b[1;32mC:\\Users\\Back_jud\\Anaconda2\\lib\\site-packages\\theano\\compile\\function.pyc\u001b[0m in \u001b[0;36mfunction\u001b[1;34m(inputs, outputs, mode, updates, givens, no_default_updates, accept_inplace, name, rebuild_strict, allow_input_downcast, profile, on_unused_input)\u001b[0m\n\u001b[0;32m    318\u001b[0m                    \u001b[0mon_unused_input\u001b[0m\u001b[1;33m=\u001b[0m\u001b[0mon_unused_input\u001b[0m\u001b[1;33m,\u001b[0m\u001b[1;33m\u001b[0m\u001b[0m\n\u001b[0;32m    319\u001b[0m                    \u001b[0mprofile\u001b[0m\u001b[1;33m=\u001b[0m\u001b[0mprofile\u001b[0m\u001b[1;33m,\u001b[0m\u001b[1;33m\u001b[0m\u001b[0m\n\u001b[1;32m--> 320\u001b[1;33m                    output_keys=output_keys)\n\u001b[0m\u001b[0;32m    321\u001b[0m     \u001b[1;31m# We need to add the flag check_aliased inputs if we have any mutable or\u001b[0m\u001b[1;33m\u001b[0m\u001b[1;33m\u001b[0m\u001b[0m\n\u001b[0;32m    322\u001b[0m     \u001b[1;31m# borrowed used defined inputs\u001b[0m\u001b[1;33m\u001b[0m\u001b[1;33m\u001b[0m\u001b[0m\n",
      "\u001b[1;32mC:\\Users\\Back_jud\\Anaconda2\\lib\\site-packages\\theano\\compile\\pfunc.pyc\u001b[0m in \u001b[0;36mpfunc\u001b[1;34m(params, outputs, mode, updates, givens, no_default_updates, accept_inplace, name, rebuild_strict, allow_input_downcast, profile, on_unused_input, output_keys)\u001b[0m\n\u001b[0;32m    477\u001b[0m                          \u001b[0maccept_inplace\u001b[0m\u001b[1;33m=\u001b[0m\u001b[0maccept_inplace\u001b[0m\u001b[1;33m,\u001b[0m \u001b[0mname\u001b[0m\u001b[1;33m=\u001b[0m\u001b[0mname\u001b[0m\u001b[1;33m,\u001b[0m\u001b[1;33m\u001b[0m\u001b[0m\n\u001b[0;32m    478\u001b[0m                          \u001b[0mprofile\u001b[0m\u001b[1;33m=\u001b[0m\u001b[0mprofile\u001b[0m\u001b[1;33m,\u001b[0m \u001b[0mon_unused_input\u001b[0m\u001b[1;33m=\u001b[0m\u001b[0mon_unused_input\u001b[0m\u001b[1;33m,\u001b[0m\u001b[1;33m\u001b[0m\u001b[0m\n\u001b[1;32m--> 479\u001b[1;33m                          output_keys=output_keys)\n\u001b[0m\u001b[0;32m    480\u001b[0m \u001b[1;33m\u001b[0m\u001b[0m\n\u001b[0;32m    481\u001b[0m \u001b[1;33m\u001b[0m\u001b[0m\n",
      "\u001b[1;32mC:\\Users\\Back_jud\\Anaconda2\\lib\\site-packages\\theano\\compile\\function_module.pyc\u001b[0m in \u001b[0;36morig_function\u001b[1;34m(inputs, outputs, mode, accept_inplace, name, profile, on_unused_input, output_keys)\u001b[0m\n\u001b[0;32m   1775\u001b[0m                    \u001b[0mon_unused_input\u001b[0m\u001b[1;33m=\u001b[0m\u001b[0mon_unused_input\u001b[0m\u001b[1;33m,\u001b[0m\u001b[1;33m\u001b[0m\u001b[0m\n\u001b[0;32m   1776\u001b[0m                    \u001b[0moutput_keys\u001b[0m\u001b[1;33m=\u001b[0m\u001b[0moutput_keys\u001b[0m\u001b[1;33m)\u001b[0m\u001b[1;33m.\u001b[0m\u001b[0mcreate\u001b[0m\u001b[1;33m(\u001b[0m\u001b[1;33m\u001b[0m\u001b[0m\n\u001b[1;32m-> 1777\u001b[1;33m             defaults)\n\u001b[0m\u001b[0;32m   1778\u001b[0m \u001b[1;33m\u001b[0m\u001b[0m\n\u001b[0;32m   1779\u001b[0m     \u001b[0mt2\u001b[0m \u001b[1;33m=\u001b[0m \u001b[0mtime\u001b[0m\u001b[1;33m.\u001b[0m\u001b[0mtime\u001b[0m\u001b[1;33m(\u001b[0m\u001b[1;33m)\u001b[0m\u001b[1;33m\u001b[0m\u001b[0m\n",
      "\u001b[1;32mC:\\Users\\Back_jud\\Anaconda2\\lib\\site-packages\\theano\\compile\\function_module.pyc\u001b[0m in \u001b[0;36mcreate\u001b[1;34m(self, input_storage, trustme, storage_map)\u001b[0m\n\u001b[0;32m   1639\u001b[0m             \u001b[0mtheano\u001b[0m\u001b[1;33m.\u001b[0m\u001b[0mconfig\u001b[0m\u001b[1;33m.\u001b[0m\u001b[0mtraceback\u001b[0m\u001b[1;33m.\u001b[0m\u001b[0mlimit\u001b[0m \u001b[1;33m=\u001b[0m \u001b[1;36m0\u001b[0m\u001b[1;33m\u001b[0m\u001b[0m\n\u001b[0;32m   1640\u001b[0m             _fn, _i, _o = self.linker.make_thunk(\n\u001b[1;32m-> 1641\u001b[1;33m                 input_storage=input_storage_lists, storage_map=storage_map)\n\u001b[0m\u001b[0;32m   1642\u001b[0m         \u001b[1;32mfinally\u001b[0m\u001b[1;33m:\u001b[0m\u001b[1;33m\u001b[0m\u001b[0m\n\u001b[0;32m   1643\u001b[0m             \u001b[0mtheano\u001b[0m\u001b[1;33m.\u001b[0m\u001b[0mconfig\u001b[0m\u001b[1;33m.\u001b[0m\u001b[0mtraceback\u001b[0m\u001b[1;33m.\u001b[0m\u001b[0mlimit\u001b[0m \u001b[1;33m=\u001b[0m \u001b[0mlimit_orig\u001b[0m\u001b[1;33m\u001b[0m\u001b[0m\n",
      "\u001b[1;32mC:\\Users\\Back_jud\\Anaconda2\\lib\\site-packages\\theano\\gof\\link.pyc\u001b[0m in \u001b[0;36mmake_thunk\u001b[1;34m(self, input_storage, output_storage, storage_map)\u001b[0m\n\u001b[0;32m    688\u001b[0m         return self.make_all(input_storage=input_storage,\n\u001b[0;32m    689\u001b[0m                              \u001b[0moutput_storage\u001b[0m\u001b[1;33m=\u001b[0m\u001b[0moutput_storage\u001b[0m\u001b[1;33m,\u001b[0m\u001b[1;33m\u001b[0m\u001b[0m\n\u001b[1;32m--> 690\u001b[1;33m                              storage_map=storage_map)[:3]\n\u001b[0m\u001b[0;32m    691\u001b[0m \u001b[1;33m\u001b[0m\u001b[0m\n\u001b[0;32m    692\u001b[0m     \u001b[1;32mdef\u001b[0m \u001b[0mmake_all\u001b[0m\u001b[1;33m(\u001b[0m\u001b[0mself\u001b[0m\u001b[1;33m,\u001b[0m \u001b[0minput_storage\u001b[0m\u001b[1;33m,\u001b[0m \u001b[0moutput_storage\u001b[0m\u001b[1;33m)\u001b[0m\u001b[1;33m:\u001b[0m\u001b[1;33m\u001b[0m\u001b[0m\n",
      "\u001b[1;32mC:\\Users\\Back_jud\\Anaconda2\\lib\\site-packages\\theano\\gof\\vm.pyc\u001b[0m in \u001b[0;36mmake_all\u001b[1;34m(self, profiler, input_storage, output_storage, storage_map)\u001b[0m\n\u001b[0;32m   1001\u001b[0m                                                  \u001b[0mstorage_map\u001b[0m\u001b[1;33m,\u001b[0m\u001b[1;33m\u001b[0m\u001b[0m\n\u001b[0;32m   1002\u001b[0m                                                  \u001b[0mcompute_map\u001b[0m\u001b[1;33m,\u001b[0m\u001b[1;33m\u001b[0m\u001b[0m\n\u001b[1;32m-> 1003\u001b[1;33m                                                  no_recycling))\n\u001b[0m\u001b[0;32m   1004\u001b[0m                 \u001b[1;32mif\u001b[0m \u001b[1;32mnot\u001b[0m \u001b[0mhasattr\u001b[0m\u001b[1;33m(\u001b[0m\u001b[0mthunks\u001b[0m\u001b[1;33m[\u001b[0m\u001b[1;33m-\u001b[0m\u001b[1;36m1\u001b[0m\u001b[1;33m]\u001b[0m\u001b[1;33m,\u001b[0m \u001b[1;34m'lazy'\u001b[0m\u001b[1;33m)\u001b[0m\u001b[1;33m:\u001b[0m\u001b[1;33m\u001b[0m\u001b[0m\n\u001b[0;32m   1005\u001b[0m                     \u001b[1;31m# We don't want all ops maker to think about lazy Ops.\u001b[0m\u001b[1;33m\u001b[0m\u001b[1;33m\u001b[0m\u001b[0m\n",
      "\u001b[1;32mC:\\Users\\Back_jud\\Anaconda2\\lib\\site-packages\\theano\\gof\\op.pyc\u001b[0m in \u001b[0;36mmake_thunk\u001b[1;34m(self, node, storage_map, compute_map, no_recycling)\u001b[0m\n\u001b[0;32m    968\u001b[0m             \u001b[1;32mtry\u001b[0m\u001b[1;33m:\u001b[0m\u001b[1;33m\u001b[0m\u001b[0m\n\u001b[0;32m    969\u001b[0m                 return self.make_c_thunk(node, storage_map, compute_map,\n\u001b[1;32m--> 970\u001b[1;33m                                          no_recycling)\n\u001b[0m\u001b[0;32m    971\u001b[0m             \u001b[1;32mexcept\u001b[0m \u001b[1;33m(\u001b[0m\u001b[0mNotImplementedError\u001b[0m\u001b[1;33m,\u001b[0m \u001b[0mutils\u001b[0m\u001b[1;33m.\u001b[0m\u001b[0mMethodNotDefined\u001b[0m\u001b[1;33m)\u001b[0m\u001b[1;33m:\u001b[0m\u001b[1;33m\u001b[0m\u001b[0m\n\u001b[0;32m    972\u001b[0m                 \u001b[0mlogger\u001b[0m\u001b[1;33m.\u001b[0m\u001b[0mdebug\u001b[0m\u001b[1;33m(\u001b[0m\u001b[1;34m'Falling back on perform'\u001b[0m\u001b[1;33m)\u001b[0m\u001b[1;33m\u001b[0m\u001b[0m\n",
      "\u001b[1;32mC:\\Users\\Back_jud\\Anaconda2\\lib\\site-packages\\theano\\gof\\op.pyc\u001b[0m in \u001b[0;36mmake_c_thunk\u001b[1;34m(self, node, storage_map, compute_map, no_recycling)\u001b[0m\n\u001b[0;32m    877\u001b[0m         \u001b[0mlogger\u001b[0m\u001b[1;33m.\u001b[0m\u001b[0mdebug\u001b[0m\u001b[1;33m(\u001b[0m\u001b[1;34m'Trying CLinker.make_thunk'\u001b[0m\u001b[1;33m)\u001b[0m\u001b[1;33m\u001b[0m\u001b[0m\n\u001b[0;32m    878\u001b[0m         outputs = cl.make_thunk(input_storage=node_input_storage,\n\u001b[1;32m--> 879\u001b[1;33m                                 output_storage=node_output_storage)\n\u001b[0m\u001b[0;32m    880\u001b[0m         \u001b[0mfill_storage\u001b[0m\u001b[1;33m,\u001b[0m \u001b[0mnode_input_filters\u001b[0m\u001b[1;33m,\u001b[0m \u001b[0mnode_output_filters\u001b[0m \u001b[1;33m=\u001b[0m \u001b[0moutputs\u001b[0m\u001b[1;33m\u001b[0m\u001b[0m\n\u001b[0;32m    881\u001b[0m \u001b[1;33m\u001b[0m\u001b[0m\n",
      "\u001b[1;32mC:\\Users\\Back_jud\\Anaconda2\\lib\\site-packages\\theano\\gof\\cc.pyc\u001b[0m in \u001b[0;36mmake_thunk\u001b[1;34m(self, input_storage, output_storage, storage_map, keep_lock)\u001b[0m\n\u001b[0;32m   1198\u001b[0m         cthunk, in_storage, out_storage, error_storage = self.__compile__(\n\u001b[0;32m   1199\u001b[0m             \u001b[0minput_storage\u001b[0m\u001b[1;33m,\u001b[0m \u001b[0moutput_storage\u001b[0m\u001b[1;33m,\u001b[0m \u001b[0mstorage_map\u001b[0m\u001b[1;33m,\u001b[0m\u001b[1;33m\u001b[0m\u001b[0m\n\u001b[1;32m-> 1200\u001b[1;33m             keep_lock=keep_lock)\n\u001b[0m\u001b[0;32m   1201\u001b[0m \u001b[1;33m\u001b[0m\u001b[0m\n\u001b[0;32m   1202\u001b[0m         \u001b[0mres\u001b[0m \u001b[1;33m=\u001b[0m \u001b[0m_CThunk\u001b[0m\u001b[1;33m(\u001b[0m\u001b[0mcthunk\u001b[0m\u001b[1;33m,\u001b[0m \u001b[0minit_tasks\u001b[0m\u001b[1;33m,\u001b[0m \u001b[0mtasks\u001b[0m\u001b[1;33m,\u001b[0m \u001b[0merror_storage\u001b[0m\u001b[1;33m)\u001b[0m\u001b[1;33m\u001b[0m\u001b[0m\n",
      "\u001b[1;32mC:\\Users\\Back_jud\\Anaconda2\\lib\\site-packages\\theano\\gof\\cc.pyc\u001b[0m in \u001b[0;36m__compile__\u001b[1;34m(self, input_storage, output_storage, storage_map, keep_lock)\u001b[0m\n\u001b[0;32m   1141\u001b[0m                                     \u001b[0moutput_storage\u001b[0m\u001b[1;33m,\u001b[0m\u001b[1;33m\u001b[0m\u001b[0m\n\u001b[0;32m   1142\u001b[0m                                     \u001b[0mstorage_map\u001b[0m\u001b[1;33m,\u001b[0m\u001b[1;33m\u001b[0m\u001b[0m\n\u001b[1;32m-> 1143\u001b[1;33m                                     keep_lock=keep_lock)\n\u001b[0m\u001b[0;32m   1144\u001b[0m         return (thunk,\n\u001b[0;32m   1145\u001b[0m                 [link.Container(input, storage) for input, storage in\n",
      "\u001b[1;32mC:\\Users\\Back_jud\\Anaconda2\\lib\\site-packages\\theano\\gof\\cc.pyc\u001b[0m in \u001b[0;36mcthunk_factory\u001b[1;34m(self, error_storage, in_storage, out_storage, storage_map, keep_lock)\u001b[0m\n\u001b[0;32m   1593\u001b[0m         \u001b[1;32melse\u001b[0m\u001b[1;33m:\u001b[0m\u001b[1;33m\u001b[0m\u001b[0m\n\u001b[0;32m   1594\u001b[0m             module = get_module_cache().module_from_key(\n\u001b[1;32m-> 1595\u001b[1;33m                 key=key, lnk=self, keep_lock=keep_lock)\n\u001b[0m\u001b[0;32m   1596\u001b[0m \u001b[1;33m\u001b[0m\u001b[0m\n\u001b[0;32m   1597\u001b[0m         \u001b[0mvars\u001b[0m \u001b[1;33m=\u001b[0m \u001b[0mself\u001b[0m\u001b[1;33m.\u001b[0m\u001b[0minputs\u001b[0m \u001b[1;33m+\u001b[0m \u001b[0mself\u001b[0m\u001b[1;33m.\u001b[0m\u001b[0moutputs\u001b[0m \u001b[1;33m+\u001b[0m \u001b[0mself\u001b[0m\u001b[1;33m.\u001b[0m\u001b[0morphans\u001b[0m\u001b[1;33m\u001b[0m\u001b[0m\n",
      "\u001b[1;32mC:\\Users\\Back_jud\\Anaconda2\\lib\\site-packages\\theano\\gof\\cmodule.pyc\u001b[0m in \u001b[0;36mmodule_from_key\u001b[1;34m(self, key, lnk, keep_lock)\u001b[0m\n\u001b[0;32m   1140\u001b[0m             \u001b[1;32mtry\u001b[0m\u001b[1;33m:\u001b[0m\u001b[1;33m\u001b[0m\u001b[0m\n\u001b[0;32m   1141\u001b[0m                 \u001b[0mlocation\u001b[0m \u001b[1;33m=\u001b[0m \u001b[0mdlimport_workdir\u001b[0m\u001b[1;33m(\u001b[0m\u001b[0mself\u001b[0m\u001b[1;33m.\u001b[0m\u001b[0mdirname\u001b[0m\u001b[1;33m)\u001b[0m\u001b[1;33m\u001b[0m\u001b[0m\n\u001b[1;32m-> 1142\u001b[1;33m                 \u001b[0mmodule\u001b[0m \u001b[1;33m=\u001b[0m \u001b[0mlnk\u001b[0m\u001b[1;33m.\u001b[0m\u001b[0mcompile_cmodule\u001b[0m\u001b[1;33m(\u001b[0m\u001b[0mlocation\u001b[0m\u001b[1;33m)\u001b[0m\u001b[1;33m\u001b[0m\u001b[0m\n\u001b[0m\u001b[0;32m   1143\u001b[0m                 \u001b[0mname\u001b[0m \u001b[1;33m=\u001b[0m \u001b[0mmodule\u001b[0m\u001b[1;33m.\u001b[0m\u001b[0m__file__\u001b[0m\u001b[1;33m\u001b[0m\u001b[0m\n\u001b[0;32m   1144\u001b[0m                 \u001b[1;32massert\u001b[0m \u001b[0mname\u001b[0m\u001b[1;33m.\u001b[0m\u001b[0mstartswith\u001b[0m\u001b[1;33m(\u001b[0m\u001b[0mlocation\u001b[0m\u001b[1;33m)\u001b[0m\u001b[1;33m\u001b[0m\u001b[0m\n",
      "\u001b[1;32mC:\\Users\\Back_jud\\Anaconda2\\lib\\site-packages\\theano\\gof\\cc.pyc\u001b[0m in \u001b[0;36mcompile_cmodule\u001b[1;34m(self, location)\u001b[0m\n\u001b[0;32m   1504\u001b[0m                 \u001b[0mlib_dirs\u001b[0m\u001b[1;33m=\u001b[0m\u001b[0mself\u001b[0m\u001b[1;33m.\u001b[0m\u001b[0mlib_dirs\u001b[0m\u001b[1;33m(\u001b[0m\u001b[1;33m)\u001b[0m\u001b[1;33m,\u001b[0m\u001b[1;33m\u001b[0m\u001b[0m\n\u001b[0;32m   1505\u001b[0m                 \u001b[0mlibs\u001b[0m\u001b[1;33m=\u001b[0m\u001b[0mlibs\u001b[0m\u001b[1;33m,\u001b[0m\u001b[1;33m\u001b[0m\u001b[0m\n\u001b[1;32m-> 1506\u001b[1;33m                 preargs=preargs)\n\u001b[0m\u001b[0;32m   1507\u001b[0m         \u001b[1;32mexcept\u001b[0m \u001b[0mException\u001b[0m \u001b[1;32mas\u001b[0m \u001b[0me\u001b[0m\u001b[1;33m:\u001b[0m\u001b[1;33m\u001b[0m\u001b[0m\n\u001b[0;32m   1508\u001b[0m             \u001b[0me\u001b[0m\u001b[1;33m.\u001b[0m\u001b[0margs\u001b[0m \u001b[1;33m+=\u001b[0m \u001b[1;33m(\u001b[0m\u001b[0mstr\u001b[0m\u001b[1;33m(\u001b[0m\u001b[0mself\u001b[0m\u001b[1;33m.\u001b[0m\u001b[0mfgraph\u001b[0m\u001b[1;33m)\u001b[0m\u001b[1;33m,\u001b[0m\u001b[1;33m)\u001b[0m\u001b[1;33m\u001b[0m\u001b[0m\n",
      "\u001b[1;32mC:\\Users\\Back_jud\\Anaconda2\\lib\\site-packages\\theano\\sandbox\\cuda\\nvcc_compiler.pyc\u001b[0m in \u001b[0;36mcompile_str\u001b[1;34m(module_name, src_code, location, include_dirs, lib_dirs, libs, preargs, rpaths, py_module, hide_symbols)\u001b[0m\n\u001b[0;32m    395\u001b[0m             \u001b[1;32mprint\u001b[0m\u001b[1;33m(\u001b[0m\u001b[0mcmd\u001b[0m\u001b[1;33m)\u001b[0m\u001b[1;33m\u001b[0m\u001b[0m\n\u001b[0;32m    396\u001b[0m             raise Exception('nvcc return status', p.returncode,\n\u001b[1;32m--> 397\u001b[1;33m                             'for cmd', ' '.join(cmd))\n\u001b[0m\u001b[0;32m    398\u001b[0m         \u001b[1;32melif\u001b[0m \u001b[0mconfig\u001b[0m\u001b[1;33m.\u001b[0m\u001b[0mcmodule\u001b[0m\u001b[1;33m.\u001b[0m\u001b[0mcompilation_warning\u001b[0m \u001b[1;32mand\u001b[0m \u001b[0mnvcc_stdout\u001b[0m\u001b[1;33m:\u001b[0m\u001b[1;33m\u001b[0m\u001b[0m\n\u001b[0;32m    399\u001b[0m             \u001b[1;32mprint\u001b[0m\u001b[1;33m(\u001b[0m\u001b[0mnvcc_stdout\u001b[0m\u001b[1;33m)\u001b[0m\u001b[1;33m\u001b[0m\u001b[0m\n",
      "\u001b[1;31mException\u001b[0m: ('The following error happened while compiling the node', Shape_i{3}(<CudaNdarrayType(float32, 4D)>), '\\n', 'nvcc return status', 2, 'for cmd', 'nvcc -shared -O3 --use-local-env --cl-version=2013 -arch=sm_50 -Xlinker /DEBUG -D HAVE_ROUND -m64 -Xcompiler -DCUDA_NDARRAY_CUH=18715462c72ed6afcd7ca5d52813ce90,-DNPY_NO_DEPRECATED_API=NPY_1_7_API_VERSION,/Zi,/MD -IC:\\\\Users\\\\Back_jud\\\\AppData\\\\Local\\\\Theano\\\\compiledir_Windows-10-10.0.10586-Intel64_Family_6_Model_60_Stepping_3_GenuineIntel-2.7.11-64\\\\cuda_ndarray -IC:\\\\Users\\\\Back_jud\\\\Anaconda2\\\\lib\\\\site-packages\\\\numpy\\\\core\\\\include -IC:\\\\Users\\\\Back_jud\\\\Anaconda2\\\\include -IC:\\\\Users\\\\Back_jud\\\\Anaconda2\\\\lib\\\\site-packages\\\\theano\\\\gof -IC:\\\\Users\\\\Back_jud\\\\Anaconda2\\\\lib\\\\site-packages\\\\theano\\\\sandbox\\\\cuda -o C:\\\\Users\\\\Back_jud\\\\AppData\\\\Local\\\\Theano\\\\compiledir_Windows-10-10.0.10586-Intel64_Family_6_Model_60_Stepping_3_GenuineIntel-2.7.11-64\\\\tmpjk4iqe\\\\afbaa7b36dd6451ec278a6e6338d23a7.pyd mod.cu -LC:\\\\Users\\\\Back_jud\\\\AppData\\\\Local\\\\Theano\\\\compiledir_Windows-10-10.0.10586-Intel64_Family_6_Model_60_Stepping_3_GenuineIntel-2.7.11-64\\\\cuda_ndarray -LC:\\\\Users\\\\Back_jud\\\\Anaconda2\\\\libs -LC:\\\\Users\\\\Back_jud\\\\Anaconda2 -lcudart -lcublas -lcuda_ndarray -lpython27', '[Shape_i{3}(<CudaNdarrayType(float32, 4D)>)]')"
     ]
    }
   ],
   "source": [
    "model2.summary()"
   ]
  },
  {
   "cell_type": "code",
   "execution_count": 90,
   "metadata": {
    "collapsed": false,
    "scrolled": true
   },
   "outputs": [
    {
     "name": "stdout",
     "output_type": "stream",
     "text": [
      "50\n",
      "50\n",
      "50\n",
      "50\n",
      "100\n",
      "100\n",
      "100\n",
      "100\n",
      "8100\n",
      "1250\n",
      "1250\n",
      "2\n"
     ]
    }
   ],
   "source": [
    "for a in m2_wegh:\n",
    "    print(len(a))"
   ]
  },
  {
   "cell_type": "code",
   "execution_count": null,
   "metadata": {
    "collapsed": true
   },
   "outputs": [],
   "source": []
  },
  {
   "cell_type": "code",
   "execution_count": 47,
   "metadata": {
    "collapsed": false
   },
   "outputs": [
    {
     "name": "stdout",
     "output_type": "stream",
     "text": [
      "18/18 [==============================] - 2s     \n"
     ]
    },
    {
     "data": {
      "text/plain": [
       "0.016039947513490915"
      ]
     },
     "execution_count": 47,
     "metadata": {},
     "output_type": "execute_result"
    }
   ],
   "source": [
    "model2.evaluate(np.array(x_te2),y_te2,batch_size=15)"
   ]
  },
  {
   "cell_type": "code",
   "execution_count": 51,
   "metadata": {
    "collapsed": false
   },
   "outputs": [
    {
     "name": "stdout",
     "output_type": "stream",
     "text": [
      "18/18 [==============================] - 0s\n"
     ]
    }
   ],
   "source": [
    "y_pred = model2.predict_classes(np.array(x_te2))"
   ]
  },
  {
   "cell_type": "code",
   "execution_count": 49,
   "metadata": {
    "collapsed": false,
    "scrolled": true
   },
   "outputs": [
    {
     "data": {
      "text/plain": [
       "array([[  3.86535539e-04,   9.99613464e-01],\n",
       "       [  8.93316686e-01,   1.06683373e-01],\n",
       "       [  9.99076009e-01,   9.24003369e-04],\n",
       "       [  2.07914763e-05,   9.99979258e-01],\n",
       "       [  5.22629416e-04,   9.99477446e-01],\n",
       "       [  1.07258469e-01,   8.92741501e-01],\n",
       "       [  9.99984503e-01,   1.55043981e-05],\n",
       "       [  9.99969482e-01,   3.05326139e-05],\n",
       "       [  9.99964237e-01,   3.57967219e-05],\n",
       "       [  4.16437425e-02,   9.58356202e-01],\n",
       "       [  4.18149773e-03,   9.95818555e-01],\n",
       "       [  1.36993898e-04,   9.99863029e-01],\n",
       "       [  8.63590956e-01,   1.36409059e-01],\n",
       "       [  9.96400952e-01,   3.59898806e-03],\n",
       "       [  3.46035957e-01,   6.53964102e-01],\n",
       "       [  9.28506553e-01,   7.14935213e-02],\n",
       "       [  9.94307935e-01,   5.69211086e-03],\n",
       "       [  6.52760267e-01,   3.47239673e-01]])"
      ]
     },
     "execution_count": 49,
     "metadata": {},
     "output_type": "execute_result"
    }
   ],
   "source": [
    "model2.predict(np.array(x_te2))"
   ]
  },
  {
   "cell_type": "code",
   "execution_count": 69,
   "metadata": {
    "collapsed": false
   },
   "outputs": [],
   "source": [
    "y_ten = [0 if s[0] else 1 for s in y_te]"
   ]
  },
  {
   "cell_type": "code",
   "execution_count": 70,
   "metadata": {
    "collapsed": false
   },
   "outputs": [],
   "source": [
    "cr = classification_report(y_ten,y_pred)"
   ]
  },
  {
   "cell_type": "code",
   "execution_count": 72,
   "metadata": {
    "collapsed": false
   },
   "outputs": [
    {
     "name": "stdout",
     "output_type": "stream",
     "text": [
      "             precision    recall  f1-score   support\n",
      "\n",
      "          0       1.00      1.00      1.00        10\n",
      "          1       1.00      1.00      1.00         8\n",
      "\n",
      "avg / total       1.00      1.00      1.00        18\n",
      "\n"
     ]
    }
   ],
   "source": [
    "print(cr)"
   ]
  },
  {
   "cell_type": "code",
   "execution_count": null,
   "metadata": {
    "collapsed": true
   },
   "outputs": [],
   "source": [
    "!start c:\\users\\back_jud\\anaconda2\\lib\\site-packages\\keras\\layers\\"
   ]
  },
  {
   "cell_type": "code",
   "execution_count": null,
   "metadata": {
    "collapsed": true
   },
   "outputs": [],
   "source": []
  }
 ],
 "metadata": {
  "kernelspec": {
   "display_name": "Python 2",
   "language": "python",
   "name": "python2"
  },
  "language_info": {
   "codemirror_mode": {
    "name": "ipython",
    "version": 2
   },
   "file_extension": ".py",
   "mimetype": "text/x-python",
   "name": "python",
   "nbconvert_exporter": "python",
   "pygments_lexer": "ipython2",
   "version": "2.7.11"
  }
 },
 "nbformat": 4,
 "nbformat_minor": 0
}
